{
 "cells": [
  {
   "cell_type": "markdown",
   "id": "849023d7",
   "metadata": {},
   "source": [
    "# Scratch work"
   ]
  },
  {
   "cell_type": "code",
   "execution_count": 1,
   "id": "cc89457d",
   "metadata": {},
   "outputs": [],
   "source": [
    "bind \"set show-mode-in-prompt off\"  # Turn off showing the vi mode in prompt, which clutters up the output here\n",
    "cd ~/python/eds-notes/"
   ]
  },
  {
   "cell_type": "code",
   "execution_count": 2,
   "id": "7e7bd12a",
   "metadata": {},
   "outputs": [
    {
     "data": {
      "text/markdown": [
       "```python\n",
       "import cowsay\n",
       "\n",
       "\n",
       "def sarcasm(s):\n",
       "    \"\"\"Convert string `s` to sArCaSm TeXt.\"\"\"\n",
       "    out = \"\"\n",
       "    for i, c in enumerate(s):\n",
       "        if i % 2 == 0:\n",
       "            out += c.lower()\n",
       "\n",
       "        else:\n",
       "            out += c.upper()\n",
       "\n",
       "    return out\n",
       "\n",
       "\n",
       "def sarcastic_cowsay(s):\n",
       "    \"\"\"Cowsay `s`, sArCaStIcAlLy.\"\"\"\n",
       "    sarcastic_s = sarcasm(s)\n",
       "    cowsay.cow(sarcastic_s)\n",
       "```\n"
      ]
     },
     "metadata": {},
     "output_type": "display_data"
    }
   ],
   "source": [
    "echo \"\\`\\`\\`python\n",
    "$(cat repos/eeskew-pwg-test-000/src/eeskew_pwg_test_000/utils.py)\n",
    "\\`\\`\\`\" | displayMD"
   ]
  },
  {
   "cell_type": "code",
   "execution_count": 6,
   "id": "cad7748f",
   "metadata": {},
   "outputs": [
    {
     "data": {
      "text/markdown": [
       ":::{note}\n",
       "This is a custom note!\n",
       ":::\n",
       "\n"
      ]
     },
     "metadata": {},
     "output_type": "display_data"
    }
   ],
   "source": [
    "echo \":::{note}\n",
    "This is a custom note!\n",
    ":::\n",
    "\" | displayMD"
   ]
  },
  {
   "cell_type": "code",
   "execution_count": 2,
   "id": "9944c4dd",
   "metadata": {
    "tags": [
     "remove-cell"
    ]
   },
   "outputs": [
    {
     "name": "stdout",
     "output_type": "stream",
     "text": [
      "import cowsay\n",
      "\n",
      "\n",
      "def sarcasm(s):\n",
      "    \"\"\"Convert string `s` to sArCaSm TeXt.\"\"\"\n",
      "    out = \"\"\n",
      "    for i, c in enumerate(s):\n",
      "        if i % 2 == 0:\n",
      "            out += c.lower()\n",
      "\n",
      "        else:\n",
      "            out += c.upper()\n",
      "\n",
      "    return out\n",
      "\n",
      "\n",
      "def sarcastic_cowsay(s):\n",
      "    \"\"\"Cowsay `s`, sArCaStIcAlLy.\"\"\"\n",
      "    sarcastic_s = sarcasm(s)\n",
      "    cowsay.cow(sarcastic_s)\n"
     ]
    }
   ],
   "source": [
    "cat repos/eeskew-pwg-test-000/src/eeskew_pwg_test_000/utils.py"
   ]
  },
  {
   "cell_type": "markdown",
   "id": "932a7a84",
   "metadata": {
    "hotglue-metadata": {
     "tags": []
    },
    "tags": [
     "hotglue-template",
     "remove-cell"
    ]
   },
   "source": [
    "Here is the new output:\n",
    "\n",
    "```python\n",
    "# src/src/eeskew_pwg_test_000/utils.py\n",
    "\n",
    "{hotglue}\n",
    "```"
   ]
  },
  {
   "cell_type": "markdown",
   "id": "fybL4oI-",
   "metadata": {
    "deletable": false,
    "editable": false,
    "tags": [
     "hotglue-output"
    ]
   },
   "source": [
    "Here is the new output:\n",
    "\n",
    "```python\n",
    "# src/src/eeskew_pwg_test_000/utils.py\n",
    "\n",
    "import cowsay\n",
    "\n",
    "\n",
    "def sarcasm(s):\n",
    "    \"\"\"Convert string `s` to sArCaSm TeXt.\"\"\"\n",
    "    out = \"\"\n",
    "    for i, c in enumerate(s):\n",
    "        if i % 2 == 0:\n",
    "            out += c.lower()\n",
    "\n",
    "        else:\n",
    "            out += c.upper()\n",
    "\n",
    "    return out\n",
    "\n",
    "\n",
    "def sarcastic_cowsay(s):\n",
    "    \"\"\"Cowsay `s`, sArCaStIcAlLy.\"\"\"\n",
    "    sarcastic_s = sarcasm(s)\n",
    "    cowsay.cow(sarcastic_s)\n",
    "\n",
    "```"
   ]
  },
  {
   "cell_type": "code",
   "execution_count": 3,
   "id": "f7d6ff4e",
   "metadata": {},
   "outputs": [
    {
     "name": "stdout",
     "output_type": "stream",
     "text": [
      "/Users/Ed/python/eds-notes\n"
     ]
    }
   ],
   "source": [
    "pwd"
   ]
  },
  {
   "cell_type": "markdown",
   "id": "e1ff0309",
   "metadata": {},
   "source": [
    "- Throwaway markdown"
   ]
  },
  {
   "cell_type": "code",
   "execution_count": 4,
   "id": "eae17fb0",
   "metadata": {
    "tags": [
     "remove-cell"
    ]
   },
   "outputs": [
    {
     "name": "stdout",
     "output_type": "stream",
     "text": [
      "  __________\n",
      "| Spherical! |\n",
      "  ==========\n",
      "          \\\n",
      "           \\\n",
      "             ^__^\n",
      "             (oo)\\_______\n",
      "             (__)\\       )\\/\\\n",
      "                 ||----w |\n",
      "                 ||     ||\n"
     ]
    }
   ],
   "source": [
    "cowsay Spherical!"
   ]
  },
  {
   "cell_type": "markdown",
   "id": "813b8956",
   "metadata": {
    "hotglue-metadata": {
     "tags": [
      "hide-output"
     ]
    },
    "tags": [
     "hotglue-template",
     "remove-cell"
    ]
   },
   "source": [
    "Here is a cow:\n",
    "\n",
    "```\n",
    "{hotglue}\n",
    "```"
   ]
  },
  {
   "cell_type": "markdown",
   "id": "XwPl-Xm0",
   "metadata": {
    "deletable": false,
    "editable": false,
    "tags": [
     "hide-output",
     "hotglue-output"
    ]
   },
   "source": [
    "Here is a cow:\n",
    "\n",
    "```\n",
    "  __________\n",
    "| Spherical! |\n",
    "  ==========\n",
    "          \\\n",
    "           \\\n",
    "             ^__^\n",
    "             (oo)\\_______\n",
    "             (__)\\       )\\/\\\n",
    "                 ||----w |\n",
    "                 ||     ||\n",
    "\n",
    "```"
   ]
  },
  {
   "cell_type": "code",
   "execution_count": null,
   "id": "446343aa",
   "metadata": {},
   "outputs": [],
   "source": []
  }
 ],
 "metadata": {
  "celltoolbar": "Tags",
  "kernelspec": {
   "display_name": "Bash",
   "language": "bash",
   "name": "bash"
  },
  "language_info": {
   "codemirror_mode": "shell",
   "file_extension": ".sh",
   "mimetype": "text/x-sh",
   "name": "bash"
  }
 },
 "nbformat": 4,
 "nbformat_minor": 5
}
