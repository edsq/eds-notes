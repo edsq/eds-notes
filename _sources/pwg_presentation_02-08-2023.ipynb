{
 "cells": [
  {
   "cell_type": "code",
   "execution_count": 2,
   "id": "94928efe",
   "metadata": {
    "slideshow": {
     "slide_type": "skip"
    },
    "tags": [
     "remove-cell"
    ]
   },
   "outputs": [],
   "source": [
    "bind \"set show-mode-in-prompt off\"  # Turn off showing the vi mode in prompt, which clutters up the output here"
   ]
  },
  {
   "cell_type": "markdown",
   "id": "ab78ed39",
   "metadata": {
    "slideshow": {
     "slide_type": "slide"
    }
   },
   "source": [
    "# Project Management and Publishing with PDM\n",
    "\n",
    "Notes from talk given to the WSU Python Working Group on February 8, 2023.\n",
    "\n",
    "Here I show how to create a basic project with [PDM](https://pdm.fming.dev/latest/),\n",
    "add dependencies and development dependencies, and publish the package on (Test)PyPI."
   ]
  },
  {
   "cell_type": "markdown",
   "id": "5ca1f7ce",
   "metadata": {
    "slideshow": {
     "slide_type": "skip"
    }
   },
   "source": [
    ":::{note}\n",
    "A companion repository with the example project created in these notes is available [here](https://github.com/edsq/eeskew-pwg-test-000).\n",
    ":::"
   ]
  },
  {
   "cell_type": "markdown",
   "id": "ed5c353b",
   "metadata": {
    "slideshow": {
     "slide_type": "subslide"
    }
   },
   "source": [
    "Requirements:\n",
    "\n",
    "- The ability to get python executables of different versions, such as with [pyenv](https://github.com/pyenv/pyenv) or [conda](https://docs.conda.io/en/latest/miniconda.html)\n",
    "- [PDM](https://pdm.fming.dev/latest/) available globally\n",
    "- The [pdm-bump](https://github.com/carstencodes/pdm-bump) plugin installed"
   ]
  },
  {
   "cell_type": "markdown",
   "id": "b1c6b44c",
   "metadata": {
    "slideshow": {
     "slide_type": "slide"
    }
   },
   "source": [
    "First, create the project directory and `cd` into it:\n",
    "\n",
    "```bash\n",
    "mkdir eeskew-pwg-test-000\n",
    "cd eeskew-pwg-test-000\n",
    "```"
   ]
  },
  {
   "cell_type": "markdown",
   "id": "47291d67",
   "metadata": {
    "slideshow": {
     "slide_type": "notes"
    }
   },
   "source": [
    ":::{important}\n",
    "Because this is a throwaway test project, it is important that you give your project a name that won't conflict with any other package on PyPI or TestPyPI. Adding your name and some numbers is a good way to ensure this.\n",
    ":::"
   ]
  },
  {
   "cell_type": "markdown",
   "id": "db95d350",
   "metadata": {
    "slideshow": {
     "slide_type": "slide"
    }
   },
   "source": [
    "## Set the python version and initialize the project\n",
    "\n",
    "Here, we'll use python version 3.11, but you may change this to be whatever you like.\n",
    "\n",
    "### Using `pyenv` (recommended)\n",
    "\n",
    "Install python 3.11 if it is not already (see installed versions with `pyenv versions`):\n",
    "\n",
    "```bash\n",
    "pyenv install 3.11\n",
    "```\n",
    "\n",
    "Set the local python version for this project and initialize using that version:\n",
    "\n",
    "```bash\n",
    "pyenv local 3.11\n",
    "pdm init --python python\n",
    "```"
   ]
  },
  {
   "cell_type": "markdown",
   "id": "7f68667f",
   "metadata": {
    "slideshow": {
     "slide_type": "fragment"
    }
   },
   "source": [
    "`pyenv local` creates a file `.python-version` which `pyenv` uses to redirect the command `python` to the `python3.11`.  Thus, we only need to tell pdm to use the usual `python` executable."
   ]
  },
  {
   "cell_type": "markdown",
   "id": "600b815e",
   "metadata": {
    "slideshow": {
     "slide_type": "subslide"
    }
   },
   "source": [
    "### Using `conda`\n",
    "\n",
    "Here, we'll use `conda` to get a particular python version, but we won't activate the conda environment (except to get a path to the `python` executable).  Environment management will be handled by PDM.\n",
    "\n",
    "Get python 3.11:\n",
    "\n",
    "```bash\n",
    "conda create -y -p .conda_env python=3.11\n",
    "pdm init --python .conda_env/bin/python\n",
    "```"
   ]
  },
  {
   "cell_type": "markdown",
   "id": "1778ba7e",
   "metadata": {
    "slideshow": {
     "slide_type": "subslide"
    }
   },
   "source": [
    "### `pdm init` options\n",
    "\n",
    "For\n",
    "\n",
    "```\n",
    "Is the project a library that is installable?\n",
    "A few more questions will be asked to include a project name and build backend [y/n] (n):\n",
    "```\n",
    "\n",
    "select `y`.  Otherwise, all the default options should be good."
   ]
  },
  {
   "cell_type": "code",
   "execution_count": 3,
   "id": "d40209df",
   "metadata": {
    "slideshow": {
     "slide_type": "skip"
    },
    "tags": [
     "remove-cell"
    ]
   },
   "outputs": [
    {
     "name": "stdout",
     "output_type": "stream",
     "text": [
      "Removing .venv/\n",
      "Removing build/\n",
      "Removing dist/\n",
      "Removing src/eeskew_pwg_test_000/__pycache__/\n",
      "Note: checking out '1efdf5a51d8e08a89cf4eca801982f230f57a233'.\n",
      "\n",
      "You are in 'detached HEAD' state. You can look around, make experimental\n",
      "changes and commit them, and you can discard any commits you make in this\n",
      "state without impacting any branches by performing another checkout.\n",
      "\n",
      "If you want to create a new branch to retain commits you create, you may\n",
      "do so (now or later) by using -b with the checkout command again. Example:\n",
      "\n",
      "  git checkout -b <new-branch-name>\n",
      "\n",
      "HEAD is now at 1efdf5a pdm init skeleton\n",
      "\u001b[2K\u001b[36m⠴\u001b[0m Creating virtualenv using \u001b[32mvirtualenv\u001b[0m.....\n",
      "\u001b[1A\u001b[2KVirtualenv \u001b[32m/Users/Ed/python/eds-notes/repos/eeskew-pwg-test-000/.venv\u001b[0m is created\n",
      "successfully\n"
     ]
    }
   ],
   "source": [
    "# This cell hidden in presentation and docs\n",
    "cd ../repos/eeskew-pwg-test-000\n",
    "git clean -dfx  # remove all untracked files (src, build, dist, .venv)\n",
    "git checkout $(git rev-list --topo-order main | tail -1)  # check out first commit\n",
    "pdm venv create --force python"
   ]
  },
  {
   "cell_type": "code",
   "execution_count": 4,
   "id": "11c7c411",
   "metadata": {
    "slideshow": {
     "slide_type": "skip"
    },
    "tags": [
     "remove-cell"
    ]
   },
   "outputs": [
    {
     "name": "stdout",
     "output_type": "stream",
     "text": [
      "\u001b[36mPDM version\u001b[0m:\n",
      "  2.4.6\n",
      "\u001b[36mPython Interpreter\u001b[0m:\n",
      "  /Users/Ed/python/eds-notes/repos/eeskew-pwg-test-000/.venv/bin/python (3.11)\n",
      "\u001b[36mProject Root\u001b[0m:\n",
      "  /Users/Ed/python/eds-notes/repos/eeskew-pwg-test-000\n",
      "\u001b[36mProject Packages\u001b[0m:\n",
      "  None\n"
     ]
    }
   ],
   "source": [
    "# This cell hidden in presentation and docs\n",
    "# Check that the environment and project are correct\n",
    "pdm info"
   ]
  },
  {
   "cell_type": "markdown",
   "id": "9171c1a7",
   "metadata": {
    "slideshow": {
     "slide_type": "slide"
    }
   },
   "source": [
    "## The PDM project\n",
    "\n",
    "Let's take a look at what we've created:"
   ]
  },
  {
   "cell_type": "code",
   "execution_count": 5,
   "id": "c37ade30",
   "metadata": {
    "slideshow": {
     "slide_type": "fragment"
    }
   },
   "outputs": [
    {
     "name": "stdout",
     "output_type": "stream",
     "text": [
      ".\t\t.git\t\t.pdm.toml\t.venv\t\tpyproject.toml\n",
      "..\t\t.gitignore\t.python-version\tREADME.md\n"
     ]
    }
   ],
   "source": [
    "ls -a"
   ]
  },
  {
   "cell_type": "markdown",
   "id": "ef621d5f",
   "metadata": {
    "slideshow": {
     "slide_type": "notes"
    }
   },
   "source": [
    "The relevant files created are the `README.md`; `.pdm.toml`, which holds local configuration for this PDM project; and `pyproject.toml`, which holds project tool configuration and package metadata."
   ]
  },
  {
   "cell_type": "markdown",
   "id": "e8f92f3f",
   "metadata": {
    "slideshow": {
     "slide_type": "subslide"
    }
   },
   "source": [
    "### The `pyproject.toml` file"
   ]
  },
  {
   "cell_type": "code",
   "execution_count": 6,
   "id": "08ff97f9",
   "metadata": {
    "scrolled": false,
    "slideshow": {
     "slide_type": "fragment"
    }
   },
   "outputs": [
    {
     "name": "stdout",
     "output_type": "stream",
     "text": [
      "[tool.pdm]\n",
      "\n",
      "[project]\n",
      "name = \"eeskew-pwg-test-000\"\n",
      "version = \"0.1.0\"\n",
      "description = \"A test project for presentation to the WSU Python Working Group.\"\n",
      "authors = [\n",
      "    {name = \"Edward Eskew\", email = \"edward.eskew@wsu.edu\"},\n",
      "]\n",
      "dependencies = []\n",
      "requires-python = \">=3.11\"\n",
      "readme = \"README.md\"\n",
      "license = {text = \"MIT\"}\n",
      "\n",
      "[build-system]\n",
      "requires = [\"pdm-pep517>=1.0\"]\n",
      "build-backend = \"pdm.pep517.api\"\n"
     ]
    }
   ],
   "source": [
    "cat pyproject.toml"
   ]
  },
  {
   "cell_type": "markdown",
   "id": "ca8ec5d0",
   "metadata": {
    "slideshow": {
     "slide_type": "notes"
    }
   },
   "source": [
    "This file is written in `.toml` format, which stands for [Tom's Obvious Minimal Language](https://toml.io/en/).\n",
    "\n",
    "The `tool.pdm` table is empty, although we'll add things here later on.\n",
    "\n",
    "The `project` table contains the metadata needed to install our project.  Its values thus far were set by the options we chose while running `pdm init`.\n",
    "\n",
    "The `build-system` section tells the build frontend (e.g. `pip`) what build backend to use - the build backend is what will actually create the distribution artifacts (wheels and sdists), which we'll see later.  See [PEP 517](https://peps.python.org/pep-0517/) for more information.  Here, we're just using the default PDM backend."
   ]
  },
  {
   "cell_type": "markdown",
   "id": "2c08791e",
   "metadata": {
    "slideshow": {
     "slide_type": "slide"
    }
   },
   "source": [
    "## Adding code\n",
    "\n",
    "First we create our package directory in [src layout](https://hynek.me/articles/testing-packaging/), with an empty (for now) `__init__.py` file to indicate that it is a python package:"
   ]
  },
  {
   "cell_type": "code",
   "execution_count": 7,
   "id": "af9e4734",
   "metadata": {
    "slideshow": {
     "slide_type": "fragment"
    }
   },
   "outputs": [],
   "source": [
    "mkdir src\n",
    "mkdir src/eeskew_pwg_test_000\n",
    "touch src/eeskew_pwg_test_000/__init__.py"
   ]
  },
  {
   "cell_type": "code",
   "execution_count": 8,
   "id": "df63ea4b",
   "metadata": {
    "slideshow": {
     "slide_type": "skip"
    },
    "tags": [
     "remove-cell"
    ]
   },
   "outputs": [
    {
     "name": "stdout",
     "output_type": "stream",
     "text": [
      "Previous HEAD position was 1efdf5a pdm init skeleton\n",
      "HEAD is now at a10844f Add __init__.py\n"
     ]
    }
   ],
   "source": [
    "# checkpoint\n",
    "git add -A\n",
    "git checkout $(git rev-list --topo-order HEAD...main | tail -1)  # check out next commit"
   ]
  },
  {
   "cell_type": "markdown",
   "id": "7f6eba72",
   "metadata": {
    "slideshow": {
     "slide_type": "slide"
    }
   },
   "source": [
    "### Add a module\n",
    "\n",
    "Let's add some code in `src/eeskew_pwg_test_000/utils.py`:"
   ]
  },
  {
   "cell_type": "code",
   "execution_count": 9,
   "id": "d1ef3585",
   "metadata": {
    "slideshow": {
     "slide_type": "skip"
    },
    "tags": [
     "remove-cell"
    ]
   },
   "outputs": [],
   "source": [
    "# This cell hidden in presentation and docs\n",
    "cat << \"EOF\" > src/eeskew_pwg_test_000/utils.py\n",
    "def sarcasm(s):\n",
    "    \"\"\"Convert string `s` to sArCaSm TeXt.\"\"\"\n",
    "    out = \"\"\n",
    "    for i, c in enumerate(s):\n",
    "        if i % 2 == 0:\n",
    "            out += c.lower()\n",
    "\n",
    "        else:\n",
    "            out += c.upper()\n",
    "\n",
    "    return out\n",
    "EOF"
   ]
  },
  {
   "cell_type": "code",
   "execution_count": 10,
   "id": "ea997f74",
   "metadata": {
    "slideshow": {
     "slide_type": "skip"
    },
    "tags": [
     "remove-cell"
    ]
   },
   "outputs": [
    {
     "name": "stdout",
     "output_type": "stream",
     "text": [
      "Previous HEAD position was a10844f Add __init__.py\n",
      "HEAD is now at 229305b Add utils.py\n"
     ]
    }
   ],
   "source": [
    "# checkpoint\n",
    "git add -A\n",
    "git checkout $(git rev-list --topo-order HEAD...main | tail -1)  # check out next commit"
   ]
  },
  {
   "cell_type": "code",
   "execution_count": 11,
   "id": "53fcc782",
   "metadata": {
    "slideshow": {
     "slide_type": "fragment"
    }
   },
   "outputs": [
    {
     "name": "stdout",
     "output_type": "stream",
     "text": [
      "def sarcasm(s):\n",
      "    \"\"\"Convert string `s` to sArCaSm TeXt.\"\"\"\n",
      "    out = \"\"\n",
      "    for i, c in enumerate(s):\n",
      "        if i % 2 == 0:\n",
      "            out += c.lower()\n",
      "\n",
      "        else:\n",
      "            out += c.upper()\n",
      "\n",
      "    return out\n"
     ]
    }
   ],
   "source": [
    "cat src/eeskew_pwg_test_000/utils.py"
   ]
  },
  {
   "cell_type": "markdown",
   "id": "bb7c06fd",
   "metadata": {
    "slideshow": {
     "slide_type": "notes"
    }
   },
   "source": [
    "The actual content of this code is not too important for the purposes of these notes, but for completeness, all it does is capitalize and lowercase alternating letters in a string."
   ]
  },
  {
   "cell_type": "markdown",
   "id": "b976bd45",
   "metadata": {
    "slideshow": {
     "slide_type": "slide"
    }
   },
   "source": [
    "## Install the project"
   ]
  },
  {
   "cell_type": "markdown",
   "id": "180ed78c",
   "metadata": {
    "slideshow": {
     "slide_type": "notes"
    }
   },
   "source": [
    "To make our code available in the virtual environment, we have to install it:"
   ]
  },
  {
   "cell_type": "code",
   "execution_count": 12,
   "id": "70b3140f",
   "metadata": {
    "slideshow": {
     "slide_type": "fragment"
    }
   },
   "outputs": [
    {
     "name": "stdout",
     "output_type": "stream",
     "text": [
      "\u001b[33mLock file does not exist\u001b[0m\n",
      "\u001b[32mUpdating the lock file\u001b[0m\u001b[33m...\u001b[0m\n",
      "\u001b[?25l\u001b[36m⠋\u001b[0m Fetching hashes for resolved packages...\n",
      "\u001b[1A\u001b[2K🔒 Lock successful\n",
      "Changes are written to \u001b[32mpdm.lock\u001b[0m.\n",
      "\u001b[?25l\u001b[36m⠋\u001b[0m Fetching hashes for resolved packages...\n",
      "\u001b[1A\u001b[2KAll packages are synced to date, nothing to do.\n",
      "\u001b[2KInstalling the project as an editable package...\n",
      "\u001b[2K  \u001b[32m✔\u001b[0m Install \u001b[1;32meeskew-pwg-test-000\u001b[0m \u001b[33m0.1.0\u001b[0m successful\n",
      "\u001b[2K36m⠹\u001b[0m Installing \u001b[1;32meeskew-pwg-test-000\u001b[0m \u001b[33m0.1.0\u001b[0m...\n",
      "🎉 All complete!\n",
      "\u001b[2K36m⠹\u001b[0m Installing \u001b[1;32meeskew-pwg-test-000\u001b[0m \u001b[33m0.1.0\u001b[0m...\n",
      "\u001b[?25h\n"
     ]
    }
   ],
   "source": [
    "pdm install"
   ]
  },
  {
   "cell_type": "code",
   "execution_count": 13,
   "id": "4a7ee3a8",
   "metadata": {
    "slideshow": {
     "slide_type": "skip"
    },
    "tags": [
     "remove-cell"
    ]
   },
   "outputs": [
    {
     "name": "stdout",
     "output_type": "stream",
     "text": [
      "Previous HEAD position was 229305b Add utils.py\n",
      "HEAD is now at e12db04 Add pdm.lock after first pdm install\n"
     ]
    }
   ],
   "source": [
    "# checkpoint\n",
    "git add -A\n",
    "git checkout $(git rev-list --topo-order HEAD...main | tail -1)  # check out next commit"
   ]
  },
  {
   "cell_type": "markdown",
   "id": "5e141430",
   "metadata": {
    "slideshow": {
     "slide_type": "subslide"
    }
   },
   "source": [
    "Now we can import our package:"
   ]
  },
  {
   "cell_type": "code",
   "execution_count": 14,
   "id": "c067d2fd",
   "metadata": {
    "slideshow": {
     "slide_type": "fragment"
    }
   },
   "outputs": [
    {
     "name": "stdout",
     "output_type": "stream",
     "text": [
      "hElLo wOrLd!\n"
     ]
    }
   ],
   "source": [
    "pdm run python -c 'from eeskew_pwg_test_000.utils import sarcasm; print(sarcasm(\"Hello world!\"))'"
   ]
  },
  {
   "cell_type": "markdown",
   "id": "59a08fd0",
   "metadata": {
    "slideshow": {
     "slide_type": "fragment"
    }
   },
   "source": [
    "Note we have to type `pdm run` before our command for it to be run within our project environment."
   ]
  },
  {
   "cell_type": "markdown",
   "id": "c61ae842",
   "metadata": {
    "slideshow": {
     "slide_type": "subslide"
    }
   },
   "source": [
    "### The `pdm.lock` file\n",
    "\n",
    "Running `pdm install` also created a new file, `pdm.lock`:"
   ]
  },
  {
   "cell_type": "code",
   "execution_count": 15,
   "id": "3c4acf56",
   "metadata": {
    "slideshow": {
     "slide_type": "fragment"
    }
   },
   "outputs": [
    {
     "name": "stdout",
     "output_type": "stream",
     "text": [
      "README.md\tpdm.lock\tpyproject.toml\tsrc\n"
     ]
    }
   ],
   "source": [
    "ls"
   ]
  },
  {
   "cell_type": "code",
   "execution_count": 16,
   "id": "7057ff4f",
   "metadata": {
    "slideshow": {
     "slide_type": "fragment"
    }
   },
   "outputs": [
    {
     "name": "stdout",
     "output_type": "stream",
     "text": [
      "# This file is @generated by PDM.\n",
      "# It is not intended for manual editing.\n",
      "\n",
      "[metadata]\n",
      "lock_version = \"4.1\"\n",
      "content_hash = \"sha256:86165c41f17b4b263a688544a3ebc55eccc1713dd177c40649b2e936dab66751\"\n",
      "\n",
      "[metadata.files]\n"
     ]
    }
   ],
   "source": [
    "cat pdm.lock"
   ]
  },
  {
   "cell_type": "markdown",
   "id": "0ab82b38",
   "metadata": {
    "slideshow": {
     "slide_type": "notes"
    }
   },
   "source": [
    "This is a lockfile, which will contain the exact versions of each project dependency we install.  It is useful for creating a perfect reproduction of the project virtual environment, which keeps our development reproducible over time and across different machines.\n",
    "\n",
    "Right now, we have not installed anything other than the project itself, so it is essentially empty."
   ]
  },
  {
   "cell_type": "markdown",
   "id": "5de2d1c2",
   "metadata": {
    "slideshow": {
     "slide_type": "slide"
    }
   },
   "source": [
    "## Add a dependency\n",
    "\n",
    "Let's add a dependency to our project:"
   ]
  },
  {
   "cell_type": "code",
   "execution_count": 17,
   "id": "3356e272",
   "metadata": {
    "slideshow": {
     "slide_type": "fragment"
    }
   },
   "outputs": [
    {
     "name": "stdout",
     "output_type": "stream",
     "text": [
      "Adding packages to \u001b[36mdefault\u001b[0m dependencies: \u001b[1;32mcowsay\u001b[0m\n",
      "\u001b[2K\u001b[36m⠹\u001b[0m Fetching hashes for resolved packages...\n",
      "\u001b[1A\u001b[2K🔒 Lock successful\n",
      "Changes are written to \u001b[32mpdm.lock\u001b[0m.\n",
      "Changes are written to \u001b[32mpyproject.toml\u001b[0m.\n",
      "\u001b[?25l\u001b[36m⠋\u001b[0m Fetching hashes for resolved packages...\n",
      "\u001b[1A\u001b[2K\u001b[1mSynchronizing working set with lock file\u001b[0m: \u001b[32m1\u001b[0m to add, \u001b[33m0\u001b[0m to update, \u001b[31m0\u001b[0m to remove\n",
      "\n",
      "\u001b[2K  \u001b[32m✔\u001b[0m Install \u001b[1;32mcowsay\u001b[0m \u001b[33m5.0\u001b[0m successful\n",
      "\u001b[2KInstalling the project as an editable package...0m...\n",
      "\u001b[2K  \u001b[32m✔\u001b[0m Update \u001b[1;32meeskew-pwg-test-000\u001b[0m \u001b[33m0.1.0\u001b[0m -> \u001b[33m0.1.0\u001b[0m successful\n",
      "\u001b[2K36m⠼\u001b[0m Updating \u001b[1;32meeskew-pwg-test-000\u001b[0m \u001b[33m0.1.0\u001b[0m -> \u001b[33m0.1.0\u001b[0m...\n",
      "🎉 All complete!\n",
      "\u001b[2K36m⠼\u001b[0m Updating \u001b[1;32meeskew-pwg-test-000\u001b[0m \u001b[33m0.1.0\u001b[0m -> \u001b[33m0.1.0\u001b[0m...\n",
      "\u001b[?25h\n"
     ]
    }
   ],
   "source": [
    "pdm add cowsay"
   ]
  },
  {
   "cell_type": "code",
   "execution_count": 18,
   "id": "a547a531",
   "metadata": {
    "slideshow": {
     "slide_type": "skip"
    },
    "tags": [
     "remove-cell"
    ]
   },
   "outputs": [
    {
     "name": "stdout",
     "output_type": "stream",
     "text": [
      "Previous HEAD position was e12db04 Add pdm.lock after first pdm install\n",
      "HEAD is now at e5e9b85 Add cowsay to dependencies\n"
     ]
    }
   ],
   "source": [
    "# checkpoint\n",
    "git add -A\n",
    "git checkout $(git rev-list --topo-order HEAD...main | tail -1)  # check out next commit"
   ]
  },
  {
   "cell_type": "markdown",
   "id": "0d877c25",
   "metadata": {
    "slideshow": {
     "slide_type": "subslide"
    }
   },
   "source": [
    "### What did `pdm add` do?\n",
    "\n",
    "`cowsay` now appears as a dependency in `pyproject.toml`:"
   ]
  },
  {
   "cell_type": "code",
   "execution_count": 19,
   "id": "412cea3e",
   "metadata": {
    "slideshow": {
     "slide_type": "fragment"
    },
    "tags": [
     "remove-input"
    ]
   },
   "outputs": [
    {
     "name": "stdout",
     "output_type": "stream",
     "text": [
      "\u001b[0m\u001b[1;36m────────────────────────────────────────────────────────────────────────────────\u001b[0m\n",
      "\u001b[1;36mmodified: pyproject.toml\n",
      "\u001b[1;36m────────────────────────────────────────────────────────────────────────────────\u001b[0m\n",
      "\u001b[1m\u001b[38;5;13m@ pyproject.toml:10 @\u001b[1m\u001b[1m\u001b[38;5;146m description = \"A test project for presentation to the WSU Python Working Group.\"\u001b[0m\n",
      "authors = [\n",
      "    {name = \"Edward Eskew\", email = \"edward.eskew@wsu.edu\"},\n",
      "]\n",
      "\u001b[1m\u001b[38;5;1mdependencies = []\u001b[0m\n",
      "\u001b[1m\u001b[38;5;2mdependencies = [\u001b[0m\n",
      "\u001b[1m\u001b[38;5;2m    \"cowsay>=5.0\",\u001b[0m\n",
      "\u001b[1m\u001b[38;5;2m]\u001b[0m\n",
      "requires-python = \">=3.11\"\n",
      "readme = \"README.md\"\n",
      "license = {text = \"MIT\"}\n"
     ]
    }
   ],
   "source": [
    "git diff HEAD~ pyproject.toml | ../../scripts/diff-so-fancy"
   ]
  },
  {
   "cell_type": "markdown",
   "id": "7d189f85",
   "metadata": {
    "slideshow": {
     "slide_type": "subslide"
    }
   },
   "source": [
    "We've also updated `pdm.lock` to include cowsay:"
   ]
  },
  {
   "cell_type": "code",
   "execution_count": 20,
   "id": "8a153101",
   "metadata": {
    "slideshow": {
     "slide_type": "fragment"
    }
   },
   "outputs": [
    {
     "name": "stdout",
     "output_type": "stream",
     "text": [
      "# This file is @generated by PDM.\n",
      "# It is not intended for manual editing.\n",
      "\n",
      "[[package]]\n",
      "name = \"cowsay\"\n",
      "version = \"5.0\"\n",
      "summary = \"The famous cowsay for GNU/Linux is now available for python\"\n",
      "\n",
      "[metadata]\n",
      "lock_version = \"4.1\"\n",
      "content_hash = \"sha256:a04c8eb9409090bc9acb94e5cec5ef19afdecacb2c169628142af5ca472135f0\"\n",
      "\n",
      "[metadata.files]\n",
      "\"cowsay 5.0\" = [\n",
      "    {url = \"https://files.pythonhosted.org/packages/6b/b8/9f497fd045d74fe21d91cbe8debae0b451229989e35b539d218547d79fc6/cowsay-5.0.tar.gz\", hash = \"sha256:c00e02444f5bc7332826686bd44d963caabbaba9a804a63153822edce62bbbf3\"},\n",
      "]\n"
     ]
    }
   ],
   "source": [
    "cat pdm.lock"
   ]
  },
  {
   "cell_type": "markdown",
   "id": "8c4dbc4e",
   "metadata": {
    "slideshow": {
     "slide_type": "subslide"
    }
   },
   "source": [
    "We can now import `cowsay`:"
   ]
  },
  {
   "cell_type": "code",
   "execution_count": 21,
   "id": "c79d6d94",
   "metadata": {
    "slideshow": {
     "slide_type": "fragment"
    }
   },
   "outputs": [
    {
     "name": "stdout",
     "output_type": "stream",
     "text": [
      "  ____\n",
      "| moo! |\n",
      "  ====\n",
      "    \\\n",
      "     \\\n",
      "       ^__^\n",
      "       (oo)\\_______\n",
      "       (__)\\       )\\/\\\n",
      "           ||----w |\n",
      "           ||     ||\n"
     ]
    }
   ],
   "source": [
    "pdm run python -c 'import cowsay; cowsay.cow(\"moo!\")'"
   ]
  },
  {
   "cell_type": "markdown",
   "id": "2304f0f8",
   "metadata": {
    "slideshow": {
     "slide_type": "subslide"
    }
   },
   "source": [
    "### Adding more code\n",
    "\n",
    "Let's add a new function to `utils.py`:"
   ]
  },
  {
   "cell_type": "code",
   "execution_count": 22,
   "id": "4788bc61",
   "metadata": {
    "slideshow": {
     "slide_type": "skip"
    },
    "tags": [
     "remove-cell"
    ]
   },
   "outputs": [],
   "source": [
    "# This cell hidden in presentation and docs\n",
    "cat << \"EOF\" > src/eeskew_pwg_test_000/utils.py\n",
    "import cowsay\n",
    "\n",
    "def sarcasm(s):\n",
    "    \"\"\"Convert string `s` to sArCaSm TeXt.\"\"\"\n",
    "    out = \"\"\n",
    "    for i, c in enumerate(s):\n",
    "        if i % 2 == 0:\n",
    "            out += c.lower()\n",
    "\n",
    "        else:\n",
    "            out += c.upper()\n",
    "\n",
    "    return out\n",
    "\n",
    "def sarcastic_cowsay(s):\n",
    "    \"\"\"Cowsay `s`, sArCaStIcAlLy.\"\"\"\n",
    "    sarcastic_s = sarcasm(s)\n",
    "    cowsay.cow(sarcastic_s)\n",
    "EOF"
   ]
  },
  {
   "cell_type": "code",
   "execution_count": 23,
   "id": "60f00d9b",
   "metadata": {
    "slideshow": {
     "slide_type": "skip"
    },
    "tags": [
     "remove-cell"
    ]
   },
   "outputs": [
    {
     "name": "stdout",
     "output_type": "stream",
     "text": [
      "Previous HEAD position was e5e9b85 Add cowsay to dependencies\n",
      "HEAD is now at fe97875 Add sarcastic_cowsay to utils\n"
     ]
    }
   ],
   "source": [
    "# checkpoint\n",
    "git add -A\n",
    "git checkout $(git rev-list --topo-order HEAD...main | tail -1)  # check out next commit"
   ]
  },
  {
   "cell_type": "code",
   "execution_count": 24,
   "id": "9bed15d5",
   "metadata": {
    "slideshow": {
     "slide_type": "fragment"
    },
    "tags": [
     "remove-input"
    ]
   },
   "outputs": [
    {
     "name": "stdout",
     "output_type": "stream",
     "text": [
      "\u001b[0m\u001b[1;36m────────────────────────────────────────────────────────────────────────────────\u001b[0m\n",
      "\u001b[1;36mmodified: src/eeskew_pwg_test_000/utils.py\n",
      "\u001b[1;36m────────────────────────────────────────────────────────────────────────────────\u001b[0m\n",
      "\u001b[1m\u001b[38;5;13m@ src/eeskew_pwg_test_000/utils.py:2 @\u001b[1m\u001b[0m\n",
      "\u001b[1m\u001b[38;5;2mimport cowsay\u001b[0m\n",
      "\u001b[7m\u001b[7m \u001b[0m\n",
      "def sarcasm(s):\n",
      "    \"\"\"Convert string `s` to sArCaSm TeXt.\"\"\"\n",
      "    out = \"\"\n",
      "\u001b[1m\u001b[38;5;13m@ src/eeskew_pwg_test_000/utils.py:14 @\u001b[1m\u001b[1m\u001b[38;5;146m def sarcasm(s):\u001b[0m\n",
      "            out += c.upper()\n",
      "\n",
      "    return out\n",
      "\u001b[7m\u001b[7m \u001b[0m\n",
      "\u001b[1m\u001b[38;5;2mdef sarcastic_cowsay(s):\u001b[0m\n",
      "\u001b[1m\u001b[38;5;2m    \"\"\"Cowsay `s`, sArCaStIcAlLy.\"\"\"\u001b[0m\n",
      "\u001b[1m\u001b[38;5;2m    sarcastic_s = sarcasm(s)\u001b[0m\n",
      "\u001b[1m\u001b[38;5;2m    cowsay.cow(sarcastic_s)\u001b[0m\n"
     ]
    }
   ],
   "source": [
    "git diff HEAD~ src/eeskew_pwg_test_000/utils.py | ../../scripts/diff-so-fancy"
   ]
  },
  {
   "cell_type": "markdown",
   "id": "94862b1b",
   "metadata": {
    "slideshow": {
     "slide_type": "subslide"
    }
   },
   "source": [
    "We can now run this new function:"
   ]
  },
  {
   "cell_type": "code",
   "execution_count": 25,
   "id": "224d8412",
   "metadata": {
    "slideshow": {
     "slide_type": "fragment"
    }
   },
   "outputs": [
    {
     "name": "stdout",
     "output_type": "stream",
     "text": [
      "  _____\n",
      "| mOoO! |\n",
      "  =====\n",
      "     \\\n",
      "      \\\n",
      "        ^__^\n",
      "        (oo)\\_______\n",
      "        (__)\\       )\\/\\\n",
      "            ||----w |\n",
      "            ||     ||\n"
     ]
    }
   ],
   "source": [
    "pdm run python -c 'from eeskew_pwg_test_000.utils import sarcastic_cowsay; sarcastic_cowsay(\"mooo!\")'"
   ]
  },
  {
   "cell_type": "markdown",
   "id": "3d42f2d7",
   "metadata": {
    "slideshow": {
     "slide_type": "notes"
    }
   },
   "source": [
    ":::{note}\n",
    "We didn't have to re-run `pdm install` to use our new function - this is because PDM installs our `eeskew_pwg_test_000` package in \"editable mode\", which acts sort of like a symlink between the source code and the installed files in the `.venv` directory.\n",
    ":::"
   ]
  },
  {
   "cell_type": "markdown",
   "id": "4f420413",
   "metadata": {
    "slideshow": {
     "slide_type": "slide"
    }
   },
   "source": [
    "## Add a development dependency\n",
    "\n",
    "The dependencies listed in the `project.dependencies` section of `pyproject.toml` will all be installed when someone runs `pip install eeskew_pwg_test_project`.  What if we have dependencies we only want in our development environment?\n",
    "\n",
    "Let's add `black`, a tool to automatically format our code:"
   ]
  },
  {
   "cell_type": "code",
   "execution_count": 26,
   "id": "c0f300a7",
   "metadata": {
    "scrolled": true,
    "slideshow": {
     "slide_type": "fragment"
    },
    "tags": [
     "output_scroll"
    ]
   },
   "outputs": [
    {
     "name": "stdout",
     "output_type": "stream",
     "text": [
      "Adding packages to \u001b[36mdev\u001b[0m dev-dependencies: \u001b[1;32mblack\u001b[0m\n",
      "\u001b[2K\u001b[36m⠙\u001b[0m Fetching hashes for resolved packages...m23.1.0\u001b[0m\n",
      "\u001b[1A\u001b[2K🔒 Lock successful\n",
      "Changes are written to \u001b[32mpdm.lock\u001b[0m.\n",
      "Changes are written to \u001b[32mpyproject.toml\u001b[0m.\n",
      "\u001b[?25l\u001b[36m⠋\u001b[0m Fetching hashes for resolved packages...\n",
      "\u001b[1A\u001b[2K\u001b[1mSynchronizing working set with lock file\u001b[0m: \u001b[32m6\u001b[0m to add, \u001b[33m0\u001b[0m to update, \u001b[31m0\u001b[0m to remove\n",
      "\n",
      "\u001b[2K  \u001b[36m⠋\u001b[0m Installing \u001b[1;32mblack\u001b[0m \u001b[33m23.1.0\u001b[0m...\n",
      "\u001b[2K\u001b[1A\u001b[2K  \u001b[36m⠋\u001b[0m Installing \u001b[1;32mblack\u001b[0m \u001b[33m23.1.0\u001b[0m...         \n",
      "  \u001b[36m⠋\u001b[0m Installing \u001b[1;32mclick\u001b[0m \u001b[33m8.1.3\u001b[0m...          \n",
      "  \u001b[36m⠋\u001b[0m Installing \u001b[1;32mmypy-extensions\u001b[0m \u001b[33m1.0.0\u001b[0m...\n",
      "\u001b[2K\u001b[1A\u001b[2K\u001b[1A\u001b[2K\u001b[1A\u001b[2K  \u001b[36m⠋\u001b[0m Installing \u001b[1;32mblack\u001b[0m \u001b[33m23.1.0\u001b[0m...         \n",
      "  \u001b[36m⠋\u001b[0m Installing \u001b[1;32mclick\u001b[0m \u001b[33m8.1.3\u001b[0m...          \n",
      "  \u001b[36m⠋\u001b[0m Installing \u001b[1;32mmypy-extensions\u001b[0m \u001b[33m1.0.0\u001b[0m...\n",
      "\u001b[2K\u001b[1A\u001b[2K\u001b[1A\u001b[2K\u001b[1A\u001b[2K  \u001b[36m⠋\u001b[0m Installing \u001b[1;32mblack\u001b[0m \u001b[33m23.1.0\u001b[0m...         \n",
      "  \u001b[36m⠋\u001b[0m Installing \u001b[1;32mclick\u001b[0m \u001b[33m8.1.3\u001b[0m...          \n",
      "  \u001b[36m⠋\u001b[0m Installing \u001b[1;32mmypy-extensions\u001b[0m \u001b[33m1.0.0\u001b[0m...\n",
      "  \u001b[36m⠋\u001b[0m Installing \u001b[1;32mpackaging\u001b[0m \u001b[33m23.0\u001b[0m...       \n",
      "\u001b[2K\u001b[1A\u001b[2K\u001b[1A\u001b[2K\u001b[1A\u001b[2K\u001b[1A\u001b[2K  \u001b[36m⠋\u001b[0m Installing \u001b[1;32mblack\u001b[0m \u001b[33m23.1.0\u001b[0m...         \n",
      "  \u001b[36m⠋\u001b[0m Installing \u001b[1;32mclick\u001b[0m \u001b[33m8.1.3\u001b[0m...          \n",
      "  \u001b[36m⠋\u001b[0m Installing \u001b[1;32mmypy-extensions\u001b[0m \u001b[33m1.0.0\u001b[0m...\n",
      "  \u001b[36m⠋\u001b[0m Installing \u001b[1;32mpackaging\u001b[0m \u001b[33m23.0\u001b[0m...       \n",
      "  \u001b[36m⠋\u001b[0m Installing \u001b[1;32mpathspec\u001b[0m \u001b[33m0.11.0\u001b[0m...      \n",
      "\u001b[2K\u001b[1A\u001b[2K\u001b[1A\u001b[2K\u001b[1A\u001b[2K\u001b[1A\u001b[2K\u001b[1A\u001b[2K  \u001b[36m⠙\u001b[0m Installing \u001b[1;32mblack\u001b[0m \u001b[33m23.1.0\u001b[0m...         \n",
      "  \u001b[36m⠙\u001b[0m Installing \u001b[1;32mclick\u001b[0m \u001b[33m8.1.3\u001b[0m...          \n",
      "  \u001b[36m⠙\u001b[0m Installing \u001b[1;32mmypy-extensions\u001b[0m \u001b[33m1.0.0\u001b[0m...\n",
      "  \u001b[36m⠙\u001b[0m Installing \u001b[1;32mpackaging\u001b[0m \u001b[33m23.0\u001b[0m...       \n",
      "  \u001b[36m⠙\u001b[0m Installing \u001b[1;32mpathspec\u001b[0m \u001b[33m0.11.0\u001b[0m...      \n",
      "\u001b[2K\u001b[1A\u001b[2K\u001b[1A\u001b[2K\u001b[1A\u001b[2K\u001b[1A\u001b[2K\u001b[1A\u001b[2K  \u001b[32m✔\u001b[0m Install \u001b[1;32mmypy-extensions\u001b[0m \u001b[33m1.0.0\u001b[0m successful\n",
      "  \u001b[36m⠙\u001b[0m Installing \u001b[1;32mblack\u001b[0m \u001b[33m23.1.0\u001b[0m...         \n",
      "  \u001b[36m⠙\u001b[0m Installing \u001b[1;32mclick\u001b[0m \u001b[33m8.1.3\u001b[0m...          \n",
      "  \u001b[36m⠙\u001b[0m Installing \u001b[1;32mmypy-extensions\u001b[0m \u001b[33m1.0.0\u001b[0m...\n",
      "  \u001b[36m⠙\u001b[0m Installing \u001b[1;32mpackaging\u001b[0m \u001b[33m23.0\u001b[0m...       \n",
      "  \u001b[36m⠙\u001b[0m Installing \u001b[1;32mpathspec\u001b[0m \u001b[33m0.11.0\u001b[0m...      \n",
      "\u001b[2K\u001b[1A\u001b[2K\u001b[1A\u001b[2K\u001b[1A\u001b[2K\u001b[1A\u001b[2K\u001b[1A\u001b[2K  \u001b[32m✔\u001b[0m Install \u001b[1;32mplatformdirs\u001b[0m \u001b[33m3.0.0\u001b[0m successful\n",
      "  \u001b[36m⠙\u001b[0m Installing \u001b[1;32mblack\u001b[0m \u001b[33m23.1.0\u001b[0m...         \n",
      "  \u001b[36m⠙\u001b[0m Installing \u001b[1;32mclick\u001b[0m \u001b[33m8.1.3\u001b[0m...          \n",
      "  \u001b[36m⠙\u001b[0m Installing \u001b[1;32mmypy-extensions\u001b[0m \u001b[33m1.0.0\u001b[0m...\n",
      "  \u001b[36m⠙\u001b[0m Installing \u001b[1;32mpackaging\u001b[0m \u001b[33m23.0\u001b[0m...       \n",
      "  \u001b[36m⠙\u001b[0m Installing \u001b[1;32mpathspec\u001b[0m \u001b[33m0.11.0\u001b[0m...      \n",
      "\u001b[2K\u001b[1A\u001b[2K\u001b[1A\u001b[2K\u001b[1A\u001b[2K\u001b[1A\u001b[2K\u001b[1A\u001b[2K  \u001b[32m✔\u001b[0m Install \u001b[1;32mpackaging\u001b[0m \u001b[33m23.0\u001b[0m successful\n",
      "  \u001b[36m⠙\u001b[0m Installing \u001b[1;32mblack\u001b[0m \u001b[33m23.1.0\u001b[0m...         \n",
      "  \u001b[36m⠙\u001b[0m Installing \u001b[1;32mclick\u001b[0m \u001b[33m8.1.3\u001b[0m...          \n",
      "  \u001b[36m⠙\u001b[0m Installing \u001b[1;32mmypy-extensions\u001b[0m \u001b[33m1.0.0\u001b[0m...\n",
      "  \u001b[36m⠙\u001b[0m Installing \u001b[1;32mpackaging\u001b[0m \u001b[33m23.0\u001b[0m...       \n",
      "  \u001b[36m⠙\u001b[0m Installing \u001b[1;32mpathspec\u001b[0m \u001b[33m0.11.0\u001b[0m...      \n",
      "\u001b[2K\u001b[1A\u001b[2K\u001b[1A\u001b[2K\u001b[1A\u001b[2K\u001b[1A\u001b[2K\u001b[1A\u001b[2K  \u001b[32m✔\u001b[0m Install \u001b[1;32mclick\u001b[0m \u001b[33m8.1.3\u001b[0m successful\n",
      "  \u001b[36m⠙\u001b[0m Installing \u001b[1;32mblack\u001b[0m \u001b[33m23.1.0\u001b[0m...         \n",
      "  \u001b[36m⠙\u001b[0m Installing \u001b[1;32mclick\u001b[0m \u001b[33m8.1.3\u001b[0m...          \n",
      "  \u001b[36m⠙\u001b[0m Installing \u001b[1;32mmypy-extensions\u001b[0m \u001b[33m1.0.0\u001b[0m...\n",
      "  \u001b[36m⠙\u001b[0m Installing \u001b[1;32mpackaging\u001b[0m \u001b[33m23.0\u001b[0m...       \n",
      "  \u001b[36m⠙\u001b[0m Installing \u001b[1;32mpathspec\u001b[0m \u001b[33m0.11.0\u001b[0m...      \n",
      "\u001b[2K\u001b[1A\u001b[2K\u001b[1A\u001b[2K\u001b[1A\u001b[2K\u001b[1A\u001b[2K\u001b[1A\u001b[2K  \u001b[32m✔\u001b[0m Install \u001b[1;32mpathspec\u001b[0m \u001b[33m0.11.0\u001b[0m successful\n",
      "  \u001b[36m⠙\u001b[0m Installing \u001b[1;32mblack\u001b[0m \u001b[33m23.1.0\u001b[0m...         \n",
      "  \u001b[36m⠙\u001b[0m Installing \u001b[1;32mclick\u001b[0m \u001b[33m8.1.3\u001b[0m...          \n",
      "  \u001b[36m⠙\u001b[0m Installing \u001b[1;32mmypy-extensions\u001b[0m \u001b[33m1.0.0\u001b[0m...\n",
      "  \u001b[36m⠙\u001b[0m Installing \u001b[1;32mpackaging\u001b[0m \u001b[33m23.0\u001b[0m...       \n",
      "  \u001b[36m⠙\u001b[0m Installing \u001b[1;32mpathspec\u001b[0m \u001b[33m0.11.0\u001b[0m...      \n",
      "\u001b[2K\u001b[1A\u001b[2K\u001b[1A\u001b[2K\u001b[1A\u001b[2K\u001b[1A\u001b[2K\u001b[1A\u001b[2K  \u001b[32m✔\u001b[0m Install \u001b[1;32mblack\u001b[0m \u001b[33m23.1.0\u001b[0m successful\n",
      "  \u001b[36m⠙\u001b[0m Installing \u001b[1;32mblack\u001b[0m \u001b[33m23.1.0\u001b[0m...         \n",
      "  \u001b[36m⠙\u001b[0m Installing \u001b[1;32mclick\u001b[0m \u001b[33m8.1.3\u001b[0m...          \n",
      "  \u001b[36m⠙\u001b[0m Installing \u001b[1;32mmypy-extensions\u001b[0m \u001b[33m1.0.0\u001b[0m...\n",
      "  \u001b[36m⠙\u001b[0m Installing \u001b[1;32mpackaging\u001b[0m \u001b[33m23.0\u001b[0m...       \n",
      "  \u001b[36m⠙\u001b[0m Installing \u001b[1;32mpathspec\u001b[0m \u001b[33m0.11.0\u001b[0m...      \n",
      "\u001b[2K\u001b[1A\u001b[2K\u001b[1A\u001b[2K\u001b[1A\u001b[2K\u001b[1A\u001b[2K\u001b[1A\u001b[2K[0m \u001b[33m3.0.0\u001b[0m...   \n",
      "🎉 All complete!\n",
      "  \u001b[36m⠙\u001b[0m Installing \u001b[1;32mblack\u001b[0m \u001b[33m23.1.0\u001b[0m...         \n",
      "  \u001b[36m⠙\u001b[0m Installing \u001b[1;32mclick\u001b[0m \u001b[33m8.1.3\u001b[0m...          \n",
      "  \u001b[36m⠙\u001b[0m Installing \u001b[1;32mmypy-extensions\u001b[0m \u001b[33m1.0.0\u001b[0m...\n",
      "  \u001b[36m⠙\u001b[0m Installing \u001b[1;32mpackaging\u001b[0m \u001b[33m23.0\u001b[0m...       \n",
      "  \u001b[36m⠙\u001b[0m Installing \u001b[1;32mpathspec\u001b[0m \u001b[33m0.11.0\u001b[0m...      \n",
      "\u001b[2K\u001b[1A\u001b[2K\u001b[1A\u001b[2K\u001b[1A\u001b[2K\u001b[1A\u001b[2K\u001b[1A\u001b[2K[0m \u001b[33m3.0.0\u001b[0m...   \n",
      "\u001b[?25h\n"
     ]
    }
   ],
   "source": [
    "pdm add -d black"
   ]
  },
  {
   "cell_type": "code",
   "execution_count": 27,
   "id": "ab3cbac1",
   "metadata": {
    "slideshow": {
     "slide_type": "skip"
    },
    "tags": [
     "remove-cell"
    ]
   },
   "outputs": [
    {
     "name": "stdout",
     "output_type": "stream",
     "text": [
      "Previous HEAD position was fe97875 Add sarcastic_cowsay to utils\n",
      "HEAD is now at c545db9 Add black to dev dependencies\n"
     ]
    }
   ],
   "source": [
    "# checkpoint\n",
    "git add -A\n",
    "git checkout $(git rev-list --topo-order HEAD...main | tail -1)  # check out next commit"
   ]
  },
  {
   "cell_type": "markdown",
   "id": "f6d6edd6",
   "metadata": {
    "slideshow": {
     "slide_type": "subslide"
    }
   },
   "source": [
    "### What happened?"
   ]
  },
  {
   "cell_type": "code",
   "execution_count": 28,
   "id": "a1eda492",
   "metadata": {
    "slideshow": {
     "slide_type": "fragment"
    },
    "tags": [
     "remove-input"
    ]
   },
   "outputs": [
    {
     "name": "stdout",
     "output_type": "stream",
     "text": [
      "\u001b[0m\u001b[1;36m────────────────────────────────────────────────────────────────────────────────\u001b[0m\n",
      "\u001b[1;36mmodified: pyproject.toml\n",
      "\u001b[1;36m────────────────────────────────────────────────────────────────────────────────\u001b[0m\n",
      "\u001b[1m\u001b[38;5;13m@ pyproject.toml:4 @\u001b[1m\u001b[0m\n",
      "[tool.pdm]\n",
      "\u001b[1m\u001b[38;5;2m[tool.pdm.dev-dependencies]\u001b[0m\n",
      "\u001b[1m\u001b[38;5;2mdev = [\u001b[0m\n",
      "\u001b[1m\u001b[38;5;2m    \"black>=23.1.0\",\u001b[0m\n",
      "\u001b[1m\u001b[38;5;2m]\u001b[0m\n",
      "\n",
      "[project]\n",
      "name = \"eeskew-pwg-test-000\"\n"
     ]
    }
   ],
   "source": [
    "git diff HEAD~ pyproject.toml | ../../scripts/diff-so-fancy"
   ]
  },
  {
   "cell_type": "markdown",
   "id": "449ce020",
   "metadata": {
    "slideshow": {
     "slide_type": "notes"
    }
   },
   "source": [
    "We've added a new `[dev-dependencies]` sub-table to the `[tool.pdm]` table.  When we run `pdm install`, by default, PDM will install dependencies from here in addition to the dependencies listed in `[project.dependencies]`.  A different tool like `pip`, however, will not.\n",
    "\n",
    "See the [PDM docs](https://pdm.fming.dev/latest/usage/dependency/#add-development-only-dependencies) for more information on development dependencies."
   ]
  },
  {
   "cell_type": "markdown",
   "id": "747d7e4b",
   "metadata": {
    "slideshow": {
     "slide_type": "subslide"
    }
   },
   "source": [
    "The lockfile has also been updated:"
   ]
  },
  {
   "cell_type": "code",
   "execution_count": 29,
   "id": "d58d5079",
   "metadata": {
    "slideshow": {
     "slide_type": "fragment"
    },
    "tags": [
     "output_scroll"
    ]
   },
   "outputs": [
    {
     "name": "stdout",
     "output_type": "stream",
     "text": [
      "# This file is @generated by PDM.\n",
      "# It is not intended for manual editing.\n",
      "\n",
      "[[package]]\n",
      "name = \"black\"\n",
      "version = \"23.1.0\"\n",
      "requires_python = \">=3.7\"\n",
      "summary = \"The uncompromising code formatter.\"\n",
      "dependencies = [\n",
      "    \"click>=8.0.0\",\n",
      "    \"mypy-extensions>=0.4.3\",\n",
      "    \"packaging>=22.0\",\n",
      "    \"pathspec>=0.9.0\",\n",
      "    \"platformdirs>=2\",\n",
      "]\n",
      "\n",
      "[[package]]\n",
      "name = \"click\"\n",
      "version = \"8.1.3\"\n",
      "requires_python = \">=3.7\"\n",
      "summary = \"Composable command line interface toolkit\"\n",
      "dependencies = [\n",
      "    \"colorama; platform_system == \\\"Windows\\\"\",\n",
      "]\n",
      "\n",
      "[[package]]\n",
      "name = \"colorama\"\n",
      "version = \"0.4.6\"\n",
      "requires_python = \"!=3.0.*,!=3.1.*,!=3.2.*,!=3.3.*,!=3.4.*,!=3.5.*,!=3.6.*,>=2.7\"\n",
      "summary = \"Cross-platform colored terminal text.\"\n",
      "\n",
      "[[package]]\n",
      "name = \"cowsay\"\n",
      "version = \"5.0\"\n",
      "summary = \"The famous cowsay for GNU/Linux is now available for python\"\n",
      "\n",
      "[[package]]\n",
      "name = \"mypy-extensions\"\n",
      "version = \"1.0.0\"\n",
      "requires_python = \">=3.5\"\n",
      "summary = \"Type system extensions for programs checked with the mypy type checker.\"\n",
      "\n",
      "[[package]]\n",
      "name = \"packaging\"\n",
      "version = \"23.0\"\n",
      "requires_python = \">=3.7\"\n",
      "summary = \"Core utilities for Python packages\"\n",
      "\n",
      "[[package]]\n",
      "name = \"pathspec\"\n",
      "version = \"0.11.0\"\n",
      "requires_python = \">=3.7\"\n",
      "summary = \"Utility library for gitignore style pattern matching of file paths.\"\n",
      "\n",
      "[[package]]\n",
      "name = \"platformdirs\"\n",
      "version = \"3.0.0\"\n",
      "requires_python = \">=3.7\"\n",
      "summary = \"A small Python package for determining appropriate platform-specific dirs, e.g. a \\\"user data dir\\\".\"\n",
      "\n",
      "[metadata]\n",
      "lock_version = \"4.1\"\n",
      "content_hash = \"sha256:62a438f3cf3f36e776dcb27b9168623bf45eb25cc80b4dfb4f4b847a36f7bbf2\"\n",
      "\n",
      "[metadata.files]\n",
      "\"black 23.1.0\" = [\n",
      "    {url = \"https://files.pythonhosted.org/packages/01/8a/065d0a59c1ebe13186b12a2fa3965a41fc1588828709995e2630004d216e/black-23.1.0-cp37-cp37m-manylinux_2_17_x86_64.manylinux2014_x86_64.whl\", hash = \"sha256:8178318cb74f98bc571eef19068f6ab5613b3e59d4f47771582f04e175570ed8\"},\n",
      "    {url = \"https://files.pythonhosted.org/packages/15/11/533355217b1cc4a6df3263048060c1527f733d4720e158de2085293112bb/black-23.1.0.tar.gz\", hash = \"sha256:b0bd97bea8903f5a2ba7219257a44e3f1f9d00073d6cc1add68f0beec69692ac\"},\n",
      "    {url = \"https://files.pythonhosted.org/packages/18/99/bb1be0ff3a7e912679ad234a3c4884fa7689dfcc4eae85bddb6c04feaa62/black-23.1.0-py3-none-any.whl\", hash = \"sha256:7a0f701d314cfa0896b9001df70a530eb2472babb76086344e688829efd97d32\"},\n",
      "    {url = \"https://files.pythonhosted.org/packages/20/de/eff8e3ccc22b5c2be1265a9e61f1006d03e194519a3ca2e83dd8483dbbb5/black-23.1.0-cp38-cp38-macosx_10_16_x86_64.whl\", hash = \"sha256:49f7b39e30f326a34b5c9a4213213a6b221d7ae9d58ec70df1c4a307cf2a1580\"},\n",
      "    {url = \"https://files.pythonhosted.org/packages/2d/9a/a81bf384a08d8a5e13d97223a60a74ac3c16c0aecdbd85edbc662d158bde/black-23.1.0-cp310-cp310-win_amd64.whl\", hash = \"sha256:9afd3f493666a0cd8f8df9a0200c6359ac53940cbde049dcb1a7eb6ee2dd7074\"},\n",
      "    {url = \"https://files.pythonhosted.org/packages/32/a7/1d207427b87780c505a41c9430d26362e729954503b8ffba27c4f53a6810/black-23.1.0-cp311-cp311-manylinux_2_17_x86_64.manylinux2014_x86_64.whl\", hash = \"sha256:2bf649fda611c8550ca9d7592b69f0637218c2369b7744694c5e4902873b2f3a\"},\n",
      "    {url = \"https://files.pythonhosted.org/packages/3d/dc/12dc29bb38b8db68c79b8339de1590fe1ae796858bfa6cf7494eb672be21/black-23.1.0-cp38-cp38-win_amd64.whl\", hash = \"sha256:8b70eb40a78dfac24842458476135f9b99ab952dd3f2dab738c1881a9b38b753\"},\n",
      "    {url = \"https://files.pythonhosted.org/packages/3e/c0/abc7031d670d211e4e2a063910d587dfcb62ce469631e779b23b66653442/black-23.1.0-cp310-cp310-macosx_10_16_universal2.whl\", hash = \"sha256:57c18c5165c1dbe291d5306e53fb3988122890e57bd9b3dcb75f967f13411a26\"},\n",
      "    {url = \"https://files.pythonhosted.org/packages/43/bc/5232fd6b0fd6d6177140cfb7d8f0f0e06638e2a750122767e265beb91161/black-23.1.0-cp39-cp39-macosx_10_16_arm64.whl\", hash = \"sha256:a29650759a6a0944e7cca036674655c2f0f63806ddecc45ed40b7b8aa314b651\"},\n",
      "    {url = \"https://files.pythonhosted.org/packages/6b/d1/4394e4b0a24ad0f556aca3ab11e27f2e199f03b43f147c31a4befbf62b48/black-23.1.0-cp311-cp311-win_amd64.whl\", hash = \"sha256:121ca7f10b4a01fd99951234abdbd97728e1240be89fde18480ffac16503d481\"},\n",
      "    {url = \"https://files.pythonhosted.org/packages/77/11/db2ae5bf93af5185086d9b1baf4ce369ca34c3a01835230873aa9163d52d/black-23.1.0-cp39-cp39-macosx_10_16_universal2.whl\", hash = \"sha256:bb460c8561c8c1bec7824ecbc3ce085eb50005883a6203dcfb0122e95797ee06\"},\n",
      "    {url = \"https://files.pythonhosted.org/packages/7e/fe/6c05c3f9255b7b498cfb88faa85b45329f1b7b0ecb444ebdc6b74ffa1457/black-23.1.0-cp311-cp311-macosx_10_16_universal2.whl\", hash = \"sha256:c1c476bc7b7d021321e7d93dc2cbd78ce103b84d5a4cf97ed535fbc0d6660648\"},\n",
      "    {url = \"https://files.pythonhosted.org/packages/96/af/3361b34907efbfd9d55af453488be2282f831d98b7d201248b38d4c44346/black-23.1.0-cp37-cp37m-macosx_10_16_x86_64.whl\", hash = \"sha256:a8471939da5e824b891b25751955be52ee7f8a30a916d570a5ba8e0f2eb2ecad\"},\n",
      "    {url = \"https://files.pythonhosted.org/packages/9a/ee/549e8be7f635cabcc3c7c3f2c3b27971dc32735155631b9ef2dcb1bd861f/black-23.1.0-cp311-cp311-macosx_10_16_arm64.whl\", hash = \"sha256:bfffba28dc52a58f04492181392ee380e95262af14ee01d4bc7bb1b1c6ca8d27\"},\n",
      "    {url = \"https://files.pythonhosted.org/packages/a4/ec/934e89820289e6952922fa5965aec0e046ed65da168ffb0515af1e3364e1/black-23.1.0-cp38-cp38-macosx_10_16_arm64.whl\", hash = \"sha256:a59db0a2094d2259c554676403fa2fac3473ccf1354c1c63eccf7ae65aac8ab6\"},\n",
      "    {url = \"https://files.pythonhosted.org/packages/ae/93/1e62fe94ab531bdc3f6cbbbd5b518727277bf40f695777b4097db5da2a38/black-23.1.0-cp39-cp39-macosx_10_16_x86_64.whl\", hash = \"sha256:c91dfc2c2a4e50df0026f88d2215e166616e0c80e86004d0003ece0488db2739\"},\n",
      "    {url = \"https://files.pythonhosted.org/packages/b1/7e/c368e9c795387a01bc181d8acbfd178278cc9960c5e7ef1059222a4419f9/black-23.1.0-cp37-cp37m-win_amd64.whl\", hash = \"sha256:a436e7881d33acaf2536c46a454bb964a50eff59b21b51c6ccf5a40601fbef24\"},\n",
      "    {url = \"https://files.pythonhosted.org/packages/b7/33/8e074fd8b86a1c8668f5493ed28929d87bdccb6aa68c2975b47a02f92287/black-23.1.0-cp39-cp39-manylinux_2_17_x86_64.manylinux2014_x86_64.whl\", hash = \"sha256:2a951cc83ab535d248c89f300eccbd625e80ab880fbcfb5ac8afb5f01a258ac9\"},\n",
      "    {url = \"https://files.pythonhosted.org/packages/be/f9/11e401323cd5b4e53d138fc880564765466a86acd2d4b50d7c8cdd048c18/black-23.1.0-cp310-cp310-manylinux_2_17_x86_64.manylinux2014_x86_64.whl\", hash = \"sha256:e6663f91b6feca5d06f2ccd49a10f254f9298cc1f7f49c46e498a0771b507104\"},\n",
      "    {url = \"https://files.pythonhosted.org/packages/c0/1d/8dac412cf5cc4120a438969a4fafefdc3de8fa13d411f317a9f9f1e268a4/black-23.1.0-cp39-cp39-win_amd64.whl\", hash = \"sha256:0680d4380db3719ebcfb2613f34e86c8e6d15ffeabcf8ec59355c5e7b85bb555\"},\n",
      "    {url = \"https://files.pythonhosted.org/packages/cf/fe/dda4b7eedb9d4dc46e306b814f7838cd9026907fdc889f75eb9f6d47d414/black-23.1.0-cp310-cp310-macosx_10_16_x86_64.whl\", hash = \"sha256:9880d7d419bb7e709b37e28deb5e68a49227713b623c72b2b931028ea65f619b\"},\n",
      "    {url = \"https://files.pythonhosted.org/packages/d0/cb/0a38ffdafbb4b3f337adaf1b79aeaf4b8a21ed18835acad6349e46c78c80/black-23.1.0-cp310-cp310-macosx_10_16_arm64.whl\", hash = \"sha256:b6a92a41ee34b883b359998f0c8e6eb8e99803aa8bf3123bf2b2e6fec505a221\"},\n",
      "    {url = \"https://files.pythonhosted.org/packages/dd/19/875b5006e40ea69a4120671f50317100b24732f2b877203722c91bc4eef3/black-23.1.0-cp38-cp38-manylinux_2_17_x86_64.manylinux2014_x86_64.whl\", hash = \"sha256:162e37d49e93bd6eb6f1afc3e17a3d23a823042530c37c3c42eeeaf026f38468\"},\n",
      "    {url = \"https://files.pythonhosted.org/packages/e6/0a/9a5fca4a2ca07d4dbc3b00445c9353f05ea182b000f68c9ad6ba1da87a47/black-23.1.0-cp38-cp38-macosx_10_16_universal2.whl\", hash = \"sha256:0052dba51dec07ed029ed61b18183942043e00008ec65d5028814afaab9a22fd\"},\n",
      "    {url = \"https://files.pythonhosted.org/packages/f1/89/ccc28cb74a66c094b609295b009b5e0350c10b75661d2450eeed2f60ce37/black-23.1.0-cp311-cp311-macosx_10_16_x86_64.whl\", hash = \"sha256:382998821f58e5c8238d3166c492139573325287820963d2f7de4d518bd76958\"},\n",
      "]\n",
      "\"click 8.1.3\" = [\n",
      "    {url = \"https://files.pythonhosted.org/packages/59/87/84326af34517fca8c58418d148f2403df25303e02736832403587318e9e8/click-8.1.3.tar.gz\", hash = \"sha256:7682dc8afb30297001674575ea00d1814d808d6a36af415a82bd481d37ba7b8e\"},\n"
     ]
    },
    {
     "name": "stdout",
     "output_type": "stream",
     "text": [
      "    {url = \"https://files.pythonhosted.org/packages/c2/f1/df59e28c642d583f7dacffb1e0965d0e00b218e0186d7858ac5233dce840/click-8.1.3-py3-none-any.whl\", hash = \"sha256:bb4d8133cb15a609f44e8213d9b391b0809795062913b383c62be0ee95b1db48\"},\n",
      "]\n",
      "\"colorama 0.4.6\" = [\n",
      "    {url = \"https://files.pythonhosted.org/packages/d1/d6/3965ed04c63042e047cb6a3e6ed1a63a35087b6a609aa3a15ed8ac56c221/colorama-0.4.6-py2.py3-none-any.whl\", hash = \"sha256:4f1d9991f5acc0ca119f9d443620b77f9d6b33703e51011c16baf57afb285fc6\"},\n",
      "    {url = \"https://files.pythonhosted.org/packages/d8/53/6f443c9a4a8358a93a6792e2acffb9d9d5cb0a5cfd8802644b7b1c9a02e4/colorama-0.4.6.tar.gz\", hash = \"sha256:08695f5cb7ed6e0531a20572697297273c47b8cae5a63ffc6d6ed5c201be6e44\"},\n",
      "]\n",
      "\"cowsay 5.0\" = [\n",
      "    {url = \"https://files.pythonhosted.org/packages/6b/b8/9f497fd045d74fe21d91cbe8debae0b451229989e35b539d218547d79fc6/cowsay-5.0.tar.gz\", hash = \"sha256:c00e02444f5bc7332826686bd44d963caabbaba9a804a63153822edce62bbbf3\"},\n",
      "]\n",
      "\"mypy-extensions 1.0.0\" = [\n",
      "    {url = \"https://files.pythonhosted.org/packages/2a/e2/5d3f6ada4297caebe1a2add3b126fe800c96f56dbe5d1988a2cbe0b267aa/mypy_extensions-1.0.0-py3-none-any.whl\", hash = \"sha256:4392f6c0eb8a5668a69e23d168ffa70f0be9ccfd32b5cc2d26a34ae5b844552d\"},\n",
      "    {url = \"https://files.pythonhosted.org/packages/98/a4/1ab47638b92648243faf97a5aeb6ea83059cc3624972ab6b8d2316078d3f/mypy_extensions-1.0.0.tar.gz\", hash = \"sha256:75dbf8955dc00442a438fc4d0666508a9a97b6bd41aa2f0ffe9d2f2725af0782\"},\n",
      "]\n",
      "\"packaging 23.0\" = [\n",
      "    {url = \"https://files.pythonhosted.org/packages/47/d5/aca8ff6f49aa5565df1c826e7bf5e85a6df852ee063600c1efa5b932968c/packaging-23.0.tar.gz\", hash = \"sha256:b6ad297f8907de0fa2fe1ccbd26fdaf387f5f47c7275fedf8cce89f99446cf97\"},\n",
      "    {url = \"https://files.pythonhosted.org/packages/ed/35/a31aed2993e398f6b09a790a181a7927eb14610ee8bbf02dc14d31677f1c/packaging-23.0-py3-none-any.whl\", hash = \"sha256:714ac14496c3e68c99c29b00845f7a2b85f3bb6f1078fd9f72fd20f0570002b2\"},\n",
      "]\n",
      "\"pathspec 0.11.0\" = [\n",
      "    {url = \"https://files.pythonhosted.org/packages/e6/be/1a973593d7ce7ac9d1a793b81eb265c152a62f34825169fbd7c4e4548e34/pathspec-0.11.0-py3-none-any.whl\", hash = \"sha256:3a66eb970cbac598f9e5ccb5b2cf58930cd8e3ed86d393d541eaf2d8b1705229\"},\n",
      "    {url = \"https://files.pythonhosted.org/packages/f4/8e/f91cffb32740b251cff04cad1e7cdd2c710582c735a01f56307316c148f2/pathspec-0.11.0.tar.gz\", hash = \"sha256:64d338d4e0914e91c1792321e6907b5a593f1ab1851de7fc269557a21b30ebbc\"},\n",
      "]\n",
      "\"platformdirs 3.0.0\" = [\n",
      "    {url = \"https://files.pythonhosted.org/packages/11/39/702094fc1434a4408783b071665d9f5d8a1d0ba4dddf9dadf3d50e6eb762/platformdirs-3.0.0.tar.gz\", hash = \"sha256:8a1228abb1ef82d788f74139988b137e78692984ec7b08eaa6c65f1723af28f9\"},\n",
      "    {url = \"https://files.pythonhosted.org/packages/ba/24/a83a900a90105f8ad3f20df5bb5a2cde886df7125c7827e196e4ed4fa8a7/platformdirs-3.0.0-py3-none-any.whl\", hash = \"sha256:b1d5eb14f221506f50d6604a561f4c5786d9e80355219694a1b244bcd96f4567\"},\n",
      "]\n"
     ]
    }
   ],
   "source": [
    "cat pdm.lock"
   ]
  },
  {
   "cell_type": "markdown",
   "id": "dac97a22",
   "metadata": {
    "slideshow": {
     "slide_type": "notes"
    }
   },
   "source": [
    "Many new packages now exist in the lockfile, not just `cowsay` and `black`.  This is because (unlike `cowsay`), `black` itself has dependencies that we needed to install to get it to work.  This lock file records exactly the versions of those sub-dependencies that we've now installed into our project virtual environment.\n",
    "\n",
    "When we run `pdm install`, if the lock file exists (and `pyproject.toml` hasn't been changed since the lockfile was last updated), PDM will install precisely the packages listed in the lockfile, so we'll always be working in the same virtual environment.  This is useful for developing and testing the code, so you should always include the lockfile in your project version control.\n",
    "\n",
    "However, we don't want to impose these restrictions on users of our library, or our project would rapidly become impossible to install due to other packages requiring different versions of the packages in the lockfile.  The only thing that we care about is that users have the right versions of the dependencies we directly use, which are listed in the `project.dependencies` array in `pyproject.toml`.  This is why `pip install` does not care about the existence of the lockfile."
   ]
  },
  {
   "cell_type": "markdown",
   "id": "ae13b721",
   "metadata": {
    "slideshow": {
     "slide_type": "subslide"
    }
   },
   "source": [
    "### Using black\n",
    "\n",
    "We can now run `black` within our environment.  Let's re-write our code with poor formatting (note the spacing around the `==`, `%`, and `+=` operators), and then run `black` on it:"
   ]
  },
  {
   "cell_type": "code",
   "execution_count": 30,
   "id": "e03a8e6a",
   "metadata": {
    "slideshow": {
     "slide_type": "skip"
    },
    "tags": [
     "remove-cell"
    ]
   },
   "outputs": [],
   "source": [
    "# This cell hidden in presentation and docs\n",
    "cat << \"EOF\" > src/eeskew_pwg_test_000/utils.py\n",
    "import cowsay\n",
    "\n",
    "def sarcasm(s):\n",
    "    \"\"\"Convert string `s` to sArCaSm TeXt.\"\"\"\n",
    "    out = ''\n",
    "    for i,c in enumerate(s):\n",
    "        if i% 2 ==0:\n",
    "            out +=c.lower()\n",
    "\n",
    "        else:\n",
    "            out+= c.upper()\n",
    "\n",
    "    return out\n",
    "\n",
    "def sarcastic_cowsay(s):\n",
    "    \"\"\"Cowsay `s`, sArCaStIcAlLy.\"\"\"\n",
    "    sarcastic_s = sarcasm(s)\n",
    "    cowsay.cow(sarcastic_s)\n",
    "EOF"
   ]
  },
  {
   "cell_type": "code",
   "execution_count": 31,
   "id": "162f249a",
   "metadata": {
    "slideshow": {
     "slide_type": "skip"
    },
    "tags": [
     "remove-cell"
    ]
   },
   "outputs": [
    {
     "name": "stdout",
     "output_type": "stream",
     "text": [
      "Previous HEAD position was c545db9 Add black to dev dependencies\n",
      "HEAD is now at b0ccee2 Use bad formatting in utils for black to fix\n"
     ]
    }
   ],
   "source": [
    "# checkpoint\n",
    "git add -A\n",
    "git checkout $(git rev-list --topo-order HEAD...main | tail -1)  # check out next commit"
   ]
  },
  {
   "cell_type": "code",
   "execution_count": 32,
   "id": "c176085d",
   "metadata": {
    "slideshow": {
     "slide_type": "fragment"
    },
    "tags": [
     "remove-input"
    ]
   },
   "outputs": [
    {
     "name": "stdout",
     "output_type": "stream",
     "text": [
      "\u001b[0m\u001b[1;36m────────────────────────────────────────────────────────────────────────────────\u001b[0m\n",
      "\u001b[1;36mmodified: src/eeskew_pwg_test_000/utils.py\n",
      "\u001b[1;36m────────────────────────────────────────────────────────────────────────────────\u001b[0m\n",
      "\u001b[1m\u001b[38;5;13m@ src/eeskew_pwg_test_000/utils.py:5 @\u001b[1m\u001b[1m\u001b[38;5;146m import cowsay\u001b[0m\n",
      "\n",
      "def sarcasm(s):\n",
      "    \"\"\"Convert string `s` to sArCaSm TeXt.\"\"\"\n",
      "\u001b[1m\u001b[38;5;1m    out = \u001b[7m\"\"\u001b[27m\u001b[0m\n",
      "\u001b[1m\u001b[38;5;1m    for i,\u001b[7m \u001b[27mc in enumerate(s):\u001b[0m\n",
      "\u001b[1m\u001b[38;5;1m        if i\u001b[7m % 2 == \u001b[27m0:\u001b[0m\n",
      "\u001b[1m\u001b[38;5;1m            out +=\u001b[7m \u001b[27mc.lower()\u001b[0m\n",
      "\u001b[1m\u001b[38;5;2m    out = \u001b[7m''\u001b[27m\u001b[0m\n",
      "\u001b[1m\u001b[38;5;2m    for i,\u001b[7m\u001b[27mc in enumerate(s):\u001b[0m\n",
      "\u001b[1m\u001b[38;5;2m        if i\u001b[7m% 2 ==\u001b[27m0:\u001b[0m\n",
      "\u001b[1m\u001b[38;5;2m            out +=\u001b[7m\u001b[27mc.lower()\u001b[0m\n",
      "\n",
      "        else:\n",
      "\u001b[1m\u001b[38;5;1m            out\u001b[7m \u001b[27m+= c.upper()\u001b[0m\n",
      "\u001b[1m\u001b[38;5;2m            out\u001b[7m\u001b[27m+= c.upper()\u001b[0m\n",
      "\n",
      "    return out\n",
      "\n"
     ]
    }
   ],
   "source": [
    "git diff HEAD~ src/eeskew_pwg_test_000/utils.py | ../../scripts/diff-so-fancy"
   ]
  },
  {
   "cell_type": "code",
   "execution_count": 33,
   "id": "b194d54f",
   "metadata": {
    "slideshow": {
     "slide_type": "fragment"
    }
   },
   "outputs": [
    {
     "name": "stdout",
     "output_type": "stream",
     "text": [
      "\u001b[1mreformatted /Users/Ed/python/eds-notes/repos/eeskew-pwg-test-000/src/eeskew_pwg_test_000/utils.py\u001b[0m\n",
      "\n",
      "\u001b[1mAll done! ✨ 🍰 ✨\u001b[0m\n",
      "\u001b[34m\u001b[1m1 file \u001b[0m\u001b[1mreformatted\u001b[0m, \u001b[34m1 file \u001b[0mleft unchanged.\n"
     ]
    }
   ],
   "source": [
    "pdm run black src/"
   ]
  },
  {
   "cell_type": "code",
   "execution_count": 34,
   "id": "ecbc73d8",
   "metadata": {
    "slideshow": {
     "slide_type": "skip"
    },
    "tags": [
     "remove-cell"
    ]
   },
   "outputs": [
    {
     "name": "stdout",
     "output_type": "stream",
     "text": [
      "Previous HEAD position was b0ccee2 Use bad formatting in utils for black to fix\n",
      "HEAD is now at be4114d Fix formatting with black\n"
     ]
    }
   ],
   "source": [
    "# checkpoint\n",
    "git add -A\n",
    "git checkout $(git rev-list --topo-order HEAD...main | tail -1)  # check out next commit"
   ]
  },
  {
   "cell_type": "markdown",
   "id": "02be91cc",
   "metadata": {
    "slideshow": {
     "slide_type": "subslide"
    }
   },
   "source": [
    "### What happened?"
   ]
  },
  {
   "cell_type": "code",
   "execution_count": 35,
   "id": "dd87a6ea",
   "metadata": {
    "slideshow": {
     "slide_type": "fragment"
    },
    "tags": [
     "remove-input"
    ]
   },
   "outputs": [
    {
     "name": "stdout",
     "output_type": "stream",
     "text": [
      "\u001b[0m\u001b[1;36m────────────────────────────────────────────────────────────────────────────────\u001b[0m\n",
      "\u001b[1;36mmodified: src/eeskew_pwg_test_000/utils.py\n",
      "\u001b[1;36m────────────────────────────────────────────────────────────────────────────────\u001b[0m\n",
      "\u001b[1m\u001b[38;5;13m@ src/eeskew_pwg_test_000/utils.py:4 @\u001b[1m\u001b[0m\n",
      "import cowsay\n",
      "\n",
      "\u001b[7m\u001b[7m \u001b[0m\n",
      "def sarcasm(s):\n",
      "    \"\"\"Convert string `s` to sArCaSm TeXt.\"\"\"\n",
      "\u001b[1m\u001b[38;5;1m    out = \u001b[7m''\u001b[27m\u001b[0m\n",
      "\u001b[1m\u001b[38;5;1m    for i,\u001b[7m\u001b[27mc in enumerate(s):\u001b[0m\n",
      "\u001b[1m\u001b[38;5;1m        if i\u001b[7m% 2 ==\u001b[27m0:\u001b[0m\n",
      "\u001b[1m\u001b[38;5;1m            out +=\u001b[7m\u001b[27mc.lower()\u001b[0m\n",
      "\u001b[1m\u001b[38;5;2m    out = \u001b[7m\"\"\u001b[27m\u001b[0m\n",
      "\u001b[1m\u001b[38;5;2m    for i,\u001b[7m \u001b[27mc in enumerate(s):\u001b[0m\n",
      "\u001b[1m\u001b[38;5;2m        if i\u001b[7m % 2 == \u001b[27m0:\u001b[0m\n",
      "\u001b[1m\u001b[38;5;2m            out +=\u001b[7m \u001b[27mc.lower()\u001b[0m\n",
      "\n",
      "        else:\n",
      "\u001b[1m\u001b[38;5;1m            out\u001b[7m\u001b[27m+= c.upper()\u001b[0m\n",
      "\u001b[1m\u001b[38;5;2m            out\u001b[7m \u001b[27m+= c.upper()\u001b[0m\n",
      "\n",
      "    return out\n",
      "\n",
      "\u001b[7m\u001b[7m \u001b[0m\n",
      "def sarcastic_cowsay(s):\n",
      "    \"\"\"Cowsay `s`, sArCaStIcAlLy.\"\"\"\n",
      "    sarcastic_s = sarcasm(s)\n"
     ]
    }
   ],
   "source": [
    "git diff HEAD~ src/eeskew_pwg_test_000/utils.py | ../../scripts/diff-so-fancy"
   ]
  },
  {
   "cell_type": "markdown",
   "id": "b56336a3",
   "metadata": {
    "slideshow": {
     "slide_type": "notes"
    }
   },
   "source": [
    "`black` has automatically re-formatted our code, fixing the poor formatting we introduced earlier."
   ]
  },
  {
   "cell_type": "markdown",
   "id": "a94007ef",
   "metadata": {
    "slideshow": {
     "slide_type": "skip"
    }
   },
   "source": [
    ":::{seealso}\n",
    "See the [black documentation](https://black.readthedocs.io/en/stable/) for more information.\n",
    ":::"
   ]
  },
  {
   "cell_type": "markdown",
   "id": "d5d46e4b",
   "metadata": {
    "slideshow": {
     "slide_type": "slide"
    }
   },
   "source": [
    "## Package version\n",
    "\n",
    "Right now, the package version (`\"0.1.0\"`) is stored in the `pyproject.toml` file (in the `project.version` keyword).  The best practice is to place this in a `__version__.py` file, and have that be the single source of truth for our package version.\n",
    "\n",
    "Create a `__version__.py` file in `src/eeskew_pwg_test_000`, and add the `__version__` variable to it.  The new file should look like:"
   ]
  },
  {
   "cell_type": "code",
   "execution_count": 36,
   "id": "bfd0decf",
   "metadata": {
    "slideshow": {
     "slide_type": "skip"
    },
    "tags": [
     "remove-cell"
    ]
   },
   "outputs": [],
   "source": [
    "# This cell hidden in presentation and docs\n",
    "echo '__version__ = \"0.1.0\"' > src/eeskew_pwg_test_000/__version__.py"
   ]
  },
  {
   "cell_type": "code",
   "execution_count": 37,
   "id": "c7a9213f",
   "metadata": {
    "slideshow": {
     "slide_type": "fragment"
    }
   },
   "outputs": [
    {
     "name": "stdout",
     "output_type": "stream",
     "text": [
      "__version__ = \"0.1.0\"\n"
     ]
    }
   ],
   "source": [
    "cat src/eeskew_pwg_test_000/__version__.py"
   ]
  },
  {
   "cell_type": "markdown",
   "id": "bc262765",
   "metadata": {
    "slideshow": {
     "slide_type": "subslide"
    }
   },
   "source": [
    "Now modify the `pyproject.toml` file so that the version is [dynamic metadata](https://packaging.python.org/en/latest/specifications/declaring-project-metadata/#dynamic):"
   ]
  },
  {
   "cell_type": "code",
   "execution_count": 38,
   "id": "7bdb9f4d",
   "metadata": {
    "slideshow": {
     "slide_type": "skip"
    },
    "tags": [
     "remove-cell"
    ]
   },
   "outputs": [],
   "source": [
    "# This cell hidden in presentation and docs\n",
    "cat << EOF > pyproject.toml\n",
    "[tool.pdm]\n",
    "version = { source = \"file\", path = \"src/eeskew_pwg_test_000/__version__.py\" }\n",
    "\n",
    "[tool.pdm.dev-dependencies]\n",
    "dev = [\n",
    "    \"black>=23.1.0\",\n",
    "]\n",
    "\n",
    "[project]\n",
    "name = \"eeskew-pwg-test-000\"\n",
    "description = \"A test project for presentation to the WSU Python Working Group.\"\n",
    "authors = [\n",
    "    {name = \"Edward Eskew\", email = \"edward.eskew@wsu.edu\"},\n",
    "]\n",
    "dependencies = [\n",
    "    \"cowsay>=5.0\",\n",
    "]\n",
    "requires-python = \">=3.11\"\n",
    "readme = \"README.md\"\n",
    "license = {text = \"MIT\"}\n",
    "dynamic = [\"version\"]\n",
    "\n",
    "[build-system]\n",
    "requires = [\"pdm-pep517>=1.0\"]\n",
    "build-backend = \"pdm.pep517.api\"\n",
    "EOF"
   ]
  },
  {
   "cell_type": "code",
   "execution_count": 39,
   "id": "fd291ae1",
   "metadata": {
    "slideshow": {
     "slide_type": "skip"
    },
    "tags": [
     "remove-cell"
    ]
   },
   "outputs": [
    {
     "name": "stdout",
     "output_type": "stream",
     "text": [
      "Previous HEAD position was be4114d Fix formatting with black\n",
      "HEAD is now at cc5aee4 Use dynamic versioning in pyproject.toml\n"
     ]
    }
   ],
   "source": [
    "# checkpoint\n",
    "git add -A\n",
    "git checkout $(git rev-list --topo-order HEAD...main | tail -1)  # check out next commit"
   ]
  },
  {
   "cell_type": "code",
   "execution_count": 40,
   "id": "132751f3",
   "metadata": {
    "slideshow": {
     "slide_type": "fragment"
    },
    "tags": [
     "remove-input"
    ]
   },
   "outputs": [
    {
     "name": "stdout",
     "output_type": "stream",
     "text": [
      "\u001b[0m\u001b[1;36m────────────────────────────────────────────────────────────────────────────────\u001b[0m\n",
      "\u001b[1;36mmodified: pyproject.toml\n",
      "\u001b[1;36m────────────────────────────────────────────────────────────────────────────────\u001b[0m\n",
      "\u001b[1m\u001b[38;5;13m@ pyproject.toml:3 @\u001b[1m\u001b[0m\n",
      "[tool.pdm]\n",
      "\u001b[1m\u001b[38;5;2mversion = { source = \"file\", path = \"src/eeskew_pwg_test_000/__version__.py\" }\u001b[0m\n",
      "\u001b[7m\u001b[7m \u001b[0m\n",
      "[tool.pdm.dev-dependencies]\n",
      "dev = [\n",
      "    \"black>=23.1.0\",\n",
      "\u001b[1m\u001b[38;5;13m@ pyproject.toml:11 @\u001b[1m\u001b[1m\u001b[38;5;146m dev = [\u001b[0m\n",
      "\n",
      "[project]\n",
      "name = \"eeskew-pwg-test-000\"\n",
      "\u001b[1m\u001b[38;5;1mversion = \"0.1.0\"\u001b[0m\n",
      "description = \"A test project for presentation to the WSU Python Working Group.\"\n",
      "authors = [\n",
      "    {name = \"Edward Eskew\", email = \"edward.eskew@wsu.edu\"},\n",
      "\u001b[1m\u001b[38;5;13m@ pyproject.toml:21 @\u001b[1m\u001b[1m\u001b[38;5;146m dependencies = [\u001b[0m\n",
      "requires-python = \">=3.11\"\n",
      "readme = \"README.md\"\n",
      "license = {text = \"MIT\"}\n",
      "\u001b[1m\u001b[38;5;2mdynamic = [\"version\"]\u001b[0m\n",
      "\n",
      "[build-system]\n",
      "requires = [\"pdm-pep517>=1.0\"]\n"
     ]
    }
   ],
   "source": [
    "git diff HEAD~ pyproject.toml | ../../scripts/diff-so-fancy"
   ]
  },
  {
   "cell_type": "markdown",
   "id": "6bb5bbfb",
   "metadata": {
    "slideshow": {
     "slide_type": "fragment"
    }
   },
   "source": [
    "Note the new `project.dynamic` array, the new `tool.pdm.version` table, and that the `project.version` key is gone.\n",
    "\n",
    "We can check our current version like so:"
   ]
  },
  {
   "cell_type": "code",
   "execution_count": 41,
   "id": "d49331be",
   "metadata": {
    "slideshow": {
     "slide_type": "fragment"
    }
   },
   "outputs": [
    {
     "name": "stdout",
     "output_type": "stream",
     "text": [
      "0.1.0\n"
     ]
    }
   ],
   "source": [
    "pdm show --version"
   ]
  },
  {
   "cell_type": "markdown",
   "id": "1d8cf980",
   "metadata": {
    "slideshow": {
     "slide_type": "subslide"
    }
   },
   "source": [
    "We should also add the `__version__` variable to our `__init__.py`:"
   ]
  },
  {
   "cell_type": "code",
   "execution_count": 42,
   "id": "c5c11d68",
   "metadata": {
    "slideshow": {
     "slide_type": "skip"
    },
    "tags": [
     "remove-cell"
    ]
   },
   "outputs": [],
   "source": [
    "# This cell hidden in presentation and docs\n",
    "echo 'from eeskew_pwg_test_000.__version__ import __version__' > src/eeskew_pwg_test_000/__init__.py"
   ]
  },
  {
   "cell_type": "code",
   "execution_count": 43,
   "id": "176c51c5",
   "metadata": {
    "slideshow": {
     "slide_type": "skip"
    },
    "tags": [
     "remove-cell"
    ]
   },
   "outputs": [
    {
     "name": "stdout",
     "output_type": "stream",
     "text": [
      "Previous HEAD position was cc5aee4 Use dynamic versioning in pyproject.toml\n",
      "HEAD is now at 32aec80 Add __version__ to __init__\n"
     ]
    }
   ],
   "source": [
    "# checkpoint\n",
    "git add -A\n",
    "git checkout $(git rev-list --topo-order HEAD...main | tail -1)  # check out next commit"
   ]
  },
  {
   "cell_type": "code",
   "execution_count": 44,
   "id": "d23d92c4",
   "metadata": {
    "slideshow": {
     "slide_type": "fragment"
    },
    "tags": [
     "remove-input"
    ]
   },
   "outputs": [
    {
     "name": "stdout",
     "output_type": "stream",
     "text": [
      "\u001b[0m\u001b[1;36m────────────────────────────────────────────────────────────────────────────────\u001b[0m\n",
      "\u001b[1;36mmodified: src/eeskew_pwg_test_000/__init__.py\n",
      "\u001b[1;36m────────────────────────────────────────────────────────────────────────────────\u001b[0m\n",
      "\u001b[1m\u001b[38;5;13m@ src/eeskew_pwg_test_000/__init__.py:1 @\u001b[1m\u001b[0m\n",
      "\u001b[1m\u001b[38;5;2mfrom eeskew_pwg_test_000.__version__ import __version__\u001b[0m\n"
     ]
    }
   ],
   "source": [
    "git diff HEAD~ src/eeskew_pwg_test_000/__init__.py | ../../scripts/diff-so-fancy"
   ]
  },
  {
   "cell_type": "markdown",
   "id": "5008d7ba",
   "metadata": {
    "slideshow": {
     "slide_type": "fragment"
    }
   },
   "source": [
    "This allows us to check the version from python in the conventional way:"
   ]
  },
  {
   "cell_type": "code",
   "execution_count": 45,
   "id": "1e6ab729",
   "metadata": {
    "slideshow": {
     "slide_type": "fragment"
    }
   },
   "outputs": [
    {
     "name": "stdout",
     "output_type": "stream",
     "text": [
      "0.1.0\n"
     ]
    }
   ],
   "source": [
    "pdm run python -c \"import eeskew_pwg_test_000; print(eeskew_pwg_test_000.__version__)\""
   ]
  },
  {
   "cell_type": "markdown",
   "id": "56543d6d",
   "metadata": {
    "slideshow": {
     "slide_type": "slide"
    }
   },
   "source": [
    "## Packaging the project\n",
    "\n",
    "Let's review the project as it exists so far:"
   ]
  },
  {
   "cell_type": "code",
   "execution_count": 46,
   "id": "1a93d45b",
   "metadata": {
    "slideshow": {
     "slide_type": "fragment"
    }
   },
   "outputs": [
    {
     "name": "stdout",
     "output_type": "stream",
     "text": [
      ".\n",
      "├── README.md\n",
      "├── pdm.lock\n",
      "├── pyproject.toml\n",
      "└── src\n",
      "    └── eeskew_pwg_test_000\n",
      "        ├── __init__.py\n",
      "        ├── __pycache__\n",
      "        │   ├── __init__.cpython-311.pyc\n",
      "        │   ├── __version__.cpython-311.pyc\n",
      "        │   └── utils.cpython-311.pyc\n",
      "        ├── __version__.py\n",
      "        └── utils.py\n",
      "\n",
      "3 directories, 9 files\n"
     ]
    }
   ],
   "source": [
    "tree"
   ]
  },
  {
   "cell_type": "markdown",
   "id": "0479084b",
   "metadata": {
    "slideshow": {
     "slide_type": "subslide"
    }
   },
   "source": [
    "To create a [sdist](https://packaging.python.org/en/latest/specifications/source-distribution-format/) and [wheel](https://packaging.python.org/en/latest/specifications/binary-distribution-format/):"
   ]
  },
  {
   "cell_type": "code",
   "execution_count": 47,
   "id": "e9fc0342",
   "metadata": {
    "slideshow": {
     "slide_type": "fragment"
    }
   },
   "outputs": [
    {
     "name": "stdout",
     "output_type": "stream",
     "text": [
      "Building sdist...\n",
      "Built sdist at \n",
      "/Users/Ed/python/eds-notes/repos/eeskew-pwg-test-000/dist/eeskew-pwg-test-000-0.\n",
      "1.0.tar.gz\n",
      "Building wheel...\n",
      "Built wheel at \n",
      "/Users/Ed/python/eds-notes/repos/eeskew-pwg-test-000/dist/eeskew_pwg_test_000-0.\n",
      "1.0-py3-none-any.whl\n"
     ]
    }
   ],
   "source": [
    "pdm build"
   ]
  },
  {
   "cell_type": "markdown",
   "id": "889e5105",
   "metadata": {
    "slideshow": {
     "slide_type": "slide"
    }
   },
   "source": [
    "### What happened?\n",
    "\n",
    "We've created a new directory named `dist`, where these two distribution formats have been placed."
   ]
  },
  {
   "cell_type": "code",
   "execution_count": 48,
   "id": "ae628cb2",
   "metadata": {
    "slideshow": {
     "slide_type": "fragment"
    }
   },
   "outputs": [
    {
     "name": "stdout",
     "output_type": "stream",
     "text": [
      ".\n",
      "├── README.md\n",
      "├── build\n",
      "├── dist\n",
      "│   ├── eeskew-pwg-test-000-0.1.0.tar.gz\n",
      "│   └── eeskew_pwg_test_000-0.1.0-py3-none-any.whl\n",
      "├── pdm.lock\n",
      "├── pyproject.toml\n",
      "└── src\n",
      "    └── eeskew_pwg_test_000\n",
      "        ├── __init__.py\n",
      "        ├── __pycache__\n",
      "        │   ├── __init__.cpython-311.pyc\n",
      "        │   ├── __version__.cpython-311.pyc\n",
      "        │   └── utils.cpython-311.pyc\n",
      "        ├── __version__.py\n",
      "        └── utils.py\n",
      "\n",
      "5 directories, 11 files\n"
     ]
    }
   ],
   "source": [
    "tree"
   ]
  },
  {
   "cell_type": "markdown",
   "id": "9ccf3ba2",
   "metadata": {
    "slideshow": {
     "slide_type": "fragment"
    }
   },
   "source": [
    "We could install this project into a different python environment with `python -m pip install dist/eeskew-pwg-test-000-0.1.0.tar.gz` or `python -m pip install dist/eeskew_pwg_test_000-0.1.0-py3-none-any.whl` (the latter is faster)."
   ]
  },
  {
   "cell_type": "markdown",
   "id": "665d0c77",
   "metadata": {
    "slideshow": {
     "slide_type": "slide"
    }
   },
   "source": [
    "## Publishing the project\n",
    "\n",
    "Now we'll publish the project on (Test)PyPI."
   ]
  },
  {
   "cell_type": "markdown",
   "id": "7797d0c5",
   "metadata": {
    "slideshow": {
     "slide_type": "skip"
    }
   },
   "source": [
    ":::{note}\n",
    "To publish on the actual index (PyPI, not TestPyPI), simply replace `testpypi` with `pypi` in the instructions that follow.  Try not to pollute PyPI with throwaway projects!\n",
    ":::"
   ]
  },
  {
   "cell_type": "markdown",
   "id": "e692cdd2",
   "metadata": {
    "slideshow": {
     "slide_type": "fragment"
    }
   },
   "source": [
    "### Setting up PyPI credentials\n",
    "\n",
    "0. First, make an account on [TestPyPI](https://test.pypi.org).\n",
    "1. Navigate to your account settings, scroll down to \"API tokens\", and click \"Add API token\"\n",
    "2. Give the token a descriptive name, set the scope to \"Entire account (all projects)\", and click \"Add token\".\n",
    "3. Copy the token that appears - heeding the warning that it will appear only once!\n",
    "4. Now we'll configure PDM with these credentials (replacing `<PASTE_YOUR_TOKEN_HERE>` with the token you've just copied):\n",
    "\n",
    "```bash\n",
    "pdm config repository.testpypi.username \"__token__\"\n",
    "pdm config repository.testpypi.password \"<PASTE_YOUR_TOKEN_HERE>\"\n",
    "```"
   ]
  },
  {
   "cell_type": "markdown",
   "id": "0cd245d6",
   "metadata": {
    "slideshow": {
     "slide_type": "subslide"
    }
   },
   "source": [
    "### Setting up a test-publish PDM script\n",
    "\n",
    "To publish on PyPI, we could now simply run:\n",
    "\n",
    "```bash\n",
    "pdm publish -r testpypi\n",
    "```\n",
    "\n",
    "Note that you do not need to run `pdm build` first - PDM will build the distribution as part of `publish` anyway."
   ]
  },
  {
   "cell_type": "markdown",
   "id": "04a5c507",
   "metadata": {
    "slideshow": {
     "slide_type": "fragment"
    }
   },
   "source": [
    "However, TestPyPI won't let you overwrite an existing version of your package, so we have to bump our version every time we want to do this.  Let's set up a PDM script to automate that."
   ]
  },
  {
   "cell_type": "markdown",
   "id": "a51b0708",
   "metadata": {
    "slideshow": {
     "slide_type": "skip"
    }
   },
   "source": [
    ":::{attention}\n",
    "If you are publishing on PyPI (*not* TestPyPI), you probably don't want to use this script.  Publishing will be as simple as running `pdm bump {version}` to increment your package version number (for example, `pdm bump patch`), and then publishing with `pdm publish` (equivalent to `pdm publish -r pypyi`).\n",
    ":::"
   ]
  },
  {
   "cell_type": "markdown",
   "id": "375fd661",
   "metadata": {
    "slideshow": {
     "slide_type": "fragment"
    }
   },
   "source": [
    "First, ensure you have the [pdm-bump](https://github.com/carstencodes/pdm-bump) plugin installed.\n",
    "\n",
    "We add a new PDM script in the `tool.pdm.scripts` table of `pyproject.toml`:"
   ]
  },
  {
   "cell_type": "code",
   "execution_count": 49,
   "id": "1e2176f3",
   "metadata": {
    "slideshow": {
     "slide_type": "skip"
    },
    "tags": [
     "remove-cell"
    ]
   },
   "outputs": [],
   "source": [
    "# This cell hidden in presentation and docs\n",
    "cat << \"EOF\" > pyproject.toml\n",
    "[tool.pdm]\n",
    "version = { source = \"file\", path = \"src/eeskew_pwg_test_000/__version__.py\" }\n",
    "\n",
    "[tool.pdm.scripts]\n",
    "test-publish.shell = '''\\\n",
    "VERSION=$(pdm show --version)\n",
    "pdm bump patch > /dev/null\n",
    "DEV_VERSION=$(pdm show --version).dev$(date +%s)\n",
    "echo \"__version__ = \\\"$DEV_VERSION\\\"\" > src/eeskew_pwg_test_000/__version__.py\n",
    "pdm publish -r testpypi\n",
    "echo \"__version__ = \\\"$VERSION\\\"\" > src/eeskew_pwg_test_000/__version__.py\n",
    "'''\n",
    "\n",
    "[tool.pdm.dev-dependencies]\n",
    "dev = [\n",
    "    \"black>=23.1.0\",\n",
    "]\n",
    "\n",
    "[project]\n",
    "name = \"eeskew-pwg-test-000\"\n",
    "description = \"A test project for presentation to the WSU Python Working Group.\"\n",
    "authors = [\n",
    "    {name = \"Edward Eskew\", email = \"edward.eskew@wsu.edu\"},\n",
    "]\n",
    "dependencies = [\n",
    "    \"cowsay>=5.0\",\n",
    "]\n",
    "requires-python = \">=3.11\"\n",
    "readme = \"README.md\"\n",
    "license = {text = \"MIT\"}\n",
    "dynamic = [\"version\"]\n",
    "\n",
    "[build-system]\n",
    "requires = [\"pdm-pep517>=1.0\"]\n",
    "build-backend = \"pdm.pep517.api\"\n",
    "EOF"
   ]
  },
  {
   "cell_type": "code",
   "execution_count": 50,
   "id": "0e262b14",
   "metadata": {
    "slideshow": {
     "slide_type": "skip"
    },
    "tags": [
     "remove-cell"
    ]
   },
   "outputs": [
    {
     "name": "stdout",
     "output_type": "stream",
     "text": [
      "Previous HEAD position was 32aec80 Add __version__ to __init__\n",
      "HEAD is now at a164016 Add test-publish PDM script\n"
     ]
    }
   ],
   "source": [
    "# checkpoint\n",
    "git add -A\n",
    "git checkout $(git rev-list --topo-order HEAD...main | tail -1)  # check out next commit"
   ]
  },
  {
   "cell_type": "code",
   "execution_count": 51,
   "id": "8dccf904",
   "metadata": {
    "slideshow": {
     "slide_type": "subslide"
    },
    "tags": [
     "remove-input"
    ]
   },
   "outputs": [
    {
     "name": "stdout",
     "output_type": "stream",
     "text": [
      "\u001b[0m\u001b[1;36m────────────────────────────────────────────────────────────────────────────────\u001b[0m\n",
      "\u001b[1;36mmodified: pyproject.toml\n",
      "\u001b[1;36m────────────────────────────────────────────────────────────────────────────────\u001b[0m\n",
      "\u001b[1m\u001b[38;5;13m@ pyproject.toml:4 @\u001b[1m\u001b[0m\n",
      "[tool.pdm]\n",
      "version = { source = \"file\", path = \"src/eeskew_pwg_test_000/__version__.py\" }\n",
      "\n",
      "\u001b[1m\u001b[38;5;2m[tool.pdm.scripts]\u001b[0m\n",
      "\u001b[1m\u001b[38;5;2mtest-publish.shell = '''\\\u001b[0m\n",
      "\u001b[1m\u001b[38;5;2mVERSION=$(pdm show --version)\u001b[0m\n",
      "\u001b[1m\u001b[38;5;2mpdm bump patch > /dev/null\u001b[0m\n",
      "\u001b[1m\u001b[38;5;2mDEV_VERSION=$(pdm show --version).dev$(date +%s)\u001b[0m\n",
      "\u001b[1m\u001b[38;5;2mecho \"__version__ = \\\"$DEV_VERSION\\\"\" > src/eeskew_pwg_test_000/__version__.py\u001b[0m\n",
      "\u001b[1m\u001b[38;5;2mpdm publish -r testpypi\u001b[0m\n",
      "\u001b[1m\u001b[38;5;2mecho \"__version__ = \\\"$VERSION\\\"\" > src/eeskew_pwg_test_000/__version__.py\u001b[0m\n",
      "\u001b[1m\u001b[38;5;2m'''\u001b[0m\n",
      "\u001b[7m\u001b[7m \u001b[0m\n",
      "[tool.pdm.dev-dependencies]\n",
      "dev = [\n",
      "    \"black>=23.1.0\",\n"
     ]
    }
   ],
   "source": [
    "git diff HEAD~ pyproject.toml | ../../scripts/diff-so-fancy"
   ]
  },
  {
   "cell_type": "markdown",
   "id": "125e1144",
   "metadata": {
    "slideshow": {
     "slide_type": "subslide"
    }
   },
   "source": [
    "When we run `pdm run test-publish`, this script:\n",
    "1. Gets the current version with `pdm show --version`\n",
    "2. Changes the package version to a patch bump of that version with `.dev{date in seconds}` appended.  This is a [developmental release](https://peps.python.org/pep-0440/#developmental-releases) format.\n",
    "3. Publishes the package on TestPyPI\n",
    "4. Returns the package version to its original value\n",
    "\n",
    "Let's run it!"
   ]
  },
  {
   "cell_type": "code",
   "execution_count": 52,
   "id": "4923273a",
   "metadata": {
    "slideshow": {
     "slide_type": "fragment"
    }
   },
   "outputs": [
    {
     "name": "stdout",
     "output_type": "stream",
     "text": [
      "Building sdist...\n",
      "Built sdist at \n",
      "/Users/Ed/python/eds-notes/repos/eeskew-pwg-test-000/dist/eeskew-pwg-test-000-0.\n",
      "1.1.dev1677485299.tar.gz\n",
      "Building wheel...\n",
      "Built wheel at \n",
      "/Users/Ed/python/eds-notes/repos/eeskew-pwg-test-000/dist/eeskew_pwg_test_000-0.\n",
      "1.1.dev1677485299-py3-none-any.whl\n",
      "\u001b[2KUploading \u001b[32meeskew_pwg_test_000-0.1.1.dev1677485299-py3-none-any.whl\u001b[0m\n",
      "\u001b[2KUploading \u001b[32meeskew-pwg-test-000-0.1.1.dev1677485299.tar.gz\u001b[0m━━━━━━━━\u001b[0m \u001b[32m4.7/4.7 kB\u001b[0m • \u001b[33m00:00\u001b[0m • \u001b[31m?\u001b[0m\n",
      "\u001b[2K \u001b[35m100%\u001b[0m \u001b[38;2;114;156;31m━━━━━━━━━━━━━━━━━━━━━━━━━━━━━━━━━━━━━━━━\u001b[0m \u001b[32m4.7/4.7 kB\u001b[0m • \u001b[33m00:00\u001b[0m • \u001b[31m?\u001b[0m\n",
      "\u001b[2K\u001b[1A\u001b[2K \u001b[35m100%\u001b[0m \u001b[38;2;114;156;31m━━━━━━━━━━━━━━━━━━━━━━━━━━━━━━━━━━━━━━━━\u001b[0m \u001b[32m4.7/4.7 kB\u001b[0m • \u001b[33m00:00\u001b[0m • \u001b[31m?\u001b[0m\n",
      "\u001b[2K\u001b[1A\u001b[2K \u001b[35m100%\u001b[0m \u001b[38;2;114;156;31m━━━━━━━━━━━━━━━━━━━━━━━━━━━━━━━━━━━━━━━━\u001b[0m \u001b[32m4.7/4.7 kB\u001b[0m • \u001b[33m00:00\u001b[0m • \u001b[31m?\u001b[0m\n",
      "\u001b[2K\u001b[1A\u001b[2K \u001b[35m100%\u001b[0m \u001b[38;2;114;156;31m━━━━━━━━━━━━━━━━━━━━━━━━━━━━━━━━━━━━━━━━\u001b[0m \u001b[32m4.7/4.7 kB\u001b[0m • \u001b[33m00:00\u001b[0m • \u001b[31m?\u001b[0m\n",
      "\u001b[2K\u001b[1A\u001b[2K \u001b[35m100%\u001b[0m \u001b[38;2;114;156;31m━━━━━━━━━━━━━━━━━━━━━━━━━━━━━━━━━━━━━━━━\u001b[0m \u001b[32m4.7/4.7 kB\u001b[0m • \u001b[33m00:00\u001b[0m • \u001b[31m?\u001b[0m\n",
      "\u001b[2K\u001b[1A\u001b[2K \u001b[35m100%\u001b[0m \u001b[38;2;114;156;31m━━━━━━━━━━━━━━━━━━━━━━━━━━━━━━━━━━━━━━━━\u001b[0m \u001b[32m4.7/4.7 kB\u001b[0m • \u001b[33m00:00\u001b[0m • \u001b[31m?\u001b[0m\n",
      "\u001b[2K\u001b[1A\u001b[2K \u001b[35m100%\u001b[0m \u001b[38;2;114;156;31m━━━━━━━━━━━━━━━━━━━━━━━━━━━━━━━━━━━━━━━━\u001b[0m \u001b[32m4.7/4.7 kB\u001b[0m • \u001b[33m00:00\u001b[0m • \u001b[31m?\u001b[0m\n",
      "\u001b[2K\u001b[1A\u001b[2K \u001b[35m100%\u001b[0m \u001b[38;2;114;156;31m━━━━━━━━━━━━━━━━━━━━━━━━━━━━━━━━━━━━━━━━\u001b[0m \u001b[32m4.7/4.7 kB\u001b[0m • \u001b[33m00:00\u001b[0m • \u001b[31m?\u001b[0m\n",
      "\u001b[2K\u001b[1A\u001b[2K \u001b[35m100%\u001b[0m \u001b[38;2;114;156;31m━━━━━━━━━━━━━━━━━━━━━━━━━━━━━━━━━━━━━━━━\u001b[0m \u001b[32m4.7/4.7 kB\u001b[0m • \u001b[33m00:00\u001b[0m • \u001b[31m?\u001b[0m\n",
      "\u001b[2K\u001b[1A\u001b[2K \u001b[35m100%\u001b[0m \u001b[38;2;114;156;31m━━━━━━━━━━━━━━━━━━━━━━━━━━━━━━━━━━━━━━━━\u001b[0m \u001b[32m4.7/4.7 kB\u001b[0m • \u001b[33m00:00\u001b[0m • \u001b[31m?\u001b[0m\n",
      "\u001b[2K\u001b[1A\u001b[2K \u001b[35m100%\u001b[0m \u001b[38;2;114;156;31m━━━━━━━━━━━━━━━━━━━━━━━━━━━━━━━━━━━━━━━━\u001b[0m \u001b[32m4.7/4.7 kB\u001b[0m • \u001b[33m00:00\u001b[0m • \u001b[31m?\u001b[0m\n",
      "\u001b[2K\u001b[1A\u001b[2K \u001b[35m100%\u001b[0m \u001b[38;2;114;156;31m━━━━━━━━━━━━━━━━━━━━━━━━━━━━━━━━━━━━━━━━\u001b[0m \u001b[32m4.7/4.7 kB\u001b[0m • \u001b[33m00:00\u001b[0m • \u001b[31m?\u001b[0m\n",
      "\u001b[2K\u001b[1A\u001b[2K \u001b[35m100%\u001b[0m \u001b[38;2;114;156;31m━━━━━━━━━━━━━━━━━━━━━━━━━━━━━━━━━━━━━━━━\u001b[0m \u001b[32m4.7/4.7 kB\u001b[0m • \u001b[33m00:00\u001b[0m • \u001b[31m?\u001b[0m\n",
      "\u001b[2K\u001b[1A\u001b[2K \u001b[35m100%\u001b[0m \u001b[38;2;114;156;31m━━━━━━━━━━━━━━━━━━━━━━━━━━━━━━━━━━━━━━━━\u001b[0m \u001b[32m4.7/4.7 kB\u001b[0m • \u001b[33m00:00\u001b[0m • \u001b[31m?\u001b[0m\n",
      "\u001b[2K\u001b[1A\u001b[2K \u001b[35m100%\u001b[0m \u001b[38;2;114;156;31m━━━━━━━━━━━━━━━━━━━━━━━━━━━━━━━━━━━━━━━━\u001b[0m \u001b[32m4.7/4.7 kB\u001b[0m • \u001b[33m00:00\u001b[0m • \u001b[31m?\u001b[0m\n",
      "\u001b[2K\u001b[1A\u001b[2K \u001b[35m100%\u001b[0m \u001b[38;2;114;156;31m━━━━━━━━━━━━━━━━━━━━━━━━━━━━━━━━━━━━━━━━\u001b[0m \u001b[32m4.7/4.7 kB\u001b[0m • \u001b[33m00:00\u001b[0m • \u001b[31m?\u001b[0m\n",
      "\u001b[2K\u001b[1A\u001b[2K \u001b[35m100%\u001b[0m \u001b[38;2;114;156;31m━━━━━━━━━━━━━━━━━━━━━━━━━━━━━━━━━━━━━━━━\u001b[0m \u001b[32m4.7/4.7 kB\u001b[0m • \u001b[33m00:00\u001b[0m • \u001b[31m?\u001b[0m\n",
      "\u001b[2K\u001b[1A\u001b[2K \u001b[35m100%\u001b[0m \u001b[38;2;114;156;31m━━━━━━━━━━━━━━━━━━━━━━━━━━━━━━━━━━━━━━━━\u001b[0m \u001b[32m4.7/4.7 kB\u001b[0m • \u001b[33m00:00\u001b[0m • \u001b[31m?\u001b[0m\n",
      "\u001b[2K\u001b[1A\u001b[2K \u001b[35m100%\u001b[0m \u001b[38;2;114;156;31m━━━━━━━━━━━━━━━━━━━━━━━━━━━━━━━━━━━━━━━━\u001b[0m \u001b[32m4.7/4.7 kB\u001b[0m • \u001b[33m00:00\u001b[0m • \u001b[31m?\u001b[0m\n",
      "\u001b[2K\u001b[1A\u001b[2K \u001b[35m100%\u001b[0m \u001b[38;2;114;156;31m━━━━━━━━━━━━━━━━━━━━━━━━━━━━━━━━━━━━━━━━\u001b[0m \u001b[32m4.7/4.7 kB\u001b[0m • \u001b[33m00:00\u001b[0m • \u001b[31m?\u001b[0m\n",
      " \u001b[35m100%\u001b[0m \u001b[38;2;114;156;31m━━━━━━━━━━━━━━━━━━━━━━━━━━━━━━━━━━━━━━━━\u001b[0m \u001b[32m4.0/4.0 kB\u001b[0m • \u001b[33m00:00\u001b[0m • \u001b[31m?\u001b[0m\n",
      "\u001b[?25h\n",
      "\u001b[32mView at:\u001b[0m\n",
      "https://test.pypi.org/project/eeskew-pwg-test-000/0.1.1.dev1677485299/\n"
     ]
    }
   ],
   "source": [
    "pdm run test-publish"
   ]
  },
  {
   "cell_type": "markdown",
   "id": "67c4bb82",
   "metadata": {
    "slideshow": {
     "slide_type": "slide"
    }
   },
   "source": [
    "## Other project metadata\n",
    "\n",
    "There is quite a bit of project metadata we can specify in `pyproject.toml` - here are some other examples."
   ]
  },
  {
   "cell_type": "markdown",
   "id": "ff7ac0d7",
   "metadata": {
    "slideshow": {
     "slide_type": "skip"
    }
   },
   "source": [
    ":::{seealso}\n",
    "See the [PyPA specification](https://packaging.python.org/en/latest/specifications/declaring-project-metadata/) for a complete list of possible metadata keys.\n",
    ":::"
   ]
  },
  {
   "cell_type": "markdown",
   "id": "85fbaf1a",
   "metadata": {
    "slideshow": {
     "slide_type": "subslide"
    }
   },
   "source": [
    "### Add an entry point to the package"
   ]
  },
  {
   "cell_type": "markdown",
   "id": "423db5d1",
   "metadata": {
    "slideshow": {
     "slide_type": "notes"
    }
   },
   "source": [
    "If we're developing a command-line application, we want our users to be able to run the application with a single command, not something like `python path_to_script/script.py`.  We can enable this by adding an [entry point](https://packaging.python.org/en/latest/specifications/declaring-project-metadata/#entry-points) to `pyproject.toml`."
   ]
  },
  {
   "cell_type": "markdown",
   "id": "02946778",
   "metadata": {
    "slideshow": {
     "slide_type": "fragment"
    }
   },
   "source": [
    "First, add a new module and new function:"
   ]
  },
  {
   "cell_type": "code",
   "execution_count": 53,
   "id": "0df89086",
   "metadata": {
    "slideshow": {
     "slide_type": "skip"
    },
    "tags": [
     "remove-cell"
    ]
   },
   "outputs": [],
   "source": [
    "# This cell hidden in presentation and docs\n",
    "cat << \"EOF\" > src/eeskew_pwg_test_000/cli.py\n",
    "import argparse\n",
    "\n",
    "from eeskew_pwg_test_000.utils import sarcastic_cowsay\n",
    "\n",
    "def main():\n",
    "    \"\"\"Cowsay something sarcastically from the command line.\"\"\"\n",
    "    parser = argparse.ArgumentParser()\n",
    "    parser.add_argument(\"speech\")\n",
    "    args = parser.parse_args()\n",
    "    \n",
    "    s = args.speech\n",
    "    sarcastic_cowsay(s)\n",
    "EOF"
   ]
  },
  {
   "cell_type": "code",
   "execution_count": 54,
   "id": "51b0b3c9",
   "metadata": {
    "slideshow": {
     "slide_type": "skip"
    },
    "tags": [
     "remove-cell"
    ]
   },
   "outputs": [
    {
     "name": "stdout",
     "output_type": "stream",
     "text": [
      "Previous HEAD position was a164016 Add test-publish PDM script\n",
      "HEAD is now at 16a7c4f Add cli.py\n"
     ]
    }
   ],
   "source": [
    "# checkpoint\n",
    "git add -A\n",
    "git checkout $(git rev-list --topo-order HEAD...main | tail -1)  # check out next commit"
   ]
  },
  {
   "cell_type": "code",
   "execution_count": 55,
   "id": "52c02e6d",
   "metadata": {
    "slideshow": {
     "slide_type": "fragment"
    }
   },
   "outputs": [
    {
     "name": "stdout",
     "output_type": "stream",
     "text": [
      "import argparse\n",
      "\n",
      "from eeskew_pwg_test_000.utils import sarcastic_cowsay\n",
      "\n",
      "def main():\n",
      "    \"\"\"Cowsay something sarcastically from the command line.\"\"\"\n",
      "    parser = argparse.ArgumentParser()\n",
      "    parser.add_argument(\"speech\")\n",
      "    args = parser.parse_args()\n",
      "    \n",
      "    s = args.speech\n",
      "    sarcastic_cowsay(s)\n"
     ]
    }
   ],
   "source": [
    "cat src/eeskew_pwg_test_000/cli.py"
   ]
  },
  {
   "cell_type": "markdown",
   "id": "5459b687",
   "metadata": {
    "slideshow": {
     "slide_type": "subslide"
    }
   },
   "source": [
    "Now let's add the script to `pyproject.toml`:"
   ]
  },
  {
   "cell_type": "code",
   "execution_count": 56,
   "id": "9292a7db",
   "metadata": {
    "slideshow": {
     "slide_type": "skip"
    },
    "tags": [
     "remove-cell"
    ]
   },
   "outputs": [],
   "source": [
    "# This cell hidden in presentation and docs\n",
    "cat << \"EOF\" > pyproject.toml\n",
    "[tool.pdm]\n",
    "version = { source = \"file\", path = \"src/eeskew_pwg_test_000/__version__.py\" }\n",
    "\n",
    "[tool.pdm.scripts]\n",
    "test-publish.shell = '''\\\n",
    "VERSION=$(pdm show --version)\n",
    "pdm bump patch > /dev/null\n",
    "DEV_VERSION=$(pdm show --version).dev$(date +%s)\n",
    "echo \"__version__ = \\\"$DEV_VERSION\\\"\" > src/eeskew_pwg_test_000/__version__.py\n",
    "pdm publish -r testpypi\n",
    "echo \"__version__ = \\\"$VERSION\\\"\" > src/eeskew_pwg_test_000/__version__.py\n",
    "'''\n",
    "\n",
    "[tool.pdm.dev-dependencies]\n",
    "dev = [\n",
    "    \"black>=23.1.0\",\n",
    "]\n",
    "\n",
    "[project]\n",
    "name = \"eeskew-pwg-test-000\"\n",
    "description = \"A test project for presentation to the WSU Python Working Group.\"\n",
    "authors = [\n",
    "    {name = \"Edward Eskew\", email = \"edward.eskew@wsu.edu\"},\n",
    "]\n",
    "dependencies = [\n",
    "    \"cowsay>=5.0\",\n",
    "]\n",
    "requires-python = \">=3.11\"\n",
    "readme = \"README.md\"\n",
    "license = {text = \"MIT\"}\n",
    "dynamic = [\"version\"]\n",
    "\n",
    "[project.scripts]\n",
    "sarcasticow = \"eeskew_pwg_test_000.cli:main\"\n",
    "\n",
    "[build-system]\n",
    "requires = [\"pdm-pep517>=1.0\"]\n",
    "build-backend = \"pdm.pep517.api\"\n",
    "EOF"
   ]
  },
  {
   "cell_type": "code",
   "execution_count": 57,
   "id": "d202b093",
   "metadata": {
    "slideshow": {
     "slide_type": "skip"
    },
    "tags": [
     "remove-cell"
    ]
   },
   "outputs": [
    {
     "name": "stdout",
     "output_type": "stream",
     "text": [
      "Previous HEAD position was 16a7c4f Add cli.py\n",
      "HEAD is now at 7bd5744 Add sarcasticow entry point to pyproject.toml\n"
     ]
    }
   ],
   "source": [
    "# checkpoint\n",
    "git add -A\n",
    "git checkout $(git rev-list --topo-order HEAD...main | tail -1)  # check out next commit"
   ]
  },
  {
   "cell_type": "code",
   "execution_count": 58,
   "id": "ef0b6527",
   "metadata": {
    "slideshow": {
     "slide_type": "fragment"
    },
    "tags": [
     "remove-input"
    ]
   },
   "outputs": [
    {
     "name": "stdout",
     "output_type": "stream",
     "text": [
      "\u001b[0m\u001b[1;36m────────────────────────────────────────────────────────────────────────────────\u001b[0m\n",
      "\u001b[1;36mmodified: pyproject.toml\n",
      "\u001b[1;36m────────────────────────────────────────────────────────────────────────────────\u001b[0m\n",
      "\u001b[1m\u001b[38;5;13m@ pyproject.toml:33 @\u001b[1m\u001b[1m\u001b[38;5;146m readme = \"README.md\"\u001b[0m\n",
      "license = {text = \"MIT\"}\n",
      "dynamic = [\"version\"]\n",
      "\n",
      "\u001b[1m\u001b[38;5;2m[project.scripts]\u001b[0m\n",
      "\u001b[1m\u001b[38;5;2msarcasticow = \"eeskew_pwg_test_000.cli:main\"\u001b[0m\n",
      "\u001b[7m\u001b[7m \u001b[0m\n",
      "[build-system]\n",
      "requires = [\"pdm-pep517>=1.0\"]\n",
      "build-backend = \"pdm.pep517.api\"\n"
     ]
    }
   ],
   "source": [
    "git diff HEAD~ pyproject.toml | ../../scripts/diff-so-fancy"
   ]
  },
  {
   "cell_type": "code",
   "execution_count": 59,
   "id": "87adfe1c",
   "metadata": {
    "slideshow": {
     "slide_type": "subslide"
    }
   },
   "outputs": [
    {
     "name": "stdout",
     "output_type": "stream",
     "text": [
      "\u001b[2K\u001b[36m⠋\u001b[0m Fetching hashes for resolved packages...\n",
      "\u001b[1A\u001b[2KAll packages are synced to date, nothing to do.\n",
      "\u001b[2KInstalling the project as an editable package...\n",
      "\u001b[2K  \u001b[32m✔\u001b[0m Update \u001b[1;32meeskew-pwg-test-000\u001b[0m \u001b[33m0.1.0\u001b[0m -> \u001b[33m0.1.0\u001b[0m successful\n",
      "\u001b[2K36m⠦\u001b[0m Updating \u001b[1;32meeskew-pwg-test-000\u001b[0m \u001b[33m0.1.0\u001b[0m -> \u001b[33m0.1.0\u001b[0m...\n",
      "🎉 All complete!\n",
      "\u001b[2K36m⠦\u001b[0m Updating \u001b[1;32meeskew-pwg-test-000\u001b[0m \u001b[33m0.1.0\u001b[0m -> \u001b[33m0.1.0\u001b[0m...\n",
      "\u001b[?25h\n"
     ]
    }
   ],
   "source": [
    "pdm install"
   ]
  },
  {
   "cell_type": "markdown",
   "id": "1975240b",
   "metadata": {
    "slideshow": {
     "slide_type": "subslide"
    }
   },
   "source": [
    "Now we can run our command from within the environment:"
   ]
  },
  {
   "cell_type": "code",
   "execution_count": 60,
   "id": "a6c8d734",
   "metadata": {
    "slideshow": {
     "slide_type": "fragment"
    }
   },
   "outputs": [
    {
     "name": "stdout",
     "output_type": "stream",
     "text": [
      "  ___________________\n",
      "| i'm a sArCaStIc cOw |\n",
      "  ===================\n",
      "                   \\\n",
      "                    \\\n",
      "                      ^__^\n",
      "                      (oo)\\_______\n",
      "                      (__)\\       )\\/\\\n",
      "                          ||----w |\n",
      "                          ||     ||\n"
     ]
    }
   ],
   "source": [
    "pdm run sarcasticow \"I'm a sarcastic cow\""
   ]
  },
  {
   "cell_type": "markdown",
   "id": "c47ac40d",
   "metadata": {
    "slideshow": {
     "slide_type": "notes"
    }
   },
   "source": [
    ":::{note}\n",
    "Because we're using `pdm` for environment management, we still need to use `pdm run` to access the script installed into the virtual environment.\n",
    "\n",
    "Unlike the `test-publish` PDM script we wrote earlier, if we activated the environment with `source .venv/bin/activate`, we could simply use the `sarcasticow` command by itself, and users who install our package with `pip` into their own virtualenv or conda environment will also have access to `sarcasticow`.  Even better, users who install our package through [`pipx`](https://pypa.github.io/pipx/) will be able to use the `sarcasticow` command without activating a virtual environment.\n",
    ":::"
   ]
  },
  {
   "cell_type": "markdown",
   "id": "85d831a6",
   "metadata": {
    "slideshow": {
     "slide_type": "subslide"
    }
   },
   "source": [
    "### Updating README\n",
    "\n",
    "Thus far, we've left our README as an empty file.  This is bad.  Let's update it to show our utility's usage:"
   ]
  },
  {
   "cell_type": "code",
   "execution_count": 61,
   "id": "e87914f1",
   "metadata": {
    "slideshow": {
     "slide_type": "skip"
    },
    "tags": [
     "remove-cell"
    ]
   },
   "outputs": [],
   "source": [
    "# This cell hidden in presentation and docs\n",
    "cat << \"EOF\" > README.md\n",
    "# eeskew-pwg-test-000\n",
    "\n",
    "This is a companion repository to the presentation [Project Management and Publishing with PDM](https://edsq.github.io/eds-notes/pwg_presentation_02-08-2023.html).\n",
    "\n",
    "Command-line usage:\n",
    "\n",
    "```\n",
    "$ sarcasticow \"I'm a sarcastic cow\"\n",
    "\n",
    "  ___________________\n",
    "| i'm a sArCaStIc cOw |\n",
    "  ===================\n",
    "                   \\\n",
    "                    \\\n",
    "                      ^__^\n",
    "                      (oo)\\_______\n",
    "                      (__)\\       )\\/\\\n",
    "                          ||----w |\n",
    "                          ||     ||\n",
    "\n",
    "```\n",
    "EOF"
   ]
  },
  {
   "cell_type": "code",
   "execution_count": 62,
   "id": "c06fbdba",
   "metadata": {
    "slideshow": {
     "slide_type": "skip"
    },
    "tags": [
     "remove-cell"
    ]
   },
   "outputs": [
    {
     "name": "stdout",
     "output_type": "stream",
     "text": [
      "Previous HEAD position was 7bd5744 Add sarcasticow entry point to pyproject.toml\n",
      "HEAD is now at 2a258c3 Add sarcasticow to README\n"
     ]
    }
   ],
   "source": [
    "# checkpoint\n",
    "git add -A\n",
    "git checkout $(git rev-list --topo-order HEAD...main | tail -1)  # check out next commit"
   ]
  },
  {
   "cell_type": "code",
   "execution_count": 63,
   "id": "61eac256",
   "metadata": {
    "slideshow": {
     "slide_type": "fragment"
    },
    "tags": [
     "remove-input"
    ]
   },
   "outputs": [
    {
     "name": "stdout",
     "output_type": "stream",
     "text": [
      "\u001b[0m\u001b[1;36m────────────────────────────────────────────────────────────────────────────────\u001b[0m\n",
      "\u001b[1;36mmodified: README.md\n",
      "\u001b[1;36m────────────────────────────────────────────────────────────────────────────────\u001b[0m\n",
      "\u001b[1m\u001b[38;5;13m@ README.md:4 @\u001b[1m\u001b[0m\n",
      "# eeskew-pwg-test-000\n",
      "\u001b[7m\u001b[7m \u001b[0m\n",
      "\u001b[1m\u001b[38;5;2mThis is a companion repository to the presentation [Project Management and Publishing with PDM](https://edsq.github.io/eds-notes/pwg_presentation_02-08-2023.html).\u001b[0m\n",
      "\u001b[7m\u001b[7m \u001b[0m\n",
      "\u001b[1m\u001b[38;5;2mCommand-line usage:\u001b[0m\n",
      "\u001b[7m\u001b[7m \u001b[0m\n",
      "\u001b[1m\u001b[38;5;2m```\u001b[0m\n",
      "\u001b[1m\u001b[38;5;2m$ sarcasticow \"I'm a sarcastic cow\"\u001b[0m\n",
      "\u001b[7m\u001b[7m \u001b[0m\n",
      "\u001b[1m\u001b[38;5;2m  ___________________\u001b[0m\n",
      "\u001b[1m\u001b[38;5;2m| i'm a sArCaStIc cOw |\u001b[0m\n",
      "\u001b[1m\u001b[38;5;2m  ===================\u001b[0m\n",
      "\u001b[1m\u001b[38;5;2m                   \\\u001b[0m\n",
      "\u001b[1m\u001b[38;5;2m                    \\\u001b[0m\n",
      "\u001b[1m\u001b[38;5;2m                      ^__^\u001b[0m\n",
      "\u001b[1m\u001b[38;5;2m                      (oo)\\_______\u001b[0m\n",
      "\u001b[1m\u001b[38;5;2m                      (__)\\       )\\/\\\u001b[0m\n",
      "\u001b[1m\u001b[38;5;2m                          ||----w |\u001b[0m\n",
      "\u001b[1m\u001b[38;5;2m                          ||     ||\u001b[0m\n",
      "\u001b[7m\u001b[7m \u001b[0m\n",
      "\u001b[1m\u001b[38;5;2m```\u001b[0m\n"
     ]
    }
   ],
   "source": [
    "git diff HEAD~ README.md | ../../scripts/diff-so-fancy"
   ]
  },
  {
   "cell_type": "markdown",
   "id": "cd1ebb75",
   "metadata": {
    "slideshow": {
     "slide_type": "subslide"
    }
   },
   "source": [
    "### Project URLs\n",
    "\n",
    "We can add relevant URLs in the [`urls` table](https://packaging.python.org/en/latest/specifications/declaring-project-metadata/#urls), which will appear in the sidebar on PyPI."
   ]
  },
  {
   "cell_type": "code",
   "execution_count": 66,
   "id": "62d8a7dc",
   "metadata": {
    "slideshow": {
     "slide_type": "skip"
    },
    "tags": [
     "remove-cell"
    ]
   },
   "outputs": [],
   "source": [
    "# This cell hidden in presentation and docs\n",
    "cat << \"EOF\" > pyproject.toml\n",
    "[tool.pdm]\n",
    "version = { source = \"file\", path = \"src/eeskew_pwg_test_000/__version__.py\" }\n",
    "\n",
    "[tool.pdm.scripts]\n",
    "test-publish.shell = '''\\\n",
    "VERSION=$(pdm show --version)\n",
    "pdm bump patch > /dev/null\n",
    "DEV_VERSION=$(pdm show --version).dev$(date +%s)\n",
    "echo \"__version__ = \\\"$DEV_VERSION\\\"\" > src/eeskew_pwg_test_000/__version__.py\n",
    "pdm publish -r testpypi\n",
    "echo \"__version__ = \\\"$VERSION\\\"\" > src/eeskew_pwg_test_000/__version__.py\n",
    "'''\n",
    "\n",
    "[tool.pdm.dev-dependencies]\n",
    "dev = [\n",
    "    \"black>=23.1.0\",\n",
    "]\n",
    "\n",
    "[project]\n",
    "name = \"eeskew-pwg-test-000\"\n",
    "description = \"A test project for presentation to the WSU Python Working Group.\"\n",
    "authors = [\n",
    "    {name = \"Edward Eskew\", email = \"edward.eskew@wsu.edu\"},\n",
    "]\n",
    "dependencies = [\n",
    "    \"cowsay>=5.0\",\n",
    "]\n",
    "requires-python = \">=3.11\"\n",
    "readme = \"README.md\"\n",
    "license = {text = \"MIT\"}\n",
    "dynamic = [\"version\"]\n",
    "\n",
    "[project.urls]\n",
    "Documentation = \"https://edsq.github.io/eds-notes/pwg_presentation_02-08-2023.html\"\n",
    "Repository = \"https://github.com/edsq/eeskew-pwg-test-000\"\n",
    "\n",
    "[project.scripts]\n",
    "sarcasticow = \"eeskew_pwg_test_000.cli:main\"\n",
    "\n",
    "[build-system]\n",
    "requires = [\"pdm-pep517>=1.0\"]\n",
    "build-backend = \"pdm.pep517.api\"\n",
    "EOF"
   ]
  },
  {
   "cell_type": "code",
   "execution_count": 68,
   "id": "6536d744",
   "metadata": {
    "slideshow": {
     "slide_type": "skip"
    },
    "tags": [
     "remove-cell"
    ]
   },
   "outputs": [
    {
     "name": "stdout",
     "output_type": "stream",
     "text": [
      "Previous HEAD position was 2a258c3 Add sarcasticow to README\n",
      "HEAD is now at 58a0a99 Add urls to project metadata\n"
     ]
    }
   ],
   "source": [
    "# checkpoint\n",
    "git add -A\n",
    "git checkout $(git rev-list --topo-order HEAD...main | tail -1)  # check out next commit"
   ]
  },
  {
   "cell_type": "code",
   "execution_count": 71,
   "id": "62f416ef",
   "metadata": {
    "slideshow": {
     "slide_type": "fragment"
    },
    "tags": [
     "remove-input"
    ]
   },
   "outputs": [
    {
     "name": "stdout",
     "output_type": "stream",
     "text": [
      "\u001b[0m\u001b[1;36m────────────────────────────────────────────────────────────────────────────────\u001b[0m\n",
      "\u001b[1;36mmodified: pyproject.toml\n",
      "\u001b[1;36m────────────────────────────────────────────────────────────────────────────────\u001b[0m\n",
      "\u001b[1m\u001b[38;5;13m@ pyproject.toml:33 @\u001b[1m\u001b[1m\u001b[38;5;146m readme = \"README.md\"\u001b[0m\n",
      "license = {text = \"MIT\"}\n",
      "dynamic = [\"version\"]\n",
      "\n",
      "\u001b[1m\u001b[38;5;2m[project.urls]\u001b[0m\n",
      "\u001b[1m\u001b[38;5;2mDocumentation = \"https://edsq.github.io/eds-notes/pwg_presentation_02-08-2023.html\"\u001b[0m\n",
      "\u001b[1m\u001b[38;5;2mRepository = \"https://github.com/edsq/eeskew-pwg-test-000\"\u001b[0m\n",
      "\u001b[7m\u001b[7m \u001b[0m\n",
      "[project.scripts]\n",
      "sarcasticow = \"eeskew_pwg_test_000.cli:main\"\n",
      "\n"
     ]
    }
   ],
   "source": [
    "git diff HEAD~ pyproject.toml | ../../scripts/diff-so-fancy"
   ]
  },
  {
   "cell_type": "markdown",
   "id": "9355d5e6",
   "metadata": {
    "slideshow": {
     "slide_type": "subslide"
    }
   },
   "source": [
    "Finally, we publish again to TestPYPI:"
   ]
  },
  {
   "cell_type": "code",
   "execution_count": 67,
   "id": "156b43ae",
   "metadata": {
    "slideshow": {
     "slide_type": "fragment"
    }
   },
   "outputs": [
    {
     "name": "stdout",
     "output_type": "stream",
     "text": [
      "Building sdist...\n",
      "Built sdist at \n",
      "/Users/Ed/python/eds-notes/repos/eeskew-pwg-test-000/dist/eeskew-pwg-test-000-0.\n",
      "1.1.dev1677485469.tar.gz\n",
      "Building wheel...\n",
      "Built wheel at \n",
      "/Users/Ed/python/eds-notes/repos/eeskew-pwg-test-000/dist/eeskew_pwg_test_000-0.\n",
      "1.1.dev1677485469-py3-none-any.whl\n",
      "\u001b[2KUploading \u001b[32meeskew_pwg_test_000-0.1.1.dev1677485469-py3-none-any.whl\u001b[0m\n",
      "\u001b[2KUploading \u001b[32meeskew-pwg-test-000-0.1.1.dev1677485469.tar.gz\u001b[0m━━━━━━━━\u001b[0m \u001b[32m6.5/6.5 kB\u001b[0m • \u001b[33m00:00\u001b[0m • \u001b[31m?\u001b[0m\n",
      "\u001b[2K \u001b[35m100%\u001b[0m \u001b[38;2;114;156;31m━━━━━━━━━━━━━━━━━━━━━━━━━━━━━━━━━━━━━━━━\u001b[0m \u001b[32m6.5/6.5 kB\u001b[0m • \u001b[33m00:00\u001b[0m • \u001b[31m?\u001b[0m\n",
      "\u001b[2K\u001b[1A\u001b[2K \u001b[35m100%\u001b[0m \u001b[38;2;114;156;31m━━━━━━━━━━━━━━━━━━━━━━━━━━━━━━━━━━━━━━━━\u001b[0m \u001b[32m6.5/6.5 kB\u001b[0m • \u001b[33m00:00\u001b[0m • \u001b[31m?\u001b[0m\n",
      "\u001b[2K\u001b[1A\u001b[2K \u001b[35m100%\u001b[0m \u001b[38;2;114;156;31m━━━━━━━━━━━━━━━━━━━━━━━━━━━━━━━━━━━━━━━━\u001b[0m \u001b[32m6.5/6.5 kB\u001b[0m • \u001b[33m00:00\u001b[0m • \u001b[31m?\u001b[0m\n",
      "\u001b[2K\u001b[1A\u001b[2K \u001b[35m100%\u001b[0m \u001b[38;2;114;156;31m━━━━━━━━━━━━━━━━━━━━━━━━━━━━━━━━━━━━━━━━\u001b[0m \u001b[32m6.5/6.5 kB\u001b[0m • \u001b[33m00:00\u001b[0m • \u001b[31m?\u001b[0m\n",
      "\u001b[2K\u001b[1A\u001b[2K \u001b[35m100%\u001b[0m \u001b[38;2;114;156;31m━━━━━━━━━━━━━━━━━━━━━━━━━━━━━━━━━━━━━━━━\u001b[0m \u001b[32m6.5/6.5 kB\u001b[0m • \u001b[33m00:00\u001b[0m • \u001b[31m?\u001b[0m\n",
      "\u001b[2K\u001b[1A\u001b[2K \u001b[35m100%\u001b[0m \u001b[38;2;114;156;31m━━━━━━━━━━━━━━━━━━━━━━━━━━━━━━━━━━━━━━━━\u001b[0m \u001b[32m6.5/6.5 kB\u001b[0m • \u001b[33m00:00\u001b[0m • \u001b[31m?\u001b[0m\n",
      "\u001b[2K\u001b[1A\u001b[2K \u001b[35m100%\u001b[0m \u001b[38;2;114;156;31m━━━━━━━━━━━━━━━━━━━━━━━━━━━━━━━━━━━━━━━━\u001b[0m \u001b[32m6.5/6.5 kB\u001b[0m • \u001b[33m00:00\u001b[0m • \u001b[31m?\u001b[0m\n",
      "\u001b[2K\u001b[1A\u001b[2K \u001b[35m100%\u001b[0m \u001b[38;2;114;156;31m━━━━━━━━━━━━━━━━━━━━━━━━━━━━━━━━━━━━━━━━\u001b[0m \u001b[32m6.5/6.5 kB\u001b[0m • \u001b[33m00:00\u001b[0m • \u001b[31m?\u001b[0m\n",
      "\u001b[2K\u001b[1A\u001b[2K \u001b[35m100%\u001b[0m \u001b[38;2;114;156;31m━━━━━━━━━━━━━━━━━━━━━━━━━━━━━━━━━━━━━━━━\u001b[0m \u001b[32m6.5/6.5 kB\u001b[0m • \u001b[33m00:00\u001b[0m • \u001b[31m?\u001b[0m\n",
      "\u001b[2K\u001b[1A\u001b[2K \u001b[35m100%\u001b[0m \u001b[38;2;114;156;31m━━━━━━━━━━━━━━━━━━━━━━━━━━━━━━━━━━━━━━━━\u001b[0m \u001b[32m6.5/6.5 kB\u001b[0m • \u001b[33m00:00\u001b[0m • \u001b[31m?\u001b[0m\n",
      "\u001b[2K\u001b[1A\u001b[2K \u001b[35m100%\u001b[0m \u001b[38;2;114;156;31m━━━━━━━━━━━━━━━━━━━━━━━━━━━━━━━━━━━━━━━━\u001b[0m \u001b[32m6.5/6.5 kB\u001b[0m • \u001b[33m00:00\u001b[0m • \u001b[31m?\u001b[0m\n",
      "\u001b[2K\u001b[1A\u001b[2K \u001b[35m100%\u001b[0m \u001b[38;2;114;156;31m━━━━━━━━━━━━━━━━━━━━━━━━━━━━━━━━━━━━━━━━\u001b[0m \u001b[32m6.5/6.5 kB\u001b[0m • \u001b[33m00:00\u001b[0m • \u001b[31m?\u001b[0m\n",
      "\u001b[2K\u001b[1A\u001b[2K \u001b[35m100%\u001b[0m \u001b[38;2;114;156;31m━━━━━━━━━━━━━━━━━━━━━━━━━━━━━━━━━━━━━━━━\u001b[0m \u001b[32m6.5/6.5 kB\u001b[0m • \u001b[33m00:00\u001b[0m • \u001b[31m?\u001b[0m\n",
      "\u001b[2K\u001b[1A\u001b[2K \u001b[35m100%\u001b[0m \u001b[38;2;114;156;31m━━━━━━━━━━━━━━━━━━━━━━━━━━━━━━━━━━━━━━━━\u001b[0m \u001b[32m6.5/6.5 kB\u001b[0m • \u001b[33m00:00\u001b[0m • \u001b[31m?\u001b[0m\n",
      "\u001b[2K\u001b[1A\u001b[2K \u001b[35m100%\u001b[0m \u001b[38;2;114;156;31m━━━━━━━━━━━━━━━━━━━━━━━━━━━━━━━━━━━━━━━━\u001b[0m \u001b[32m6.5/6.5 kB\u001b[0m • \u001b[33m00:00\u001b[0m • \u001b[31m?\u001b[0m\n",
      "\u001b[2K\u001b[1A\u001b[2K \u001b[35m100%\u001b[0m \u001b[38;2;114;156;31m━━━━━━━━━━━━━━━━━━━━━━━━━━━━━━━━━━━━━━━━\u001b[0m \u001b[32m6.5/6.5 kB\u001b[0m • \u001b[33m00:00\u001b[0m • \u001b[31m?\u001b[0m\n",
      "\u001b[2K\u001b[1A\u001b[2K \u001b[35m100%\u001b[0m \u001b[38;2;114;156;31m━━━━━━━━━━━━━━━━━━━━━━━━━━━━━━━━━━━━━━━━\u001b[0m \u001b[32m6.5/6.5 kB\u001b[0m • \u001b[33m00:00\u001b[0m • \u001b[31m?\u001b[0m\n",
      "\u001b[2K\u001b[1A\u001b[2K \u001b[35m100%\u001b[0m \u001b[38;2;114;156;31m━━━━━━━━━━━━━━━━━━━━━━━━━━━━━━━━━━━━━━━━\u001b[0m \u001b[32m6.5/6.5 kB\u001b[0m • \u001b[33m00:00\u001b[0m • \u001b[31m?\u001b[0m\n",
      "\u001b[2K\u001b[1A\u001b[2K \u001b[35m100%\u001b[0m \u001b[38;2;114;156;31m━━━━━━━━━━━━━━━━━━━━━━━━━━━━━━━━━━━━━━━━\u001b[0m \u001b[32m6.5/6.5 kB\u001b[0m • \u001b[33m00:00\u001b[0m • \u001b[31m?\u001b[0m\n",
      "\u001b[2K\u001b[1A\u001b[2K \u001b[35m100%\u001b[0m \u001b[38;2;114;156;31m━━━━━━━━━━━━━━━━━━━━━━━━━━━━━━━━━━━━━━━━\u001b[0m \u001b[32m6.5/6.5 kB\u001b[0m • \u001b[33m00:00\u001b[0m • \u001b[31m?\u001b[0m\n",
      " \u001b[35m100%\u001b[0m \u001b[38;2;114;156;31m━━━━━━━━━━━━━━━━━━━━━━━━━━━━━━━━━━━━━━━━\u001b[0m \u001b[32m5.3/5.3 kB\u001b[0m • \u001b[33m00:00\u001b[0m • \u001b[31m?\u001b[0m\n",
      "\u001b[?25h\n",
      "\u001b[32mView at:\u001b[0m\n",
      "https://test.pypi.org/project/eeskew-pwg-test-000/0.1.1.dev1677485469/\n"
     ]
    }
   ],
   "source": [
    "pdm run test-publish"
   ]
  },
  {
   "cell_type": "markdown",
   "id": "d80f2149",
   "metadata": {
    "slideshow": {
     "slide_type": "fragment"
    }
   },
   "source": [
    "Our page on TestPyPI now shows the README, and the documentation and repository links are available on the sidebar."
   ]
  },
  {
   "cell_type": "markdown",
   "id": "7c5f0f24",
   "metadata": {
    "slideshow": {
     "slide_type": "slide"
    }
   },
   "source": [
    "## Conclusion\n",
    "\n",
    "And that's it!  We've gone through the basics of project management, packaging, and publishing on (Test)PyPI."
   ]
  }
 ],
 "metadata": {
  "celltoolbar": "Slideshow",
  "kernelspec": {
   "display_name": "Bash",
   "language": "bash",
   "name": "bash"
  },
  "language_info": {
   "codemirror_mode": "shell",
   "file_extension": ".sh",
   "mimetype": "text/x-sh",
   "name": "bash"
  },
  "rise": {
   "autolaunch": true,
   "scroll": true
  }
 },
 "nbformat": 4,
 "nbformat_minor": 5
}
