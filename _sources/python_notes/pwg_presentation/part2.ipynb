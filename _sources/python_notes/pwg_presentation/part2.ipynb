{
 "cells": [
  {
   "cell_type": "code",
   "execution_count": 1,
   "id": "05b3be1f",
   "metadata": {
    "slideshow": {
     "slide_type": "skip"
    },
    "tags": [
     "remove-cell"
    ]
   },
   "outputs": [
    {
     "name": "stdout",
     "output_type": "stream",
     "text": [
      "\u001b[0;34m(ins)\u001b[0m:\n",
      "\u001b[0;34m(ins)\u001b[0m:\n",
      "\u001b[0;34m(ins)\u001b[0m:\n",
      "\u001b[0;34m(ins)\u001b[0m:\n"
     ]
    }
   ],
   "source": [
    "# Run startup commands\n",
    "# Note: if cwd is already the companion repo, this will fail.\n",
    "# Either restart the kernel first or don't run this cell, in that case.\n",
    "project_dir=$(pdm info --where)\n",
    "source $project_dir/.bashnbrc"
   ]
  },
  {
   "cell_type": "code",
   "execution_count": 2,
   "id": "62aa6a03",
   "metadata": {
    "slideshow": {
     "slide_type": "skip"
    },
    "tags": [
     "remove-cell"
    ]
   },
   "outputs": [
    {
     "name": "stdout",
     "output_type": "stream",
     "text": [
      "Cloning into '_tmp_pwg_presentation_02-08-2023_part2/eeskew-pwg-test-000'...\n",
      "done.\n"
     ]
    }
   ],
   "source": [
    "# Make sure we're in the repo directory and git config is correct\n",
    "GITHUB_URL='https://github.com/edsq/eeskew-pwg-test-000'  # needed for embed-repo-link\n",
    "tmp_dir=\"_tmp_pwg_presentation_02-08-2023_part2\"\n",
    "repo_name=\"eeskew-pwg-test-000\"\n",
    "cd $project_dir/repos &&\n",
    "rm -rf $tmp_dir &&\n",
    "mkdir -p $tmp_dir/$repo_name\n",
    "git clone $repo_name $tmp_dir/$repo_name &&\n",
    "cd $tmp_dir/$repo_name"
   ]
  },
  {
   "cell_type": "code",
   "execution_count": 3,
   "id": "062677f0",
   "metadata": {
    "slideshow": {
     "slide_type": "skip"
    },
    "tags": [
     "remove-cell"
    ]
   },
   "outputs": [
    {
     "name": "stdout",
     "output_type": "stream",
     "text": [
      "Note: checking out '28b2959'.\n",
      "\n",
      "You are in 'detached HEAD' state. You can look around, make experimental\n",
      "changes and commit them, and you can discard any commits you make in this\n",
      "state without impacting any branches by performing another checkout.\n",
      "\n",
      "If you want to create a new branch to retain commits you create, you may\n",
      "do so (now or later) by using -b with the checkout command again. Example:\n",
      "\n",
      "  git checkout -b <new-branch-name>\n",
      "\n",
      "HEAD is now at 28b2959 Fix formatting with black\n"
     ]
    }
   ],
   "source": [
    "# Start at the last checkpoint from Part 1\n",
    "git checkout 461b5ee"
   ]
  },
  {
   "cell_type": "code",
   "execution_count": 4,
   "id": "39a63bd8",
   "metadata": {
    "scrolled": true,
    "slideshow": {
     "slide_type": "skip"
    },
    "tags": [
     "remove-cell"
    ]
   },
   "outputs": [
    {
     "name": "stdout",
     "output_type": "stream",
     "text": [
      "\u001b[2K\u001b[36m⠴\u001b[0m Creating virtualenv using \u001b[32mvirtualenv\u001b[0m.....\n",
      "\u001b[1A\u001b[2KVirtualenv \n",
      "\u001b[32m/Users/Ed/python/eds-notes/repos/_tmp_pwg_presentation_02-08-2023_part2/eeskew-p\u001b[0m\n",
      "\u001b[32mwg-test-000/.venv\u001b[0m is created successfully\n",
      "\u001b[2K\u001b[36m⠋\u001b[0m Fetching hashes for resolved packages...\n",
      "\u001b[1A\u001b[2K\u001b[1mSynchronizing working set with lock file\u001b[0m: \u001b[32m7\u001b[0m to add, \u001b[33m0\u001b[0m to update, \u001b[31m0\u001b[0m to remove\n",
      "\n",
      "\u001b[2K  \u001b[36m⠋\u001b[0m Installing \u001b[1;32mblack\u001b[0m \u001b[33m23.1.0\u001b[0m...\n",
      "\u001b[2K\u001b[1A\u001b[2K  \u001b[36m⠋\u001b[0m Installing \u001b[1;32mblack\u001b[0m \u001b[33m23.1.0\u001b[0m...\n",
      "  \u001b[36m⠋\u001b[0m Installing \u001b[1;32mclick\u001b[0m \u001b[33m8.1.3\u001b[0m... \n",
      "\u001b[2K\u001b[1A\u001b[2K\u001b[1A\u001b[2K  \u001b[36m⠋\u001b[0m Installing \u001b[1;32mblack\u001b[0m \u001b[33m23.1.0\u001b[0m...         \n",
      "  \u001b[36m⠋\u001b[0m Installing \u001b[1;32mclick\u001b[0m \u001b[33m8.1.3\u001b[0m...          \n",
      "  \u001b[36m⠋\u001b[0m Installing \u001b[1;32mcowsay\u001b[0m \u001b[33m5.0\u001b[0m...           \n",
      "\u001b[2K\u001b[1A\u001b[2K\u001b[1A\u001b[2K\u001b[1A\u001b[2K  \u001b[36m⠋\u001b[0m Installing \u001b[1;32mblack\u001b[0m \u001b[33m23.1.0\u001b[0m...         \n",
      "  \u001b[36m⠋\u001b[0m Installing \u001b[1;32mclick\u001b[0m \u001b[33m8.1.3\u001b[0m...          \n",
      "  \u001b[36m⠋\u001b[0m Installing \u001b[1;32mcowsay\u001b[0m \u001b[33m5.0\u001b[0m...           \n",
      "  \u001b[36m⠋\u001b[0m Installing \u001b[1;32mmypy-extensions\u001b[0m \u001b[33m1.0.0\u001b[0m...\n",
      "\u001b[2K\u001b[1A\u001b[2K\u001b[1A\u001b[2K\u001b[1A\u001b[2K\u001b[1A\u001b[2K  \u001b[36m⠋\u001b[0m Installing \u001b[1;32mblack\u001b[0m \u001b[33m23.1.0\u001b[0m...         \n",
      "  \u001b[36m⠋\u001b[0m Installing \u001b[1;32mclick\u001b[0m \u001b[33m8.1.3\u001b[0m...          \n",
      "  \u001b[36m⠋\u001b[0m Installing \u001b[1;32mcowsay\u001b[0m \u001b[33m5.0\u001b[0m...           \n",
      "  \u001b[36m⠋\u001b[0m Installing \u001b[1;32mmypy-extensions\u001b[0m \u001b[33m1.0.0\u001b[0m...\n",
      "  \u001b[36m⠋\u001b[0m Installing \u001b[1;32mpackaging\u001b[0m \u001b[33m23.0\u001b[0m...       \n",
      "\u001b[2K\u001b[1A\u001b[2K\u001b[1A\u001b[2K\u001b[1A\u001b[2K\u001b[1A\u001b[2K\u001b[1A\u001b[2K  \u001b[36m⠋\u001b[0m Installing \u001b[1;32mblack\u001b[0m \u001b[33m23.1.0\u001b[0m...         \n",
      "  \u001b[36m⠋\u001b[0m Installing \u001b[1;32mclick\u001b[0m \u001b[33m8.1.3\u001b[0m...          \n",
      "  \u001b[36m⠋\u001b[0m Installing \u001b[1;32mcowsay\u001b[0m \u001b[33m5.0\u001b[0m...           \n",
      "  \u001b[36m⠋\u001b[0m Installing \u001b[1;32mmypy-extensions\u001b[0m \u001b[33m1.0.0\u001b[0m...\n",
      "  \u001b[36m⠋\u001b[0m Installing \u001b[1;32mpackaging\u001b[0m \u001b[33m23.0\u001b[0m...       \n",
      "  \u001b[36m⠋\u001b[0m Installing \u001b[1;32mpathspec\u001b[0m \u001b[33m0.11.0\u001b[0m...      \n",
      "\u001b[2K\u001b[1A\u001b[2K\u001b[1A\u001b[2K\u001b[1A\u001b[2K\u001b[1A\u001b[2K\u001b[1A\u001b[2K\u001b[1A\u001b[2K  \u001b[36m⠙\u001b[0m Installing \u001b[1;32mblack\u001b[0m \u001b[33m23.1.0\u001b[0m...         \n",
      "  \u001b[36m⠙\u001b[0m Installing \u001b[1;32mclick\u001b[0m \u001b[33m8.1.3\u001b[0m...          \n",
      "  \u001b[36m⠙\u001b[0m Installing \u001b[1;32mcowsay\u001b[0m \u001b[33m5.0\u001b[0m...           \n",
      "  \u001b[36m⠙\u001b[0m Installing \u001b[1;32mmypy-extensions\u001b[0m \u001b[33m1.0.0\u001b[0m...\n",
      "  \u001b[36m⠙\u001b[0m Installing \u001b[1;32mpackaging\u001b[0m \u001b[33m23.0\u001b[0m...       \n",
      "  \u001b[36m⠙\u001b[0m Installing \u001b[1;32mpathspec\u001b[0m \u001b[33m0.11.0\u001b[0m...      \n",
      "\u001b[2K\u001b[1A\u001b[2K\u001b[1A\u001b[2K\u001b[1A\u001b[2K\u001b[1A\u001b[2K\u001b[1A\u001b[2K\u001b[1A\u001b[2K  \u001b[36m⠹\u001b[0m Installing \u001b[1;32mblack\u001b[0m \u001b[33m23.1.0\u001b[0m...         \n",
      "  \u001b[36m⠹\u001b[0m Installing \u001b[1;32mclick\u001b[0m \u001b[33m8.1.3\u001b[0m...          \n",
      "  \u001b[36m⠹\u001b[0m Installing \u001b[1;32mcowsay\u001b[0m \u001b[33m5.0\u001b[0m...           \n",
      "  \u001b[36m⠹\u001b[0m Installing \u001b[1;32mmypy-extensions\u001b[0m \u001b[33m1.0.0\u001b[0m...\n",
      "  \u001b[36m⠹\u001b[0m Installing \u001b[1;32mpackaging\u001b[0m \u001b[33m23.0\u001b[0m...       \n",
      "  \u001b[36m⠹\u001b[0m Installing \u001b[1;32mpathspec\u001b[0m \u001b[33m0.11.0\u001b[0m...      \n",
      "\u001b[2K\u001b[1A\u001b[2K\u001b[1A\u001b[2K\u001b[1A\u001b[2K\u001b[1A\u001b[2K\u001b[1A\u001b[2K\u001b[1A\u001b[2K  \u001b[32m✔\u001b[0m Install \u001b[1;32mplatformdirs\u001b[0m \u001b[33m3.1.1\u001b[0m successful\n",
      "  \u001b[36m⠹\u001b[0m Installing \u001b[1;32mblack\u001b[0m \u001b[33m23.1.0\u001b[0m...         \n",
      "  \u001b[36m⠹\u001b[0m Installing \u001b[1;32mclick\u001b[0m \u001b[33m8.1.3\u001b[0m...          \n",
      "  \u001b[36m⠹\u001b[0m Installing \u001b[1;32mcowsay\u001b[0m \u001b[33m5.0\u001b[0m...           \n",
      "  \u001b[36m⠹\u001b[0m Installing \u001b[1;32mmypy-extensions\u001b[0m \u001b[33m1.0.0\u001b[0m...\n",
      "  \u001b[36m⠹\u001b[0m Installing \u001b[1;32mpackaging\u001b[0m \u001b[33m23.0\u001b[0m...       \n",
      "  \u001b[36m⠹\u001b[0m Installing \u001b[1;32mpathspec\u001b[0m \u001b[33m0.11.0\u001b[0m...      \n",
      "\u001b[2K\u001b[1A\u001b[2K\u001b[1A\u001b[2K\u001b[1A\u001b[2K\u001b[1A\u001b[2K\u001b[1A\u001b[2K\u001b[1A\u001b[2K  \u001b[32m✔\u001b[0m Install \u001b[1;32mpathspec\u001b[0m \u001b[33m0.11.0\u001b[0m successful\n",
      "  \u001b[36m⠹\u001b[0m Installing \u001b[1;32mblack\u001b[0m \u001b[33m23.1.0\u001b[0m...         \n",
      "  \u001b[36m⠹\u001b[0m Installing \u001b[1;32mclick\u001b[0m \u001b[33m8.1.3\u001b[0m...          \n",
      "  \u001b[36m⠹\u001b[0m Installing \u001b[1;32mcowsay\u001b[0m \u001b[33m5.0\u001b[0m...           \n",
      "  \u001b[36m⠹\u001b[0m Installing \u001b[1;32mmypy-extensions\u001b[0m \u001b[33m1.0.0\u001b[0m...\n",
      "  \u001b[36m⠹\u001b[0m Installing \u001b[1;32mpackaging\u001b[0m \u001b[33m23.0\u001b[0m...       \n",
      "  \u001b[36m⠹\u001b[0m Installing \u001b[1;32mpathspec\u001b[0m \u001b[33m0.11.0\u001b[0m...      \n",
      "\u001b[2K\u001b[1A\u001b[2K\u001b[1A\u001b[2K\u001b[1A\u001b[2K\u001b[1A\u001b[2K\u001b[1A\u001b[2K\u001b[1A\u001b[2K  \u001b[32m✔\u001b[0m Install \u001b[1;32mpackaging\u001b[0m \u001b[33m23.0\u001b[0m successful\n",
      "  \u001b[36m⠹\u001b[0m Installing \u001b[1;32mblack\u001b[0m \u001b[33m23.1.0\u001b[0m...         \n",
      "  \u001b[36m⠹\u001b[0m Installing \u001b[1;32mclick\u001b[0m \u001b[33m8.1.3\u001b[0m...          \n",
      "  \u001b[36m⠹\u001b[0m Installing \u001b[1;32mcowsay\u001b[0m \u001b[33m5.0\u001b[0m...           \n",
      "  \u001b[36m⠹\u001b[0m Installing \u001b[1;32mmypy-extensions\u001b[0m \u001b[33m1.0.0\u001b[0m...\n",
      "  \u001b[36m⠹\u001b[0m Installing \u001b[1;32mpackaging\u001b[0m \u001b[33m23.0\u001b[0m...       \n",
      "  \u001b[36m⠹\u001b[0m Installing \u001b[1;32mpathspec\u001b[0m \u001b[33m0.11.0\u001b[0m...      \n",
      "\u001b[2K\u001b[1A\u001b[2K\u001b[1A\u001b[2K\u001b[1A\u001b[2K\u001b[1A\u001b[2K\u001b[1A\u001b[2K\u001b[1A\u001b[2K  \u001b[32m✔\u001b[0m Install \u001b[1;32mmypy-extensions\u001b[0m \u001b[33m1.0.0\u001b[0m successful\n",
      "  \u001b[36m⠹\u001b[0m Installing \u001b[1;32mblack\u001b[0m \u001b[33m23.1.0\u001b[0m...         \n",
      "  \u001b[36m⠹\u001b[0m Installing \u001b[1;32mclick\u001b[0m \u001b[33m8.1.3\u001b[0m...          \n",
      "  \u001b[36m⠹\u001b[0m Installing \u001b[1;32mcowsay\u001b[0m \u001b[33m5.0\u001b[0m...           \n",
      "  \u001b[36m⠹\u001b[0m Installing \u001b[1;32mmypy-extensions\u001b[0m \u001b[33m1.0.0\u001b[0m...\n",
      "  \u001b[36m⠹\u001b[0m Installing \u001b[1;32mpackaging\u001b[0m \u001b[33m23.0\u001b[0m...       \n",
      "  \u001b[36m⠹\u001b[0m Installing \u001b[1;32mpathspec\u001b[0m \u001b[33m0.11.0\u001b[0m...      \n",
      "\u001b[2K\u001b[1A\u001b[2K\u001b[1A\u001b[2K\u001b[1A\u001b[2K\u001b[1A\u001b[2K\u001b[1A\u001b[2K\u001b[1A\u001b[2K  \u001b[32m✔\u001b[0m Install \u001b[1;32mclick\u001b[0m \u001b[33m8.1.3\u001b[0m successful\n",
      "  \u001b[36m⠹\u001b[0m Installing \u001b[1;32mblack\u001b[0m \u001b[33m23.1.0\u001b[0m...         \n",
      "  \u001b[36m⠹\u001b[0m Installing \u001b[1;32mclick\u001b[0m \u001b[33m8.1.3\u001b[0m...          \n",
      "  \u001b[36m⠹\u001b[0m Installing \u001b[1;32mcowsay\u001b[0m \u001b[33m5.0\u001b[0m...           \n",
      "  \u001b[36m⠹\u001b[0m Installing \u001b[1;32mmypy-extensions\u001b[0m \u001b[33m1.0.0\u001b[0m...\n",
      "  \u001b[36m⠹\u001b[0m Installing \u001b[1;32mpackaging\u001b[0m \u001b[33m23.0\u001b[0m...       \n",
      "  \u001b[36m⠹\u001b[0m Installing \u001b[1;32mpathspec\u001b[0m \u001b[33m0.11.0\u001b[0m...      \n",
      "\u001b[2K\u001b[1A\u001b[2K\u001b[1A\u001b[2K\u001b[1A\u001b[2K\u001b[1A\u001b[2K\u001b[1A\u001b[2K\u001b[1A\u001b[2K  \u001b[32m✔\u001b[0m Install \u001b[1;32mcowsay\u001b[0m \u001b[33m5.0\u001b[0m successful\n",
      "  \u001b[36m⠹\u001b[0m Installing \u001b[1;32mblack\u001b[0m \u001b[33m23.1.0\u001b[0m...         \n",
      "  \u001b[36m⠹\u001b[0m Installing \u001b[1;32mclick\u001b[0m \u001b[33m8.1.3\u001b[0m...          \n",
      "  \u001b[36m⠹\u001b[0m Installing \u001b[1;32mcowsay\u001b[0m \u001b[33m5.0\u001b[0m...           \n",
      "  \u001b[36m⠹\u001b[0m Installing \u001b[1;32mmypy-extensions\u001b[0m \u001b[33m1.0.0\u001b[0m...\n",
      "  \u001b[36m⠹\u001b[0m Installing \u001b[1;32mpackaging\u001b[0m \u001b[33m23.0\u001b[0m...       \n",
      "  \u001b[36m⠹\u001b[0m Installing \u001b[1;32mpathspec\u001b[0m \u001b[33m0.11.0\u001b[0m...      \n",
      "\u001b[2K\u001b[1A\u001b[2K\u001b[1A\u001b[2K\u001b[1A\u001b[2K\u001b[1A\u001b[2K\u001b[1A\u001b[2K\u001b[1A\u001b[2K  \u001b[32m✔\u001b[0m Install \u001b[1;32mblack\u001b[0m \u001b[33m23.1.0\u001b[0m successful\n",
      "  \u001b[36m⠹\u001b[0m Installing \u001b[1;32mblack\u001b[0m \u001b[33m23.1.0\u001b[0m...         \n",
      "  \u001b[36m⠹\u001b[0m Installing \u001b[1;32mclick\u001b[0m \u001b[33m8.1.3\u001b[0m...          \n",
      "  \u001b[36m⠹\u001b[0m Installing \u001b[1;32mcowsay\u001b[0m \u001b[33m5.0\u001b[0m...           \n",
      "  \u001b[36m⠹\u001b[0m Installing \u001b[1;32mmypy-extensions\u001b[0m \u001b[33m1.0.0\u001b[0m...\n",
      "  \u001b[36m⠹\u001b[0m Installing \u001b[1;32mpackaging\u001b[0m \u001b[33m23.0\u001b[0m...       \n",
      "  \u001b[36m⠹\u001b[0m Installing \u001b[1;32mpathspec\u001b[0m \u001b[33m0.11.0\u001b[0m...      \n",
      "\u001b[2K\u001b[1A\u001b[2K\u001b[1A\u001b[2K\u001b[1A\u001b[2K\u001b[1A\u001b[2K\u001b[1A\u001b[2K\u001b[1A\u001b[2KInstalling the project as an editable package...\n",
      "  \u001b[36m⠹\u001b[0m Installing \u001b[1;32mblack\u001b[0m \u001b[33m23.1.0\u001b[0m...         \n",
      "  \u001b[36m⠹\u001b[0m Installing \u001b[1;32mclick\u001b[0m \u001b[33m8.1.3\u001b[0m...          \n",
      "  \u001b[36m⠹\u001b[0m Installing \u001b[1;32mcowsay\u001b[0m \u001b[33m5.0\u001b[0m...           \n",
      "  \u001b[36m⠹\u001b[0m Installing \u001b[1;32mmypy-extensions\u001b[0m \u001b[33m1.0.0\u001b[0m...\n",
      "  \u001b[36m⠹\u001b[0m Installing \u001b[1;32mpackaging\u001b[0m \u001b[33m23.0\u001b[0m...       \n",
      "  \u001b[36m⠹\u001b[0m Installing \u001b[1;32mpathspec\u001b[0m \u001b[33m0.11.0\u001b[0m...      \n",
      "\u001b[2K  \u001b[32m✔\u001b[0m Install \u001b[1;32meeskew-pwg-test-000\u001b[0m \u001b[33m0.1.0\u001b[0m successful2meeskew-pwg-test-000\u001b[0m \u001b[33m0.1.0\u001b[0m...\n",
      "\u001b[2K36m⠸\u001b[0m Installing \u001b[1;32meeskew-pwg-test-000\u001b[0m \u001b[33m0.1.0\u001b[0m...\n",
      "🎉 All complete!\n",
      "\u001b[2K36m⠸\u001b[0m Installing \u001b[1;32meeskew-pwg-test-000\u001b[0m \u001b[33m0.1.0\u001b[0m...\n",
      "\u001b[?25h\n"
     ]
    }
   ],
   "source": [
    "# Create the local venv and install the project (since it was already installed in part 1)\n",
    "pdm venv create --force python &&\n",
    "pdm install"
   ]
  },
  {
   "cell_type": "code",
   "execution_count": 5,
   "id": "b91e5aa2",
   "metadata": {
    "slideshow": {
     "slide_type": "skip"
    },
    "tags": [
     "remove-cell"
    ]
   },
   "outputs": [
    {
     "name": "stdout",
     "output_type": "stream",
     "text": [
      "\u001b[36mPDM version\u001b[0m:\n",
      "  2.4.8\n",
      "\u001b[36mPython Interpreter\u001b[0m:\n",
      "  /Users/Ed/python/eds-notes/repos/_tmp_pwg_presentation_02-08-2023_part2/eeskew\n",
      "-pwg-test-000/.venv/bin/python (3.11)\n",
      "\u001b[36mProject Root\u001b[0m:\n",
      "  /Users/Ed/python/eds-notes/repos/_tmp_pwg_presentation_02-08-2023_part2/eeskew\n",
      "-pwg-test-000\n",
      "\u001b[36mProject Packages\u001b[0m:\n",
      "  None\n"
     ]
    }
   ],
   "source": [
    "# For debugging, ensure we're in the right place and using the right venv/interpreter\n",
    "pdm info"
   ]
  },
  {
   "cell_type": "markdown",
   "id": "ad3733c8",
   "metadata": {
    "slideshow": {
     "slide_type": "slide"
    }
   },
   "source": [
    "# Publishing on (Test)PyPI\n",
    "\n",
    "Part 2 of notes from a talk given to the WSU Python Working Group on February 8, 2023.  See Part 1 [here](part1.ipynb).\n",
    "\n",
    "In this chapter, we'll cover the basics of publishing a project on PyPI or TestPyPI using PDM,\n",
    "including managing relevant project metadata.\n",
    "\n",
    "This tutorial is primarily aimed at macOS and Linux users, although the commands for Windows should mostly translate."
   ]
  },
  {
   "cell_type": "markdown",
   "id": "4695d755",
   "metadata": {
    "slideshow": {
     "slide_type": "skip"
    }
   },
   "source": [
    ":::{note}\n",
    "A companion repository with the example project created in these notes is available [here](https://github.com/edsq/eeskew-pwg-test-000).\n",
    ":::"
   ]
  },
  {
   "cell_type": "markdown",
   "id": "96bc1871",
   "metadata": {
    "slideshow": {
     "slide_type": "slide"
    }
   },
   "source": [
    "## Package version\n",
    "\n",
    "Right now, the package version (`\"0.1.0\"`) is stored in the `pyproject.toml` file (in the `project.version` keyword).  Python packages typically specify their version in a `__version__.py` file."
   ]
  },
  {
   "cell_type": "code",
   "execution_count": 6,
   "id": "50a19a27",
   "metadata": {
    "slideshow": {
     "slide_type": "skip"
    },
    "tags": [
     "remove-cell"
    ]
   },
   "outputs": [],
   "source": [
    "# This cell hidden in presentation and docs\n",
    "echo '__version__ = \"0.1.0\"' > src/eeskew_pwg_test_000/__version__.py"
   ]
  },
  {
   "cell_type": "code",
   "execution_count": 7,
   "id": "955628e1",
   "metadata": {
    "slideshow": {
     "slide_type": "skip"
    },
    "tags": [
     "remove-cell"
    ]
   },
   "outputs": [],
   "source": [
    "# This cell hidden in presentation and docs\n",
    "cat << EOF > pyproject.toml\n",
    "[tool.pdm]\n",
    "version = { source = \"file\", path = \"src/eeskew_pwg_test_000/__version__.py\" }\n",
    "\n",
    "[tool.pdm.dev-dependencies]\n",
    "dev = [\n",
    "    \"black>=23.1.0\",\n",
    "]\n",
    "\n",
    "[project]\n",
    "name = \"eeskew-pwg-test-000\"\n",
    "description = \"A test project for presentation to the WSU Python Working Group.\"\n",
    "authors = [\n",
    "    {name = \"Edward Eskew\", email = \"edward.eskew@wsu.edu\"},\n",
    "]\n",
    "dependencies = [\n",
    "    \"cowsay>=5.0\",\n",
    "]\n",
    "requires-python = \">=3.11\"\n",
    "readme = \"README.md\"\n",
    "license = {text = \"MIT\"}\n",
    "dynamic = [\"version\"]\n",
    "\n",
    "[build-system]\n",
    "requires = [\"pdm-pep517>=1.0\"]\n",
    "build-backend = \"pdm.pep517.api\"\n",
    "EOF"
   ]
  },
  {
   "cell_type": "code",
   "execution_count": 8,
   "id": "428538d9",
   "metadata": {
    "slideshow": {
     "slide_type": "skip"
    },
    "tags": [
     "remove-cell"
    ]
   },
   "outputs": [
    {
     "name": "stdout",
     "output_type": "stream",
     "text": [
      "Previous HEAD position was 28b2959 Fix formatting with black\n",
      "HEAD is now at e3473bd Use dynamic versioning in pyproject.toml\n"
     ]
    }
   ],
   "source": [
    "# checkpoint\n",
    "git-checkpoint"
   ]
  },
  {
   "cell_type": "code",
   "execution_count": 9,
   "id": "1f408b8f",
   "metadata": {
    "slideshow": {
     "slide_type": "fragment"
    },
    "tags": [
     "remove-input"
    ]
   },
   "outputs": [
    {
     "data": {
      "text/markdown": [
       "Create the file [`src/eeskew_pwg_test_000/__version__.py`](https://github.com/edsq/eeskew-pwg-test-000/tree/e3473bd9f4fb41856362e1ee36116a4ab38adcd3/src/eeskew_pwg_test_000/__version__.py), and add the `__version__` variable to it. The new file should look like:\n"
      ]
     },
     "metadata": {},
     "output_type": "display_data"
    }
   ],
   "source": [
    "embed-repo-link \"Create the file {src/eeskew_pwg_test_000/__version__.py}, and add the \\`__version__\\` variable to it.  The new file should look like:\""
   ]
  },
  {
   "cell_type": "code",
   "execution_count": 10,
   "id": "530dc483",
   "metadata": {
    "slideshow": {
     "slide_type": "fragment"
    },
    "tags": [
     "remove-input"
    ]
   },
   "outputs": [
    {
     "data": {
      "text/markdown": [
       "```python\n",
       "# src/eeskew_pwg_test_000/__version__.py\n",
       "__version__ = \"0.1.0\"\n",
       "```\n"
      ]
     },
     "metadata": {},
     "output_type": "display_data"
    }
   ],
   "source": [
    "simple-diff HEAD~ src/eeskew_pwg_test_000/__version__.py | show-code python"
   ]
  },
  {
   "cell_type": "markdown",
   "id": "321fd909",
   "metadata": {},
   "source": [
    "### Single-sourcing the package version\n",
    "\n",
    "Now, our package version appears in both `__version__.py` and `pyproject.toml`.  To keep our code [DRY](https://en.wikipedia.org/wiki/Don%27t_repeat_yourself) and avoid these two potentially getting out of sync, we'd like `__version__.py` to be the single source of truth for our package version."
   ]
  },
  {
   "cell_type": "code",
   "execution_count": 11,
   "id": "171b3418",
   "metadata": {
    "slideshow": {
     "slide_type": "subslide"
    },
    "tags": [
     "remove-input"
    ]
   },
   "outputs": [
    {
     "data": {
      "text/markdown": [
       "We can achieve this by modifying [`pyproject.toml`](https://github.com/edsq/eeskew-pwg-test-000/tree/e3473bd9f4fb41856362e1ee36116a4ab38adcd3/pyproject.toml) so that the version is [dynamic metadata](https://packaging.python.org/en/latest/specifications/declaring-project-metadata/#dynamic):\n"
      ]
     },
     "metadata": {},
     "output_type": "display_data"
    }
   ],
   "source": [
    "embed-repo-link \"We can achieve this by modifying {pyproject.toml} so that the version is [dynamic metadata](https://packaging.python.org/en/latest/specifications/declaring-project-metadata/#dynamic):\""
   ]
  },
  {
   "cell_type": "code",
   "execution_count": 12,
   "id": "030dd0b5",
   "metadata": {
    "slideshow": {
     "slide_type": "fragment"
    },
    "tags": [
     "remove-input"
    ]
   },
   "outputs": [
    {
     "data": {
      "text/markdown": [
       "```toml\n",
       "# pyproject.toml\n",
       "[tool.pdm]\n",
       "version = { source = \"file\", path = \"src/eeskew_pwg_test_000/__version__.py\" }\n",
       "\n",
       "[tool.pdm.dev-dependencies]\n",
       "dev = [\n",
       "\n",
       "...\n",
       "\n",
       "\n",
       "[project]\n",
       "name = \"eeskew-pwg-test-000\"\n",
       "description = \"A test project for presentation to the WSU Python Working Group.\"\n",
       "\n",
       "...\n",
       "\n",
       "readme = \"README.md\"\n",
       "license = {text = \"MIT\"}\n",
       "dynamic = [\"version\"]\n",
       "\n",
       "[build-system]\n",
       "\n",
       "...\n",
       "```\n"
      ]
     },
     "metadata": {},
     "output_type": "display_data"
    }
   ],
   "source": [
    "simple-diff --context 2 HEAD~ pyproject.toml | show-code toml"
   ]
  },
  {
   "cell_type": "markdown",
   "id": "a7c1f263",
   "metadata": {
    "slideshow": {
     "slide_type": "notes"
    }
   },
   "source": [
    "Note the new `tool.pdm.version` table, that the `project.version` key is gone, and the new `project.dynamic` array.\n",
    "\n",
    ":::{note}\n",
    "We could have equivalently left `pyproject.toml` unchanged, and used [`importlib.metadata`](https://docs.python.org/3/library/importlib.metadata.html#distribution-versions) to get the version in `__version__.py` from `pyproject.toml` as follows:\n",
    "\n",
    "```python\n",
    "# src/eeskew_pwg_test_000/__version__.py\n",
    "from importlib.metadata import version\n",
    "\n",
    "__version__ = version(\"eeskew-pwg-test-000\")\n",
    "```\n",
    "\n",
    "Whether you set the version in `pyproject.toml` or in `__version__.py` is essentially a matter of taste (although the way I've written the `test-publish` script below will only work with the latter).  The most important thing is that you only set it in one or the other.\n",
    ":::"
   ]
  },
  {
   "cell_type": "markdown",
   "id": "39fb4e5f",
   "metadata": {
    "slideshow": {
     "slide_type": "fragment"
    }
   },
   "source": [
    "We can check the version like so:"
   ]
  },
  {
   "cell_type": "code",
   "execution_count": 13,
   "id": "7a1710aa",
   "metadata": {
    "slideshow": {
     "slide_type": "fragment"
    }
   },
   "outputs": [
    {
     "name": "stdout",
     "output_type": "stream",
     "text": [
      "0.1.0\n"
     ]
    }
   ],
   "source": [
    "pdm show --version eeskew-pwg-test-000"
   ]
  },
  {
   "cell_type": "code",
   "execution_count": 14,
   "id": "e5794c08",
   "metadata": {
    "slideshow": {
     "slide_type": "skip"
    },
    "tags": [
     "remove-cell"
    ]
   },
   "outputs": [],
   "source": [
    "# This cell hidden in presentation and docs\n",
    "echo 'from eeskew_pwg_test_000.__version__ import __version__' > src/eeskew_pwg_test_000/__init__.py"
   ]
  },
  {
   "cell_type": "code",
   "execution_count": 15,
   "id": "1708ded5",
   "metadata": {
    "slideshow": {
     "slide_type": "skip"
    },
    "tags": [
     "remove-cell"
    ]
   },
   "outputs": [
    {
     "name": "stdout",
     "output_type": "stream",
     "text": [
      "Previous HEAD position was e3473bd Use dynamic versioning in pyproject.toml\n",
      "HEAD is now at 609bd67 Add __version__ to __init__\n"
     ]
    }
   ],
   "source": [
    "# checkpoint\n",
    "git-checkpoint"
   ]
  },
  {
   "cell_type": "code",
   "execution_count": 16,
   "id": "a18de03d",
   "metadata": {
    "slideshow": {
     "slide_type": "subslide"
    },
    "tags": [
     "remove-input"
    ]
   },
   "outputs": [
    {
     "data": {
      "text/markdown": [
       "We should also add the `__version__` variable to [`src/eeskew_pwg_test_000/__init__.py`](https://github.com/edsq/eeskew-pwg-test-000/tree/609bd67f8cfe674db8f00181f220027a032648b9/src/eeskew_pwg_test_000/__init__.py):\n"
      ]
     },
     "metadata": {},
     "output_type": "display_data"
    }
   ],
   "source": [
    "embed-repo-link \"We should also add the \\`__version__\\` variable to {src/eeskew_pwg_test_000/__init__.py}:\""
   ]
  },
  {
   "cell_type": "code",
   "execution_count": 17,
   "id": "50967f58",
   "metadata": {
    "slideshow": {
     "slide_type": "fragment"
    },
    "tags": [
     "remove-input"
    ]
   },
   "outputs": [
    {
     "data": {
      "text/markdown": [
       "```python\n",
       "# src/eeskew_pwg_test_000/__init__.py\n",
       "from eeskew_pwg_test_000.__version__ import __version__\n",
       "```\n"
      ]
     },
     "metadata": {},
     "output_type": "display_data"
    }
   ],
   "source": [
    "simple-diff HEAD~ src/eeskew_pwg_test_000/__init__.py | show-code python"
   ]
  },
  {
   "cell_type": "markdown",
   "id": "04035ece",
   "metadata": {
    "slideshow": {
     "slide_type": "fragment"
    }
   },
   "source": [
    "This allows us to check the version from python in the conventional way:"
   ]
  },
  {
   "cell_type": "code",
   "execution_count": 18,
   "id": "1f613f4d",
   "metadata": {
    "slideshow": {
     "slide_type": "fragment"
    }
   },
   "outputs": [
    {
     "name": "stdout",
     "output_type": "stream",
     "text": [
      "0.1.0\n"
     ]
    }
   ],
   "source": [
    "pdm run python -c \"import eeskew_pwg_test_000; print(eeskew_pwg_test_000.__version__)\""
   ]
  },
  {
   "cell_type": "markdown",
   "id": "6fe73b2d",
   "metadata": {
    "slideshow": {
     "slide_type": "skip"
    }
   },
   "source": [
    ":::{seealso}\n",
    "See the [PDM docs on dynamic versioning](https://pdm.fming.dev/latest/pyproject/build/#dynamic-versioning) for more information.\n",
    ":::"
   ]
  },
  {
   "cell_type": "markdown",
   "id": "508ecc38",
   "metadata": {
    "slideshow": {
     "slide_type": "slide"
    }
   },
   "source": [
    "## Packaging the project\n",
    "\n",
    "Let's review the project as it exists so far:"
   ]
  },
  {
   "cell_type": "code",
   "execution_count": 19,
   "id": "fb06f62c",
   "metadata": {
    "slideshow": {
     "slide_type": "skip"
    },
    "tags": [
     "remove-cell"
    ]
   },
   "outputs": [],
   "source": [
    "# remove pycache to clean up output\n",
    "rm -r src/eeskew_pwg_test_000/__pycache__"
   ]
  },
  {
   "cell_type": "code",
   "execution_count": 20,
   "id": "2a9baba5",
   "metadata": {
    "slideshow": {
     "slide_type": "fragment"
    }
   },
   "outputs": [
    {
     "name": "stdout",
     "output_type": "stream",
     "text": [
      ".\n",
      "├── README.md\n",
      "├── pdm.lock\n",
      "├── pyproject.toml\n",
      "└── src\n",
      "    └── eeskew_pwg_test_000\n",
      "        ├── __init__.py\n",
      "        ├── __version__.py\n",
      "        └── sarcasm.py\n",
      "\n",
      "2 directories, 6 files\n"
     ]
    }
   ],
   "source": [
    "tree"
   ]
  },
  {
   "cell_type": "markdown",
   "id": "a2bde3eb",
   "metadata": {
    "slideshow": {
     "slide_type": "subslide"
    }
   },
   "source": [
    "To create an [sdist](https://packaging.python.org/en/latest/specifications/source-distribution-format/) and [wheel](https://packaging.python.org/en/latest/specifications/binary-distribution-format/):"
   ]
  },
  {
   "cell_type": "code",
   "execution_count": 21,
   "id": "23c20adc",
   "metadata": {
    "slideshow": {
     "slide_type": "fragment"
    }
   },
   "outputs": [
    {
     "name": "stdout",
     "output_type": "stream",
     "text": [
      "Building sdist...\n",
      "Built sdist at \n",
      "/Users/Ed/python/eds-notes/repos/_tmp_pwg_presentation_02-08-2023_part2/eeskew-p\n",
      "wg-test-000/dist/eeskew-pwg-test-000-0.1.0.tar.gz\n",
      "Building wheel...\n",
      "Built wheel at \n",
      "/Users/Ed/python/eds-notes/repos/_tmp_pwg_presentation_02-08-2023_part2/eeskew-p\n",
      "wg-test-000/dist/eeskew_pwg_test_000-0.1.0-py3-none-any.whl\n"
     ]
    }
   ],
   "source": [
    "pdm build"
   ]
  },
  {
   "cell_type": "markdown",
   "id": "e6deb0e3",
   "metadata": {
    "slideshow": {
     "slide_type": "slide"
    }
   },
   "source": [
    "### What did `pdm build` do?\n",
    "\n",
    "We've created a new directory named `dist`, where these two distribution formats have been placed."
   ]
  },
  {
   "cell_type": "code",
   "execution_count": 22,
   "id": "3c2bd363",
   "metadata": {
    "slideshow": {
     "slide_type": "fragment"
    }
   },
   "outputs": [
    {
     "name": "stdout",
     "output_type": "stream",
     "text": [
      ".\n",
      "├── README.md\n",
      "├── build\n",
      "├── dist\n",
      "│   ├── eeskew-pwg-test-000-0.1.0.tar.gz\n",
      "│   └── eeskew_pwg_test_000-0.1.0-py3-none-any.whl\n",
      "├── pdm.lock\n",
      "├── pyproject.toml\n",
      "└── src\n",
      "    └── eeskew_pwg_test_000\n",
      "        ├── __init__.py\n",
      "        ├── __version__.py\n",
      "        └── sarcasm.py\n",
      "\n",
      "4 directories, 8 files\n"
     ]
    }
   ],
   "source": [
    "tree"
   ]
  },
  {
   "cell_type": "markdown",
   "id": "84686ed8",
   "metadata": {
    "slideshow": {
     "slide_type": "fragment"
    }
   },
   "source": [
    "We could install this project into a different python environment with `python -m pip install dist/eeskew-pwg-test-000-0.1.0.tar.gz` or `python -m pip install dist/eeskew_pwg_test_000-0.1.0-py3-none-any.whl` (the latter is faster)."
   ]
  },
  {
   "cell_type": "markdown",
   "id": "6e36667a",
   "metadata": {
    "slideshow": {
     "slide_type": "slide"
    }
   },
   "source": [
    "## Publishing the project\n",
    "\n",
    "Now we'll publish the project on (Test)PyPI."
   ]
  },
  {
   "cell_type": "markdown",
   "id": "12658db7",
   "metadata": {
    "slideshow": {
     "slide_type": "skip"
    }
   },
   "source": [
    ":::{note}\n",
    "To publish on the actual index (PyPI, not TestPyPI), simply replace `testpypi` with `pypi` in the instructions that follow.  Try not to pollute PyPI with throwaway projects!\n",
    ":::"
   ]
  },
  {
   "cell_type": "markdown",
   "id": "521417dc",
   "metadata": {
    "slideshow": {
     "slide_type": "fragment"
    }
   },
   "source": [
    "### Setting up PyPI credentials\n",
    "\n",
    "0. First, make an account on [TestPyPI](https://test.pypi.org).\n",
    "1. Navigate to your account settings, scroll down to \"API tokens\", and click \"Add API token\"\n",
    "2. Give the token a descriptive name, set the scope to \"Entire account (all projects)\", and click \"Add token\".\n",
    "3. Copy the token that appears - heeding the warning that it will appear only once!\n",
    "4. Now we'll configure PDM with these credentials (replacing `<PASTE_YOUR_TOKEN_HERE>` with the token you've just copied):\n",
    "\n",
    "```bash\n",
    "pdm config repository.testpypi.username \"__token__\"\n",
    "pdm config repository.testpypi.password \"<PASTE_YOUR_TOKEN_HERE>\"\n",
    "```"
   ]
  },
  {
   "cell_type": "markdown",
   "id": "7a5d3dd0",
   "metadata": {
    "slideshow": {
     "slide_type": "subslide"
    }
   },
   "source": [
    "### Setting up a test-publish PDM script\n",
    "\n",
    "To publish on TestPyPI, we could now simply run:\n",
    "\n",
    "```bash\n",
    "pdm publish -r testpypi\n",
    "```\n",
    "\n",
    "Note that you do not need to run `pdm build` first - PDM will build the distribution as part of `publish` anyway."
   ]
  },
  {
   "cell_type": "markdown",
   "id": "ea4245b0",
   "metadata": {
    "slideshow": {
     "slide_type": "skip"
    }
   },
   "source": [
    ":::{seealso}\n",
    "See the [PDM docs on publishing to PyPI for more information](https://pdm.fming.dev/latest/usage/project/#publish-the-project-to-pypi).\n",
    ":::"
   ]
  },
  {
   "cell_type": "markdown",
   "id": "fc119f57",
   "metadata": {
    "slideshow": {
     "slide_type": "fragment"
    }
   },
   "source": [
    "However, TestPyPI won't let you overwrite an existing version of your package, so we have to bump our version every time we want to do this.  Let's set up a PDM script to automate that."
   ]
  },
  {
   "cell_type": "markdown",
   "id": "aa838c97",
   "metadata": {
    "slideshow": {
     "slide_type": "skip"
    }
   },
   "source": [
    ":::{attention}\n",
    "If you are publishing on PyPI (*not* TestPyPI), you probably don't want to use this script.  Publishing will be as simple as running `pdm bump {version}` to increment your package version number (for example, `pdm bump patch`), and then publishing with `pdm publish` (equivalent to `pdm publish -r pypyi`).\n",
    ":::"
   ]
  },
  {
   "cell_type": "markdown",
   "id": "8c8dfc1b",
   "metadata": {
    "slideshow": {
     "slide_type": "fragment"
    }
   },
   "source": [
    "First, ensure you have the [pdm-bump](https://github.com/carstencodes/pdm-bump) plugin installed."
   ]
  },
  {
   "cell_type": "code",
   "execution_count": 23,
   "id": "75cf2b48",
   "metadata": {
    "slideshow": {
     "slide_type": "skip"
    },
    "tags": [
     "remove-cell"
    ]
   },
   "outputs": [],
   "source": [
    "# This cell hidden in presentation and docs\n",
    "cat << \"EOF\" > pyproject.toml\n",
    "[tool.pdm]\n",
    "version = { source = \"file\", path = \"src/eeskew_pwg_test_000/__version__.py\" }\n",
    "\n",
    "[tool.pdm.scripts]\n",
    "test-publish.shell = '''\\\n",
    "VERSION=$(pdm show --version eeskew-pwg-test-000)\n",
    "pdm bump patch > /dev/null\n",
    "BUMPED_VERSION=$(pdm show --version eeskew-pwg-test-000)\n",
    "DEV_VERSION=$BUMPED_VERSION.dev$(date +%s)\n",
    "echo \"__version__ = \\\"$DEV_VERSION\\\"\" > src/eeskew_pwg_test_000/__version__.py\n",
    "pdm publish -r testpypi\n",
    "echo \"__version__ = \\\"$VERSION\\\"\" > src/eeskew_pwg_test_000/__version__.py\n",
    "'''\n",
    "\n",
    "[tool.pdm.dev-dependencies]\n",
    "dev = [\n",
    "    \"black>=23.1.0\",\n",
    "]\n",
    "\n",
    "[project]\n",
    "name = \"eeskew-pwg-test-000\"\n",
    "description = \"A test project for presentation to the WSU Python Working Group.\"\n",
    "authors = [\n",
    "    {name = \"Edward Eskew\", email = \"edward.eskew@wsu.edu\"},\n",
    "]\n",
    "dependencies = [\n",
    "    \"cowsay>=5.0\",\n",
    "]\n",
    "requires-python = \">=3.11\"\n",
    "readme = \"README.md\"\n",
    "license = {text = \"MIT\"}\n",
    "dynamic = [\"version\"]\n",
    "\n",
    "[build-system]\n",
    "requires = [\"pdm-pep517>=1.0\"]\n",
    "build-backend = \"pdm.pep517.api\"\n",
    "EOF"
   ]
  },
  {
   "cell_type": "code",
   "execution_count": 24,
   "id": "47892e66",
   "metadata": {
    "slideshow": {
     "slide_type": "skip"
    },
    "tags": [
     "remove-cell"
    ]
   },
   "outputs": [
    {
     "name": "stdout",
     "output_type": "stream",
     "text": [
      "Previous HEAD position was 609bd67 Add __version__ to __init__\n",
      "HEAD is now at 21a57db Add test-publish PDM script\n"
     ]
    }
   ],
   "source": [
    "# checkpoint\n",
    "git-checkpoint"
   ]
  },
  {
   "cell_type": "code",
   "execution_count": 25,
   "id": "fce5d8f1",
   "metadata": {
    "slideshow": {
     "slide_type": "fragment"
    },
    "tags": [
     "remove-input"
    ]
   },
   "outputs": [
    {
     "data": {
      "text/markdown": [
       "We add a new PDM script in the `tool.pdm.scripts` table of [`pyproject.toml`](https://github.com/edsq/eeskew-pwg-test-000/tree/21a57dbc68ceaf06f98e977c99d05fee503c9edf/pyproject.toml):\n"
      ]
     },
     "metadata": {},
     "output_type": "display_data"
    }
   ],
   "source": [
    "embed-repo-link \"We add a new PDM script in the \\`tool.pdm.scripts\\` table of {pyproject.toml}:\""
   ]
  },
  {
   "cell_type": "code",
   "execution_count": 26,
   "id": "b910030c",
   "metadata": {
    "slideshow": {
     "slide_type": "subslide"
    },
    "tags": [
     "remove-input"
    ]
   },
   "outputs": [
    {
     "data": {
      "text/markdown": [
       "```toml\n",
       "# pyproject.toml\n",
       "[tool.pdm]\n",
       "version = { source = \"file\", path = \"src/eeskew_pwg_test_000/__version__.py\" }\n",
       "\n",
       "[tool.pdm.scripts]\n",
       "test-publish.shell = '''\\\n",
       "VERSION=$(pdm show --version eeskew-pwg-test-000)\n",
       "pdm bump patch > /dev/null\n",
       "BUMPED_VERSION=$(pdm show --version eeskew-pwg-test-000)\n",
       "DEV_VERSION=$BUMPED_VERSION.dev$(date +%s)\n",
       "echo \"__version__ = \\\"$DEV_VERSION\\\"\" > src/eeskew_pwg_test_000/__version__.py\n",
       "pdm publish -r testpypi\n",
       "echo \"__version__ = \\\"$VERSION\\\"\" > src/eeskew_pwg_test_000/__version__.py\n",
       "'''\n",
       "\n",
       "[tool.pdm.dev-dependencies]\n",
       "dev = [\n",
       "    \"black>=23.1.0\",\n",
       "\n",
       "...\n",
       "```\n"
      ]
     },
     "metadata": {},
     "output_type": "display_data"
    }
   ],
   "source": [
    "simple-diff HEAD~ pyproject.toml | show-code toml"
   ]
  },
  {
   "cell_type": "markdown",
   "id": "ffcbe13c",
   "metadata": {
    "slideshow": {
     "slide_type": "skip"
    }
   },
   "source": [
    ":::{note}\n",
    "A future release of `pdm-bump` will enable this script to be dramatically simplified, or even entirely unecessary.  See this [GitHub issue](https://github.com/carstencodes/pdm-bump/issues/38#issuecomment-1427082451).\n",
    ":::"
   ]
  },
  {
   "cell_type": "markdown",
   "id": "32f24807",
   "metadata": {
    "slideshow": {
     "slide_type": "subslide"
    }
   },
   "source": [
    "When we run `pdm run test-publish`, this script:\n",
    "1. Gets the current version with `pdm show --version`\n",
    "2. Changes the package version to a patch bump of that version with `.dev{date in seconds}` appended.  This is a [developmental release](https://peps.python.org/pep-0440/#developmental-releases) format.\n",
    "3. Publishes the package on TestPyPI\n",
    "4. Returns the package version to its original value\n",
    "\n",
    "Let's run it!"
   ]
  },
  {
   "cell_type": "code",
   "execution_count": 27,
   "id": "387919f3",
   "metadata": {
    "slideshow": {
     "slide_type": "fragment"
    }
   },
   "outputs": [
    {
     "name": "stdout",
     "output_type": "stream",
     "text": [
      "Building sdist...\n",
      "Built sdist at \n",
      "/Users/Ed/python/eds-notes/repos/_tmp_pwg_presentation_02-08-2023_part2/eeskew-p\n",
      "wg-test-000/dist/eeskew-pwg-test-000-0.1.1.dev1678978289.tar.gz\n",
      "Building wheel...\n",
      "Built wheel at \n",
      "/Users/Ed/python/eds-notes/repos/_tmp_pwg_presentation_02-08-2023_part2/eeskew-p\n",
      "wg-test-000/dist/eeskew_pwg_test_000-0.1.1.dev1678978289-py3-none-any.whl\n",
      "\u001b[2KUploading \u001b[32meeskew_pwg_test_000-0.1.1.dev1678978289-py3-none-any.whl\u001b[0m\n",
      "\u001b[2KUploading \u001b[32meeskew-pwg-test-000-0.1.1.dev1678978289.tar.gz\u001b[0m━━━━━━━━\u001b[0m \u001b[32m4.8/4.8 kB\u001b[0m • \u001b[33m00:00\u001b[0m • \u001b[31m?\u001b[0m\n",
      "\u001b[2K \u001b[35m100%\u001b[0m \u001b[38;2;114;156;31m━━━━━━━━━━━━━━━━━━━━━━━━━━━━━━━━━━━━━━━━\u001b[0m \u001b[32m4.8/4.8 kB\u001b[0m • \u001b[33m00:00\u001b[0m • \u001b[31m?\u001b[0m\n",
      "\u001b[2K\u001b[1A\u001b[2K \u001b[35m100%\u001b[0m \u001b[38;2;114;156;31m━━━━━━━━━━━━━━━━━━━━━━━━━━━━━━━━━━━━━━━━\u001b[0m \u001b[32m4.8/4.8 kB\u001b[0m • \u001b[33m00:00\u001b[0m • \u001b[31m?\u001b[0m\n",
      "\u001b[2K\u001b[1A\u001b[2K \u001b[35m100%\u001b[0m \u001b[38;2;114;156;31m━━━━━━━━━━━━━━━━━━━━━━━━━━━━━━━━━━━━━━━━\u001b[0m \u001b[32m4.8/4.8 kB\u001b[0m • \u001b[33m00:00\u001b[0m • \u001b[31m?\u001b[0m\n",
      "\u001b[2K\u001b[1A\u001b[2K \u001b[35m100%\u001b[0m \u001b[38;2;114;156;31m━━━━━━━━━━━━━━━━━━━━━━━━━━━━━━━━━━━━━━━━\u001b[0m \u001b[32m4.8/4.8 kB\u001b[0m • \u001b[33m00:00\u001b[0m • \u001b[31m?\u001b[0m\n",
      "\u001b[2K\u001b[1A\u001b[2K \u001b[35m100%\u001b[0m \u001b[38;2;114;156;31m━━━━━━━━━━━━━━━━━━━━━━━━━━━━━━━━━━━━━━━━\u001b[0m \u001b[32m4.8/4.8 kB\u001b[0m • \u001b[33m00:00\u001b[0m • \u001b[31m?\u001b[0m\n",
      "\u001b[2K\u001b[1A\u001b[2K \u001b[35m100%\u001b[0m \u001b[38;2;114;156;31m━━━━━━━━━━━━━━━━━━━━━━━━━━━━━━━━━━━━━━━━\u001b[0m \u001b[32m4.8/4.8 kB\u001b[0m • \u001b[33m00:00\u001b[0m • \u001b[31m?\u001b[0m\n",
      "\u001b[2K\u001b[1A\u001b[2K \u001b[35m100%\u001b[0m \u001b[38;2;114;156;31m━━━━━━━━━━━━━━━━━━━━━━━━━━━━━━━━━━━━━━━━\u001b[0m \u001b[32m4.8/4.8 kB\u001b[0m • \u001b[33m00:00\u001b[0m • \u001b[31m?\u001b[0m\n",
      "\u001b[2K\u001b[1A\u001b[2K \u001b[35m100%\u001b[0m \u001b[38;2;114;156;31m━━━━━━━━━━━━━━━━━━━━━━━━━━━━━━━━━━━━━━━━\u001b[0m \u001b[32m4.8/4.8 kB\u001b[0m • \u001b[33m00:00\u001b[0m • \u001b[31m?\u001b[0m\n",
      "\u001b[2K\u001b[1A\u001b[2K \u001b[35m100%\u001b[0m \u001b[38;2;114;156;31m━━━━━━━━━━━━━━━━━━━━━━━━━━━━━━━━━━━━━━━━\u001b[0m \u001b[32m4.8/4.8 kB\u001b[0m • \u001b[33m00:00\u001b[0m • \u001b[31m?\u001b[0m\n",
      "\u001b[2K\u001b[1A\u001b[2K \u001b[35m100%\u001b[0m \u001b[38;2;114;156;31m━━━━━━━━━━━━━━━━━━━━━━━━━━━━━━━━━━━━━━━━\u001b[0m \u001b[32m4.8/4.8 kB\u001b[0m • \u001b[33m00:00\u001b[0m • \u001b[31m?\u001b[0m\n",
      "\u001b[2K\u001b[1A\u001b[2K \u001b[35m100%\u001b[0m \u001b[38;2;114;156;31m━━━━━━━━━━━━━━━━━━━━━━━━━━━━━━━━━━━━━━━━\u001b[0m \u001b[32m4.8/4.8 kB\u001b[0m • \u001b[33m00:00\u001b[0m • \u001b[31m?\u001b[0m\n",
      "\u001b[2K\u001b[1A\u001b[2K \u001b[35m100%\u001b[0m \u001b[38;2;114;156;31m━━━━━━━━━━━━━━━━━━━━━━━━━━━━━━━━━━━━━━━━\u001b[0m \u001b[32m4.8/4.8 kB\u001b[0m • \u001b[33m00:00\u001b[0m • \u001b[31m?\u001b[0m\n",
      "\u001b[2K\u001b[1A\u001b[2K \u001b[35m100%\u001b[0m \u001b[38;2;114;156;31m━━━━━━━━━━━━━━━━━━━━━━━━━━━━━━━━━━━━━━━━\u001b[0m \u001b[32m4.8/4.8 kB\u001b[0m • \u001b[33m00:00\u001b[0m • \u001b[31m?\u001b[0m\n",
      "\u001b[2K\u001b[1A\u001b[2K \u001b[35m100%\u001b[0m \u001b[38;2;114;156;31m━━━━━━━━━━━━━━━━━━━━━━━━━━━━━━━━━━━━━━━━\u001b[0m \u001b[32m4.8/4.8 kB\u001b[0m • \u001b[33m00:00\u001b[0m • \u001b[31m?\u001b[0m\n",
      "\u001b[2K\u001b[1A\u001b[2K \u001b[35m100%\u001b[0m \u001b[38;2;114;156;31m━━━━━━━━━━━━━━━━━━━━━━━━━━━━━━━━━━━━━━━━\u001b[0m \u001b[32m4.8/4.8 kB\u001b[0m • \u001b[33m00:00\u001b[0m • \u001b[31m?\u001b[0m\n",
      "\u001b[2K\u001b[1A\u001b[2K \u001b[35m100%\u001b[0m \u001b[38;2;114;156;31m━━━━━━━━━━━━━━━━━━━━━━━━━━━━━━━━━━━━━━━━\u001b[0m \u001b[32m4.8/4.8 kB\u001b[0m • \u001b[33m00:00\u001b[0m • \u001b[31m?\u001b[0m\n",
      "\u001b[2K\u001b[1A\u001b[2K \u001b[35m100%\u001b[0m \u001b[38;2;114;156;31m━━━━━━━━━━━━━━━━━━━━━━━━━━━━━━━━━━━━━━━━\u001b[0m \u001b[32m4.8/4.8 kB\u001b[0m • \u001b[33m00:00\u001b[0m • \u001b[31m?\u001b[0m\n",
      "\u001b[2K\u001b[1A\u001b[2K \u001b[35m100%\u001b[0m \u001b[38;2;114;156;31m━━━━━━━━━━━━━━━━━━━━━━━━━━━━━━━━━━━━━━━━\u001b[0m \u001b[32m4.8/4.8 kB\u001b[0m • \u001b[33m00:00\u001b[0m • \u001b[31m?\u001b[0m\n",
      " \u001b[35m100%\u001b[0m \u001b[38;2;114;156;31m━━━━━━━━━━━━━━━━━━━━━━━━━━━━━━━━━━━━━━━━\u001b[0m \u001b[32m4.0/4.0 kB\u001b[0m • \u001b[33m00:00\u001b[0m • \u001b[31m?\u001b[0m\n",
      "\u001b[?25h\n",
      "\u001b[32mView at:\u001b[0m\n",
      "https://test.pypi.org/project/eeskew-pwg-test-000/0.1.1.dev1678978289/\n"
     ]
    }
   ],
   "source": [
    "pdm run test-publish"
   ]
  },
  {
   "cell_type": "markdown",
   "id": "759707e3",
   "metadata": {
    "slideshow": {
     "slide_type": "skip"
    }
   },
   "source": [
    ":::::{note}\n",
    "If you want to test installing from TestPyPI, you can do so as follows:\n",
    "\n",
    "::::{tab-set}\n",
    "\n",
    ":::{tab-item} PDM\n",
    "\n",
    "Make a new PDM project, add TestPyPI to the local project indices, then install:\n",
    "```\n",
    "pdm config --local pypi.test.url https://test.pypi.org/simple/\n",
    "pdm add your-package\n",
    "```\n",
    ":::\n",
    "\n",
    ":::{tab-item} venv or conda\n",
    "\n",
    "Create a new `venv` or `conda` environment, *don't forget to activate it*, then run:\n",
    "\n",
    "```\n",
    "python -m pip install --index-url https://test.pypi.org/simple/ --extra-index-url https://pypi.org/simple/ your-package\n",
    "```\n",
    ":::\n",
    "\n",
    "::::\n",
    "\n",
    "Be sure not to `pip install` into your system or conda base environment!  First make a new virtual environment using PDM, venv, or conda, and test your install there.\n",
    ":::::"
   ]
  },
  {
   "cell_type": "markdown",
   "id": "2c7809cb",
   "metadata": {
    "slideshow": {
     "slide_type": "skip"
    }
   },
   "source": [
    ":::{seealso}\n",
    "See the [PDM docs on PDM scripts](https://pdm.fming.dev/latest/usage/scripts/) for more information on writing PDM scripts.\n",
    ":::"
   ]
  },
  {
   "cell_type": "markdown",
   "id": "7d805444",
   "metadata": {
    "slideshow": {
     "slide_type": "slide"
    }
   },
   "source": [
    "## Other project metadata\n",
    "\n",
    "There is quite a bit of project metadata we can specify in `pyproject.toml` - here are some other examples."
   ]
  },
  {
   "cell_type": "markdown",
   "id": "13059bb6",
   "metadata": {
    "slideshow": {
     "slide_type": "skip"
    }
   },
   "source": [
    ":::{seealso}\n",
    "See the [PyPA specification](https://packaging.python.org/en/latest/specifications/declaring-project-metadata/) for a complete list of possible metadata keys.\n",
    ":::"
   ]
  },
  {
   "cell_type": "markdown",
   "id": "19846aef",
   "metadata": {
    "slideshow": {
     "slide_type": "subslide"
    }
   },
   "source": [
    "### Add an entry point to the package"
   ]
  },
  {
   "cell_type": "markdown",
   "id": "a6d6a88e",
   "metadata": {
    "slideshow": {
     "slide_type": "notes"
    }
   },
   "source": [
    "If we're developing a command-line application, we want our users to be able to run the application with a single command, not something like `python path_to_script/script.py`.  We can enable this by adding an [entry point](https://packaging.python.org/en/latest/specifications/declaring-project-metadata/#entry-points) to `pyproject.toml`."
   ]
  },
  {
   "cell_type": "code",
   "execution_count": 28,
   "id": "b43a2e7f",
   "metadata": {
    "slideshow": {
     "slide_type": "skip"
    },
    "tags": [
     "remove-cell"
    ]
   },
   "outputs": [],
   "source": [
    "# This cell hidden in presentation and docs\n",
    "cat << \"EOF\" > src/eeskew_pwg_test_000/cli.py\n",
    "import argparse\n",
    "\n",
    "from eeskew_pwg_test_000.sarcasm import sarcastic_cowsay\n",
    "\n",
    "\n",
    "def main():\n",
    "    \"\"\"Cowsay something sarcastically from the command line.\"\"\"\n",
    "    parser = argparse.ArgumentParser()\n",
    "    parser.add_argument(\"speech\")\n",
    "    args = parser.parse_args()\n",
    "\n",
    "    s = args.speech\n",
    "    sarcastic_cowsay(s)\n",
    "EOF"
   ]
  },
  {
   "cell_type": "code",
   "execution_count": 29,
   "id": "acafe445",
   "metadata": {
    "slideshow": {
     "slide_type": "skip"
    },
    "tags": [
     "remove-cell"
    ]
   },
   "outputs": [
    {
     "name": "stdout",
     "output_type": "stream",
     "text": [
      "Previous HEAD position was 21a57db Add test-publish PDM script\n",
      "HEAD is now at d53d416 Add cli.py\n"
     ]
    }
   ],
   "source": [
    "# checkpoint\n",
    "git-checkpoint"
   ]
  },
  {
   "cell_type": "code",
   "execution_count": 30,
   "id": "61e25d3e",
   "metadata": {
    "slideshow": {
     "slide_type": "fragment"
    },
    "tags": [
     "remove-input"
    ]
   },
   "outputs": [
    {
     "data": {
      "text/markdown": [
       "First, add a new module, [`src/eeskew_pwg_test_000/cli.py`](https://github.com/edsq/eeskew-pwg-test-000/tree/d53d4161677336d995c0a8bf5b046740a8a975b4/src/eeskew_pwg_test_000/cli.py):\n"
      ]
     },
     "metadata": {},
     "output_type": "display_data"
    }
   ],
   "source": [
    "embed-repo-link \"First, add a new module, {src/eeskew_pwg_test_000/cli.py}\":"
   ]
  },
  {
   "cell_type": "code",
   "execution_count": 31,
   "id": "6bdc5bfd",
   "metadata": {
    "slideshow": {
     "slide_type": "fragment"
    },
    "tags": [
     "remove-input"
    ]
   },
   "outputs": [
    {
     "data": {
      "text/markdown": [
       "```python\n",
       "# src/eeskew_pwg_test_000/cli.py\n",
       "import argparse\n",
       "\n",
       "from eeskew_pwg_test_000.sarcasm import sarcastic_cowsay\n",
       "\n",
       "\n",
       "def main():\n",
       "    \"\"\"Cowsay something sarcastically from the command line.\"\"\"\n",
       "    parser = argparse.ArgumentParser()\n",
       "    parser.add_argument(\"speech\")\n",
       "    args = parser.parse_args()\n",
       "\n",
       "    s = args.speech\n",
       "    sarcastic_cowsay(s)\n",
       "```\n"
      ]
     },
     "metadata": {},
     "output_type": "display_data"
    }
   ],
   "source": [
    "simple-diff HEAD~ src/eeskew_pwg_test_000/cli.py | show-code python"
   ]
  },
  {
   "cell_type": "code",
   "execution_count": 32,
   "id": "6a0ac68b",
   "metadata": {
    "slideshow": {
     "slide_type": "skip"
    },
    "tags": [
     "remove-cell"
    ]
   },
   "outputs": [],
   "source": [
    "# This cell hidden in presentation and docs\n",
    "cat << \"EOF\" > pyproject.toml\n",
    "[tool.pdm]\n",
    "version = { source = \"file\", path = \"src/eeskew_pwg_test_000/__version__.py\" }\n",
    "\n",
    "[tool.pdm.scripts]\n",
    "test-publish.shell = '''\\\n",
    "VERSION=$(pdm show --version eeskew-pwg-test-000)\n",
    "pdm bump patch > /dev/null\n",
    "BUMPED_VERSION=$(pdm show --version eeskew-pwg-test-000)\n",
    "DEV_VERSION=$BUMPED_VERSION.dev$(date +%s)\n",
    "echo \"__version__ = \\\"$DEV_VERSION\\\"\" > src/eeskew_pwg_test_000/__version__.py\n",
    "pdm publish -r testpypi\n",
    "echo \"__version__ = \\\"$VERSION\\\"\" > src/eeskew_pwg_test_000/__version__.py\n",
    "'''\n",
    "\n",
    "[tool.pdm.dev-dependencies]\n",
    "dev = [\n",
    "    \"black>=23.1.0\",\n",
    "]\n",
    "\n",
    "[project]\n",
    "name = \"eeskew-pwg-test-000\"\n",
    "description = \"A test project for presentation to the WSU Python Working Group.\"\n",
    "authors = [\n",
    "    {name = \"Edward Eskew\", email = \"edward.eskew@wsu.edu\"},\n",
    "]\n",
    "dependencies = [\n",
    "    \"cowsay>=5.0\",\n",
    "]\n",
    "requires-python = \">=3.11\"\n",
    "readme = \"README.md\"\n",
    "license = {text = \"MIT\"}\n",
    "dynamic = [\"version\"]\n",
    "\n",
    "[project.scripts]\n",
    "sarcasticow = \"eeskew_pwg_test_000.cli:main\"\n",
    "\n",
    "[build-system]\n",
    "requires = [\"pdm-pep517>=1.0\"]\n",
    "build-backend = \"pdm.pep517.api\"\n",
    "EOF"
   ]
  },
  {
   "cell_type": "code",
   "execution_count": 33,
   "id": "8ccb0060",
   "metadata": {
    "slideshow": {
     "slide_type": "skip"
    },
    "tags": [
     "remove-cell"
    ]
   },
   "outputs": [
    {
     "name": "stdout",
     "output_type": "stream",
     "text": [
      "Previous HEAD position was d53d416 Add cli.py\n",
      "HEAD is now at 0b1a2be Add sarcasticow entry point to pyproject.toml\n"
     ]
    }
   ],
   "source": [
    "# checkpoint\n",
    "git-checkpoint"
   ]
  },
  {
   "cell_type": "code",
   "execution_count": 34,
   "id": "e897737f",
   "metadata": {
    "slideshow": {
     "slide_type": "subslide"
    },
    "tags": [
     "remove-input"
    ]
   },
   "outputs": [
    {
     "data": {
      "text/markdown": [
       "Now let's add the script to [`pyproject.toml`](https://github.com/edsq/eeskew-pwg-test-000/tree/0b1a2beda38666ee3bac7069ebe2e36d3eeaf636/pyproject.toml), in the `project.scripts` table:\n"
      ]
     },
     "metadata": {},
     "output_type": "display_data"
    }
   ],
   "source": [
    "embed-repo-link \"Now let's add the script to {pyproject.toml}, in the \\`project.scripts\\` table\":"
   ]
  },
  {
   "cell_type": "code",
   "execution_count": 35,
   "id": "aae94917",
   "metadata": {
    "slideshow": {
     "slide_type": "fragment"
    },
    "tags": [
     "remove-input"
    ]
   },
   "outputs": [
    {
     "data": {
      "text/markdown": [
       "```toml\n",
       "# pyproject.toml\n",
       "...\n",
       "\n",
       "license = {text = \"MIT\"}\n",
       "dynamic = [\"version\"]\n",
       "\n",
       "[project.scripts]\n",
       "sarcasticow = \"eeskew_pwg_test_000.cli:main\"\n",
       "\n",
       "[build-system]\n",
       "requires = [\"pdm-pep517>=1.0\"]\n",
       "build-backend = \"pdm.pep517.api\"\n",
       "```\n"
      ]
     },
     "metadata": {},
     "output_type": "display_data"
    }
   ],
   "source": [
    "simple-diff HEAD~ pyproject.toml | show-code toml"
   ]
  },
  {
   "cell_type": "markdown",
   "id": "b50f57ff",
   "metadata": {
    "slideshow": {
     "slide_type": "fragment"
    }
   },
   "source": [
    "Note the new entry for `sarcasticow` in the `project.scripts` table.\n",
    "\n",
    "To use the `sarcasticow` command, we need to re-install the project:"
   ]
  },
  {
   "cell_type": "code",
   "execution_count": 36,
   "id": "49a5838b",
   "metadata": {
    "slideshow": {
     "slide_type": "subslide"
    }
   },
   "outputs": [
    {
     "name": "stdout",
     "output_type": "stream",
     "text": [
      "\u001b[2K\u001b[36m⠋\u001b[0m Fetching hashes for resolved packages...\n",
      "\u001b[1A\u001b[2KAll packages are synced to date, nothing to do.\n",
      "\u001b[2KInstalling the project as an editable package...\n",
      "\u001b[2K  \u001b[32m✔\u001b[0m Update \u001b[1;32meeskew-pwg-test-000\u001b[0m \u001b[33m0.1.0\u001b[0m -> \u001b[33m0.1.0\u001b[0m successful\n",
      "\u001b[2K36m⠦\u001b[0m Updating \u001b[1;32meeskew-pwg-test-000\u001b[0m \u001b[33m0.1.0\u001b[0m -> \u001b[33m0.1.0\u001b[0m...\n",
      "🎉 All complete!\n",
      "\u001b[2K36m⠦\u001b[0m Updating \u001b[1;32meeskew-pwg-test-000\u001b[0m \u001b[33m0.1.0\u001b[0m -> \u001b[33m0.1.0\u001b[0m...\n",
      "\u001b[?25h\n"
     ]
    }
   ],
   "source": [
    "pdm install"
   ]
  },
  {
   "cell_type": "markdown",
   "id": "b34d2f9d",
   "metadata": {
    "slideshow": {
     "slide_type": "subslide"
    }
   },
   "source": [
    "Now we can run our command from within the environment:"
   ]
  },
  {
   "cell_type": "code",
   "execution_count": 38,
   "id": "c03935c6",
   "metadata": {
    "slideshow": {
     "slide_type": "fragment"
    }
   },
   "outputs": [
    {
     "name": "stdout",
     "output_type": "stream",
     "text": [
      "  ___________________\n",
      "| i'm a sArCaStIc cOw |\n",
      "  ===================\n",
      "                   \\\n",
      "                    \\\n",
      "                      ^__^\n",
      "                      (oo)\\_______\n",
      "                      (__)\\       )\\/\\\n",
      "                          ||----w |\n",
      "                          ||     ||\n"
     ]
    }
   ],
   "source": [
    "pdm run sarcasticow \"I'm a sarcastic cow\""
   ]
  },
  {
   "cell_type": "markdown",
   "id": "e3e8a6a6",
   "metadata": {
    "slideshow": {
     "slide_type": "notes"
    }
   },
   "source": [
    ":::{note}\n",
    "Because we're using `pdm` for environment management, we still need to use `pdm run` to access the script installed into the virtual environment.  We could also first activate the environment with `eval $(pdm venv activate)`.\n",
    "\n",
    "Unlike the `test-publish` PDM script we wrote earlier, if we activate the environment, we could simply use the `sarcasticow` command by itself (without `pdm run`), and users who install our package with `pip` into their own virtualenv or conda environment will also have access to `sarcasticow`.  Even better, users who install our package through [`pipx`](https://pypa.github.io/pipx/) will be able to use the `sarcasticow` command without activating a virtual environment.\n",
    ":::"
   ]
  },
  {
   "cell_type": "markdown",
   "id": "aa7f79a6",
   "metadata": {
    "slideshow": {
     "slide_type": "subslide"
    }
   },
   "source": [
    "### Updating README\n",
    "\n",
    "Thus far, we've left our README as an empty file.  This is bad."
   ]
  },
  {
   "cell_type": "code",
   "execution_count": 39,
   "id": "87feb38f",
   "metadata": {
    "slideshow": {
     "slide_type": "skip"
    },
    "tags": [
     "remove-cell"
    ]
   },
   "outputs": [],
   "source": [
    "# This cell hidden in presentation and docs\n",
    "cat << \"EOF\" > README.md\n",
    "# eeskew-pwg-test-000\n",
    "\n",
    "This is a companion repository to the presentation [Project Management and Publishing with PDM](https://edsq.github.io/eds-notes/python_notes/pwg_presentation/intro.html).\n",
    "\n",
    "Command-line usage:\n",
    "\n",
    "```\n",
    "$ sarcasticow \"I'm a sarcastic cow\"\n",
    "\n",
    "  ___________________\n",
    "| i'm a sArCaStIc cOw |\n",
    "  ===================\n",
    "                   \\\n",
    "                    \\\n",
    "                      ^__^\n",
    "                      (oo)\\_______\n",
    "                      (__)\\       )\\/\\\n",
    "                          ||----w |\n",
    "                          ||     ||\n",
    "\n",
    "```\n",
    "EOF"
   ]
  },
  {
   "cell_type": "code",
   "execution_count": 40,
   "id": "0f1e1648",
   "metadata": {
    "slideshow": {
     "slide_type": "skip"
    },
    "tags": [
     "remove-cell"
    ]
   },
   "outputs": [
    {
     "name": "stdout",
     "output_type": "stream",
     "text": [
      "Previous HEAD position was 0b1a2be Add sarcasticow entry point to pyproject.toml\n",
      "HEAD is now at 21bf650 Add sarcasticow to README\n"
     ]
    }
   ],
   "source": [
    "# checkpoint\n",
    "git-checkpoint"
   ]
  },
  {
   "cell_type": "code",
   "execution_count": 41,
   "id": "d3565085",
   "metadata": {
    "slideshow": {
     "slide_type": "fragment"
    },
    "tags": [
     "remove-input"
    ]
   },
   "outputs": [
    {
     "data": {
      "text/markdown": [
       "Let's update [`README.md`](https://github.com/edsq/eeskew-pwg-test-000/tree/21bf6500a6b2d62525f0c22c1e61d175e2a3a9e8/README.md) to show our utility's usage:\n"
      ]
     },
     "metadata": {},
     "output_type": "display_data"
    }
   ],
   "source": [
    "embed-repo-link \"Let's update {README.md} to show our utility's usage:\""
   ]
  },
  {
   "cell_type": "code",
   "execution_count": 49,
   "id": "fbd674cb",
   "metadata": {
    "slideshow": {
     "slide_type": "fragment"
    },
    "tags": [
     "remove-input"
    ]
   },
   "outputs": [
    {
     "name": "stdout",
     "output_type": "stream",
     "text": [
      "<!-- README.md -->\n",
      "# eeskew-pwg-test-000\n",
      "\n",
      "This is a companion repository to the presentation [Project Management and Publishing with PDM](https://edsq.github.io/eds-notes/python_notes/pwg_presentation/intro.html).\n",
      "\n",
      "Command-line usage:\n",
      "\n",
      "```\n",
      "$ sarcasticow \"I'm a sarcastic cow\"\n",
      "\n",
      "  ___________________\n",
      "| i'm a sArCaStIc cOw |\n",
      "  ===================\n",
      "                   \\\n",
      "                    \\\n",
      "                      ^__^\n",
      "                      (oo)\\_______\n",
      "                      (__)\\       )\\/\\\n",
      "                          ||----w |\n",
      "                          ||     ||\n",
      "\n",
      "```\n"
     ]
    }
   ],
   "source": [
    "simple-diff --comment-fmt '<!-- {} -->' HEAD~ README.md"
   ]
  },
  {
   "cell_type": "markdown",
   "id": "22d822a8",
   "metadata": {
    "slideshow": {
     "slide_type": "subslide"
    }
   },
   "source": [
    "### Project URLs\n",
    "\n",
    "We can add relevant URLs in the [`urls` table](https://packaging.python.org/en/latest/specifications/declaring-project-metadata/#urls), which will appear in the sidebar on PyPI."
   ]
  },
  {
   "cell_type": "code",
   "execution_count": null,
   "id": "f8b1b89a",
   "metadata": {
    "slideshow": {
     "slide_type": "skip"
    },
    "tags": [
     "remove-cell"
    ]
   },
   "outputs": [],
   "source": [
    "# This cell hidden in presentation and docs\n",
    "cat << \"EOF\" > pyproject.toml\n",
    "[tool.pdm]\n",
    "version = { source = \"file\", path = \"src/eeskew_pwg_test_000/__version__.py\" }\n",
    "\n",
    "[tool.pdm.scripts]\n",
    "test-publish.shell = '''\\\n",
    "VERSION=$(pdm show --version eeskew-pwg-test-000)\n",
    "pdm bump patch > /dev/null\n",
    "BUMPED_VERSION=$(pdm show --version eeskew-pwg-test-000)\n",
    "DEV_VERSION=$BUMPED_VERSION.dev$(date +%s)\n",
    "echo \"__version__ = \\\"$DEV_VERSION\\\"\" > src/eeskew_pwg_test_000/__version__.py\n",
    "pdm publish -r testpypi\n",
    "echo \"__version__ = \\\"$VERSION\\\"\" > src/eeskew_pwg_test_000/__version__.py\n",
    "'''\n",
    "\n",
    "[tool.pdm.dev-dependencies]\n",
    "dev = [\n",
    "    \"black>=23.1.0\",\n",
    "]\n",
    "\n",
    "[project]\n",
    "name = \"eeskew-pwg-test-000\"\n",
    "description = \"A test project for presentation to the WSU Python Working Group.\"\n",
    "authors = [\n",
    "    {name = \"Edward Eskew\", email = \"edward.eskew@wsu.edu\"},\n",
    "]\n",
    "dependencies = [\n",
    "    \"cowsay>=5.0\",\n",
    "]\n",
    "requires-python = \">=3.11\"\n",
    "readme = \"README.md\"\n",
    "license = {text = \"MIT\"}\n",
    "dynamic = [\"version\"]\n",
    "\n",
    "[project.urls]\n",
    "Documentation = \"https://edsq.github.io/eds-notes/python_notes/pwg_presentation/intro.html\"\n",
    "Repository = \"https://github.com/edsq/eeskew-pwg-test-000\"\n",
    "\n",
    "[project.scripts]\n",
    "sarcasticow = \"eeskew_pwg_test_000.cli:main\"\n",
    "\n",
    "[build-system]\n",
    "requires = [\"pdm-pep517>=1.0\"]\n",
    "build-backend = \"pdm.pep517.api\"\n",
    "EOF"
   ]
  },
  {
   "cell_type": "code",
   "execution_count": null,
   "id": "c964aeb1",
   "metadata": {
    "slideshow": {
     "slide_type": "skip"
    },
    "tags": [
     "remove-cell"
    ]
   },
   "outputs": [],
   "source": [
    "# checkpoint\n",
    "git-checkpoint"
   ]
  },
  {
   "cell_type": "code",
   "execution_count": null,
   "id": "dbc099b6",
   "metadata": {
    "slideshow": {
     "slide_type": "fragment"
    },
    "tags": [
     "remove-input"
    ]
   },
   "outputs": [],
   "source": [
    "embed-repo-link \"In the \\`project.urls\\` table of {pyproject.toml}, we set \\`Documentation\\` to a link to our docs (this Jupyter Book), and \\`Repository\\` to the GitHub repo for this code.\""
   ]
  },
  {
   "cell_type": "code",
   "execution_count": null,
   "id": "2d115258",
   "metadata": {
    "slideshow": {
     "slide_type": "fragment"
    },
    "tags": [
     "remove-input"
    ]
   },
   "outputs": [],
   "source": [
    "simple-diff HEAD~ pyproject.toml | show-code toml"
   ]
  },
  {
   "cell_type": "markdown",
   "id": "7f044484",
   "metadata": {
    "slideshow": {
     "slide_type": "subslide"
    }
   },
   "source": [
    "Finally, we publish again to TestPyPI:"
   ]
  },
  {
   "cell_type": "code",
   "execution_count": null,
   "id": "61379e0b",
   "metadata": {
    "slideshow": {
     "slide_type": "fragment"
    }
   },
   "outputs": [],
   "source": [
    "pdm run test-publish"
   ]
  },
  {
   "cell_type": "markdown",
   "id": "5066832a",
   "metadata": {
    "slideshow": {
     "slide_type": "fragment"
    }
   },
   "source": [
    "Our page on TestPyPI now shows the README, and the documentation and repository links are available on the sidebar:"
   ]
  },
  {
   "cell_type": "markdown",
   "id": "bfef05ed",
   "metadata": {
    "slideshow": {
     "slide_type": "skip"
    }
   },
   "source": [
    ":::{image} images/testpypi_project_screenshot.png\n",
    ":::"
   ]
  },
  {
   "cell_type": "markdown",
   "id": "70531ad5",
   "metadata": {
    "slideshow": {
     "slide_type": "slide"
    }
   },
   "source": [
    "## Conclusion\n",
    "\n",
    "And that's it!  We've gone through the basics of project management, packaging, and publishing on (Test)PyPI.\n",
    "\n",
    "### Further reading\n",
    "\n",
    "Some good articles for further reading:\n",
    "\n",
    "- The official [PyPA packaging tutorial](https://packaging.python.org/en/latest/tutorials/packaging-projects/) is a good place to start.\n",
    "- I have taken quite a bit of inspiration in my work from the great series [Hypermodern Python](https://cjolowicz.github.io/posts/hypermodern-python-01-setup/) by Claudio Jolowicz.  It goes into much greater detail on various points of project management than I did here, and is well worth a read.\n",
    "    - Hypermodern Python uses the project manager [Poetry](https://python-poetry.org), not PDM (see my thoughts on that below), but PDM can do nearly everything Poetry can do, so this series is still useful.\n",
    "- [How to improve Python packaging, or why fourteen tools are at least twelve too many](https://chriswarrick.com/blog/2023/01/15/how-to-improve-python-packaging/) is a good overview of the mess of modern python project management tools.\n",
    "\n",
    "Some important accepted Python Enhancement Proposals that shape the modern python packaging ecosystem:\n",
    "\n",
    "- [PEP 621](https://peps.python.org/pep-0621/) (project metadata in `pyproject.toml`)\n",
    "- [PEP 508](https://peps.python.org/pep-0508/) (dependency specification syntax)\n",
    "- [PEP 440](https://peps.python.org/pep-0440/) (version numbers for dependency specification)\n",
    "- [PEP 517](https://peps.python.org/pep-0517/) (specifying the build backend in `pyproject.toml` independently of the build frontend)\n",
    "\n",
    "\n",
    "### Other project management tools\n",
    "\n",
    "You'll note that Hypermodern Python recommends using the project manager [Poetry](https://python-poetry.org).  Poetry was a cutting-edge option at the time that series was written, and it has grown to considerable popularity.  I chose not to recommend it in this tutorial for several reasons:\n",
    "\n",
    "- Poetry is not fully [PEP 517](https://peps.python.org/pep-0517/) compliant.  This means you and your users will not be able to use any other tool to build and install your project.\n",
    "- By default, Poetry imposes an upper bound on dependency version numbers.  This goes against [Python standards](https://peps.python.org/pep-0440/) and will likely cause problems down the line: see articles [here](https://iscinumpy.dev/post/bound-version-constraints/) and [here](https://iscinumpy.dev/post/poetry-versions/).\n",
    "- The Poetry developers chose to \"deprecate\" their old install script by [*causing it to randomly fail*](https://youtu.be/Gr9o8MW_pb0?t=290) instead of sunsetting with a typical deprecation warning.  This bizarre choice raises serious concerns about the future of the application.\n",
    "- PDM has considerably fewer open issues on GitHub than Poetry: at the time of this writing, [34](https://github.com/pdm-project/pdm/issues) vs [575](https://github.com/python-poetry/poetry/issues).\n",
    "    - Some of this is explainable by PDM having fewer users than Poetry.  However, PDM has 4.1k stars on Github vs. Poetry's 24.1k, so using those stars as a proxy for the number of users, we see Poetry has 17 times the number of open issues but only 6 times the number of users as PDM.\n",
    "- The Poetry developers are famously stubborn and slow to implement new python standards, while the PDM developer is remarkably responsive and active in development.\n",
    "- Poetry is much more inflexible about resolving dependency conflicts than PDM, which quickly becomes a huge headache for complicated projects.\n",
    "\n",
    "Another project manager worth looking in to is [Hatch](https://hatch.pypa.io/latest/).  I don't have any experience with this particular tool, but it does support modern Python standards and has the benefit of being an official part of the Python Packaging Authority (PyPA).  However, it does not have lockfile support, as there is not yet an established standard (PEP [665](https://peps.python.org/pep-0665/) was an attempt, but it was rejected).  If you don't need a lockfile in your work, it may be worth considering.\n",
    "\n",
    "Finally, for those using `conda`, [anaconda-project](https://anaconda-project.readthedocs.io/en/latest/) deserves a mention.  It isn't a full-fledged project manager (for example, you can't easily use it to publish on PyPI), but it does dramatically simplify sharing and running code."
   ]
  }
 ],
 "metadata": {
  "celltoolbar": "Tags",
  "jupytext": {
   "cell_metadata_filter": "all",
   "notebook_metadata_filter": "all"
  },
  "kernelspec": {
   "display_name": "Bash",
   "language": "bash",
   "name": "bash"
  },
  "language_info": {
   "codemirror_mode": "shell",
   "file_extension": ".sh",
   "mimetype": "text/x-sh",
   "name": "bash"
  },
  "rise": {
   "autolaunch": false,
   "scroll": true
  }
 },
 "nbformat": 4,
 "nbformat_minor": 5
}
