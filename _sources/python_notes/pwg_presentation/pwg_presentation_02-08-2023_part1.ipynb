{
 "cells": [
  {
   "cell_type": "code",
   "execution_count": 1,
   "id": "81adc156",
   "metadata": {
    "slideshow": {
     "slide_type": "skip"
    },
    "tags": [
     "remove-cell"
    ]
   },
   "outputs": [],
   "source": [
    "bind \"set show-mode-in-prompt off\"  # Turn off showing the vi mode in prompt, which clutters up the output here"
   ]
  },
  {
   "cell_type": "code",
   "execution_count": 65,
   "id": "42216c97",
   "metadata": {
    "slideshow": {
     "slide_type": "skip"
    },
    "tags": [
     "remove-cell"
    ]
   },
   "outputs": [],
   "source": [
    "# Function for linking to file in companion repo\n",
    "repo-link() {\n",
    "echo \"\\`\\`\\`\\`{margin}\n",
    "\\`\\`\\`{admonition} Repository link\n",
    ":class: seealso\n",
    "See \\`$(basename $1)\\` in the companion repo [here](https://github.com/edsq/eeskew-pwg-test-000/tree/$(git rev-parse HEAD)/$1).\n",
    "\\`\\`\\`\n",
    "\\`\\`\\`\\`\" | displayMD\n",
    "}\n",
    "\n",
    "# Alias for colored ls\n",
    "alias ls=\"gls --color=always\""
   ]
  },
  {
   "cell_type": "markdown",
   "id": "056a1319",
   "metadata": {
    "slideshow": {
     "slide_type": "slide"
    }
   },
   "source": [
    "# Project Management with PDM\n",
    "\n",
    "Part 1 of notes from talk given to the WSU Python Working Group on February 8, 2023.\n",
    "\n",
    "Here I show the basics of project management with [PDM](https://pdm.fming.dev/latest/): how to create a project,\n",
    "add dependencies, and add development dependencies.\n",
    "\n",
    "This tutorial is primarily aimed at macOS and Linux users, although the commands for Windows should mostly translate."
   ]
  },
  {
   "cell_type": "markdown",
   "id": "9db00b06",
   "metadata": {
    "slideshow": {
     "slide_type": "skip"
    }
   },
   "source": [
    ":::{note}\n",
    "A companion repository with the example project created in these notes is available [here](https://github.com/edsq/eeskew-pwg-test-000).\n",
    ":::"
   ]
  },
  {
   "cell_type": "markdown",
   "id": "d0744b8e",
   "metadata": {
    "slideshow": {
     "slide_type": "subslide"
    }
   },
   "source": [
    "Requirements:\n",
    "\n",
    "- The ability to get python executables of different versions, such as with [pyenv](https://github.com/pyenv/pyenv) or [conda](https://docs.conda.io/en/latest/miniconda.html)\n",
    "- [PDM](https://pdm.fming.dev/latest/) available globally\n",
    "- The [pdm-bump](https://github.com/carstencodes/pdm-bump) plugin installed"
   ]
  },
  {
   "cell_type": "markdown",
   "id": "2effe21f",
   "metadata": {
    "slideshow": {
     "slide_type": "slide"
    }
   },
   "source": [
    "First, create the project directory and `cd` into it:\n",
    "\n",
    "```bash\n",
    "mkdir eeskew-pwg-test-000\n",
    "cd eeskew-pwg-test-000\n",
    "```"
   ]
  },
  {
   "cell_type": "markdown",
   "id": "87483819",
   "metadata": {
    "slideshow": {
     "slide_type": "notes"
    }
   },
   "source": [
    ":::{important}\n",
    "Because this is a throwaway test project, it is important that you give your project a name that won't conflict with any other package on PyPI or TestPyPI. Adding your name and some numbers is a good way to ensure this.\n",
    ":::"
   ]
  },
  {
   "cell_type": "markdown",
   "id": "25a9b4f5",
   "metadata": {
    "slideshow": {
     "slide_type": "slide"
    }
   },
   "source": [
    "## Set the python version and initialize the project\n",
    "\n",
    "Here, we'll use python version 3.11, but you may change this to be whatever you like.  I'll cover two methods of setting the python version: using [`pyenv`](https://github.com/pyenv/pyenv), and using [`conda`](https://conda.io/projects/conda/en/latest/user-guide/tasks/manage-environments.html)."
   ]
  },
  {
   "cell_type": "markdown",
   "id": "19f7a81a",
   "metadata": {
    "slideshow": {
     "slide_type": "subslide"
    },
    "tags": [
     "remove-cell"
    ]
   },
   "source": [
    "### Using `pyenv`\n",
    "\n",
    "Install python 3.11 if it is not already (see installed versions with `pyenv versions`):\n",
    "\n",
    "```bash\n",
    "pyenv install 3.11\n",
    "```\n",
    "\n",
    "Set the local python version for this project and initialize using that version:\n",
    "\n",
    "```bash\n",
    "pyenv local 3.11\n",
    "pdm init --python python\n",
    "```\n",
    "\n",
    "`pyenv local` creates a file `.python-version`, which `pyenv` reads and redirects the command `python` to the installed `python3.11`.  Thus, we only need to tell pdm to use the usual `python` executable."
   ]
  },
  {
   "cell_type": "markdown",
   "id": "76902e65",
   "metadata": {
    "slideshow": {
     "slide_type": "subslide"
    },
    "tags": [
     "remove-cell"
    ]
   },
   "source": [
    "### Using `conda`\n",
    "\n",
    "PDM can also use `conda` to create your virtual environment.  To do this simply, we create the virtual environment before initializing the project, so that we can pass the right python executable to `pdm init`.\n",
    "\n",
    "```bash\n",
    "pdm venv create -w conda 3.11\n",
    "pdm init --python .venv/bin/python\n",
    "```"
   ]
  },
  {
   "cell_type": "markdown",
   "id": "52fdefed",
   "metadata": {
    "slideshow": {
     "slide_type": "skip"
    }
   },
   "source": [
    "::::{tab-set}\n",
    ":::{tab-item} Using `pyenv`\n",
    "\n",
    "Install python 3.11 if it is not already (see installed versions with `pyenv versions`):\n",
    "\n",
    "```bash\n",
    "pyenv install 3.11\n",
    "```\n",
    "\n",
    "Set the local python version for this project and initialize using that version:\n",
    "\n",
    "```bash\n",
    "pyenv local 3.11\n",
    "pdm init --python python\n",
    "```\n",
    "\n",
    "`pyenv local` creates a file `.python-version`, which `pyenv` reads and redirects the command `python` to the installed `python3.11`.  Thus, we only need to tell pdm to use the usual `python` executable.\n",
    ":::\n",
    "\n",
    ":::{tab-item} Using `conda`\n",
    "\n",
    "PDM can use `conda` to create your virtual environment.  To do this simply, we create the virtual environment before initializing the project, so that we can pass the right python executable to `pdm init`.\n",
    "\n",
    "```bash\n",
    "pdm venv create -w conda 3.11\n",
    "pdm init --python .venv/bin/python\n",
    "```\n",
    ":::\n",
    "::::"
   ]
  },
  {
   "cell_type": "markdown",
   "id": "96d7a6e6",
   "metadata": {
    "slideshow": {
     "slide_type": "subslide"
    }
   },
   "source": [
    "### `pdm init` options\n",
    "\n",
    "For\n",
    "\n",
    "```\n",
    "Is the project a library that is installable?\n",
    "A few more questions will be asked to include a project name and build backend [y/n] (n):\n",
    "```\n",
    "\n",
    "select `y`.  Otherwise, all the default options should be good."
   ]
  },
  {
   "cell_type": "code",
   "execution_count": 3,
   "id": "902c3796",
   "metadata": {
    "slideshow": {
     "slide_type": "skip"
    },
    "tags": [
     "remove-cell"
    ]
   },
   "outputs": [],
   "source": [
    "# Make sure we're in the repo directory\n",
    "# Note: if cwd is already the companion repo, this will fail.\n",
    "# Either restart the kernel first or don't run this cell, in that case.\n",
    "project_dir=$(pdm info --where)\n",
    "cd $project_dir/repos/eeskew-pwg-test-000"
   ]
  },
  {
   "cell_type": "code",
   "execution_count": 4,
   "id": "cf7710d5",
   "metadata": {
    "slideshow": {
     "slide_type": "skip"
    },
    "tags": [
     "remove-cell"
    ]
   },
   "outputs": [
    {
     "name": "stdout",
     "output_type": "stream",
     "text": [
      "Removing .venv/\n",
      "HEAD is now at 1efdf5a pdm init skeleton\n",
      "\u001b[2K\u001b[36m⠴\u001b[0m Creating virtualenv using \u001b[32mvirtualenv\u001b[0m.....\n",
      "\u001b[1A\u001b[2KVirtualenv \u001b[32m/Users/Ed/python/eds-notes/repos/eeskew-pwg-test-000/.venv\u001b[0m is created\n",
      "successfully\n"
     ]
    }
   ],
   "source": [
    "# Start companion repo fresh from the beginning\n",
    "git clean -dfx  # remove all untracked files (src, build, dist, .venv)\n",
    "git checkout $(git rev-list --topo-order main | tail -1)  # check out first commit\n",
    "pdm venv create --force python"
   ]
  },
  {
   "cell_type": "code",
   "execution_count": 5,
   "id": "18163079",
   "metadata": {
    "slideshow": {
     "slide_type": "skip"
    },
    "tags": [
     "remove-cell"
    ]
   },
   "outputs": [
    {
     "name": "stdout",
     "output_type": "stream",
     "text": [
      "\u001b[36mPDM version\u001b[0m:\n",
      "  2.4.8\n",
      "\u001b[36mPython Interpreter\u001b[0m:\n",
      "  /Users/Ed/python/eds-notes/repos/eeskew-pwg-test-000/.venv/bin/python (3.11)\n",
      "\u001b[36mProject Root\u001b[0m:\n",
      "  /Users/Ed/python/eds-notes/repos/eeskew-pwg-test-000\n",
      "\u001b[36mProject Packages\u001b[0m:\n",
      "  None\n"
     ]
    }
   ],
   "source": [
    "# This cell hidden in presentation and docs\n",
    "# Check that the environment and project are correct\n",
    "pdm info"
   ]
  },
  {
   "cell_type": "markdown",
   "id": "f84a81c1",
   "metadata": {
    "slideshow": {
     "slide_type": "slide"
    }
   },
   "source": [
    "## The PDM project\n",
    "\n",
    "Let's take a look at what we've created:"
   ]
  },
  {
   "cell_type": "code",
   "execution_count": 6,
   "id": "cd742b61",
   "metadata": {
    "slideshow": {
     "slide_type": "fragment"
    }
   },
   "outputs": [
    {
     "name": "stdout",
     "output_type": "stream",
     "text": [
      "\u001b[0m\u001b[01;34m.\u001b[0m   \u001b[01;34m.git\u001b[0m        .pdm.toml        \u001b[01;34m.venv\u001b[0m      pyproject.toml\n",
      "\u001b[01;34m..\u001b[0m  .gitignore  .python-version  README.md\n"
     ]
    }
   ],
   "source": [
    "ls -a"
   ]
  },
  {
   "cell_type": "markdown",
   "id": "a9b83e5d",
   "metadata": {
    "slideshow": {
     "slide_type": "notes"
    }
   },
   "source": [
    "The relevant files created are the `README.md`; `.pdm.toml`, which holds local configuration for this PDM project; and `pyproject.toml`, which holds project tool configuration and package metadata.\n",
    "\n",
    ":::{seealso}\n",
    "PDM has also created a virtual environment for us in the `.venv` directory.  This is where our package and its dependencies will be installed.  If you are unfamiliar with virtual environments, I recommend [this article](https://realpython.com/python-virtual-environments-a-primer/).\n",
    ":::"
   ]
  },
  {
   "cell_type": "markdown",
   "id": "86090df3",
   "metadata": {
    "slideshow": {
     "slide_type": "skip"
    }
   },
   "source": [
    ":::{note}\n",
    "PDM supports the draft Python Enhancement Proposal (PEP) [582](https://peps.python.org/pep-0582/).  An alternative to virtual environments, PEP 582 would automatically get dependencies from a `__pypackages__` directory in the project root, without having to activate a virtualenv.  See the PDM docs on PEP 582 [here](https://pdm.fming.dev/latest/usage/pep582/).  We will not be using PEP 582 mode in this tutorial.\n",
    ":::"
   ]
  },
  {
   "cell_type": "markdown",
   "id": "9b586ee9",
   "metadata": {
    "slideshow": {
     "slide_type": "subslide"
    }
   },
   "source": [
    "### The `pyproject.toml` file"
   ]
  },
  {
   "cell_type": "code",
   "execution_count": 8,
   "id": "8a735cd2",
   "metadata": {
    "scrolled": false,
    "slideshow": {
     "slide_type": "fragment"
    },
    "tags": [
     "remove-input"
    ]
   },
   "outputs": [
    {
     "data": {
      "text/markdown": [
       "```toml\n",
       "# pyproject.toml\n",
       "[tool.pdm]\n",
       "\n",
       "[project]\n",
       "name = \"eeskew-pwg-test-000\"\n",
       "version = \"0.1.0\"\n",
       "description = \"A test project for presentation to the WSU Python Working Group.\"\n",
       "authors = [\n",
       "    {name = \"Edward Eskew\", email = \"edward.eskew@wsu.edu\"},\n",
       "]\n",
       "dependencies = []\n",
       "requires-python = \">=3.11\"\n",
       "readme = \"README.md\"\n",
       "license = {text = \"MIT\"}\n",
       "\n",
       "[build-system]\n",
       "requires = [\"pdm-pep517>=1.0\"]\n",
       "build-backend = \"pdm.pep517.api\"\n",
       "```\n"
      ]
     },
     "metadata": {},
     "output_type": "display_data"
    }
   ],
   "source": [
    "FILE=\"pyproject.toml\"\n",
    "echo \"\\`\\`\\`toml\n",
    "# $FILE\n",
    "$(cat $FILE)\n",
    "\\`\\`\\`\" | displayMD"
   ]
  },
  {
   "cell_type": "markdown",
   "id": "22025b94",
   "metadata": {
    "slideshow": {
     "slide_type": "notes"
    }
   },
   "source": [
    "This file is written in `.toml` format, which stands for [Tom's Obvious Minimal Language](https://toml.io/en/).\n",
    "\n",
    "The `tool.pdm` table is empty, although we'll add things here later on.\n",
    "\n",
    "The `project` table contains the metadata needed to install our project.  Its values thus far were set by the options we chose while running `pdm init`.\n",
    "\n",
    "The `build-system` section tells the build frontend (e.g. `pip`) what build backend to use - the build backend is what will actually create the distribution artifacts (wheels and sdists), which we'll see later.  See [PEP 517](https://peps.python.org/pep-0517/) for more information.  Here, we're just using the default PDM backend."
   ]
  },
  {
   "cell_type": "markdown",
   "id": "b4537528",
   "metadata": {
    "slideshow": {
     "slide_type": "skip"
    }
   },
   "source": [
    ":::{seealso}\n",
    "See the [PDM docs on writing `pyproject.toml`](https://pdm.fming.dev/latest/pyproject/pep621/) for more on what can be specified in this file.\n",
    ":::"
   ]
  },
  {
   "cell_type": "markdown",
   "id": "192418ac",
   "metadata": {
    "slideshow": {
     "slide_type": "slide"
    }
   },
   "source": [
    "## Adding code\n",
    "\n",
    "First we create our package directory in [src layout](https://hynek.me/articles/testing-packaging/), with an empty (for now) `__init__.py` file to indicate that it is a python package:"
   ]
  },
  {
   "cell_type": "code",
   "execution_count": 9,
   "id": "08916d53",
   "metadata": {
    "slideshow": {
     "slide_type": "fragment"
    }
   },
   "outputs": [],
   "source": [
    "mkdir src\n",
    "mkdir src/eeskew_pwg_test_000\n",
    "touch src/eeskew_pwg_test_000/__init__.py"
   ]
  },
  {
   "cell_type": "markdown",
   "id": "aaf7c9d3",
   "metadata": {
    "slideshow": {
     "slide_type": "notes"
    }
   },
   "source": [
    ":::{note}\n",
    "By convention, we use [snake_case](https://en.wikipedia.org/wiki/Snake_case) for the package name, while we used [kebab-case](https://en.wiktionary.org/wiki/kebab_case) for the repository name.\n",
    ":::"
   ]
  },
  {
   "cell_type": "code",
   "execution_count": 10,
   "id": "6f5794e4",
   "metadata": {
    "slideshow": {
     "slide_type": "skip"
    },
    "tags": [
     "remove-cell"
    ]
   },
   "outputs": [
    {
     "name": "stdout",
     "output_type": "stream",
     "text": [
      "Previous HEAD position was 1efdf5a pdm init skeleton\n",
      "HEAD is now at a10844f Add __init__.py\n"
     ]
    }
   ],
   "source": [
    "# checkpoint\n",
    "git add -A\n",
    "git checkout $(git rev-list --topo-order HEAD...main | tail -1)  # check out next commit"
   ]
  },
  {
   "cell_type": "markdown",
   "id": "4f790523",
   "metadata": {
    "slideshow": {
     "slide_type": "slide"
    }
   },
   "source": [
    "### Add a module\n",
    "\n",
    "Let's add some code in `src/eeskew_pwg_test_000/utils.py`:"
   ]
  },
  {
   "cell_type": "code",
   "execution_count": 11,
   "id": "2a90472b",
   "metadata": {
    "slideshow": {
     "slide_type": "skip"
    },
    "tags": [
     "remove-cell"
    ]
   },
   "outputs": [],
   "source": [
    "# This cell hidden in presentation and docs\n",
    "cat << \"EOF\" > src/eeskew_pwg_test_000/utils.py\n",
    "def sarcasm(s):\n",
    "    \"\"\"Convert string `s` to sArCaSm TeXt.\"\"\"\n",
    "    out = \"\"\n",
    "    for i, c in enumerate(s):\n",
    "        if i % 2 == 0:\n",
    "            out += c.lower()\n",
    "\n",
    "        else:\n",
    "            out += c.upper()\n",
    "\n",
    "    return out\n",
    "EOF"
   ]
  },
  {
   "cell_type": "code",
   "execution_count": 12,
   "id": "87275c85",
   "metadata": {
    "slideshow": {
     "slide_type": "skip"
    },
    "tags": [
     "remove-cell"
    ]
   },
   "outputs": [
    {
     "name": "stdout",
     "output_type": "stream",
     "text": [
      "Previous HEAD position was a10844f Add __init__.py\n",
      "HEAD is now at 229305b Add utils.py\n"
     ]
    }
   ],
   "source": [
    "# checkpoint\n",
    "git add -A\n",
    "git checkout $(git rev-list --topo-order HEAD...main | tail -1)  # check out next commit"
   ]
  },
  {
   "cell_type": "code",
   "execution_count": 55,
   "id": "63df411b",
   "metadata": {
    "slideshow": {
     "slide_type": "skip"
    },
    "tags": [
     "remove-input"
    ]
   },
   "outputs": [
    {
     "data": {
      "text/markdown": [
       "````{margin}\n",
       "```{seealso}\n",
       "See this file in the companion repo [here](https://github.com/edsq/eeskew-pwg-test-000/tree/5688f464ab30b7c01070d0956394abb8c7fbcf70/src/eeskew_pwg_test_000/utils.py).\n",
       "```\n",
       "````\n"
      ]
     },
     "metadata": {},
     "output_type": "display_data"
    }
   ],
   "source": [
    "repo-link src/eeskew_pwg_test_000/utils.py"
   ]
  },
  {
   "cell_type": "code",
   "execution_count": 14,
   "id": "f27db1a0",
   "metadata": {
    "slideshow": {
     "slide_type": "fragment"
    },
    "tags": [
     "remove-input"
    ]
   },
   "outputs": [
    {
     "data": {
      "text/markdown": [
       "```python\n",
       "# src/eeskew_pwg_test_000/utils.py\n",
       "def sarcasm(s):\n",
       "    \"\"\"Convert string `s` to sArCaSm TeXt.\"\"\"\n",
       "    out = \"\"\n",
       "    for i, c in enumerate(s):\n",
       "        if i % 2 == 0:\n",
       "            out += c.lower()\n",
       "\n",
       "        else:\n",
       "            out += c.upper()\n",
       "\n",
       "    return out\n",
       "```\n"
      ]
     },
     "metadata": {},
     "output_type": "display_data"
    }
   ],
   "source": [
    "FILE=\"src/eeskew_pwg_test_000/utils.py\"\n",
    "echo \"\\`\\`\\`python\n",
    "# $FILE\n",
    "$(cat $FILE)\n",
    "\\`\\`\\`\" | displayMD"
   ]
  },
  {
   "cell_type": "markdown",
   "id": "64089aa6",
   "metadata": {
    "slideshow": {
     "slide_type": "notes"
    }
   },
   "source": [
    "The actual content of this code is not too important for the purposes of these notes, but for completeness, all it does is capitalize and lowercase alternating letters in a string."
   ]
  },
  {
   "cell_type": "markdown",
   "id": "4106c163",
   "metadata": {
    "slideshow": {
     "slide_type": "slide"
    }
   },
   "source": [
    "## Install the project"
   ]
  },
  {
   "cell_type": "markdown",
   "id": "1a7356d9",
   "metadata": {
    "slideshow": {
     "slide_type": "notes"
    }
   },
   "source": [
    "To make our code available in the virtual environment, we have to install it:"
   ]
  },
  {
   "cell_type": "code",
   "execution_count": 15,
   "id": "e5bbc369",
   "metadata": {
    "slideshow": {
     "slide_type": "fragment"
    }
   },
   "outputs": [
    {
     "name": "stdout",
     "output_type": "stream",
     "text": [
      "\u001b[33mLock file does not exist\u001b[0m\n",
      "\u001b[32mUpdating the lock file\u001b[0m\u001b[33m...\u001b[0m\n",
      "\u001b[?25l\u001b[36m⠋\u001b[0m Fetching hashes for resolved packages...\n",
      "\u001b[1A\u001b[2K🔒 Lock successful\n",
      "Changes are written to \u001b[32mpdm.lock\u001b[0m.\n",
      "\u001b[?25l\u001b[36m⠋\u001b[0m Fetching hashes for resolved packages...\n",
      "\u001b[1A\u001b[2KAll packages are synced to date, nothing to do.\n",
      "\u001b[2KInstalling the project as an editable package...\n",
      "\u001b[2K  \u001b[32m✔\u001b[0m Install \u001b[1;32meeskew-pwg-test-000\u001b[0m \u001b[33m0.1.0\u001b[0m successful\n",
      "\u001b[2K36m⠼\u001b[0m Installing \u001b[1;32meeskew-pwg-test-000\u001b[0m \u001b[33m0.1.0\u001b[0m...\n",
      "🎉 All complete!\n",
      "\u001b[2K36m⠼\u001b[0m Installing \u001b[1;32meeskew-pwg-test-000\u001b[0m \u001b[33m0.1.0\u001b[0m...\n",
      "\u001b[?25h\n"
     ]
    }
   ],
   "source": [
    "pdm install"
   ]
  },
  {
   "cell_type": "code",
   "execution_count": 16,
   "id": "94b5b2db",
   "metadata": {
    "slideshow": {
     "slide_type": "skip"
    },
    "tags": [
     "remove-cell"
    ]
   },
   "outputs": [
    {
     "name": "stdout",
     "output_type": "stream",
     "text": [
      "Previous HEAD position was 229305b Add utils.py\n",
      "HEAD is now at e12db04 Add pdm.lock after first pdm install\n"
     ]
    }
   ],
   "source": [
    "# checkpoint\n",
    "git add -A\n",
    "git checkout $(git rev-list --topo-order HEAD...main | tail -1)  # check out next commit"
   ]
  },
  {
   "cell_type": "markdown",
   "id": "c761b63c",
   "metadata": {
    "slideshow": {
     "slide_type": "subslide"
    }
   },
   "source": [
    "Now we can import our package:"
   ]
  },
  {
   "cell_type": "code",
   "execution_count": 17,
   "id": "d4617bd4",
   "metadata": {
    "slideshow": {
     "slide_type": "fragment"
    }
   },
   "outputs": [
    {
     "name": "stdout",
     "output_type": "stream",
     "text": [
      "hElLo wOrLd!\n"
     ]
    }
   ],
   "source": [
    "pdm run python -c 'from eeskew_pwg_test_000.utils import sarcasm; print(sarcasm(\"Hello world!\"))'"
   ]
  },
  {
   "cell_type": "markdown",
   "id": "fa7a07cc",
   "metadata": {
    "slideshow": {
     "slide_type": "fragment"
    }
   },
   "source": [
    "Note we have to type `pdm run` before our command for it to be run within our project environment."
   ]
  },
  {
   "cell_type": "markdown",
   "id": "064a424e",
   "metadata": {
    "slideshow": {
     "slide_type": "fragment"
    }
   },
   "source": [
    ":::{tip}\n",
    "If you don't want to type `pdm run` every time before a command to be run in the project virtual environment, you can *activate* the environment, which will modify your `sys.prefix` to point to the `.venv` directory.  See the python `venv` docs [here](https://docs.python.org/3/library/venv.html#how-venvs-work) for more on how virtual environments work.\n",
    "\n",
    "`pdm` will print the command to activate the project virtual environment with command `pdm venv activate`.  You can copy and paste that output, or, if you want to activate the environment in one line, use:\n",
    "\n",
    "```bash\n",
    "eval $(pdm venv activate)\n",
    "```\n",
    "\n",
    "To simplify things further, add this as an alias to your `~/.bashrc` or `~/.bash_profile` (and don't forget to restart your shell or `source ~/.bashrc` after):\n",
    "\n",
    "```bash\n",
    "# ~/.bashrc\n",
    "alias pdm-activate='eval $(pdm venv activate)'\n",
    "```\n",
    "\n",
    "This will let you activate the environment with the command `pdm-activate`.\n",
    "\n",
    "You can deactivate an active virtual environment with the command `deactivate`.  See also the [PDM docs on virtualenv activation](https://pdm.fming.dev/latest/usage/venv/#activate-a-virtualenv).\n",
    ":::"
   ]
  },
  {
   "cell_type": "markdown",
   "id": "1e45c983",
   "metadata": {
    "slideshow": {
     "slide_type": "subslide"
    }
   },
   "source": [
    "### The `pdm.lock` file\n",
    "\n",
    "Running `pdm install` also created a new file, `pdm.lock`:"
   ]
  },
  {
   "cell_type": "code",
   "execution_count": 18,
   "id": "0f069212",
   "metadata": {
    "slideshow": {
     "slide_type": "fragment"
    }
   },
   "outputs": [
    {
     "name": "stdout",
     "output_type": "stream",
     "text": [
      "README.md  pdm.lock  pyproject.toml  \u001b[0m\u001b[01;34msrc\u001b[0m\n"
     ]
    }
   ],
   "source": [
    "ls"
   ]
  },
  {
   "cell_type": "code",
   "execution_count": 19,
   "id": "4b968b39",
   "metadata": {
    "slideshow": {
     "slide_type": "fragment"
    },
    "tags": [
     "remove-input"
    ]
   },
   "outputs": [
    {
     "data": {
      "text/markdown": [
       "```toml\n",
       "# pdm.lock\n",
       "# This file is @generated by PDM.\n",
       "# It is not intended for manual editing.\n",
       "\n",
       "[metadata]\n",
       "lock_version = \"4.1\"\n",
       "content_hash = \"sha256:86165c41f17b4b263a688544a3ebc55eccc1713dd177c40649b2e936dab66751\"\n",
       "\n",
       "[metadata.files]\n",
       "```\n"
      ]
     },
     "metadata": {},
     "output_type": "display_data"
    }
   ],
   "source": [
    "FILE=\"pdm.lock\"\n",
    "echo \"\\`\\`\\`toml\n",
    "# $FILE\n",
    "$(cat pdm.lock)\n",
    "\\`\\`\\`\" | displayMD"
   ]
  },
  {
   "cell_type": "markdown",
   "id": "0d84a79c",
   "metadata": {
    "slideshow": {
     "slide_type": "notes"
    }
   },
   "source": [
    "This is a lockfile, which will contain the exact versions of each project dependency we install.  It is useful for creating a perfect reproduction of the project virtual environment, which keeps our development reproducible over time and across different machines.\n",
    "\n",
    "Right now, we have not installed anything other than the project itself, so it is essentially empty."
   ]
  },
  {
   "cell_type": "markdown",
   "id": "5493c7ee",
   "metadata": {
    "slideshow": {
     "slide_type": "slide"
    }
   },
   "source": [
    "## Add a dependency\n",
    "\n",
    "Let's add a dependency to our project:"
   ]
  },
  {
   "cell_type": "code",
   "execution_count": 20,
   "id": "a2758b38",
   "metadata": {
    "slideshow": {
     "slide_type": "fragment"
    }
   },
   "outputs": [
    {
     "name": "stdout",
     "output_type": "stream",
     "text": [
      "Adding packages to \u001b[36mdefault\u001b[0m dependencies: \u001b[1;32mcowsay\u001b[0m\n",
      "\u001b[2K\u001b[36m⠙\u001b[0m Fetching hashes for resolved packages...3m5.0\u001b[0m\n",
      "\u001b[1A\u001b[2K🔒 Lock successful\n",
      "Changes are written to \u001b[32mpdm.lock\u001b[0m.\n",
      "Changes are written to \u001b[32mpyproject.toml\u001b[0m.\n",
      "\u001b[?25l\u001b[36m⠋\u001b[0m Fetching hashes for resolved packages...\n",
      "\u001b[1A\u001b[2K\u001b[1mSynchronizing working set with lock file\u001b[0m: \u001b[32m1\u001b[0m to add, \u001b[33m0\u001b[0m to update, \u001b[31m0\u001b[0m to remove\n",
      "\n",
      "\u001b[2K  \u001b[32m✔\u001b[0m Install \u001b[1;32mcowsay\u001b[0m \u001b[33m5.0\u001b[0m successful\n",
      "\u001b[2KInstalling the project as an editable package...0m...\n",
      "\u001b[2K  \u001b[32m✔\u001b[0m Update \u001b[1;32meeskew-pwg-test-000\u001b[0m \u001b[33m0.1.0\u001b[0m -> \u001b[33m0.1.0\u001b[0m successful\n",
      "\u001b[2K36m⠙\u001b[0m Updating \u001b[1;32meeskew-pwg-test-000\u001b[0m \u001b[33m0.1.0\u001b[0m -> \u001b[33m0.1.0\u001b[0m...\n",
      "🎉 All complete!\n",
      "\u001b[2K36m⠙\u001b[0m Updating \u001b[1;32meeskew-pwg-test-000\u001b[0m \u001b[33m0.1.0\u001b[0m -> \u001b[33m0.1.0\u001b[0m...\n",
      "\u001b[?25h\n"
     ]
    }
   ],
   "source": [
    "pdm add cowsay"
   ]
  },
  {
   "cell_type": "code",
   "execution_count": 21,
   "id": "fc013ef5",
   "metadata": {
    "slideshow": {
     "slide_type": "skip"
    },
    "tags": [
     "remove-cell"
    ]
   },
   "outputs": [
    {
     "name": "stdout",
     "output_type": "stream",
     "text": [
      "Previous HEAD position was e12db04 Add pdm.lock after first pdm install\n",
      "HEAD is now at e5e9b85 Add cowsay to dependencies\n"
     ]
    }
   ],
   "source": [
    "# checkpoint\n",
    "git add -A\n",
    "git checkout $(git rev-list --topo-order HEAD...main | tail -1)  # check out next commit"
   ]
  },
  {
   "cell_type": "markdown",
   "id": "25be51d0",
   "metadata": {
    "slideshow": {
     "slide_type": "subslide"
    }
   },
   "source": [
    "### What did `pdm add` do?\n",
    "\n",
    "`cowsay` now appears as a dependency in `pyproject.toml`:"
   ]
  },
  {
   "cell_type": "code",
   "execution_count": 22,
   "id": "7c8e195c",
   "metadata": {
    "slideshow": {
     "slide_type": "fragment"
    },
    "tags": [
     "remove-input"
    ]
   },
   "outputs": [
    {
     "data": {
      "text/markdown": [
       "```toml\n",
       "# pyproject.toml\n",
       "...\n",
       "\n",
       "authors = [\n",
       "    {name = \"Edward Eskew\", email = \"edward.eskew@wsu.edu\"},\n",
       "]\n",
       "dependencies = [\n",
       "    \"cowsay>=5.0\",\n",
       "]\n",
       "requires-python = \">=3.11\"\n",
       "readme = \"README.md\"\n",
       "license = {text = \"MIT\"}\n",
       "\n",
       "...\n",
       "```\n"
      ]
     },
     "metadata": {},
     "output_type": "display_data"
    }
   ],
   "source": [
    "echo \"\\`\\`\\`toml\n",
    "$(simple-diff HEAD~ pyproject.toml)\n",
    "\\`\\`\\`\" | displayMD"
   ]
  },
  {
   "cell_type": "markdown",
   "id": "67480630",
   "metadata": {
    "slideshow": {
     "slide_type": "skip"
    }
   },
   "source": [
    "Click below to show diff:"
   ]
  },
  {
   "cell_type": "code",
   "execution_count": 23,
   "id": "2098cc55",
   "metadata": {
    "slideshow": {
     "slide_type": "notes"
    },
    "tags": [
     "remove-input",
     "hide-output"
    ]
   },
   "outputs": [
    {
     "name": "stdout",
     "output_type": "stream",
     "text": [
      "\u001b[1;36m\u001b[0m\u001b[1;36m────────────────────────────────────────────────────────────────────────────────\u001b[0m\n",
      "\u001b[1;36mmodified: pyproject.toml\n",
      "\u001b[1;36m────────────────────────────────────────────────────────────────────────────────\u001b[0m\n",
      "\u001b[36m\u001b[1m\u001b[38;5;13m@ pyproject.toml:10 @\u001b[1m\u001b[1m\u001b[38;5;146m description = \"A test project for presentation to the WSU Python Working Group.\"\u001b[0m\n",
      " authors = [\u001b[m\n",
      "     {name = \"Edward Eskew\", email = \"edward.eskew@wsu.edu\"},\u001b[m\n",
      " ]\u001b[m\n",
      "\u001b[31m-dependencies = []\u001b[m\n",
      "\u001b[32m+\u001b[m\u001b[32mdependencies = [\u001b[m\n",
      "\u001b[32m+\u001b[m\u001b[32m    \"cowsay>=5.0\",\u001b[m\n",
      "\u001b[32m+\u001b[m\u001b[32m]\u001b[m\n",
      " requires-python = \">=3.11\"\u001b[m\n",
      " readme = \"README.md\"\u001b[m\n",
      " license = {text = \"MIT\"}\u001b[m\n"
     ]
    }
   ],
   "source": [
    "git diff --color HEAD~ pyproject.toml | ../../scripts/diff-so-fancy"
   ]
  },
  {
   "cell_type": "markdown",
   "id": "f14625e7",
   "metadata": {
    "slideshow": {
     "slide_type": "subslide"
    }
   },
   "source": [
    "We've also updated `pdm.lock` to include cowsay:"
   ]
  },
  {
   "cell_type": "code",
   "execution_count": 24,
   "id": "989afd93",
   "metadata": {
    "slideshow": {
     "slide_type": "fragment"
    },
    "tags": [
     "remove-input"
    ]
   },
   "outputs": [
    {
     "data": {
      "text/markdown": [
       "```toml\n",
       "# pdm.lock\n",
       "# This file is @generated by PDM.\n",
       "# It is not intended for manual editing.\n",
       "\n",
       "[[package]]\n",
       "name = \"cowsay\"\n",
       "version = \"5.0\"\n",
       "summary = \"The famous cowsay for GNU/Linux is now available for python\"\n",
       "\n",
       "[metadata]\n",
       "lock_version = \"4.1\"\n",
       "content_hash = \"sha256:a04c8eb9409090bc9acb94e5cec5ef19afdecacb2c169628142af5ca472135f0\"\n",
       "\n",
       "[metadata.files]\n",
       "\"cowsay 5.0\" = [\n",
       "    {url = \"https://files.pythonhosted.org/packages/6b/b8/9f497fd045d74fe21d91cbe8debae0b451229989e35b539d218547d79fc6/cowsay-5.0.tar.gz\", hash = \"sha256:c00e02444f5bc7332826686bd44d963caabbaba9a804a63153822edce62bbbf3\"},\n",
       "]\n",
       "```\n"
      ]
     },
     "metadata": {},
     "output_type": "display_data"
    }
   ],
   "source": [
    "echo \"\\`\\`\\`toml\n",
    "$(simple-diff HEAD~ pdm.lock)\n",
    "\\`\\`\\`\" | displayMD"
   ]
  },
  {
   "cell_type": "markdown",
   "id": "e1c52f51",
   "metadata": {
    "slideshow": {
     "slide_type": "subslide"
    }
   },
   "source": [
    "We can now import `cowsay`:"
   ]
  },
  {
   "cell_type": "code",
   "execution_count": 25,
   "id": "421dc303",
   "metadata": {
    "slideshow": {
     "slide_type": "fragment"
    }
   },
   "outputs": [
    {
     "name": "stdout",
     "output_type": "stream",
     "text": [
      "  ____\n",
      "| moo! |\n",
      "  ====\n",
      "    \\\n",
      "     \\\n",
      "       ^__^\n",
      "       (oo)\\_______\n",
      "       (__)\\       )\\/\\\n",
      "           ||----w |\n",
      "           ||     ||\n"
     ]
    }
   ],
   "source": [
    "pdm run python -c 'import cowsay; cowsay.cow(\"moo!\")'"
   ]
  },
  {
   "cell_type": "markdown",
   "id": "d7406424",
   "metadata": {
    "slideshow": {
     "slide_type": "skip"
    }
   },
   "source": [
    ":::{seealso}\n",
    "See the [PDM docs on managing dependencies](https://pdm.fming.dev/latest/usage/dependency/) for more information.\n",
    ":::"
   ]
  },
  {
   "cell_type": "markdown",
   "id": "d542dd1b",
   "metadata": {
    "slideshow": {
     "slide_type": "subslide"
    }
   },
   "source": [
    "### Adding more code\n",
    "\n",
    "Let's add a new function to `utils.py`:"
   ]
  },
  {
   "cell_type": "code",
   "execution_count": 26,
   "id": "3ee64a20",
   "metadata": {
    "slideshow": {
     "slide_type": "skip"
    },
    "tags": [
     "remove-cell"
    ]
   },
   "outputs": [],
   "source": [
    "# This cell hidden in presentation and docs\n",
    "cat << \"EOF\" > src/eeskew_pwg_test_000/utils.py\n",
    "import cowsay\n",
    "\n",
    "def sarcasm(s):\n",
    "    \"\"\"Convert string `s` to sArCaSm TeXt.\"\"\"\n",
    "    out = \"\"\n",
    "    for i, c in enumerate(s):\n",
    "        if i % 2 == 0:\n",
    "            out += c.lower()\n",
    "\n",
    "        else:\n",
    "            out += c.upper()\n",
    "\n",
    "    return out\n",
    "\n",
    "def sarcastic_cowsay(s):\n",
    "    \"\"\"Cowsay `s`, sArCaStIcAlLy.\"\"\"\n",
    "    sarcastic_s = sarcasm(s)\n",
    "    cowsay.cow(sarcastic_s)\n",
    "EOF"
   ]
  },
  {
   "cell_type": "code",
   "execution_count": 27,
   "id": "683596fd",
   "metadata": {
    "slideshow": {
     "slide_type": "skip"
    },
    "tags": [
     "remove-cell"
    ]
   },
   "outputs": [
    {
     "name": "stdout",
     "output_type": "stream",
     "text": [
      "Previous HEAD position was e5e9b85 Add cowsay to dependencies\n",
      "HEAD is now at fe97875 Add sarcastic_cowsay to utils\n"
     ]
    }
   ],
   "source": [
    "# checkpoint\n",
    "git add -A\n",
    "git checkout $(git rev-list --topo-order HEAD...main | tail -1)  # check out next commit"
   ]
  },
  {
   "cell_type": "code",
   "execution_count": 28,
   "id": "d3a256d0",
   "metadata": {
    "slideshow": {
     "slide_type": "skip"
    },
    "tags": [
     "remove-input"
    ]
   },
   "outputs": [
    {
     "data": {
      "text/markdown": [
       "````{margin}\n",
       "    ```{seealso}\n",
       "    See this file in the companion repo [here](https://github.com/edsq/eeskew-pwg-test-000/tree/fe978753a6b60bbb5eaba1333b21be265e6a3e3b/src/eeskew_pwg_test_000/utils.py).\n",
       "    ```\n",
       "    ````\n"
      ]
     },
     "metadata": {},
     "output_type": "display_data"
    }
   ],
   "source": [
    "repo-link src/eeskew_pwg_test_000/utils.py"
   ]
  },
  {
   "cell_type": "code",
   "execution_count": 29,
   "id": "b4d8cb96",
   "metadata": {
    "slideshow": {
     "slide_type": "fragment"
    },
    "tags": [
     "remove-input"
    ]
   },
   "outputs": [
    {
     "data": {
      "text/markdown": [
       "```python\n",
       "# src/eeskew_pwg_test_000/utils.py\n",
       "import cowsay\n",
       "\n",
       "\n",
       "...\n",
       "\n",
       "\n",
       "def sarcastic_cowsay(s):\n",
       "    \"\"\"Cowsay `s`, sArCaStIcAlLy.\"\"\"\n",
       "    sarcastic_s = sarcasm(s)\n",
       "    cowsay.cow(sarcastic_s)\n",
       "```\n"
      ]
     },
     "metadata": {},
     "output_type": "display_data"
    }
   ],
   "source": [
    "echo \"\\`\\`\\`python\n",
    "$(simple-diff --context 0 HEAD~ src/eeskew_pwg_test_000/utils.py)\n",
    "\\`\\`\\`\" | displayMD"
   ]
  },
  {
   "cell_type": "markdown",
   "id": "4b12a83a",
   "metadata": {
    "slideshow": {
     "slide_type": "skip"
    }
   },
   "source": [
    "Click below to show diff:"
   ]
  },
  {
   "cell_type": "code",
   "execution_count": 30,
   "id": "6f533318",
   "metadata": {
    "slideshow": {
     "slide_type": "notes"
    },
    "tags": [
     "remove-input",
     "hide-output"
    ]
   },
   "outputs": [
    {
     "name": "stdout",
     "output_type": "stream",
     "text": [
      "\u001b[1;36m\u001b[0m\u001b[1;36m────────────────────────────────────────────────────────────────────────────────\u001b[0m\n",
      "\u001b[1;36mmodified: src/eeskew_pwg_test_000/utils.py\n",
      "\u001b[1;36m────────────────────────────────────────────────────────────────────────────────\u001b[0m\n",
      "\u001b[36m\u001b[1m\u001b[38;5;13m@ src/eeskew_pwg_test_000/utils.py:2 @\u001b[1m\u001b[0m\n",
      "\u001b[32m+\u001b[m\u001b[32mimport cowsay\u001b[m\n",
      "\u001b[32m+\u001b[m\n",
      " def sarcasm(s):\u001b[m\n",
      "     \"\"\"Convert string `s` to sArCaSm TeXt.\"\"\"\u001b[m\n",
      "     out = \"\"\u001b[m\n",
      "\u001b[36m\u001b[1m\u001b[38;5;13m@ src/eeskew_pwg_test_000/utils.py:14 @\u001b[1m\u001b[1m\u001b[38;5;146m def sarcasm(s):\u001b[0m\n",
      "             out += c.upper()\u001b[m\n",
      " \u001b[m\n",
      "     return out\u001b[m\n",
      "\u001b[32m+\u001b[m\n",
      "\u001b[32m+\u001b[m\u001b[32mdef sarcastic_cowsay(s):\u001b[m\n",
      "\u001b[32m+\u001b[m\u001b[32m    \"\"\"Cowsay `s`, sArCaStIcAlLy.\"\"\"\u001b[m\n",
      "\u001b[32m+\u001b[m\u001b[32m    sarcastic_s = sarcasm(s)\u001b[m\n",
      "\u001b[32m+\u001b[m\u001b[32m    cowsay.cow(sarcastic_s)\u001b[m\n"
     ]
    }
   ],
   "source": [
    "git diff --color HEAD~ src/eeskew_pwg_test_000/utils.py | ../../scripts/diff-so-fancy"
   ]
  },
  {
   "cell_type": "markdown",
   "id": "48234df3",
   "metadata": {
    "slideshow": {
     "slide_type": "subslide"
    }
   },
   "source": [
    "We can now run this new function:"
   ]
  },
  {
   "cell_type": "code",
   "execution_count": 31,
   "id": "d2344ee3",
   "metadata": {
    "slideshow": {
     "slide_type": "fragment"
    }
   },
   "outputs": [
    {
     "name": "stdout",
     "output_type": "stream",
     "text": [
      "  _____\n",
      "| mOoO! |\n",
      "  =====\n",
      "     \\\n",
      "      \\\n",
      "        ^__^\n",
      "        (oo)\\_______\n",
      "        (__)\\       )\\/\\\n",
      "            ||----w |\n",
      "            ||     ||\n"
     ]
    }
   ],
   "source": [
    "pdm run python -c 'from eeskew_pwg_test_000.utils import sarcastic_cowsay; sarcastic_cowsay(\"mooo!\")'"
   ]
  },
  {
   "cell_type": "markdown",
   "id": "f2cfc2a3",
   "metadata": {
    "slideshow": {
     "slide_type": "notes"
    }
   },
   "source": [
    ":::{note}\n",
    "We didn't have to re-run `pdm install` to use our new function - this is because PDM installs our `eeskew_pwg_test_000` package in \"editable mode\", which acts sort of like a symlink between the source code and the installed files in the `.venv` directory.\n",
    ":::"
   ]
  },
  {
   "cell_type": "markdown",
   "id": "fa513856",
   "metadata": {
    "slideshow": {
     "slide_type": "slide"
    }
   },
   "source": [
    "## Add a development dependency\n",
    "\n",
    "The dependencies listed in the `project.dependencies` section of `pyproject.toml` will all be installed when someone runs `pip install eeskew_pwg_test_project`.  What if we have dependencies we only want in our development environment?\n",
    "\n",
    "Let's add `black`, a tool to automatically format our code:"
   ]
  },
  {
   "cell_type": "code",
   "execution_count": 32,
   "id": "073819af",
   "metadata": {
    "scrolled": true,
    "slideshow": {
     "slide_type": "fragment"
    },
    "tags": [
     "output_scroll"
    ]
   },
   "outputs": [
    {
     "name": "stdout",
     "output_type": "stream",
     "text": [
      "Adding packages to \u001b[36mdev\u001b[0m dev-dependencies: \u001b[1;32mblack\u001b[0m\n",
      "\u001b[2K\u001b[36m⠋\u001b[0m Fetching hashes for resolved packages...m23.1.0\u001b[0m\n",
      "\u001b[1A\u001b[2K🔒 Lock successful\n",
      "Changes are written to \u001b[32mpdm.lock\u001b[0m.\n",
      "Changes are written to \u001b[32mpyproject.toml\u001b[0m.\n",
      "\u001b[?25l\u001b[36m⠋\u001b[0m Fetching hashes for resolved packages...\n",
      "\u001b[1A\u001b[2K\u001b[1mSynchronizing working set with lock file\u001b[0m: \u001b[32m6\u001b[0m to add, \u001b[33m0\u001b[0m to update, \u001b[31m0\u001b[0m to remove\n",
      "\n",
      "\u001b[2K  \u001b[36m⠋\u001b[0m Installing \u001b[1;32mblack\u001b[0m \u001b[33m23.1.0\u001b[0m...\n",
      "\u001b[2K\u001b[1A\u001b[2K  \u001b[36m⠋\u001b[0m Installing \u001b[1;32mblack\u001b[0m \u001b[33m23.1.0\u001b[0m...         \n",
      "  \u001b[36m⠋\u001b[0m Installing \u001b[1;32mclick\u001b[0m \u001b[33m8.1.3\u001b[0m...          \n",
      "\u001b[2K\u001b[1A\u001b[2K\u001b[1A\u001b[2K  \u001b[36m⠋\u001b[0m Installing \u001b[1;32mblack\u001b[0m \u001b[33m23.1.0\u001b[0m...         \n",
      "  \u001b[36m⠋\u001b[0m Installing \u001b[1;32mclick\u001b[0m \u001b[33m8.1.3\u001b[0m...          \n",
      "  \u001b[36m⠋\u001b[0m Installing \u001b[1;32mmypy-extensions\u001b[0m \u001b[33m1.0.0\u001b[0m...\n",
      "\u001b[2K\u001b[1A\u001b[2K\u001b[1A\u001b[2K\u001b[1A\u001b[2K  \u001b[36m⠋\u001b[0m Installing \u001b[1;32mblack\u001b[0m \u001b[33m23.1.0\u001b[0m...         \n",
      "  \u001b[36m⠋\u001b[0m Installing \u001b[1;32mclick\u001b[0m \u001b[33m8.1.3\u001b[0m...          \n",
      "  \u001b[36m⠋\u001b[0m Installing \u001b[1;32mmypy-extensions\u001b[0m \u001b[33m1.0.0\u001b[0m...\n",
      "  \u001b[36m⠋\u001b[0m Installing \u001b[1;32mpackaging\u001b[0m \u001b[33m23.0\u001b[0m...       \n",
      "\u001b[2K\u001b[1A\u001b[2K\u001b[1A\u001b[2K\u001b[1A\u001b[2K\u001b[1A\u001b[2K  \u001b[36m⠋\u001b[0m Installing \u001b[1;32mblack\u001b[0m \u001b[33m23.1.0\u001b[0m...         \n",
      "  \u001b[36m⠋\u001b[0m Installing \u001b[1;32mclick\u001b[0m \u001b[33m8.1.3\u001b[0m...          \n",
      "  \u001b[36m⠋\u001b[0m Installing \u001b[1;32mmypy-extensions\u001b[0m \u001b[33m1.0.0\u001b[0m...\n",
      "  \u001b[36m⠋\u001b[0m Installing \u001b[1;32mpackaging\u001b[0m \u001b[33m23.0\u001b[0m...       \n",
      "  \u001b[36m⠋\u001b[0m Installing \u001b[1;32mpathspec\u001b[0m \u001b[33m0.11.0\u001b[0m...      \n",
      "\u001b[2K\u001b[1A\u001b[2K\u001b[1A\u001b[2K\u001b[1A\u001b[2K\u001b[1A\u001b[2K\u001b[1A\u001b[2K  \u001b[36m⠙\u001b[0m Installing \u001b[1;32mblack\u001b[0m \u001b[33m23.1.0\u001b[0m...         \n",
      "  \u001b[36m⠙\u001b[0m Installing \u001b[1;32mclick\u001b[0m \u001b[33m8.1.3\u001b[0m...          \n",
      "  \u001b[36m⠙\u001b[0m Installing \u001b[1;32mmypy-extensions\u001b[0m \u001b[33m1.0.0\u001b[0m...\n",
      "  \u001b[36m⠙\u001b[0m Installing \u001b[1;32mpackaging\u001b[0m \u001b[33m23.0\u001b[0m...       \n",
      "  \u001b[36m⠙\u001b[0m Installing \u001b[1;32mpathspec\u001b[0m \u001b[33m0.11.0\u001b[0m...      \n",
      "\u001b[2K\u001b[1A\u001b[2K\u001b[1A\u001b[2K\u001b[1A\u001b[2K\u001b[1A\u001b[2K\u001b[1A\u001b[2K  \u001b[32m✔\u001b[0m Install \u001b[1;32mplatformdirs\u001b[0m \u001b[33m3.1.1\u001b[0m successful\n",
      "  \u001b[36m⠙\u001b[0m Installing \u001b[1;32mblack\u001b[0m \u001b[33m23.1.0\u001b[0m...         \n",
      "  \u001b[36m⠙\u001b[0m Installing \u001b[1;32mclick\u001b[0m \u001b[33m8.1.3\u001b[0m...          \n",
      "  \u001b[36m⠙\u001b[0m Installing \u001b[1;32mmypy-extensions\u001b[0m \u001b[33m1.0.0\u001b[0m...\n",
      "  \u001b[36m⠙\u001b[0m Installing \u001b[1;32mpackaging\u001b[0m \u001b[33m23.0\u001b[0m...       \n",
      "  \u001b[36m⠙\u001b[0m Installing \u001b[1;32mpathspec\u001b[0m \u001b[33m0.11.0\u001b[0m...      \n",
      "\u001b[2K\u001b[1A\u001b[2K\u001b[1A\u001b[2K\u001b[1A\u001b[2K\u001b[1A\u001b[2K\u001b[1A\u001b[2K  \u001b[32m✔\u001b[0m Install \u001b[1;32mpackaging\u001b[0m \u001b[33m23.0\u001b[0m successful\n",
      "  \u001b[36m⠙\u001b[0m Installing \u001b[1;32mblack\u001b[0m \u001b[33m23.1.0\u001b[0m...         \n",
      "  \u001b[36m⠙\u001b[0m Installing \u001b[1;32mclick\u001b[0m \u001b[33m8.1.3\u001b[0m...          \n",
      "  \u001b[36m⠙\u001b[0m Installing \u001b[1;32mmypy-extensions\u001b[0m \u001b[33m1.0.0\u001b[0m...\n",
      "  \u001b[36m⠙\u001b[0m Installing \u001b[1;32mpackaging\u001b[0m \u001b[33m23.0\u001b[0m...       \n",
      "  \u001b[36m⠙\u001b[0m Installing \u001b[1;32mpathspec\u001b[0m \u001b[33m0.11.0\u001b[0m...      \n",
      "\u001b[2K\u001b[1A\u001b[2K\u001b[1A\u001b[2K\u001b[1A\u001b[2K\u001b[1A\u001b[2K\u001b[1A\u001b[2K  \u001b[32m✔\u001b[0m Install \u001b[1;32mpathspec\u001b[0m \u001b[33m0.11.0\u001b[0m successful\n",
      "  \u001b[36m⠙\u001b[0m Installing \u001b[1;32mblack\u001b[0m \u001b[33m23.1.0\u001b[0m...         \n",
      "  \u001b[36m⠙\u001b[0m Installing \u001b[1;32mclick\u001b[0m \u001b[33m8.1.3\u001b[0m...          \n",
      "  \u001b[36m⠙\u001b[0m Installing \u001b[1;32mmypy-extensions\u001b[0m \u001b[33m1.0.0\u001b[0m...\n",
      "  \u001b[36m⠙\u001b[0m Installing \u001b[1;32mpackaging\u001b[0m \u001b[33m23.0\u001b[0m...       \n",
      "  \u001b[36m⠙\u001b[0m Installing \u001b[1;32mpathspec\u001b[0m \u001b[33m0.11.0\u001b[0m...      \n",
      "\u001b[2K\u001b[1A\u001b[2K\u001b[1A\u001b[2K\u001b[1A\u001b[2K\u001b[1A\u001b[2K\u001b[1A\u001b[2K  \u001b[32m✔\u001b[0m Install \u001b[1;32mmypy-extensions\u001b[0m \u001b[33m1.0.0\u001b[0m successful\n",
      "  \u001b[36m⠙\u001b[0m Installing \u001b[1;32mblack\u001b[0m \u001b[33m23.1.0\u001b[0m...         \n",
      "  \u001b[36m⠙\u001b[0m Installing \u001b[1;32mclick\u001b[0m \u001b[33m8.1.3\u001b[0m...          \n",
      "  \u001b[36m⠙\u001b[0m Installing \u001b[1;32mmypy-extensions\u001b[0m \u001b[33m1.0.0\u001b[0m...\n",
      "  \u001b[36m⠙\u001b[0m Installing \u001b[1;32mpackaging\u001b[0m \u001b[33m23.0\u001b[0m...       \n",
      "  \u001b[36m⠙\u001b[0m Installing \u001b[1;32mpathspec\u001b[0m \u001b[33m0.11.0\u001b[0m...      \n",
      "\u001b[2K\u001b[1A\u001b[2K\u001b[1A\u001b[2K\u001b[1A\u001b[2K\u001b[1A\u001b[2K\u001b[1A\u001b[2K  \u001b[32m✔\u001b[0m Install \u001b[1;32mclick\u001b[0m \u001b[33m8.1.3\u001b[0m successful\n",
      "  \u001b[36m⠙\u001b[0m Installing \u001b[1;32mblack\u001b[0m \u001b[33m23.1.0\u001b[0m...         \n",
      "  \u001b[36m⠙\u001b[0m Installing \u001b[1;32mclick\u001b[0m \u001b[33m8.1.3\u001b[0m...          \n",
      "  \u001b[36m⠙\u001b[0m Installing \u001b[1;32mmypy-extensions\u001b[0m \u001b[33m1.0.0\u001b[0m...\n",
      "  \u001b[36m⠙\u001b[0m Installing \u001b[1;32mpackaging\u001b[0m \u001b[33m23.0\u001b[0m...       \n",
      "  \u001b[36m⠙\u001b[0m Installing \u001b[1;32mpathspec\u001b[0m \u001b[33m0.11.0\u001b[0m...      \n",
      "\u001b[2K\u001b[1A\u001b[2K\u001b[1A\u001b[2K\u001b[1A\u001b[2K\u001b[1A\u001b[2K\u001b[1A\u001b[2K  \u001b[32m✔\u001b[0m Install \u001b[1;32mblack\u001b[0m \u001b[33m23.1.0\u001b[0m successful\n",
      "  \u001b[36m⠙\u001b[0m Installing \u001b[1;32mblack\u001b[0m \u001b[33m23.1.0\u001b[0m...         \n",
      "  \u001b[36m⠙\u001b[0m Installing \u001b[1;32mclick\u001b[0m \u001b[33m8.1.3\u001b[0m...          \n",
      "  \u001b[36m⠙\u001b[0m Installing \u001b[1;32mmypy-extensions\u001b[0m \u001b[33m1.0.0\u001b[0m...\n",
      "  \u001b[36m⠙\u001b[0m Installing \u001b[1;32mpackaging\u001b[0m \u001b[33m23.0\u001b[0m...       \n",
      "  \u001b[36m⠙\u001b[0m Installing \u001b[1;32mpathspec\u001b[0m \u001b[33m0.11.0\u001b[0m...      \n",
      "\u001b[2K\u001b[1A\u001b[2K\u001b[1A\u001b[2K\u001b[1A\u001b[2K\u001b[1A\u001b[2K\u001b[1A\u001b[2K[0m \u001b[33m3.1.1\u001b[0m...   \n",
      "🎉 All complete!\n",
      "  \u001b[36m⠙\u001b[0m Installing \u001b[1;32mblack\u001b[0m \u001b[33m23.1.0\u001b[0m...         \n",
      "  \u001b[36m⠙\u001b[0m Installing \u001b[1;32mclick\u001b[0m \u001b[33m8.1.3\u001b[0m...          \n",
      "  \u001b[36m⠙\u001b[0m Installing \u001b[1;32mmypy-extensions\u001b[0m \u001b[33m1.0.0\u001b[0m...\n",
      "  \u001b[36m⠙\u001b[0m Installing \u001b[1;32mpackaging\u001b[0m \u001b[33m23.0\u001b[0m...       \n",
      "  \u001b[36m⠙\u001b[0m Installing \u001b[1;32mpathspec\u001b[0m \u001b[33m0.11.0\u001b[0m...      \n",
      "\u001b[2K\u001b[1A\u001b[2K\u001b[1A\u001b[2K\u001b[1A\u001b[2K\u001b[1A\u001b[2K\u001b[1A\u001b[2K[0m \u001b[33m3.1.1\u001b[0m...   \n",
      "\u001b[?25h\n"
     ]
    }
   ],
   "source": [
    "pdm add -d black"
   ]
  },
  {
   "cell_type": "code",
   "execution_count": 33,
   "id": "6b53f7ee",
   "metadata": {
    "slideshow": {
     "slide_type": "skip"
    },
    "tags": [
     "remove-cell"
    ]
   },
   "outputs": [
    {
     "name": "stdout",
     "output_type": "stream",
     "text": [
      "Previous HEAD position was fe97875 Add sarcastic_cowsay to utils\n",
      "HEAD is now at 0424f4c Add black to dev dependencies\n"
     ]
    }
   ],
   "source": [
    "# checkpoint\n",
    "git add -A\n",
    "git checkout $(git rev-list --topo-order HEAD...main | tail -1)  # check out next commit"
   ]
  },
  {
   "cell_type": "markdown",
   "id": "ec75064f",
   "metadata": {
    "slideshow": {
     "slide_type": "subslide"
    }
   },
   "source": [
    "### What happened?\n",
    "\n",
    "We've added a new `[dev-dependencies]` sub-table to the `[tool.pdm]` table, which contains `black`:"
   ]
  },
  {
   "cell_type": "code",
   "execution_count": 34,
   "id": "850d4e94",
   "metadata": {
    "slideshow": {
     "slide_type": "fragment"
    },
    "tags": [
     "remove-input"
    ]
   },
   "outputs": [
    {
     "data": {
      "text/markdown": [
       "```toml\n",
       "# pyproject.toml\n",
       "[tool.pdm]\n",
       "[tool.pdm.dev-dependencies]\n",
       "dev = [\n",
       "    \"black>=23.1.0\",\n",
       "]\n",
       "\n",
       "[project]\n",
       "name = \"eeskew-pwg-test-000\"\n",
       "\n",
       "...\n",
       "```\n"
      ]
     },
     "metadata": {},
     "output_type": "display_data"
    }
   ],
   "source": [
    "echo \"\\`\\`\\`toml\n",
    "$(simple-diff HEAD~ pyproject.toml)\n",
    "\\`\\`\\`\" | displayMD"
   ]
  },
  {
   "cell_type": "markdown",
   "id": "50946062",
   "metadata": {
    "slideshow": {
     "slide_type": "skip"
    }
   },
   "source": [
    "Click below to show diff:"
   ]
  },
  {
   "cell_type": "code",
   "execution_count": 35,
   "id": "694b2e08",
   "metadata": {
    "slideshow": {
     "slide_type": "notes"
    },
    "tags": [
     "remove-input",
     "hide-output"
    ]
   },
   "outputs": [
    {
     "name": "stdout",
     "output_type": "stream",
     "text": [
      "\u001b[1;36m\u001b[0m\u001b[1;36m────────────────────────────────────────────────────────────────────────────────\u001b[0m\n",
      "\u001b[1;36mmodified: pyproject.toml\n",
      "\u001b[1;36m────────────────────────────────────────────────────────────────────────────────\u001b[0m\n",
      "\u001b[36m\u001b[1m\u001b[38;5;13m@ pyproject.toml:4 @\u001b[1m\u001b[0m\n",
      " [tool.pdm]\u001b[m\n",
      "\u001b[32m+\u001b[m\u001b[32m[tool.pdm.dev-dependencies]\u001b[m\n",
      "\u001b[32m+\u001b[m\u001b[32mdev = [\u001b[m\n",
      "\u001b[32m+\u001b[m\u001b[32m    \"black>=23.1.0\",\u001b[m\n",
      "\u001b[32m+\u001b[m\u001b[32m]\u001b[m\n",
      " \u001b[m\n",
      " [project]\u001b[m\n",
      " name = \"eeskew-pwg-test-000\"\u001b[m\n"
     ]
    }
   ],
   "source": [
    "git diff --color HEAD~ pyproject.toml | ../../scripts/diff-so-fancy"
   ]
  },
  {
   "cell_type": "markdown",
   "id": "19ef2936",
   "metadata": {
    "slideshow": {
     "slide_type": "notes"
    }
   },
   "source": [
    "When we run `pdm install`, by default, PDM will install dependencies from here in addition to the dependencies listed in `[project.dependencies]`.  A different tool like `pip`, however, will not."
   ]
  },
  {
   "cell_type": "markdown",
   "id": "7a1c455a",
   "metadata": {
    "slideshow": {
     "slide_type": "skip"
    }
   },
   "source": [
    ":::{seealso}\n",
    "See the [PDM docs on adding development dependencies](https://pdm.fming.dev/latest/usage/dependency/#add-development-only-dependencies) or the [PDM docs on development dependencies in `pyproject.toml`](https://pdm.fming.dev/latest/pyproject/tool-pdm/#development-dependencies) for more information on development dependencies.\n",
    ":::"
   ]
  },
  {
   "cell_type": "markdown",
   "id": "2b502036",
   "metadata": {
    "slideshow": {
     "slide_type": "subslide"
    }
   },
   "source": [
    "The lockfile has also been updated:"
   ]
  },
  {
   "cell_type": "code",
   "execution_count": 36,
   "id": "fd4b5777",
   "metadata": {
    "slideshow": {
     "slide_type": "fragment"
    },
    "tags": [
     "output_scroll"
    ]
   },
   "outputs": [
    {
     "name": "stdout",
     "output_type": "stream",
     "text": [
      "# This file is @generated by PDM.\n",
      "# It is not intended for manual editing.\n",
      "\n",
      "[[package]]\n",
      "name = \"black\"\n",
      "version = \"23.1.0\"\n",
      "requires_python = \">=3.7\"\n",
      "summary = \"The uncompromising code formatter.\"\n",
      "dependencies = [\n",
      "    \"click>=8.0.0\",\n",
      "    \"mypy-extensions>=0.4.3\",\n",
      "    \"packaging>=22.0\",\n",
      "    \"pathspec>=0.9.0\",\n",
      "    \"platformdirs>=2\",\n",
      "]\n",
      "\n",
      "[[package]]\n",
      "name = \"click\"\n",
      "version = \"8.1.3\"\n",
      "requires_python = \">=3.7\"\n",
      "summary = \"Composable command line interface toolkit\"\n",
      "dependencies = [\n",
      "    \"colorama; platform_system == \\\"Windows\\\"\",\n",
      "]\n",
      "\n",
      "[[package]]\n",
      "name = \"colorama\"\n",
      "version = \"0.4.6\"\n",
      "requires_python = \"!=3.0.*,!=3.1.*,!=3.2.*,!=3.3.*,!=3.4.*,!=3.5.*,!=3.6.*,>=2.7\"\n",
      "summary = \"Cross-platform colored terminal text.\"\n",
      "\n",
      "[[package]]\n",
      "name = \"cowsay\"\n",
      "version = \"5.0\"\n",
      "summary = \"The famous cowsay for GNU/Linux is now available for python\"\n",
      "\n",
      "[[package]]\n",
      "name = \"mypy-extensions\"\n",
      "version = \"1.0.0\"\n",
      "requires_python = \">=3.5\"\n",
      "summary = \"Type system extensions for programs checked with the mypy type checker.\"\n",
      "\n",
      "[[package]]\n",
      "name = \"packaging\"\n",
      "version = \"23.0\"\n",
      "requires_python = \">=3.7\"\n",
      "summary = \"Core utilities for Python packages\"\n",
      "\n",
      "[[package]]\n",
      "name = \"pathspec\"\n",
      "version = \"0.11.0\"\n",
      "requires_python = \">=3.7\"\n",
      "summary = \"Utility library for gitignore style pattern matching of file paths.\"\n",
      "\n",
      "[[package]]\n",
      "name = \"platformdirs\"\n",
      "version = \"3.1.1\"\n",
      "requires_python = \">=3.7\"\n",
      "summary = \"A small Python package for determining appropriate platform-specific dirs, e.g. a \\\"user data dir\\\".\"\n",
      "\n",
      "[metadata]\n",
      "lock_version = \"4.1\"\n",
      "content_hash = \"sha256:62a438f3cf3f36e776dcb27b9168623bf45eb25cc80b4dfb4f4b847a36f7bbf2\"\n",
      "\n",
      "[metadata.files]\n",
      "\"black 23.1.0\" = [\n",
      "    {url = \"https://files.pythonhosted.org/packages/01/8a/065d0a59c1ebe13186b12a2fa3965a41fc1588828709995e2630004d216e/black-23.1.0-cp37-cp37m-manylinux_2_17_x86_64.manylinux2014_x86_64.whl\", hash = \"sha256:8178318cb74f98bc571eef19068f6ab5613b3e59d4f47771582f04e175570ed8\"},\n",
      "    {url = \"https://files.pythonhosted.org/packages/15/11/533355217b1cc4a6df3263048060c1527f733d4720e158de2085293112bb/black-23.1.0.tar.gz\", hash = \"sha256:b0bd97bea8903f5a2ba7219257a44e3f1f9d00073d6cc1add68f0beec69692ac\"},\n",
      "    {url = \"https://files.pythonhosted.org/packages/18/99/bb1be0ff3a7e912679ad234a3c4884fa7689dfcc4eae85bddb6c04feaa62/black-23.1.0-py3-none-any.whl\", hash = \"sha256:7a0f701d314cfa0896b9001df70a530eb2472babb76086344e688829efd97d32\"},\n",
      "    {url = \"https://files.pythonhosted.org/packages/20/de/eff8e3ccc22b5c2be1265a9e61f1006d03e194519a3ca2e83dd8483dbbb5/black-23.1.0-cp38-cp38-macosx_10_16_x86_64.whl\", hash = \"sha256:49f7b39e30f326a34b5c9a4213213a6b221d7ae9d58ec70df1c4a307cf2a1580\"},\n",
      "    {url = \"https://files.pythonhosted.org/packages/2d/9a/a81bf384a08d8a5e13d97223a60a74ac3c16c0aecdbd85edbc662d158bde/black-23.1.0-cp310-cp310-win_amd64.whl\", hash = \"sha256:9afd3f493666a0cd8f8df9a0200c6359ac53940cbde049dcb1a7eb6ee2dd7074\"},\n",
      "    {url = \"https://files.pythonhosted.org/packages/32/a7/1d207427b87780c505a41c9430d26362e729954503b8ffba27c4f53a6810/black-23.1.0-cp311-cp311-manylinux_2_17_x86_64.manylinux2014_x86_64.whl\", hash = \"sha256:2bf649fda611c8550ca9d7592b69f0637218c2369b7744694c5e4902873b2f3a\"},\n",
      "    {url = \"https://files.pythonhosted.org/packages/3d/dc/12dc29bb38b8db68c79b8339de1590fe1ae796858bfa6cf7494eb672be21/black-23.1.0-cp38-cp38-win_amd64.whl\", hash = \"sha256:8b70eb40a78dfac24842458476135f9b99ab952dd3f2dab738c1881a9b38b753\"},\n",
      "    {url = \"https://files.pythonhosted.org/packages/3e/c0/abc7031d670d211e4e2a063910d587dfcb62ce469631e779b23b66653442/black-23.1.0-cp310-cp310-macosx_10_16_universal2.whl\", hash = \"sha256:57c18c5165c1dbe291d5306e53fb3988122890e57bd9b3dcb75f967f13411a26\"},\n",
      "    {url = \"https://files.pythonhosted.org/packages/43/bc/5232fd6b0fd6d6177140cfb7d8f0f0e06638e2a750122767e265beb91161/black-23.1.0-cp39-cp39-macosx_10_16_arm64.whl\", hash = \"sha256:a29650759a6a0944e7cca036674655c2f0f63806ddecc45ed40b7b8aa314b651\"},\n",
      "    {url = \"https://files.pythonhosted.org/packages/6b/d1/4394e4b0a24ad0f556aca3ab11e27f2e199f03b43f147c31a4befbf62b48/black-23.1.0-cp311-cp311-win_amd64.whl\", hash = \"sha256:121ca7f10b4a01fd99951234abdbd97728e1240be89fde18480ffac16503d481\"},\n",
      "    {url = \"https://files.pythonhosted.org/packages/77/11/db2ae5bf93af5185086d9b1baf4ce369ca34c3a01835230873aa9163d52d/black-23.1.0-cp39-cp39-macosx_10_16_universal2.whl\", hash = \"sha256:bb460c8561c8c1bec7824ecbc3ce085eb50005883a6203dcfb0122e95797ee06\"},\n",
      "    {url = \"https://files.pythonhosted.org/packages/7e/fe/6c05c3f9255b7b498cfb88faa85b45329f1b7b0ecb444ebdc6b74ffa1457/black-23.1.0-cp311-cp311-macosx_10_16_universal2.whl\", hash = \"sha256:c1c476bc7b7d021321e7d93dc2cbd78ce103b84d5a4cf97ed535fbc0d6660648\"},\n",
      "    {url = \"https://files.pythonhosted.org/packages/96/af/3361b34907efbfd9d55af453488be2282f831d98b7d201248b38d4c44346/black-23.1.0-cp37-cp37m-macosx_10_16_x86_64.whl\", hash = \"sha256:a8471939da5e824b891b25751955be52ee7f8a30a916d570a5ba8e0f2eb2ecad\"},\n",
      "    {url = \"https://files.pythonhosted.org/packages/9a/ee/549e8be7f635cabcc3c7c3f2c3b27971dc32735155631b9ef2dcb1bd861f/black-23.1.0-cp311-cp311-macosx_10_16_arm64.whl\", hash = \"sha256:bfffba28dc52a58f04492181392ee380e95262af14ee01d4bc7bb1b1c6ca8d27\"},\n",
      "    {url = \"https://files.pythonhosted.org/packages/a4/ec/934e89820289e6952922fa5965aec0e046ed65da168ffb0515af1e3364e1/black-23.1.0-cp38-cp38-macosx_10_16_arm64.whl\", hash = \"sha256:a59db0a2094d2259c554676403fa2fac3473ccf1354c1c63eccf7ae65aac8ab6\"},\n",
      "    {url = \"https://files.pythonhosted.org/packages/ae/93/1e62fe94ab531bdc3f6cbbbd5b518727277bf40f695777b4097db5da2a38/black-23.1.0-cp39-cp39-macosx_10_16_x86_64.whl\", hash = \"sha256:c91dfc2c2a4e50df0026f88d2215e166616e0c80e86004d0003ece0488db2739\"},\n",
      "    {url = \"https://files.pythonhosted.org/packages/b1/7e/c368e9c795387a01bc181d8acbfd178278cc9960c5e7ef1059222a4419f9/black-23.1.0-cp37-cp37m-win_amd64.whl\", hash = \"sha256:a436e7881d33acaf2536c46a454bb964a50eff59b21b51c6ccf5a40601fbef24\"},\n",
      "    {url = \"https://files.pythonhosted.org/packages/b7/33/8e074fd8b86a1c8668f5493ed28929d87bdccb6aa68c2975b47a02f92287/black-23.1.0-cp39-cp39-manylinux_2_17_x86_64.manylinux2014_x86_64.whl\", hash = \"sha256:2a951cc83ab535d248c89f300eccbd625e80ab880fbcfb5ac8afb5f01a258ac9\"},\n",
      "    {url = \"https://files.pythonhosted.org/packages/be/f9/11e401323cd5b4e53d138fc880564765466a86acd2d4b50d7c8cdd048c18/black-23.1.0-cp310-cp310-manylinux_2_17_x86_64.manylinux2014_x86_64.whl\", hash = \"sha256:e6663f91b6feca5d06f2ccd49a10f254f9298cc1f7f49c46e498a0771b507104\"},\n",
      "    {url = \"https://files.pythonhosted.org/packages/c0/1d/8dac412cf5cc4120a438969a4fafefdc3de8fa13d411f317a9f9f1e268a4/black-23.1.0-cp39-cp39-win_amd64.whl\", hash = \"sha256:0680d4380db3719ebcfb2613f34e86c8e6d15ffeabcf8ec59355c5e7b85bb555\"},\n",
      "    {url = \"https://files.pythonhosted.org/packages/cf/fe/dda4b7eedb9d4dc46e306b814f7838cd9026907fdc889f75eb9f6d47d414/black-23.1.0-cp310-cp310-macosx_10_16_x86_64.whl\", hash = \"sha256:9880d7d419bb7e709b37e28deb5e68a49227713b623c72b2b931028ea65f619b\"},\n",
      "    {url = \"https://files.pythonhosted.org/packages/d0/cb/0a38ffdafbb4b3f337adaf1b79aeaf4b8a21ed18835acad6349e46c78c80/black-23.1.0-cp310-cp310-macosx_10_16_arm64.whl\", hash = \"sha256:b6a92a41ee34b883b359998f0c8e6eb8e99803aa8bf3123bf2b2e6fec505a221\"},\n",
      "    {url = \"https://files.pythonhosted.org/packages/dd/19/875b5006e40ea69a4120671f50317100b24732f2b877203722c91bc4eef3/black-23.1.0-cp38-cp38-manylinux_2_17_x86_64.manylinux2014_x86_64.whl\", hash = \"sha256:162e37d49e93bd6eb6f1afc3e17a3d23a823042530c37c3c42eeeaf026f38468\"},\n",
      "    {url = \"https://files.pythonhosted.org/packages/e6/0a/9a5fca4a2ca07d4dbc3b00445c9353f05ea182b000f68c9ad6ba1da87a47/black-23.1.0-cp38-cp38-macosx_10_16_universal2.whl\", hash = \"sha256:0052dba51dec07ed029ed61b18183942043e00008ec65d5028814afaab9a22fd\"},\n",
      "    {url = \"https://files.pythonhosted.org/packages/f1/89/ccc28cb74a66c094b609295b009b5e0350c10b75661d2450eeed2f60ce37/black-23.1.0-cp311-cp311-macosx_10_16_x86_64.whl\", hash = \"sha256:382998821f58e5c8238d3166c492139573325287820963d2f7de4d518bd76958\"},\n",
      "]\n",
      "\"click 8.1.3\" = [\n",
      "    {url = \"https://files.pythonhosted.org/packages/59/87/84326af34517fca8c58418d148f2403df25303e02736832403587318e9e8/click-8.1.3.tar.gz\", hash = \"sha256:7682dc8afb30297001674575ea00d1814d808d6a36af415a82bd481d37ba7b8e\"},\n"
     ]
    },
    {
     "name": "stdout",
     "output_type": "stream",
     "text": [
      "    {url = \"https://files.pythonhosted.org/packages/c2/f1/df59e28c642d583f7dacffb1e0965d0e00b218e0186d7858ac5233dce840/click-8.1.3-py3-none-any.whl\", hash = \"sha256:bb4d8133cb15a609f44e8213d9b391b0809795062913b383c62be0ee95b1db48\"},\n",
      "]\n",
      "\"colorama 0.4.6\" = [\n",
      "    {url = \"https://files.pythonhosted.org/packages/d1/d6/3965ed04c63042e047cb6a3e6ed1a63a35087b6a609aa3a15ed8ac56c221/colorama-0.4.6-py2.py3-none-any.whl\", hash = \"sha256:4f1d9991f5acc0ca119f9d443620b77f9d6b33703e51011c16baf57afb285fc6\"},\n",
      "    {url = \"https://files.pythonhosted.org/packages/d8/53/6f443c9a4a8358a93a6792e2acffb9d9d5cb0a5cfd8802644b7b1c9a02e4/colorama-0.4.6.tar.gz\", hash = \"sha256:08695f5cb7ed6e0531a20572697297273c47b8cae5a63ffc6d6ed5c201be6e44\"},\n",
      "]\n",
      "\"cowsay 5.0\" = [\n",
      "    {url = \"https://files.pythonhosted.org/packages/6b/b8/9f497fd045d74fe21d91cbe8debae0b451229989e35b539d218547d79fc6/cowsay-5.0.tar.gz\", hash = \"sha256:c00e02444f5bc7332826686bd44d963caabbaba9a804a63153822edce62bbbf3\"},\n",
      "]\n",
      "\"mypy-extensions 1.0.0\" = [\n",
      "    {url = \"https://files.pythonhosted.org/packages/2a/e2/5d3f6ada4297caebe1a2add3b126fe800c96f56dbe5d1988a2cbe0b267aa/mypy_extensions-1.0.0-py3-none-any.whl\", hash = \"sha256:4392f6c0eb8a5668a69e23d168ffa70f0be9ccfd32b5cc2d26a34ae5b844552d\"},\n",
      "    {url = \"https://files.pythonhosted.org/packages/98/a4/1ab47638b92648243faf97a5aeb6ea83059cc3624972ab6b8d2316078d3f/mypy_extensions-1.0.0.tar.gz\", hash = \"sha256:75dbf8955dc00442a438fc4d0666508a9a97b6bd41aa2f0ffe9d2f2725af0782\"},\n",
      "]\n",
      "\"packaging 23.0\" = [\n",
      "    {url = \"https://files.pythonhosted.org/packages/47/d5/aca8ff6f49aa5565df1c826e7bf5e85a6df852ee063600c1efa5b932968c/packaging-23.0.tar.gz\", hash = \"sha256:b6ad297f8907de0fa2fe1ccbd26fdaf387f5f47c7275fedf8cce89f99446cf97\"},\n",
      "    {url = \"https://files.pythonhosted.org/packages/ed/35/a31aed2993e398f6b09a790a181a7927eb14610ee8bbf02dc14d31677f1c/packaging-23.0-py3-none-any.whl\", hash = \"sha256:714ac14496c3e68c99c29b00845f7a2b85f3bb6f1078fd9f72fd20f0570002b2\"},\n",
      "]\n",
      "\"pathspec 0.11.0\" = [\n",
      "    {url = \"https://files.pythonhosted.org/packages/e6/be/1a973593d7ce7ac9d1a793b81eb265c152a62f34825169fbd7c4e4548e34/pathspec-0.11.0-py3-none-any.whl\", hash = \"sha256:3a66eb970cbac598f9e5ccb5b2cf58930cd8e3ed86d393d541eaf2d8b1705229\"},\n",
      "    {url = \"https://files.pythonhosted.org/packages/f4/8e/f91cffb32740b251cff04cad1e7cdd2c710582c735a01f56307316c148f2/pathspec-0.11.0.tar.gz\", hash = \"sha256:64d338d4e0914e91c1792321e6907b5a593f1ab1851de7fc269557a21b30ebbc\"},\n",
      "]\n",
      "\"platformdirs 3.1.1\" = [\n",
      "    {url = \"https://files.pythonhosted.org/packages/79/c4/f98a05535344f79699bbd494e56ac9efc986b7a253fe9f4dba7414a7f505/platformdirs-3.1.1.tar.gz\", hash = \"sha256:024996549ee88ec1a9aa99ff7f8fc819bb59e2c3477b410d90a16d32d6e707aa\"},\n",
      "    {url = \"https://files.pythonhosted.org/packages/7b/e1/593f693096c50411a2bf9571f66bc3be9d0f79a4a50e95aab581458b0e3c/platformdirs-3.1.1-py3-none-any.whl\", hash = \"sha256:e5986afb596e4bb5bde29a79ac9061aa955b94fca2399b7aaac4090860920dd8\"},\n",
      "]\n"
     ]
    }
   ],
   "source": [
    "cat pdm.lock"
   ]
  },
  {
   "cell_type": "markdown",
   "id": "17788e80",
   "metadata": {
    "slideshow": {
     "slide_type": "notes"
    }
   },
   "source": [
    "Many new packages now exist in the lockfile, not just `cowsay` and `black`.  This is because (unlike `cowsay`), `black` itself has dependencies that we needed to install to get it to work.  This lock file records exactly the versions of those sub-dependencies that we've now installed into our project virtual environment.\n",
    "\n",
    "When we run `pdm install`, if the lock file exists (and `pyproject.toml` hasn't been changed since the lockfile was last updated), PDM will install precisely the packages listed in the lockfile, so we'll always be working in the same virtual environment.  This is useful for developing and testing the code, so you should always include the lockfile in your project version control.\n",
    "\n",
    "However, we don't want to impose these restrictions on users of our library, or our project would rapidly become impossible to install due to other packages requiring different versions of the packages in the lockfile.  The only thing that we care about is that users have the right versions of the dependencies we directly use, which are listed in the `project.dependencies` array in `pyproject.toml`.  This is why `pip install` does not care about the existence of the lockfile."
   ]
  },
  {
   "cell_type": "markdown",
   "id": "261b44cb",
   "metadata": {
    "slideshow": {
     "slide_type": "skip"
    }
   },
   "source": [
    ":::{seealso}\n",
    "See the [PDM docs on version control](https://pdm.fming.dev/latest/usage/project/#working-with-version-control) for more on best practices for version-controlling a PDM project.\n",
    ":::"
   ]
  },
  {
   "cell_type": "markdown",
   "id": "67d05564",
   "metadata": {
    "slideshow": {
     "slide_type": "subslide"
    }
   },
   "source": [
    "### Using black\n",
    "\n",
    "We can now run `black` within our environment.  Let's re-write our code with poor formatting (note the spacing around the `==`, `%`, and `+=` operators), and then run `black` on it:"
   ]
  },
  {
   "cell_type": "code",
   "execution_count": 37,
   "id": "51c15da6",
   "metadata": {
    "slideshow": {
     "slide_type": "skip"
    },
    "tags": [
     "remove-cell"
    ]
   },
   "outputs": [],
   "source": [
    "# This cell hidden in presentation and docs\n",
    "cat << \"EOF\" > src/eeskew_pwg_test_000/utils.py\n",
    "import cowsay\n",
    "\n",
    "def sarcasm(s):\n",
    "    \"\"\"Convert string `s` to sArCaSm TeXt.\"\"\"\n",
    "    out = ''\n",
    "    for i,c in enumerate(s):\n",
    "        if i% 2 ==0:\n",
    "            out +=c.lower()\n",
    "\n",
    "        else:\n",
    "            out+= c.upper()\n",
    "\n",
    "    return out\n",
    "\n",
    "def sarcastic_cowsay(s):\n",
    "    \"\"\"Cowsay `s`, sArCaStIcAlLy.\"\"\"\n",
    "    sarcastic_s = sarcasm(s)\n",
    "    cowsay.cow(sarcastic_s)\n",
    "EOF"
   ]
  },
  {
   "cell_type": "code",
   "execution_count": 38,
   "id": "8f6e5334",
   "metadata": {
    "slideshow": {
     "slide_type": "skip"
    },
    "tags": [
     "remove-cell"
    ]
   },
   "outputs": [
    {
     "name": "stdout",
     "output_type": "stream",
     "text": [
      "Previous HEAD position was 0424f4c Add black to dev dependencies\n",
      "HEAD is now at 66ceb46 Use bad formatting in utils for black to fix\n"
     ]
    }
   ],
   "source": [
    "# checkpoint\n",
    "git add -A\n",
    "git checkout $(git rev-list --topo-order HEAD...main | tail -1)  # check out next commit"
   ]
  },
  {
   "cell_type": "code",
   "execution_count": 39,
   "id": "754a8f45",
   "metadata": {
    "slideshow": {
     "slide_type": "skip"
    },
    "tags": [
     "remove-input"
    ]
   },
   "outputs": [
    {
     "data": {
      "text/markdown": [
       "````{margin}\n",
       "    ```{seealso}\n",
       "    See this file in the companion repo [here](https://github.com/edsq/eeskew-pwg-test-000/tree/66ceb46848f4bdc087b21f251911bdd41b42a851/src/eeskew_pwg_test_000/utils.py).\n",
       "    ```\n",
       "    ````\n"
      ]
     },
     "metadata": {},
     "output_type": "display_data"
    }
   ],
   "source": [
    "repo-link src/eeskew_pwg_test_000/utils.py"
   ]
  },
  {
   "cell_type": "code",
   "execution_count": 40,
   "id": "1333240e",
   "metadata": {
    "slideshow": {
     "slide_type": "fragment"
    },
    "tags": [
     "remove-input"
    ]
   },
   "outputs": [
    {
     "data": {
      "text/markdown": [
       "```python\n",
       "# src/eeskew_pwg_test_000/utils.py\n",
       "...\n",
       "\n",
       "def sarcasm(s):\n",
       "    \"\"\"Convert string `s` to sArCaSm TeXt.\"\"\"\n",
       "    out = ''\n",
       "    for i,c in enumerate(s):\n",
       "        if i% 2 ==0:\n",
       "            out +=c.lower()\n",
       "\n",
       "        else:\n",
       "            out+= c.upper()\n",
       "\n",
       "    return out\n",
       "\n",
       "...\n",
       "```\n"
      ]
     },
     "metadata": {},
     "output_type": "display_data"
    }
   ],
   "source": [
    "echo \"\\`\\`\\`python\n",
    "$(simple-diff --context 2 HEAD~ src/eeskew_pwg_test_000/utils.py)\n",
    "\\`\\`\\`\" | displayMD"
   ]
  },
  {
   "cell_type": "markdown",
   "id": "13b32131",
   "metadata": {
    "slideshow": {
     "slide_type": "skip"
    }
   },
   "source": [
    "Click below to show diff:"
   ]
  },
  {
   "cell_type": "code",
   "execution_count": 41,
   "id": "97fbc70d",
   "metadata": {
    "slideshow": {
     "slide_type": "notes"
    },
    "tags": [
     "remove-input",
     "hide-output"
    ]
   },
   "outputs": [
    {
     "name": "stdout",
     "output_type": "stream",
     "text": [
      "\u001b[1;36m\u001b[0m\u001b[1;36m────────────────────────────────────────────────────────────────────────────────\u001b[0m\n",
      "\u001b[1;36mmodified: src/eeskew_pwg_test_000/utils.py\n",
      "\u001b[1;36m────────────────────────────────────────────────────────────────────────────────\u001b[0m\n",
      "\u001b[36m\u001b[1m\u001b[38;5;13m@ src/eeskew_pwg_test_000/utils.py:5 @\u001b[1m\u001b[1m\u001b[38;5;146m import cowsay\u001b[0m\n",
      " \u001b[m\n",
      " def sarcasm(s):\u001b[m\n",
      "     \"\"\"Convert string `s` to sArCaSm TeXt.\"\"\"\u001b[m\n",
      "\u001b[31m-    out = \u001b[7m\"\"\u001b[27m\u001b[m\n",
      "\u001b[31m-    for i,\u001b[7m \u001b[27mc in enumerate(s):\u001b[m\n",
      "\u001b[31m-        if i\u001b[7m % 2 == \u001b[27m0:\u001b[m\n",
      "\u001b[31m-            out +=\u001b[7m \u001b[27mc.lower()\u001b[m\n",
      "\u001b[32m+\u001b[m\u001b[32m    out = \u001b[7m''\u001b[27m\u001b[m\n",
      "\u001b[32m+\u001b[m\u001b[32m    for i,\u001b[7m\u001b[27mc in enumerate(s):\u001b[m\n",
      "\u001b[32m+\u001b[m\u001b[32m        if i\u001b[7m% 2 ==\u001b[27m0:\u001b[m\n",
      "\u001b[32m+\u001b[m\u001b[32m            out +=\u001b[7m\u001b[27mc.lower()\u001b[m\n",
      " \u001b[m\n",
      "         else:\u001b[m\n",
      "\u001b[31m-            out\u001b[7m \u001b[27m+= c.upper()\u001b[m\n",
      "\u001b[32m+\u001b[m\u001b[32m            out\u001b[7m\u001b[27m+= c.upper()\u001b[m\n",
      " \u001b[m\n",
      "     return out\u001b[m\n",
      " \u001b[m\n"
     ]
    }
   ],
   "source": [
    "git diff --color HEAD~ src/eeskew_pwg_test_000/utils.py | ../../scripts/diff-so-fancy"
   ]
  },
  {
   "cell_type": "markdown",
   "id": "1c3c3e16",
   "metadata": {
    "slideshow": {
     "slide_type": "subslide"
    }
   },
   "source": [
    "This is bad formatting!  Rather than fix it manually, we can run `black` on our code, which will auto-impose a reasonable style."
   ]
  },
  {
   "cell_type": "code",
   "execution_count": 42,
   "id": "06e55588",
   "metadata": {
    "slideshow": {
     "slide_type": "fragment"
    }
   },
   "outputs": [
    {
     "name": "stdout",
     "output_type": "stream",
     "text": [
      "\u001b[1mreformatted /Users/Ed/python/eds-notes/repos/eeskew-pwg-test-000/src/eeskew_pwg_test_000/utils.py\u001b[0m\n",
      "\n",
      "\u001b[1mAll done! ✨ 🍰 ✨\u001b[0m\n",
      "\u001b[34m\u001b[1m1 file \u001b[0m\u001b[1mreformatted\u001b[0m, \u001b[34m1 file \u001b[0mleft unchanged.\n"
     ]
    }
   ],
   "source": [
    "pdm run black src/"
   ]
  },
  {
   "cell_type": "code",
   "execution_count": 43,
   "id": "779961d9",
   "metadata": {
    "slideshow": {
     "slide_type": "skip"
    },
    "tags": [
     "remove-cell"
    ]
   },
   "outputs": [
    {
     "name": "stdout",
     "output_type": "stream",
     "text": [
      "Previous HEAD position was 66ceb46 Use bad formatting in utils for black to fix\n",
      "HEAD is now at 5688f46 Fix formatting with black\n"
     ]
    }
   ],
   "source": [
    "# checkpoint\n",
    "git add -A\n",
    "git checkout $(git rev-list --topo-order HEAD...main | tail -1)  # check out next commit"
   ]
  },
  {
   "cell_type": "markdown",
   "id": "3eaafac3",
   "metadata": {
    "slideshow": {
     "slide_type": "subslide"
    }
   },
   "source": [
    "### What happened?"
   ]
  },
  {
   "cell_type": "code",
   "execution_count": 39,
   "id": "4fa21a35",
   "metadata": {
    "slideshow": {
     "slide_type": "skip"
    },
    "tags": [
     "remove-input"
    ]
   },
   "outputs": [
    {
     "data": {
      "text/markdown": [
       "````{margin}\n",
       "    ```{seealso}\n",
       "    See this file in the companion repo [here](https://github.com/edsq/eeskew-pwg-test-000/tree/66ceb46848f4bdc087b21f251911bdd41b42a851/src/eeskew_pwg_test_000/utils.py).\n",
       "    ```\n",
       "    ````\n"
      ]
     },
     "metadata": {},
     "output_type": "display_data"
    }
   ],
   "source": [
    "repo-link src/eeskew_pwg_test_000/utils.py"
   ]
  },
  {
   "cell_type": "code",
   "execution_count": 44,
   "id": "cad2a8bc",
   "metadata": {
    "slideshow": {
     "slide_type": "fragment"
    },
    "tags": [
     "remove-input"
    ]
   },
   "outputs": [
    {
     "name": "stdout",
     "output_type": "stream",
     "text": [
      "\u001b[1;36m\u001b[0m\u001b[1;36m────────────────────────────────────────────────────────────────────────────────\u001b[0m\n",
      "\u001b[1;36mmodified: src/eeskew_pwg_test_000/utils.py\n",
      "\u001b[1;36m────────────────────────────────────────────────────────────────────────────────\u001b[0m\n",
      "\u001b[36m\u001b[1m\u001b[38;5;13m@ src/eeskew_pwg_test_000/utils.py:4 @\u001b[1m\u001b[0m\n",
      " import cowsay\u001b[m\n",
      " \u001b[m\n",
      "\u001b[32m+\u001b[m\n",
      " def sarcasm(s):\u001b[m\n",
      "     \"\"\"Convert string `s` to sArCaSm TeXt.\"\"\"\u001b[m\n",
      "\u001b[31m-    out = \u001b[7m''\u001b[27m\u001b[m\n",
      "\u001b[31m-    for i,\u001b[7m\u001b[27mc in enumerate(s):\u001b[m\n",
      "\u001b[31m-        if i\u001b[7m% 2 ==\u001b[27m0:\u001b[m\n",
      "\u001b[31m-            out +=\u001b[7m\u001b[27mc.lower()\u001b[m\n",
      "\u001b[32m+\u001b[m\u001b[32m    out = \u001b[7m\"\"\u001b[27m\u001b[m\n",
      "\u001b[32m+\u001b[m\u001b[32m    for i,\u001b[7m \u001b[27mc in enumerate(s):\u001b[m\n",
      "\u001b[32m+\u001b[m\u001b[32m        if i\u001b[7m % 2 == \u001b[27m0:\u001b[m\n",
      "\u001b[32m+\u001b[m\u001b[32m            out +=\u001b[7m \u001b[27mc.lower()\u001b[m\n",
      " \u001b[m\n",
      "         else:\u001b[m\n",
      "\u001b[31m-            out\u001b[7m\u001b[27m+= c.upper()\u001b[m\n",
      "\u001b[32m+\u001b[m\u001b[32m            out\u001b[7m \u001b[27m+= c.upper()\u001b[m\n",
      " \u001b[m\n",
      "     return out\u001b[m\n",
      " \u001b[m\n",
      "\u001b[32m+\u001b[m\n",
      " def sarcastic_cowsay(s):\u001b[m\n",
      "     \"\"\"Cowsay `s`, sArCaStIcAlLy.\"\"\"\u001b[m\n",
      "     sarcastic_s = sarcasm(s)\u001b[m\n"
     ]
    }
   ],
   "source": [
    "git diff --color HEAD~ src/eeskew_pwg_test_000/utils.py | ../../scripts/diff-so-fancy"
   ]
  },
  {
   "cell_type": "markdown",
   "id": "48ae5699",
   "metadata": {
    "slideshow": {
     "slide_type": "notes"
    }
   },
   "source": [
    "`black` has automatically re-formatted our code, fixing the poor formatting we introduced earlier."
   ]
  },
  {
   "cell_type": "markdown",
   "id": "4305770a",
   "metadata": {
    "slideshow": {
     "slide_type": "skip"
    }
   },
   "source": [
    ":::{seealso}\n",
    "See the [black documentation](https://black.readthedocs.io/en/stable/) for more information.\n",
    ":::"
   ]
  },
  {
   "cell_type": "markdown",
   "id": "c8c97522",
   "metadata": {
    "slideshow": {
     "slide_type": "slide"
    }
   },
   "source": [
    "## Conclusion\n",
    "\n",
    "That's all for Part 1!  The examples here should be enough to get you started using PDM to manage your own python projects.  For more advanced usage, check out the PDM documentation on:\n",
    "\n",
    "- [General project management](https://pdm.fming.dev/latest/usage/project/)\n",
    "- [Working with virtualenv](https://pdm.fming.dev/latest/usage/venv/)\n",
    "- [Managing dependencies](https://pdm.fming.dev/latest/usage/dependency/)\n",
    "\n",
    "In Part 2, we'll cover how to publish a PDM project on PyPI, so that it can be installed with a simple `pip install`."
   ]
  }
 ],
 "metadata": {
  "celltoolbar": "Slideshow",
  "jupytext": {
   "cell_metadata_filter": "all",
   "notebook_metadata_filter": "all"
  },
  "kernelspec": {
   "display_name": "Bash",
   "language": "bash",
   "name": "bash"
  },
  "language_info": {
   "codemirror_mode": "shell",
   "file_extension": ".sh",
   "mimetype": "text/x-sh",
   "name": "bash"
  },
  "rise": {
   "autolaunch": false,
   "scroll": true
  }
 },
 "nbformat": 4,
 "nbformat_minor": 5
}
