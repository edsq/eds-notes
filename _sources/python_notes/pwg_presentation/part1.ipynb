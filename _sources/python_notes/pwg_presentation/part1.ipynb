{
 "cells": [
  {
   "cell_type": "code",
   "execution_count": 1,
   "id": "94e43c21",
   "metadata": {
    "slideshow": {
     "slide_type": "skip"
    },
    "tags": [
     "remove-cell"
    ]
   },
   "outputs": [
    {
     "name": "stdout",
     "output_type": "stream",
     "text": [
      "\u001b[0;34m(ins)\u001b[0m:\n",
      "\u001b[0;34m(ins)\u001b[0m:\n",
      "\u001b[0;34m(ins)\u001b[0m:\n",
      "\u001b[0;34m(ins)\u001b[0m:\n",
      "\u001b[0;34m(ins)\u001b[0m:\n",
      "\u001b[0;34m(ins)\u001b[0m:\n",
      "\u001b[0;34m(ins)\u001b[0m:\n",
      "\u001b[0;34m(ins)\u001b[0m:\n"
     ]
    }
   ],
   "source": [
    "# Run startup commands\n",
    "# Note: if cwd is already the companion repo, this will fail.\n",
    "# Either restart the kernel first or don't run this cell, in that case.\n",
    "project_dir=$(pdm info --where)\n",
    "source $project_dir/.bashnbrc"
   ]
  },
  {
   "cell_type": "code",
   "execution_count": 2,
   "id": "f9f9e692",
   "metadata": {
    "slideshow": {
     "slide_type": "skip"
    },
    "tags": [
     "remove-cell"
    ]
   },
   "outputs": [
    {
     "name": "stdout",
     "output_type": "stream",
     "text": [
      "Cloning into '_tmp_pwg_presentation_02-08-2023_part1/eeskew-pwg-test-000'...\n",
      "Cloning into '_tmp_pwg_presentation_02-08-2023_part1/eeskew-pwg-test-000'...\n",
      "done.\n",
      "done.\n"
     ]
    }
   ],
   "source": [
    "# Make sure we're in the repo directory\n",
    "GITHUB_URL='https://github.com/edsq/eeskew-pwg-test-000'  # needed for embed-repo-link\n",
    "tmp_dir=\"_tmp_pwg_presentation_02-08-2023_part1\"\n",
    "repo_name=\"eeskew-pwg-test-000\"\n",
    "cd $project_dir/repos &&\n",
    "rm -rf $tmp_dir &&\n",
    "mkdir -p $tmp_dir/$repo_name\n",
    "git clone $repo_name $tmp_dir/$repo_name &&\n",
    "cd $tmp_dir/$repo_name"
   ]
  },
  {
   "cell_type": "code",
   "execution_count": 3,
   "id": "7a0384a2",
   "metadata": {
    "slideshow": {
     "slide_type": "skip"
    },
    "tags": [
     "remove-cell"
    ]
   },
   "outputs": [
    {
     "name": "stdout",
     "output_type": "stream",
     "text": [
      "Note: switching to '52e0b0893775a6d5881fda9d5de8b154d5588ae3'.\n",
      "\n",
      "Note: switching to '52e0b0893775a6d5881fda9d5de8b154d5588ae3'.\n",
      "You are in 'detached HEAD' state. You can look around, make experimental\n",
      "\n",
      "changes and commit them, and you can discard any commits you make in this\n",
      "You are in 'detached HEAD' state. You can look around, make experimental\n",
      "state without impacting any branches by switching back to a branch.\n",
      "changes and commit them, and you can discard any commits you make in this\n",
      "\n",
      "state without impacting any branches by switching back to a branch.\n",
      "If you want to create a new branch to retain commits you create, you may\n",
      "\n",
      "do so (now or later) by using -c with the switch command. Example:\n",
      "If you want to create a new branch to retain commits you create, you may\n",
      "\n",
      "do so (now or later) by using -c with the switch command. Example:\n",
      "  git switch -c <new-branch-name>\n",
      "\n",
      "\n",
      "  git switch -c <new-branch-name>\n",
      "Or undo this operation with:\n",
      "\n",
      "\n",
      "Or undo this operation with:\n",
      "  git switch -\n",
      "\n",
      "\n",
      "  git switch -\n",
      "Turn off this advice by setting config variable advice.detachedHead to false\n",
      "\n",
      "\n",
      "Turn off this advice by setting config variable advice.detachedHead to false\n",
      "HEAD is now at 52e0b08 pdm init skeleton\n",
      "\n",
      "HEAD is now at 52e0b08 pdm init skeleton\n",
      "\u001b[2K\u001b[36m⠴\u001b[0m Creating virtualenv using \u001b[32mvirtualenv\u001b[0m.....\n",
      "\u001b[2K\u001b[36m⠴\u001b[0m Creating virtualenv using \u001b[32mvirtualenv\u001b[0m...\n",
      "\u001b[1A\u001b[2KVirtualenv \n",
      "\u001b[32m/Users/Ed/python/eds-notes/repos/_tmp_pwg_presentation_02-08-2023_part1/eeskew-p\u001b[0m\n",
      "\u001b[1A\u001b[2KVirtualenv \n",
      "\u001b[32mwg-test-000/.venv\u001b[0m is created successfully\n",
      "\u001b[32m/Users/Ed/python/eds-notes/repos/_tmp_pwg_presentation_02-08-2023_part1/eeskew-p\u001b[0m\n",
      "\u001b[32mwg-test-000/.venv\u001b[0m is created successfully\n"
     ]
    }
   ],
   "source": [
    "# Start companion repo fresh from the beginning\n",
    "git checkout $(git rev-list --topo-order main | tail -1)  # check out first commit\n",
    "pdm venv create --force python"
   ]
  },
  {
   "cell_type": "code",
   "execution_count": 4,
   "id": "30e51179",
   "metadata": {
    "slideshow": {
     "slide_type": "skip"
    },
    "tags": [
     "remove-cell"
    ]
   },
   "outputs": [
    {
     "name": "stdout",
     "output_type": "stream",
     "text": [
      "\u001b[36mPDM version\u001b[0m:\n",
      "  2.5.3\n",
      "\u001b[36mPDM version\u001b[0m:\n",
      "\u001b[36mPython Interpreter\u001b[0m:\n",
      "  2.5.3\n",
      "  /Users/Ed/python/eds-notes/repos/_tmp_pwg_presentation_02-08-2023_part1/eeskew\n",
      "\u001b[36mPython Interpreter\u001b[0m:\n",
      "-pwg-test-000/.venv/bin/python (3.11)\n",
      "  /Users/Ed/python/eds-notes/repos/_tmp_pwg_presentation_02-08-2023_part1/eeskew\n",
      "\u001b[36mProject Root\u001b[0m:\n",
      "-pwg-test-000/.venv/bin/python (3.11)\n",
      "  /Users/Ed/python/eds-notes/repos/_tmp_pwg_presentation_02-08-2023_part1/eeskew\n",
      "\u001b[36mProject Root\u001b[0m:\n",
      "-pwg-test-000\n",
      "  /Users/Ed/python/eds-notes/repos/_tmp_pwg_presentation_02-08-2023_part1/eeskew\n",
      "\u001b[36mLocal Packages\u001b[0m:\n",
      "-pwg-test-000\n",
      "  \n",
      "\u001b[36mLocal Packages\u001b[0m:\n",
      "  \n"
     ]
    }
   ],
   "source": [
    "# This cell hidden in presentation and docs\n",
    "# Check that the environment and project are correct\n",
    "pdm info"
   ]
  },
  {
   "cell_type": "markdown",
   "id": "14aea777",
   "metadata": {
    "slideshow": {
     "slide_type": "slide"
    }
   },
   "source": [
    "# Project Management with PDM\n",
    "\n",
    "Part 1 of notes from talk given to the WSU Python Working Group on February 8, 2023.  See Part 2 [here](part2.ipynb).\n",
    "\n",
    "In this chapter, I show the basics of project management with [PDM](https://pdm.fming.dev/latest/): how to create a project,\n",
    "add dependencies, and add development dependencies.\n",
    "\n",
    "This tutorial is primarily aimed at macOS and Linux users, although the commands for Windows should mostly translate."
   ]
  },
  {
   "cell_type": "markdown",
   "id": "2318a059",
   "metadata": {
    "slideshow": {
     "slide_type": "skip"
    }
   },
   "source": [
    ":::{note}\n",
    "A companion repository with the example project created in these notes is available [here](https://github.com/edsq/eeskew-pwg-test-000).\n",
    ":::"
   ]
  },
  {
   "cell_type": "markdown",
   "id": "832f013a",
   "metadata": {
    "slideshow": {
     "slide_type": "slide"
    }
   },
   "source": [
    "## Requirements\n",
    "\n",
    "- The ability to get python executables of different versions, such as with [pyenv](https://github.com/pyenv/pyenv) or [conda](https://docs.conda.io/en/latest/miniconda.html)\n",
    "- [PDM](https://pdm.fming.dev/latest/) available globally\n",
    "- The [pdm-bump](https://github.com/carstencodes/pdm-bump) plugin installed"
   ]
  },
  {
   "cell_type": "markdown",
   "id": "76790c68",
   "metadata": {
    "slideshow": {
     "slide_type": "fragment"
    }
   },
   "source": [
    "The version of PDM these notes use is:"
   ]
  },
  {
   "cell_type": "code",
   "execution_count": 44,
   "id": "fc8d076a",
   "metadata": {
    "slideshow": {
     "slide_type": "fragment"
    }
   },
   "outputs": [
    {
     "name": "stdout",
     "output_type": "stream",
     "text": [
      "\u001b[1mPDM\u001b[0m, version \u001b[32m2.5.3\u001b[0m\n",
      "\u001b[1mPDM\u001b[0m, version \u001b[32m2.5.3\u001b[0m\n"
     ]
    }
   ],
   "source": [
    "pdm --version"
   ]
  },
  {
   "cell_type": "markdown",
   "id": "ea48cc1f",
   "metadata": {
    "slideshow": {
     "slide_type": "slide"
    }
   },
   "source": [
    "## Set the python version and initialize the project\n",
    "\n",
    "First, create the project directory and `cd` into it:\n",
    "\n",
    "```\n",
    "mkdir eeskew-pwg-test-000\n",
    "cd eeskew-pwg-test-000\n",
    "```"
   ]
  },
  {
   "cell_type": "markdown",
   "id": "8cd92816",
   "metadata": {
    "slideshow": {
     "slide_type": "notes"
    }
   },
   "source": [
    ":::{important}\n",
    "Because this is a throwaway test project, it is important that you give your project a name that won't conflict with any other package on PyPI or TestPyPI. Adding your name and some numbers is a good way to ensure this.\n",
    ":::"
   ]
  },
  {
   "cell_type": "markdown",
   "id": "b5d218f7",
   "metadata": {
    "slideshow": {
     "slide_type": "subslide"
    }
   },
   "source": [
    "Here, we'll use python version 3.11, but you may change this to be whatever you like.  I'll cover two methods of setting the python version: using [`pyenv`](https://github.com/pyenv/pyenv), and using [`conda`](https://conda.io/projects/conda/en/latest/user-guide/tasks/manage-environments.html)."
   ]
  },
  {
   "cell_type": "markdown",
   "id": "e0f1b82f",
   "metadata": {
    "slideshow": {
     "slide_type": "subslide"
    },
    "tags": [
     "remove-cell"
    ]
   },
   "source": [
    "### Using `pyenv`\n",
    "\n",
    "Install python 3.11 if it is not already (see installed versions with `pyenv versions`):\n",
    "\n",
    "```\n",
    "pyenv install 3.11\n",
    "```\n",
    "\n",
    "Set the local python version for this project and initialize using that version:\n",
    "\n",
    "```\n",
    "pyenv local 3.11\n",
    "pdm init --python python\n",
    "```\n",
    "\n",
    "`pyenv local` creates a file `.python-version`, which `pyenv` reads and redirects the command `python` to the installed `python3.11`.  Thus, we only need to tell pdm to use the usual `python` executable."
   ]
  },
  {
   "cell_type": "markdown",
   "id": "872abe29",
   "metadata": {
    "slideshow": {
     "slide_type": "subslide"
    },
    "tags": [
     "remove-cell"
    ]
   },
   "source": [
    "### Using `conda`\n",
    "\n",
    "PDM can also use `conda` to create your virtual environment.  To do this simply, we create the virtual environment before initializing the project, so that we can pass the right python executable to `pdm init`.\n",
    "\n",
    "```\n",
    "pdm venv create -w conda 3.11\n",
    "pdm init --python .venv/bin/python\n",
    "```"
   ]
  },
  {
   "cell_type": "markdown",
   "id": "480808eb",
   "metadata": {
    "slideshow": {
     "slide_type": "skip"
    }
   },
   "source": [
    "::::{tab-set}\n",
    ":::{tab-item} Using `pyenv`\n",
    "\n",
    "Install python 3.11 if it is not already (see installed versions with `pyenv versions`):\n",
    "\n",
    "```\n",
    "pyenv install 3.11\n",
    "```\n",
    "\n",
    "Set the local python version for this project and initialize using that version:\n",
    "\n",
    "```\n",
    "pyenv local 3.11\n",
    "pdm init --python python\n",
    "```\n",
    "\n",
    "`pyenv local` creates a file `.python-version`, which `pyenv` reads and redirects the command `python` to the installed `python3.11`.  Thus, we only need to tell pdm to use the usual `python` executable.\n",
    ":::\n",
    "\n",
    ":::{tab-item} Using `conda`\n",
    "\n",
    "PDM can use `conda` to create your virtual environment.  To do this simply, we create the virtual environment before initializing the project, so that we can pass the right python executable to `pdm init`.\n",
    "\n",
    "```\n",
    "pdm venv create -w conda 3.11\n",
    "pdm init --python .venv/bin/python\n",
    "```\n",
    ":::\n",
    "::::"
   ]
  },
  {
   "cell_type": "markdown",
   "id": "451af30e",
   "metadata": {
    "slideshow": {
     "slide_type": "subslide"
    }
   },
   "source": [
    "### `pdm init` options\n",
    "\n",
    "For\n",
    "\n",
    "```\n",
    "Would you like to create a virtualenv with <path-to-python>? [y/n] (y):\n",
    "```\n",
    "\n",
    "Ensure you select `y`.  Otherwise, PDM will operate in \"PEP 582 mode\" - see note on this below.\n",
    "\n",
    "For\n",
    "\n",
    "```\n",
    "Is the project a library that is installable?\n",
    "If yes, we will need to ask a few more questions to include the project name and build backend [y/n] (n):\n",
    "```\n",
    "\n",
    "select `y`.  Otherwise, all the default options should be good, except where you want to fill in your own information (project description, email, etc)."
   ]
  },
  {
   "cell_type": "markdown",
   "id": "23902075",
   "metadata": {
    "slideshow": {
     "slide_type": "slide"
    }
   },
   "source": [
    "## The PDM project\n",
    "\n",
    "Let's take a look at what we've created:"
   ]
  },
  {
   "cell_type": "code",
   "execution_count": 5,
   "id": "46b23e10",
   "metadata": {
    "slideshow": {
     "slide_type": "fragment"
    }
   },
   "outputs": [
    {
     "name": "stdout",
     "output_type": "stream",
     "text": [
      "\u001b[0m\u001b[01;34m.\u001b[0m   \u001b[01;34m.git\u001b[0m        .pdm-python      \u001b[01;34m.venv\u001b[0m      pyproject.toml\n",
      "\u001b[01;34m..\u001b[0m  .gitignore  .python-version  README.md\n",
      "\u001b[0m\u001b[01;34m.\u001b[0m   \u001b[01;34m.git\u001b[0m        .pdm-python      \u001b[01;34m.venv\u001b[0m      pyproject.toml\n",
      "\u001b[01;34m..\u001b[0m  .gitignore  .python-version  README.md\n"
     ]
    }
   ],
   "source": [
    "ls -a"
   ]
  },
  {
   "cell_type": "markdown",
   "id": "fc18bd1b",
   "metadata": {
    "slideshow": {
     "slide_type": "notes"
    }
   },
   "source": [
    "The relevant files created are the `README.md`; `.pdm.toml`, which holds local configuration for this PDM project; and `pyproject.toml`, which holds project tool configuration and package metadata.\n",
    "\n",
    ":::{seealso}\n",
    "PDM has also created a virtual environment for us in the `.venv` directory.  This is where our package and its dependencies will be installed.  If you are unfamiliar with virtual environments, I recommend [this article](https://realpython.com/python-virtual-environments-a-primer/).\n",
    ":::"
   ]
  },
  {
   "cell_type": "markdown",
   "id": "f4bbb257",
   "metadata": {
    "slideshow": {
     "slide_type": "skip"
    }
   },
   "source": [
    ":::{note}\n",
    "PDM supports the rejected Python Enhancement Proposal (PEP) [582](https://peps.python.org/pep-0582/).  An alternative to virtual environments, PEP 582 would automatically get dependencies from a `__pypackages__` directory in the project root, without having to activate a virtualenv.  See the PDM docs on PEP 582 [here](https://pdm.fming.dev/latest/usage/pep582/).  We will not be using PEP 582 mode in this tutorial.\n",
    ":::"
   ]
  },
  {
   "cell_type": "markdown",
   "id": "149d701b",
   "metadata": {
    "slideshow": {
     "slide_type": "subslide"
    }
   },
   "source": [
    "### The `pyproject.toml` file"
   ]
  },
  {
   "cell_type": "code",
   "execution_count": 6,
   "id": "366d618c",
   "metadata": {
    "slideshow": {
     "slide_type": "fragment"
    },
    "tags": [
     "remove-input"
    ]
   },
   "outputs": [
    {
     "data": {
      "text/markdown": [
       "The central location of our project configuration is [`pyproject.toml`](https://github.com/edsq/eeskew-pwg-test-000/tree/52e0b0893775a6d5881fda9d5de8b154d5588ae3/pyproject.toml):\n"
      ]
     },
     "metadata": {},
     "output_type": "display_data"
    },
    {
     "data": {
      "text/markdown": [
       "The central location of our project configuration is [`pyproject.toml`](https://github.com/edsq/eeskew-pwg-test-000/tree/52e0b0893775a6d5881fda9d5de8b154d5588ae3/pyproject.toml):\n"
      ]
     },
     "metadata": {},
     "output_type": "display_data"
    }
   ],
   "source": [
    "embed-repo-link \"The central location of our project configuration is {pyproject.toml}\":"
   ]
  },
  {
   "cell_type": "code",
   "execution_count": 7,
   "id": "ae943835",
   "metadata": {
    "scrolled": false,
    "slideshow": {
     "slide_type": "fragment"
    },
    "tags": [
     "remove-input"
    ]
   },
   "outputs": [
    {
     "data": {
      "text/markdown": [
       "```toml\n",
       "# pyproject.toml\n",
       "[tool.pdm]\n",
       "\n",
       "[project]\n",
       "name = \"eeskew-pwg-test-000\"\n",
       "version = \"0.1.0\"\n",
       "description = \"A test project for presentation to the WSU Python Working Group.\"\n",
       "authors = [\n",
       "    {name = \"Edward Eskew\", email = \"edward.eskew@wsu.edu\"},\n",
       "]\n",
       "dependencies = []\n",
       "requires-python = \">=3.11\"\n",
       "readme = \"README.md\"\n",
       "license = {text = \"MIT\"}\n",
       "\n",
       "[build-system]\n",
       "requires = [\"pdm-pep517>=1.0\"]\n",
       "build-backend = \"pdm.pep517.api\"\n",
       "```\n"
      ]
     },
     "metadata": {},
     "output_type": "display_data"
    },
    {
     "data": {
      "text/markdown": [
       "```toml\n",
       "# pyproject.toml\n",
       "[tool.pdm]\n",
       "\n",
       "[project]\n",
       "name = \"eeskew-pwg-test-000\"\n",
       "version = \"0.1.0\"\n",
       "description = \"A test project for presentation to the WSU Python Working Group.\"\n",
       "authors = [\n",
       "    {name = \"Edward Eskew\", email = \"edward.eskew@wsu.edu\"},\n",
       "]\n",
       "dependencies = []\n",
       "requires-python = \">=3.11\"\n",
       "readme = \"README.md\"\n",
       "license = {text = \"MIT\"}\n",
       "\n",
       "[build-system]\n",
       "requires = [\"pdm-pep517>=1.0\"]\n",
       "build-backend = \"pdm.pep517.api\"\n",
       "```\n"
      ]
     },
     "metadata": {},
     "output_type": "display_data"
    }
   ],
   "source": [
    "simple-diff $EMPTY_TREE pyproject.toml | show-code toml"
   ]
  },
  {
   "cell_type": "markdown",
   "id": "aeb835f0",
   "metadata": {
    "slideshow": {
     "slide_type": "notes"
    }
   },
   "source": [
    "This file is written in `.toml` format, which stands for [Tom's Obvious Minimal Language](https://toml.io/en/).\n",
    "\n",
    "The `tool.pdm` table is empty, although we'll add things here later on.\n",
    "\n",
    "The `project` table contains the metadata needed to install our project.  Its values thus far were set by the options we chose while running `pdm init`.\n",
    "\n",
    "The `build-system` section tells the build frontend (e.g. `pip`) what build backend to use - the build backend is what will actually create the distribution artifacts (wheels and sdists), which we'll see later.  See [PEP 517](https://peps.python.org/pep-0517/) for more information.  Here, we're just using the default PDM backend."
   ]
  },
  {
   "cell_type": "markdown",
   "id": "85994cbc",
   "metadata": {
    "slideshow": {
     "slide_type": "skip"
    }
   },
   "source": [
    ":::{seealso}\n",
    "See the [PDM docs on writing `pyproject.toml`](https://pdm.fming.dev/latest/reference/pep621/) for more on what can be specified in this file.\n",
    ":::"
   ]
  },
  {
   "cell_type": "markdown",
   "id": "16578418",
   "metadata": {
    "slideshow": {
     "slide_type": "slide"
    }
   },
   "source": [
    "## Adding code\n",
    "\n",
    "First we create our package directory in [src layout](https://hynek.me/articles/testing-packaging/), with an empty (for now) `__init__.py` file to indicate that it is a python package:"
   ]
  },
  {
   "cell_type": "code",
   "execution_count": 8,
   "id": "b800f075",
   "metadata": {
    "slideshow": {
     "slide_type": "fragment"
    }
   },
   "outputs": [],
   "source": [
    "mkdir src\n",
    "mkdir src/eeskew_pwg_test_000\n",
    "touch src/eeskew_pwg_test_000/__init__.py"
   ]
  },
  {
   "cell_type": "code",
   "execution_count": 9,
   "id": "7d6cafc3",
   "metadata": {
    "slideshow": {
     "slide_type": "skip"
    },
    "tags": [
     "remove-cell"
    ]
   },
   "outputs": [
    {
     "name": "stdout",
     "output_type": "stream",
     "text": [
      "Previous HEAD position was 52e0b08 pdm init skeleton\n",
      "Previous HEAD position was 52e0b08 pdm init skeleton\n",
      "HEAD is now at 681a2ff Add __init__.py\n",
      "HEAD is now at 681a2ff Add __init__.py\n"
     ]
    }
   ],
   "source": [
    "# checkpoint\n",
    "git-checkpoint"
   ]
  },
  {
   "cell_type": "markdown",
   "id": "02056d84",
   "metadata": {
    "slideshow": {
     "slide_type": "notes"
    }
   },
   "source": [
    ":::{note}\n",
    "By convention, we use [snake_case](https://en.wikipedia.org/wiki/Snake_case) for the package name, while we use [kebab-case](https://en.wiktionary.org/wiki/kebab_case) for the repository name.\n",
    ":::"
   ]
  },
  {
   "cell_type": "markdown",
   "id": "7be0b01c",
   "metadata": {
    "slideshow": {
     "slide_type": "slide"
    }
   },
   "source": [
    "### Add a module"
   ]
  },
  {
   "cell_type": "code",
   "execution_count": 10,
   "id": "b69acd29",
   "metadata": {
    "slideshow": {
     "slide_type": "skip"
    },
    "tags": [
     "remove-cell"
    ]
   },
   "outputs": [],
   "source": [
    "# This cell hidden in presentation and docs\n",
    "cat << \"EOF\" > src/eeskew_pwg_test_000/sarcasm.py\n",
    "def sarcasm(s):\n",
    "    \"\"\"Convert string `s` to sArCaSm TeXt.\"\"\"\n",
    "    out = \"\"\n",
    "    for i, c in enumerate(s):\n",
    "        if i % 2 == 0:\n",
    "            out += c.lower()\n",
    "\n",
    "        else:\n",
    "            out += c.upper()\n",
    "\n",
    "    return out\n",
    "EOF"
   ]
  },
  {
   "cell_type": "code",
   "execution_count": 11,
   "id": "4bb64ba4",
   "metadata": {
    "slideshow": {
     "slide_type": "skip"
    },
    "tags": [
     "remove-cell"
    ]
   },
   "outputs": [
    {
     "name": "stdout",
     "output_type": "stream",
     "text": [
      "Previous HEAD position was 681a2ff Add __init__.py\n",
      "HEAD is now at fe7dbab Add sarcasm.py\n",
      "Previous HEAD position was 681a2ff Add __init__.py\n",
      "HEAD is now at fe7dbab Add sarcasm.py\n"
     ]
    }
   ],
   "source": [
    "# checkpoint\n",
    "git-checkpoint"
   ]
  },
  {
   "cell_type": "code",
   "execution_count": 12,
   "id": "0caada77",
   "metadata": {
    "slideshow": {
     "slide_type": "fragment"
    },
    "tags": [
     "remove-input"
    ]
   },
   "outputs": [
    {
     "data": {
      "text/markdown": [
       "Let's add some code in [`src/eeskew_pwg_test_000/sarcasm.py`](https://github.com/edsq/eeskew-pwg-test-000/tree/fe7dbabe72819019cb909a4e2656c465009b2d01/src/eeskew_pwg_test_000/sarcasm.py):\n"
      ]
     },
     "metadata": {},
     "output_type": "display_data"
    },
    {
     "data": {
      "text/markdown": [
       "Let's add some code in [`src/eeskew_pwg_test_000/sarcasm.py`](https://github.com/edsq/eeskew-pwg-test-000/tree/fe7dbabe72819019cb909a4e2656c465009b2d01/src/eeskew_pwg_test_000/sarcasm.py):\n"
      ]
     },
     "metadata": {},
     "output_type": "display_data"
    }
   ],
   "source": [
    "embed-repo-link \"Let's add some code in {src/eeskew_pwg_test_000/sarcasm.py}:\""
   ]
  },
  {
   "cell_type": "code",
   "execution_count": 13,
   "id": "7a0d968a",
   "metadata": {
    "slideshow": {
     "slide_type": "fragment"
    },
    "tags": [
     "remove-input"
    ]
   },
   "outputs": [
    {
     "data": {
      "text/markdown": [
       "```python\n",
       "# src/eeskew_pwg_test_000/sarcasm.py\n",
       "def sarcasm(s):\n",
       "    \"\"\"Convert string `s` to sArCaSm TeXt.\"\"\"\n",
       "    out = \"\"\n",
       "    for i, c in enumerate(s):\n",
       "        if i % 2 == 0:\n",
       "            out += c.lower()\n",
       "\n",
       "        else:\n",
       "            out += c.upper()\n",
       "\n",
       "    return out\n",
       "```\n"
      ]
     },
     "metadata": {},
     "output_type": "display_data"
    },
    {
     "data": {
      "text/markdown": [
       "```python\n",
       "# src/eeskew_pwg_test_000/sarcasm.py\n",
       "def sarcasm(s):\n",
       "    \"\"\"Convert string `s` to sArCaSm TeXt.\"\"\"\n",
       "    out = \"\"\n",
       "    for i, c in enumerate(s):\n",
       "        if i % 2 == 0:\n",
       "            out += c.lower()\n",
       "\n",
       "        else:\n",
       "            out += c.upper()\n",
       "\n",
       "    return out\n",
       "```\n"
      ]
     },
     "metadata": {},
     "output_type": "display_data"
    }
   ],
   "source": [
    "simple-diff HEAD~ src/eeskew_pwg_test_000/sarcasm.py | show-code python"
   ]
  },
  {
   "cell_type": "markdown",
   "id": "1d482295",
   "metadata": {
    "slideshow": {
     "slide_type": "notes"
    }
   },
   "source": [
    "The actual content of this code is not too important for the purposes of these notes, but for completeness, all it does is capitalize and lowercase alternating letters in a string."
   ]
  },
  {
   "cell_type": "markdown",
   "id": "2cca880f",
   "metadata": {
    "slideshow": {
     "slide_type": "slide"
    }
   },
   "source": [
    "## Install the project"
   ]
  },
  {
   "cell_type": "markdown",
   "id": "6b006c7c",
   "metadata": {
    "slideshow": {
     "slide_type": "notes"
    }
   },
   "source": [
    "To make our code available in the virtual environment, we have to install it:"
   ]
  },
  {
   "cell_type": "code",
   "execution_count": 14,
   "id": "15492f92",
   "metadata": {
    "slideshow": {
     "slide_type": "fragment"
    }
   },
   "outputs": [
    {
     "name": "stdout",
     "output_type": "stream",
     "text": [
      "\u001b[33mLock file does not exist\u001b[0m\n",
      "\u001b[32mUpdating the lock file\u001b[0m\u001b[33m...\u001b[0m\n",
      "\u001b[33mLock file does not exist\u001b[0m\n",
      "\u001b[32mUpdating the lock file\u001b[0m\u001b[33m...\u001b[0m\n",
      "\u001b[?25l\u001b[36m⠋\u001b[0m Fetching hashes for resolved packages...\n",
      "\u001b[?25l\u001b[36m⠋\u001b[0m Fetching hashes for resolved packages...\n",
      "\u001b[1A\u001b[2K🔒 Lock successful\n",
      "Changes are written to \u001b[32mpdm.lock\u001b[0m.\n",
      "\u001b[1A\u001b[2K🔒 Lock successful\n",
      "Changes are written to \u001b[32mpdm.lock\u001b[0m.\n",
      "\u001b[?25l\u001b[36m⠋\u001b[0m Fetching hashes for resolved packages...\n",
      "\u001b[?25l\u001b[36m⠋\u001b[0m Fetching hashes for resolved packages...\n",
      "\u001b[1A\u001b[2KAll packages are synced to date, nothing to do.\n",
      "\u001b[1A\u001b[2KAll packages are synced to date, nothing to do.\n",
      "\u001b[2KInstalling the project as an editable package...\n",
      "\u001b[2KInstalling the project as an editable package...\n",
      "\u001b[2K  \u001b[32m✔\u001b[0m Install \u001b[1;32meeskew-pwg-test-000\u001b[0m \u001b[33m0.1.0\u001b[0m successful\n",
      "\u001b[2K  \u001b[32m✔\u001b[0m Install \u001b[1;32meeskew-pwg-test-000\u001b[0m \u001b[33m0.1.0\u001b[0m successful\n",
      "\u001b[2K\n",
      "🎉 All complete!talling \u001b[1;32meeskew-pwg-test-000\u001b[0m \u001b[33m0.1.0\u001b[0m...\n",
      "\u001b[2K\n",
      "🎉 All complete!talling \u001b[1;32meeskew-pwg-test-000\u001b[0m \u001b[33m0.1.0\u001b[0m...\n",
      "\u001b[2K\n",
      "\u001b[2K36m⠋\u001b[0m Installing \u001b[1;32meeskew-pwg-test-000\u001b[0m \u001b[33m0.1.0\u001b[0m...\n",
      "\u001b[?25h\n",
      "\u001b[?25h\n"
     ]
    }
   ],
   "source": [
    "pdm install"
   ]
  },
  {
   "cell_type": "code",
   "execution_count": 15,
   "id": "a1350898",
   "metadata": {
    "slideshow": {
     "slide_type": "skip"
    },
    "tags": [
     "remove-cell"
    ]
   },
   "outputs": [
    {
     "name": "stdout",
     "output_type": "stream",
     "text": [
      "Previous HEAD position was fe7dbab Add sarcasm.py\n",
      "HEAD is now at 27534a6 Add pdm.lock after first pdm install\n",
      "Previous HEAD position was fe7dbab Add sarcasm.py\n",
      "HEAD is now at 27534a6 Add pdm.lock after first pdm install\n"
     ]
    }
   ],
   "source": [
    "# checkpoint\n",
    "git-checkpoint"
   ]
  },
  {
   "cell_type": "markdown",
   "id": "a6f9027b",
   "metadata": {
    "slideshow": {
     "slide_type": "subslide"
    }
   },
   "source": [
    "Now we can import our package:"
   ]
  },
  {
   "cell_type": "code",
   "execution_count": 16,
   "id": "f230678c",
   "metadata": {
    "slideshow": {
     "slide_type": "fragment"
    }
   },
   "outputs": [
    {
     "name": "stdout",
     "output_type": "stream",
     "text": [
      "hElLo wOrLd!\n",
      "hElLo wOrLd!\n"
     ]
    }
   ],
   "source": [
    "pdm run python -c 'from eeskew_pwg_test_000.sarcasm import sarcasm; print(sarcasm(\"Hello world!\"))'"
   ]
  },
  {
   "cell_type": "markdown",
   "id": "c95ad34d",
   "metadata": {
    "slideshow": {
     "slide_type": "fragment"
    }
   },
   "source": [
    "Note we have to type `pdm run` before our command for it to be run within our project environment."
   ]
  },
  {
   "cell_type": "markdown",
   "id": "f45a572f",
   "metadata": {
    "slideshow": {
     "slide_type": "fragment"
    }
   },
   "source": [
    ":::{tip}\n",
    "If you don't want to type `pdm run` every time before a command to be run in the project virtual environment, you can *activate* the environment, which will modify your `sys.prefix` to point to the `.venv` directory.  See the python `venv` docs [here](https://docs.python.org/3/library/venv.html#how-venvs-work) for more on how virtual environments work.\n",
    "\n",
    "`pdm` will print the command to activate the project virtual environment with the command `pdm venv activate`.  You can copy and paste that output, or, if you want to activate the environment in one line, use:\n",
    "\n",
    "```bash\n",
    "eval $(pdm venv activate)\n",
    "```\n",
    "\n",
    "To simplify things further, add this as an alias to your `~/.bashrc` or `~/.bash_profile` (and don't forget to restart your shell or `source ~/.bashrc` after):\n",
    "\n",
    "```bash\n",
    "# ~/.bashrc\n",
    "alias pdm-activate='eval $(pdm venv activate)'\n",
    "```\n",
    "\n",
    "This will let you activate the environment with the command `pdm-activate`.\n",
    "\n",
    "You can deactivate an active virtual environment with the command `deactivate`.  See also the [PDM docs on virtualenv activation](https://pdm.fming.dev/latest/usage/venv/#activate-a-virtualenv).\n",
    ":::"
   ]
  },
  {
   "cell_type": "markdown",
   "id": "7229eaab",
   "metadata": {
    "slideshow": {
     "slide_type": "subslide"
    }
   },
   "source": [
    "### The `pdm.lock` file\n",
    "\n",
    "Running `pdm install` also created a new file, `pdm.lock`:"
   ]
  },
  {
   "cell_type": "code",
   "execution_count": 17,
   "id": "a6eca6b3",
   "metadata": {
    "slideshow": {
     "slide_type": "fragment"
    }
   },
   "outputs": [
    {
     "name": "stdout",
     "output_type": "stream",
     "text": [
      "README.md  pdm.lock  pyproject.toml  \u001b[0m\u001b[01;34msrc\u001b[0m\n",
      "README.md  pdm.lock  pyproject.toml  \u001b[0m\u001b[01;34msrc\u001b[0m\n"
     ]
    }
   ],
   "source": [
    "ls"
   ]
  },
  {
   "cell_type": "code",
   "execution_count": 18,
   "id": "6f2e8322",
   "metadata": {
    "slideshow": {
     "slide_type": "fragment"
    },
    "tags": [
     "remove-input"
    ]
   },
   "outputs": [
    {
     "data": {
      "text/markdown": [
       "```toml\n",
       "# pdm.lock\n",
       "# This file is @generated by PDM.\n",
       "# It is not intended for manual editing.\n",
       "\n",
       "[metadata]\n",
       "lock_version = \"4.2\"\n",
       "groups = [\"default\"]\n",
       "content_hash = \"sha256:86165c41f17b4b263a688544a3ebc55eccc1713dd177c40649b2e936dab66751\"\n",
       "\n",
       "[metadata.files]\n",
       "```\n"
      ]
     },
     "metadata": {},
     "output_type": "display_data"
    },
    {
     "data": {
      "text/markdown": [
       "```toml\n",
       "# pdm.lock\n",
       "# This file is @generated by PDM.\n",
       "# It is not intended for manual editing.\n",
       "\n",
       "[metadata]\n",
       "lock_version = \"4.2\"\n",
       "groups = [\"default\"]\n",
       "content_hash = \"sha256:86165c41f17b4b263a688544a3ebc55eccc1713dd177c40649b2e936dab66751\"\n",
       "\n",
       "[metadata.files]\n",
       "```\n"
      ]
     },
     "metadata": {},
     "output_type": "display_data"
    }
   ],
   "source": [
    "simple-diff HEAD~ pdm.lock | show-code toml"
   ]
  },
  {
   "cell_type": "markdown",
   "id": "2bcc6d67",
   "metadata": {
    "slideshow": {
     "slide_type": "notes"
    }
   },
   "source": [
    "This is a lockfile, which will contain the exact versions of each project dependency we install.  It is useful for creating a perfect reproduction of the project virtual environment, which keeps our development reproducible over time and across different machines.\n",
    "\n",
    "Right now, we have not installed anything other than the project itself, so it is essentially empty."
   ]
  },
  {
   "cell_type": "markdown",
   "id": "409939cc",
   "metadata": {
    "slideshow": {
     "slide_type": "slide"
    }
   },
   "source": [
    "## Add a dependency\n",
    "\n",
    "Let's add a dependency to our project, [cowsay](https://pypi.org/project/cowsay/):"
   ]
  },
  {
   "cell_type": "code",
   "execution_count": 19,
   "id": "05988676",
   "metadata": {
    "slideshow": {
     "slide_type": "fragment"
    }
   },
   "outputs": [
    {
     "name": "stdout",
     "output_type": "stream",
     "text": [
      "Adding packages to \u001b[36mdefault\u001b[0m dependencies: \u001b[1;32mcowsay\u001b[0m\n",
      "Adding packages to \u001b[36mdefault\u001b[0m dependencies: \u001b[1;32mcowsay\u001b[0m\n",
      "\u001b[2K\u001b[36m⠸\u001b[0m Fetching hashes for resolved packages...\n",
      "\u001b[2K\u001b[36m⠸\u001b[0m Fetching hashes for resolved packages...\n",
      "\u001b[1A\u001b[2K🔒 Lock successful\n",
      "\u001b[1A\u001b[2K🔒 Lock successful\n",
      "Changes are written to \u001b[32mpyproject.toml\u001b[0m.\n",
      "Changes are written to \u001b[32mpyproject.toml\u001b[0m.\n",
      "\u001b[?25l\u001b[36m⠋\u001b[0m Fetching hashes for resolved packages...\n",
      "\u001b[?25l\u001b[36m⠋\u001b[0m Fetching hashes for resolved packages...\n",
      "\u001b[1A\u001b[2K\u001b[1mSynchronizing working set with lock file\u001b[0m: \u001b[32m1\u001b[0m to add, \u001b[33m0\u001b[0m to update, \u001b[31m0\u001b[0m to remove\n",
      "\n",
      "\u001b[1A\u001b[2K\u001b[1mSynchronizing working set with lock file\u001b[0m: \u001b[32m1\u001b[0m to add, \u001b[33m0\u001b[0m to update, \u001b[31m0\u001b[0m to remove\n",
      "\n",
      "\u001b[2K  \u001b[32m✔\u001b[0m Install \u001b[1;32mcowsay\u001b[0m \u001b[33m5.0\u001b[0m successful\n",
      "\u001b[2K  \u001b[32m✔\u001b[0m Install \u001b[1;32mcowsay\u001b[0m \u001b[33m5.0\u001b[0m successful\n",
      "\u001b[2KInstalling the project as an editable package...\n",
      "\u001b[2KInstalling the project as an editable package...0m...\n",
      "\u001b[2K  \u001b[32m✔\u001b[0m Update \u001b[1;32meeskew-pwg-test-000\u001b[0m \u001b[33m0.1.0\u001b[0m -> \u001b[33m0.1.0\u001b[0m successful\n",
      "\u001b[2K  \u001b[32m✔\u001b[0m Update \u001b[1;32meeskew-pwg-test-000\u001b[0m \u001b[33m0.1.0\u001b[0m -> \u001b[33m0.1.0\u001b[0m successful\n",
      "\u001b[2K\n",
      "🎉 All complete!ating \u001b[1;32meeskew-pwg-test-000\u001b[0m \u001b[33m0.1.0\u001b[0m -> \u001b[33m0.1.0\u001b[0m...\n",
      "\u001b[2K\n",
      "🎉 All complete!ating \u001b[1;32meeskew-pwg-test-000\u001b[0m \u001b[33m0.1.0\u001b[0m -> \u001b[33m0.1.0\u001b[0m...\n",
      "\u001b[2K\n",
      "\u001b[2K36m⠙\u001b[0m Updating \u001b[1;32meeskew-pwg-test-000\u001b[0m \u001b[33m0.1.0\u001b[0m -> \u001b[33m0.1.0\u001b[0m...\n",
      "\u001b[?25h\n",
      "\u001b[?25h\n"
     ]
    }
   ],
   "source": [
    "pdm add cowsay"
   ]
  },
  {
   "cell_type": "code",
   "execution_count": 20,
   "id": "9c0abfe5",
   "metadata": {
    "slideshow": {
     "slide_type": "skip"
    },
    "tags": [
     "remove-cell"
    ]
   },
   "outputs": [
    {
     "name": "stdout",
     "output_type": "stream",
     "text": [
      "Previous HEAD position was 27534a6 Add pdm.lock after first pdm install\n",
      "Previous HEAD position was 27534a6 Add pdm.lock after first pdm install\n",
      "HEAD is now at fcc0838 Add cowsay to dependencies\n",
      "HEAD is now at fcc0838 Add cowsay to dependencies\n"
     ]
    }
   ],
   "source": [
    "# checkpoint\n",
    "git-checkpoint"
   ]
  },
  {
   "cell_type": "markdown",
   "id": "41d48030",
   "metadata": {
    "slideshow": {
     "slide_type": "subslide"
    }
   },
   "source": [
    "### What did `pdm add` do?"
   ]
  },
  {
   "cell_type": "code",
   "execution_count": 21,
   "id": "e4216b3c",
   "metadata": {
    "slideshow": {
     "slide_type": "fragment"
    },
    "tags": [
     "remove-input"
    ]
   },
   "outputs": [
    {
     "data": {
      "text/markdown": [
       "`cowsay` now appears as a dependency in [`pyproject.toml`](https://github.com/edsq/eeskew-pwg-test-000/tree/fcc083809724f6472f436beb22d76abfca56342c/pyproject.toml):\n"
      ]
     },
     "metadata": {},
     "output_type": "display_data"
    },
    {
     "data": {
      "text/markdown": [
       "`cowsay` now appears as a dependency in [`pyproject.toml`](https://github.com/edsq/eeskew-pwg-test-000/tree/fcc083809724f6472f436beb22d76abfca56342c/pyproject.toml):\n"
      ]
     },
     "metadata": {},
     "output_type": "display_data"
    }
   ],
   "source": [
    "embed-repo-link \"\\`cowsay\\` now appears as a dependency in {pyproject.toml}:\""
   ]
  },
  {
   "cell_type": "code",
   "execution_count": 22,
   "id": "56488271",
   "metadata": {
    "slideshow": {
     "slide_type": "fragment"
    },
    "tags": [
     "remove-input"
    ]
   },
   "outputs": [
    {
     "data": {
      "text/markdown": [
       "```toml\n",
       "# pyproject.toml\n",
       "...\n",
       "\n",
       "authors = [\n",
       "    {name = \"Edward Eskew\", email = \"edward.eskew@wsu.edu\"},\n",
       "]\n",
       "dependencies = [\n",
       "    \"cowsay>=5.0\",\n",
       "]\n",
       "requires-python = \">=3.11\"\n",
       "readme = \"README.md\"\n",
       "license = {text = \"MIT\"}\n",
       "\n",
       "...\n",
       "```\n"
      ]
     },
     "metadata": {},
     "output_type": "display_data"
    },
    {
     "data": {
      "text/markdown": [
       "```toml\n",
       "# pyproject.toml\n",
       "...\n",
       "\n",
       "authors = [\n",
       "    {name = \"Edward Eskew\", email = \"edward.eskew@wsu.edu\"},\n",
       "]\n",
       "dependencies = [\n",
       "    \"cowsay>=5.0\",\n",
       "]\n",
       "requires-python = \">=3.11\"\n",
       "readme = \"README.md\"\n",
       "license = {text = \"MIT\"}\n",
       "\n",
       "...\n",
       "```\n"
      ]
     },
     "metadata": {},
     "output_type": "display_data"
    }
   ],
   "source": [
    "simple-diff HEAD~ pyproject.toml | show-code toml"
   ]
  },
  {
   "cell_type": "code",
   "execution_count": 23,
   "id": "39fb6dcf",
   "metadata": {
    "slideshow": {
     "slide_type": "subslide"
    },
    "tags": [
     "remove-input"
    ]
   },
   "outputs": [
    {
     "data": {
      "text/markdown": [
       "We've also updated [`pdm.lock`](https://github.com/edsq/eeskew-pwg-test-000/tree/fcc083809724f6472f436beb22d76abfca56342c/pdm.lock) to include cowsay:\n"
      ]
     },
     "metadata": {},
     "output_type": "display_data"
    },
    {
     "data": {
      "text/markdown": [
       "We've also updated [`pdm.lock`](https://github.com/edsq/eeskew-pwg-test-000/tree/fcc083809724f6472f436beb22d76abfca56342c/pdm.lock) to include cowsay:\n"
      ]
     },
     "metadata": {},
     "output_type": "display_data"
    }
   ],
   "source": [
    "embed-repo-link \"We've also updated {pdm.lock} to include cowsay:\""
   ]
  },
  {
   "cell_type": "code",
   "execution_count": 24,
   "id": "621f2831",
   "metadata": {
    "slideshow": {
     "slide_type": "fragment"
    },
    "tags": [
     "remove-input"
    ]
   },
   "outputs": [
    {
     "data": {
      "text/markdown": [
       "```toml\n",
       "# pdm.lock\n",
       "# This file is @generated by PDM.\n",
       "# It is not intended for manual editing.\n",
       "\n",
       "[[package]]\n",
       "name = \"cowsay\"\n",
       "version = \"5.0\"\n",
       "summary = \"The famous cowsay for GNU/Linux is now available for python\"\n",
       "\n",
       "[metadata]\n",
       "lock_version = \"4.2\"\n",
       "groups = [\"default\"]\n",
       "content_hash = \"sha256:a04c8eb9409090bc9acb94e5cec5ef19afdecacb2c169628142af5ca472135f0\"\n",
       "\n",
       "[metadata.files]\n",
       "\"cowsay 5.0\" = [\n",
       "    {url = \"https://files.pythonhosted.org/packages/6b/b8/9f497fd045d74fe21d91cbe8debae0b451229989e35b539d218547d79fc6/cowsay-5.0.tar.gz\", hash = \"sha256:c00e02444f5bc7332826686bd44d963caabbaba9a804a63153822edce62bbbf3\"},\n",
       "]\n",
       "```\n"
      ]
     },
     "metadata": {},
     "output_type": "display_data"
    },
    {
     "data": {
      "text/markdown": [
       "```toml\n",
       "# pdm.lock\n",
       "# This file is @generated by PDM.\n",
       "# It is not intended for manual editing.\n",
       "\n",
       "[[package]]\n",
       "name = \"cowsay\"\n",
       "version = \"5.0\"\n",
       "summary = \"The famous cowsay for GNU/Linux is now available for python\"\n",
       "\n",
       "[metadata]\n",
       "lock_version = \"4.2\"\n",
       "groups = [\"default\"]\n",
       "content_hash = \"sha256:a04c8eb9409090bc9acb94e5cec5ef19afdecacb2c169628142af5ca472135f0\"\n",
       "\n",
       "[metadata.files]\n",
       "\"cowsay 5.0\" = [\n",
       "    {url = \"https://files.pythonhosted.org/packages/6b/b8/9f497fd045d74fe21d91cbe8debae0b451229989e35b539d218547d79fc6/cowsay-5.0.tar.gz\", hash = \"sha256:c00e02444f5bc7332826686bd44d963caabbaba9a804a63153822edce62bbbf3\"},\n",
       "]\n",
       "```\n"
      ]
     },
     "metadata": {},
     "output_type": "display_data"
    }
   ],
   "source": [
    "simple-diff HEAD~ pdm.lock | show-code toml"
   ]
  },
  {
   "cell_type": "markdown",
   "id": "e0c4f1b5",
   "metadata": {
    "slideshow": {
     "slide_type": "subslide"
    }
   },
   "source": [
    "We can now import `cowsay`:"
   ]
  },
  {
   "cell_type": "code",
   "execution_count": 25,
   "id": "7e55e5bd",
   "metadata": {
    "slideshow": {
     "slide_type": "fragment"
    }
   },
   "outputs": [
    {
     "name": "stdout",
     "output_type": "stream",
     "text": [
      "  ____\n",
      "| moo! |\n",
      "  ____\n",
      "  ====\n",
      "| moo! |\n",
      "    \\\n",
      "  ====\n",
      "     \\\n",
      "    \\\n",
      "       ^__^\n",
      "     \\\n",
      "       (oo)\\_______\n",
      "       ^__^\n",
      "       (__)\\       )\\/\\\n",
      "       (oo)\\_______\n",
      "           ||----w |\n",
      "       (__)\\       )\\/\\\n",
      "           ||     ||\n",
      "           ||----w |\n",
      "           ||     ||\n"
     ]
    }
   ],
   "source": [
    "pdm run python -c 'import cowsay; cowsay.cow(\"moo!\")'"
   ]
  },
  {
   "cell_type": "markdown",
   "id": "9786b7bf",
   "metadata": {
    "slideshow": {
     "slide_type": "skip"
    }
   },
   "source": [
    ":::{seealso}\n",
    "See the [PDM docs on managing dependencies](https://pdm.fming.dev/latest/usage/dependency/) for more information.\n",
    ":::"
   ]
  },
  {
   "cell_type": "markdown",
   "id": "2e19ed92",
   "metadata": {
    "slideshow": {
     "slide_type": "subslide"
    }
   },
   "source": [
    "### Adding more code"
   ]
  },
  {
   "cell_type": "code",
   "execution_count": 26,
   "id": "8346f22e",
   "metadata": {
    "slideshow": {
     "slide_type": "skip"
    },
    "tags": [
     "remove-cell"
    ]
   },
   "outputs": [],
   "source": [
    "# This cell hidden in presentation and docs\n",
    "cat << \"EOF\" > src/eeskew_pwg_test_000/sarcasm.py\n",
    "import cowsay\n",
    "\n",
    "def sarcasm(s):\n",
    "    \"\"\"Convert string `s` to sArCaSm TeXt.\"\"\"\n",
    "    out = \"\"\n",
    "    for i, c in enumerate(s):\n",
    "        if i % 2 == 0:\n",
    "            out += c.lower()\n",
    "\n",
    "        else:\n",
    "            out += c.upper()\n",
    "\n",
    "    return out\n",
    "\n",
    "def sarcastic_cowsay(s):\n",
    "    \"\"\"Cowsay `s`, sArCaStIcAlLy.\"\"\"\n",
    "    sarcastic_s = sarcasm(s)\n",
    "    cowsay.cow(sarcastic_s)\n",
    "EOF"
   ]
  },
  {
   "cell_type": "code",
   "execution_count": 27,
   "id": "9af758e6",
   "metadata": {
    "slideshow": {
     "slide_type": "skip"
    },
    "tags": [
     "remove-cell"
    ]
   },
   "outputs": [
    {
     "name": "stdout",
     "output_type": "stream",
     "text": [
      "Previous HEAD position was fcc0838 Add cowsay to dependencies\n",
      "Previous HEAD position was fcc0838 Add cowsay to dependencies\n",
      "HEAD is now at f9000d5 Add sarcastic_cowsay to utils\n",
      "HEAD is now at f9000d5 Add sarcastic_cowsay to utils\n"
     ]
    }
   ],
   "source": [
    "# checkpoint\n",
    "git-checkpoint"
   ]
  },
  {
   "cell_type": "code",
   "execution_count": 28,
   "id": "74f46be6",
   "metadata": {
    "slideshow": {
     "slide_type": "fragment"
    },
    "tags": [
     "remove-input"
    ]
   },
   "outputs": [
    {
     "data": {
      "text/markdown": [
       "Let's add a new function to [`src/eeskew_pwg_test_000/sarcasm.py`](https://github.com/edsq/eeskew-pwg-test-000/tree/f9000d593a66d666701d20e94845c47ca8453a73/src/eeskew_pwg_test_000/sarcasm.py):\n"
      ]
     },
     "metadata": {},
     "output_type": "display_data"
    },
    {
     "data": {
      "text/markdown": [
       "Let's add a new function to [`src/eeskew_pwg_test_000/sarcasm.py`](https://github.com/edsq/eeskew-pwg-test-000/tree/f9000d593a66d666701d20e94845c47ca8453a73/src/eeskew_pwg_test_000/sarcasm.py):\n"
      ]
     },
     "metadata": {},
     "output_type": "display_data"
    }
   ],
   "source": [
    "embed-repo-link \"Let's add a new function to {src/eeskew_pwg_test_000/sarcasm.py}:\""
   ]
  },
  {
   "cell_type": "code",
   "execution_count": 29,
   "id": "1982bde5",
   "metadata": {
    "slideshow": {
     "slide_type": "fragment"
    },
    "tags": [
     "remove-input"
    ]
   },
   "outputs": [
    {
     "data": {
      "text/markdown": [
       "```python\n",
       "# src/eeskew_pwg_test_000/sarcasm.py\n",
       "import cowsay\n",
       "\n",
       "\n",
       "...\n",
       "\n",
       "\n",
       "def sarcastic_cowsay(s):\n",
       "    \"\"\"Cowsay `s`, sArCaStIcAlLy.\"\"\"\n",
       "    sarcastic_s = sarcasm(s)\n",
       "    cowsay.cow(sarcastic_s)\n",
       "```\n"
      ]
     },
     "metadata": {},
     "output_type": "display_data"
    },
    {
     "data": {
      "text/markdown": [
       "```python\n",
       "# src/eeskew_pwg_test_000/sarcasm.py\n",
       "import cowsay\n",
       "\n",
       "\n",
       "...\n",
       "\n",
       "\n",
       "def sarcastic_cowsay(s):\n",
       "    \"\"\"Cowsay `s`, sArCaStIcAlLy.\"\"\"\n",
       "    sarcastic_s = sarcasm(s)\n",
       "    cowsay.cow(sarcastic_s)\n",
       "```\n"
      ]
     },
     "metadata": {},
     "output_type": "display_data"
    }
   ],
   "source": [
    "simple-diff --context 0 HEAD~ src/eeskew_pwg_test_000/sarcasm.py | show-code python"
   ]
  },
  {
   "cell_type": "markdown",
   "id": "4262c9d1",
   "metadata": {
    "slideshow": {
     "slide_type": "subslide"
    }
   },
   "source": [
    "We can now run this new function:"
   ]
  },
  {
   "cell_type": "code",
   "execution_count": 30,
   "id": "a2161307",
   "metadata": {
    "slideshow": {
     "slide_type": "fragment"
    }
   },
   "outputs": [
    {
     "name": "stdout",
     "output_type": "stream",
     "text": [
      "  _____\n",
      "| mOoO! |\n",
      "  _____\n",
      "  =====\n",
      "| mOoO! |\n",
      "     \\\n",
      "  =====\n",
      "      \\\n",
      "     \\\n",
      "        ^__^\n",
      "      \\\n",
      "        (oo)\\_______\n",
      "        ^__^\n",
      "        (__)\\       )\\/\\\n",
      "        (oo)\\_______\n",
      "            ||----w |\n",
      "        (__)\\       )\\/\\\n",
      "            ||     ||\n",
      "            ||----w |\n",
      "            ||     ||\n"
     ]
    }
   ],
   "source": [
    "pdm run python -c 'from eeskew_pwg_test_000.sarcasm import sarcastic_cowsay; sarcastic_cowsay(\"mooo!\")'"
   ]
  },
  {
   "cell_type": "markdown",
   "id": "45aca3b8",
   "metadata": {
    "slideshow": {
     "slide_type": "notes"
    }
   },
   "source": [
    ":::{note}\n",
    "We didn't have to re-run `pdm install` to use our new function - this is because PDM installs our `eeskew_pwg_test_000` package in \"editable mode\", which acts sort of like a symlink between the source code and the installed files in the `.venv` directory.\n",
    ":::"
   ]
  },
  {
   "cell_type": "markdown",
   "id": "0ee6328b",
   "metadata": {
    "slideshow": {
     "slide_type": "slide"
    }
   },
   "source": [
    "## Add a development dependency\n",
    "\n",
    "The dependencies listed in the `project.dependencies` section of `pyproject.toml` will all be installed when someone runs `pip install eeskew-pwg-test-000`.  What if we have dependencies we only want in our development environment?\n",
    "\n",
    "Let's add `black`, a tool to automatically format our code:"
   ]
  },
  {
   "cell_type": "code",
   "execution_count": 31,
   "id": "01680125",
   "metadata": {
    "scrolled": true,
    "slideshow": {
     "slide_type": "fragment"
    },
    "tags": [
     "output_scroll"
    ]
   },
   "outputs": [
    {
     "name": "stdout",
     "output_type": "stream",
     "text": [
      "\u001b[34mAdding group \u001b[0m\u001b[32mdev\u001b[0m\u001b[34m to lockfile\u001b[0m\n",
      "\u001b[34mAdding group \u001b[0m\u001b[32mdev\u001b[0m\u001b[34m to lockfile\u001b[0m\n",
      "Adding packages to \u001b[36mdev\u001b[0m dev-dependencies: \u001b[1;32mblack\u001b[0m\n",
      "Adding packages to \u001b[36mdev\u001b[0m dev-dependencies: \u001b[1;32mblack\u001b[0m\n",
      "\u001b[2K\u001b[36m⠇\u001b[0m Fetching hashes for resolved packages...m23.3.0\u001b[0m\n",
      "\u001b[2K\u001b[36m⠇\u001b[0m Fetching hashes for resolved packages...\n",
      "\u001b[1A\u001b[2K🔒 Lock successful\n",
      "\u001b[1A\u001b[2K🔒 Lock successful\n",
      "Changes are written to \u001b[32mpyproject.toml\u001b[0m.\n",
      "Changes are written to \u001b[32mpyproject.toml\u001b[0m.\n",
      "\u001b[?25l\u001b[36m⠋\u001b[0m Fetching hashes for resolved packages...\n",
      "\u001b[?25l\u001b[36m⠋\u001b[0m Fetching hashes for resolved packages...\n",
      "\u001b[1A\u001b[2K\u001b[1mSynchronizing working set with lock file\u001b[0m: \u001b[32m6\u001b[0m to add, \u001b[33m0\u001b[0m to update, \u001b[31m0\u001b[0m to remove\n",
      "\n",
      "\u001b[1A\u001b[2K\u001b[1mSynchronizing working set with lock file\u001b[0m: \u001b[32m6\u001b[0m to add, \u001b[33m0\u001b[0m to update, \u001b[31m0\u001b[0m to remove\n",
      "\n",
      "\u001b[2K  \u001b[36m⠋\u001b[0m Installing \u001b[1;32mblack\u001b[0m \u001b[33m23.3.0\u001b[0m...\n",
      "\u001b[2K  \u001b[36m⠋\u001b[0m Installing \u001b[1;32mblack\u001b[0m \u001b[33m23.3.0\u001b[0m...\n",
      "\u001b[2K\u001b[1A\u001b[2K  \u001b[36m⠋\u001b[0m Installing \u001b[1;32mblack\u001b[0m \u001b[33m23.3.0\u001b[0m...         \n",
      "  \u001b[36m⠋\u001b[0m Installing \u001b[1;32mclick\u001b[0m \u001b[33m8.1.3\u001b[0m...          \n",
      "\u001b[2K\u001b[1A\u001b[2K  \u001b[36m⠋\u001b[0m Installing \u001b[1;32mblack\u001b[0m \u001b[33m23.3.0\u001b[0m...         \n",
      "  \u001b[36m⠋\u001b[0m Installing \u001b[1;32mclick\u001b[0m \u001b[33m8.1.3\u001b[0m...          \n",
      "\u001b[2K\u001b[1A\u001b[2K\u001b[1A\u001b[2K  \u001b[36m⠋\u001b[0m Installing \u001b[1;32mblack\u001b[0m \u001b[33m23.3.0\u001b[0m...         \n",
      "  \u001b[36m⠋\u001b[0m Installing \u001b[1;32mclick\u001b[0m \u001b[33m8.1.3\u001b[0m...          \n",
      "\u001b[2K\u001b[1A\u001b[2K\u001b[1A\u001b[2K  \u001b[36m⠋\u001b[0m Installing \u001b[1;32mblack\u001b[0m \u001b[33m23.3.0\u001b[0m...         \n",
      "  \u001b[36m⠋\u001b[0m Installing \u001b[1;32mmypy-extensions\u001b[0m \u001b[33m1.0.0\u001b[0m...\n",
      "  \u001b[36m⠋\u001b[0m Installing \u001b[1;32mclick\u001b[0m \u001b[33m8.1.3\u001b[0m...          \n",
      "  \u001b[36m⠋\u001b[0m Installing \u001b[1;32mmypy-extensions\u001b[0m \u001b[33m1.0.0\u001b[0m...\n",
      "\u001b[2K\u001b[1A\u001b[2K\u001b[1A\u001b[2K\u001b[1A\u001b[2K  \u001b[36m⠋\u001b[0m Installing \u001b[1;32mblack\u001b[0m \u001b[33m23.3.0\u001b[0m...         \n",
      "  \u001b[36m⠋\u001b[0m Installing \u001b[1;32mclick\u001b[0m \u001b[33m8.1.3\u001b[0m...          \n",
      "\u001b[2K\u001b[1A\u001b[2K\u001b[1A\u001b[2K\u001b[1A\u001b[2K  \u001b[36m⠋\u001b[0m Installing \u001b[1;32mblack\u001b[0m \u001b[33m23.3.0\u001b[0m...         \n",
      "  \u001b[36m⠋\u001b[0m Installing \u001b[1;32mmypy-extensions\u001b[0m \u001b[33m1.0.0\u001b[0m...\n",
      "  \u001b[36m⠋\u001b[0m Installing \u001b[1;32mclick\u001b[0m \u001b[33m8.1.3\u001b[0m...          \n",
      "  \u001b[36m⠋\u001b[0m Installing \u001b[1;32mpackaging\u001b[0m \u001b[33m23.1\u001b[0m...       \n",
      "  \u001b[36m⠋\u001b[0m Installing \u001b[1;32mmypy-extensions\u001b[0m \u001b[33m1.0.0\u001b[0m...\n",
      "  \u001b[36m⠋\u001b[0m Installing \u001b[1;32mpackaging\u001b[0m \u001b[33m23.1\u001b[0m...       \n",
      "\u001b[2K\u001b[1A\u001b[2K\u001b[1A\u001b[2K\u001b[1A\u001b[2K\u001b[1A\u001b[2K  \u001b[36m⠋\u001b[0m Installing \u001b[1;32mblack\u001b[0m \u001b[33m23.3.0\u001b[0m...         \n",
      "\u001b[2K\u001b[1A\u001b[2K\u001b[1A\u001b[2K\u001b[1A\u001b[2K\u001b[1A\u001b[2K  \u001b[36m⠋\u001b[0m Installing \u001b[1;32mblack\u001b[0m \u001b[33m23.3.0\u001b[0m...         \n",
      "  \u001b[36m⠋\u001b[0m Installing \u001b[1;32mclick\u001b[0m \u001b[33m8.1.3\u001b[0m...          \n",
      "  \u001b[36m⠋\u001b[0m Installing \u001b[1;32mclick\u001b[0m \u001b[33m8.1.3\u001b[0m...          \n",
      "  \u001b[36m⠋\u001b[0m Installing \u001b[1;32mmypy-extensions\u001b[0m \u001b[33m1.0.0\u001b[0m...\n",
      "  \u001b[36m⠋\u001b[0m Installing \u001b[1;32mmypy-extensions\u001b[0m \u001b[33m1.0.0\u001b[0m...\n",
      "  \u001b[36m⠋\u001b[0m Installing \u001b[1;32mpackaging\u001b[0m \u001b[33m23.1\u001b[0m...       \n",
      "  \u001b[36m⠋\u001b[0m Installing \u001b[1;32mpackaging\u001b[0m \u001b[33m23.1\u001b[0m...       \n",
      "  \u001b[36m⠋\u001b[0m Installing \u001b[1;32mpathspec\u001b[0m \u001b[33m0.11.1\u001b[0m...      \n",
      "  \u001b[36m⠋\u001b[0m Installing \u001b[1;32mpathspec\u001b[0m \u001b[33m0.11.1\u001b[0m...      \n",
      "\u001b[2K\u001b[1A\u001b[2K\u001b[1A\u001b[2K\u001b[1A\u001b[2K\u001b[1A\u001b[2K\u001b[1A\u001b[2K  \u001b[36m⠙\u001b[0m Installing \u001b[1;32mblack\u001b[0m \u001b[33m23.3.0\u001b[0m...         \n",
      "\u001b[2K\u001b[1A\u001b[2K\u001b[1A\u001b[2K\u001b[1A\u001b[2K\u001b[1A\u001b[2K\u001b[1A\u001b[2K  \u001b[36m⠙\u001b[0m Installing \u001b[1;32mblack\u001b[0m \u001b[33m23.3.0\u001b[0m...         \n",
      "  \u001b[36m⠙\u001b[0m Installing \u001b[1;32mclick\u001b[0m \u001b[33m8.1.3\u001b[0m...          \n",
      "  \u001b[36m⠙\u001b[0m Installing \u001b[1;32mclick\u001b[0m \u001b[33m8.1.3\u001b[0m...          \n",
      "  \u001b[36m⠙\u001b[0m Installing \u001b[1;32mmypy-extensions\u001b[0m \u001b[33m1.0.0\u001b[0m...\n",
      "  \u001b[36m⠙\u001b[0m Installing \u001b[1;32mmypy-extensions\u001b[0m \u001b[33m1.0.0\u001b[0m...\n",
      "  \u001b[36m⠙\u001b[0m Installing \u001b[1;32mpackaging\u001b[0m \u001b[33m23.1\u001b[0m...       \n",
      "  \u001b[36m⠙\u001b[0m Installing \u001b[1;32mpackaging\u001b[0m \u001b[33m23.1\u001b[0m...       \n",
      "  \u001b[36m⠙\u001b[0m Installing \u001b[1;32mpathspec\u001b[0m \u001b[33m0.11.1\u001b[0m...      \n",
      "  \u001b[36m⠙\u001b[0m Installing \u001b[1;32mpathspec\u001b[0m \u001b[33m0.11.1\u001b[0m...      \n",
      "\u001b[2K\u001b[1A\u001b[2K\u001b[1A\u001b[2K\u001b[1A\u001b[2K\u001b[1A\u001b[2K\u001b[1A\u001b[2K  \u001b[32m✔\u001b[0m Install \u001b[1;32mmypy-extensions\u001b[0m \u001b[33m1.0.0\u001b[0m successful\n",
      "\u001b[2K\u001b[1A\u001b[2K\u001b[1A\u001b[2K\u001b[1A\u001b[2K\u001b[1A\u001b[2K\u001b[1A\u001b[2K  \u001b[32m✔\u001b[0m Install \u001b[1;32mmypy-extensions\u001b[0m \u001b[33m1.0.0\u001b[0m successful\n",
      "  \u001b[36m⠙\u001b[0m Installing \u001b[1;32mblack\u001b[0m \u001b[33m23.3.0\u001b[0m...         \n",
      "  \u001b[36m⠙\u001b[0m Installing \u001b[1;32mblack\u001b[0m \u001b[33m23.3.0\u001b[0m...         \n",
      "  \u001b[36m⠙\u001b[0m Installing \u001b[1;32mclick\u001b[0m \u001b[33m8.1.3\u001b[0m...          \n",
      "  \u001b[36m⠙\u001b[0m Installing \u001b[1;32mclick\u001b[0m \u001b[33m8.1.3\u001b[0m...          \n",
      "  \u001b[36m⠙\u001b[0m Installing \u001b[1;32mmypy-extensions\u001b[0m \u001b[33m1.0.0\u001b[0m...\n",
      "  \u001b[36m⠙\u001b[0m Installing \u001b[1;32mmypy-extensions\u001b[0m \u001b[33m1.0.0\u001b[0m...\n",
      "  \u001b[36m⠙\u001b[0m Installing \u001b[1;32mpackaging\u001b[0m \u001b[33m23.1\u001b[0m...       \n",
      "  \u001b[36m⠙\u001b[0m Installing \u001b[1;32mpackaging\u001b[0m \u001b[33m23.1\u001b[0m...       \n",
      "  \u001b[36m⠙\u001b[0m Installing \u001b[1;32mpathspec\u001b[0m \u001b[33m0.11.1\u001b[0m...      \n",
      "  \u001b[36m⠙\u001b[0m Installing \u001b[1;32mpathspec\u001b[0m \u001b[33m0.11.1\u001b[0m...      \n",
      "\u001b[2K\u001b[1A\u001b[2K\u001b[1A\u001b[2K\u001b[1A\u001b[2K\u001b[1A\u001b[2K\u001b[1A\u001b[2K  \u001b[32m✔\u001b[0m Install \u001b[1;32mpackaging\u001b[0m \u001b[33m23.1\u001b[0m successful\n",
      "  \u001b[36m⠙\u001b[0m Installing \u001b[1;32mblack\u001b[0m \u001b[33m23.3.0\u001b[0m...         \n",
      "\u001b[2K\u001b[1A\u001b[2K\u001b[1A\u001b[2K\u001b[1A\u001b[2K\u001b[1A\u001b[2K\u001b[1A\u001b[2K  \u001b[32m✔\u001b[0m Install \u001b[1;32mpackaging\u001b[0m \u001b[33m23.1\u001b[0m successful\n",
      "  \u001b[36m⠙\u001b[0m Installing \u001b[1;32mclick\u001b[0m \u001b[33m8.1.3\u001b[0m...          \n",
      "  \u001b[36m⠙\u001b[0m Installing \u001b[1;32mblack\u001b[0m \u001b[33m23.3.0\u001b[0m...         \n",
      "  \u001b[36m⠙\u001b[0m Installing \u001b[1;32mmypy-extensions\u001b[0m \u001b[33m1.0.0\u001b[0m...\n",
      "  \u001b[36m⠙\u001b[0m Installing \u001b[1;32mclick\u001b[0m \u001b[33m8.1.3\u001b[0m...          \n",
      "  \u001b[36m⠙\u001b[0m Installing \u001b[1;32mpackaging\u001b[0m \u001b[33m23.1\u001b[0m...       \n",
      "  \u001b[36m⠙\u001b[0m Installing \u001b[1;32mmypy-extensions\u001b[0m \u001b[33m1.0.0\u001b[0m...\n",
      "  \u001b[36m⠙\u001b[0m Installing \u001b[1;32mpathspec\u001b[0m \u001b[33m0.11.1\u001b[0m...      \n",
      "  \u001b[36m⠙\u001b[0m Installing \u001b[1;32mpackaging\u001b[0m \u001b[33m23.1\u001b[0m...       \n",
      "  \u001b[36m⠙\u001b[0m Installing \u001b[1;32mpathspec\u001b[0m \u001b[33m0.11.1\u001b[0m...      \n",
      "\u001b[2K\u001b[1A\u001b[2K\u001b[1A\u001b[2K\u001b[1A\u001b[2K\u001b[1A\u001b[2K\u001b[1A\u001b[2K  \u001b[32m✔\u001b[0m Install \u001b[1;32mplatformdirs\u001b[0m \u001b[33m3.4.0\u001b[0m successful\n",
      "  \u001b[36m⠙\u001b[0m Installing \u001b[1;32mblack\u001b[0m \u001b[33m23.3.0\u001b[0m...         \n",
      "\u001b[2K\u001b[1A\u001b[2K\u001b[1A\u001b[2K\u001b[1A\u001b[2K\u001b[1A\u001b[2K\u001b[1A\u001b[2K  \u001b[32m✔\u001b[0m Install \u001b[1;32mplatformdirs\u001b[0m \u001b[33m3.4.0\u001b[0m successful\n",
      "  \u001b[36m⠙\u001b[0m Installing \u001b[1;32mclick\u001b[0m \u001b[33m8.1.3\u001b[0m...          \n",
      "  \u001b[36m⠙\u001b[0m Installing \u001b[1;32mblack\u001b[0m \u001b[33m23.3.0\u001b[0m...         \n",
      "  \u001b[36m⠙\u001b[0m Installing \u001b[1;32mmypy-extensions\u001b[0m \u001b[33m1.0.0\u001b[0m...\n",
      "  \u001b[36m⠙\u001b[0m Installing \u001b[1;32mclick\u001b[0m \u001b[33m8.1.3\u001b[0m...          \n",
      "  \u001b[36m⠙\u001b[0m Installing \u001b[1;32mpackaging\u001b[0m \u001b[33m23.1\u001b[0m...       \n",
      "  \u001b[36m⠙\u001b[0m Installing \u001b[1;32mmypy-extensions\u001b[0m \u001b[33m1.0.0\u001b[0m...\n",
      "  \u001b[36m⠙\u001b[0m Installing \u001b[1;32mpathspec\u001b[0m \u001b[33m0.11.1\u001b[0m...      \n",
      "  \u001b[36m⠙\u001b[0m Installing \u001b[1;32mpackaging\u001b[0m \u001b[33m23.1\u001b[0m...       \n",
      "  \u001b[36m⠙\u001b[0m Installing \u001b[1;32mpathspec\u001b[0m \u001b[33m0.11.1\u001b[0m...      \n",
      "\u001b[2K\u001b[1A\u001b[2K\u001b[1A\u001b[2K\u001b[1A\u001b[2K\u001b[1A\u001b[2K\u001b[1A\u001b[2K  \u001b[32m✔\u001b[0m Install \u001b[1;32mpathspec\u001b[0m \u001b[33m0.11.1\u001b[0m successful\n",
      "  \u001b[36m⠙\u001b[0m Installing \u001b[1;32mblack\u001b[0m \u001b[33m23.3.0\u001b[0m...         \n",
      "\u001b[2K\u001b[1A\u001b[2K\u001b[1A\u001b[2K\u001b[1A\u001b[2K\u001b[1A\u001b[2K\u001b[1A\u001b[2K  \u001b[32m✔\u001b[0m Install \u001b[1;32mpathspec\u001b[0m \u001b[33m0.11.1\u001b[0m successful\n",
      "  \u001b[36m⠙\u001b[0m Installing \u001b[1;32mclick\u001b[0m \u001b[33m8.1.3\u001b[0m...          \n",
      "  \u001b[36m⠙\u001b[0m Installing \u001b[1;32mblack\u001b[0m \u001b[33m23.3.0\u001b[0m...         \n",
      "  \u001b[36m⠙\u001b[0m Installing \u001b[1;32mmypy-extensions\u001b[0m \u001b[33m1.0.0\u001b[0m...\n",
      "  \u001b[36m⠙\u001b[0m Installing \u001b[1;32mclick\u001b[0m \u001b[33m8.1.3\u001b[0m...          \n",
      "  \u001b[36m⠙\u001b[0m Installing \u001b[1;32mpackaging\u001b[0m \u001b[33m23.1\u001b[0m...       \n",
      "  \u001b[36m⠙\u001b[0m Installing \u001b[1;32mmypy-extensions\u001b[0m \u001b[33m1.0.0\u001b[0m...\n",
      "  \u001b[36m⠙\u001b[0m Installing \u001b[1;32mpathspec\u001b[0m \u001b[33m0.11.1\u001b[0m...      \n",
      "  \u001b[36m⠙\u001b[0m Installing \u001b[1;32mpackaging\u001b[0m \u001b[33m23.1\u001b[0m...       \n",
      "  \u001b[36m⠙\u001b[0m Installing \u001b[1;32mpathspec\u001b[0m \u001b[33m0.11.1\u001b[0m...      \n",
      "\u001b[2K\u001b[1A\u001b[2K\u001b[1A\u001b[2K\u001b[1A\u001b[2K\u001b[1A\u001b[2K\u001b[1A\u001b[2K  \u001b[32m✔\u001b[0m Install \u001b[1;32mclick\u001b[0m \u001b[33m8.1.3\u001b[0m successful\n",
      "  \u001b[36m⠙\u001b[0m Installing \u001b[1;32mblack\u001b[0m \u001b[33m23.3.0\u001b[0m...         \n",
      "\u001b[2K\u001b[1A\u001b[2K\u001b[1A\u001b[2K\u001b[1A\u001b[2K\u001b[1A\u001b[2K\u001b[1A\u001b[2K  \u001b[32m✔\u001b[0m Install \u001b[1;32mclick\u001b[0m \u001b[33m8.1.3\u001b[0m successful\n",
      "  \u001b[36m⠙\u001b[0m Installing \u001b[1;32mclick\u001b[0m \u001b[33m8.1.3\u001b[0m...          \n",
      "  \u001b[36m⠙\u001b[0m Installing \u001b[1;32mblack\u001b[0m \u001b[33m23.3.0\u001b[0m...         \n",
      "  \u001b[36m⠙\u001b[0m Installing \u001b[1;32mmypy-extensions\u001b[0m \u001b[33m1.0.0\u001b[0m...\n",
      "  \u001b[36m⠙\u001b[0m Installing \u001b[1;32mclick\u001b[0m \u001b[33m8.1.3\u001b[0m...          \n",
      "  \u001b[36m⠙\u001b[0m Installing \u001b[1;32mpackaging\u001b[0m \u001b[33m23.1\u001b[0m...       \n"
     ]
    },
    {
     "name": "stdout",
     "output_type": "stream",
     "text": [
      "  \u001b[36m⠙\u001b[0m Installing \u001b[1;32mmypy-extensions\u001b[0m \u001b[33m1.0.0\u001b[0m...\n",
      "  \u001b[36m⠙\u001b[0m Installing \u001b[1;32mpathspec\u001b[0m \u001b[33m0.11.1\u001b[0m...      \n",
      "  \u001b[36m⠙\u001b[0m Installing \u001b[1;32mpackaging\u001b[0m \u001b[33m23.1\u001b[0m...       \n",
      "  \u001b[36m⠙\u001b[0m Installing \u001b[1;32mpathspec\u001b[0m \u001b[33m0.11.1\u001b[0m...      \n",
      "\u001b[2K\u001b[1A\u001b[2K\u001b[1A\u001b[2K\u001b[1A\u001b[2K\u001b[1A\u001b[2K\u001b[1A\u001b[2K  \u001b[32m✔\u001b[0m Install \u001b[1;32mblack\u001b[0m \u001b[33m23.3.0\u001b[0m successful\n",
      "  \u001b[36m⠙\u001b[0m Installing \u001b[1;32mblack\u001b[0m \u001b[33m23.3.0\u001b[0m...         \n",
      "\u001b[2K\u001b[1A\u001b[2K\u001b[1A\u001b[2K\u001b[1A\u001b[2K\u001b[1A\u001b[2K\u001b[1A\u001b[2K  \u001b[32m✔\u001b[0m Install \u001b[1;32mblack\u001b[0m \u001b[33m23.3.0\u001b[0m successful\n",
      "  \u001b[36m⠙\u001b[0m Installing \u001b[1;32mclick\u001b[0m \u001b[33m8.1.3\u001b[0m...          \n",
      "  \u001b[36m⠙\u001b[0m Installing \u001b[1;32mblack\u001b[0m \u001b[33m23.3.0\u001b[0m...         \n",
      "  \u001b[36m⠙\u001b[0m Installing \u001b[1;32mmypy-extensions\u001b[0m \u001b[33m1.0.0\u001b[0m...\n",
      "  \u001b[36m⠙\u001b[0m Installing \u001b[1;32mclick\u001b[0m \u001b[33m8.1.3\u001b[0m...          \n",
      "  \u001b[36m⠙\u001b[0m Installing \u001b[1;32mpackaging\u001b[0m \u001b[33m23.1\u001b[0m...       \n",
      "  \u001b[36m⠙\u001b[0m Installing \u001b[1;32mmypy-extensions\u001b[0m \u001b[33m1.0.0\u001b[0m...\n",
      "  \u001b[36m⠙\u001b[0m Installing \u001b[1;32mpathspec\u001b[0m \u001b[33m0.11.1\u001b[0m...      \n",
      "  \u001b[36m⠙\u001b[0m Installing \u001b[1;32mpackaging\u001b[0m \u001b[33m23.1\u001b[0m...       \n",
      "  \u001b[36m⠙\u001b[0m Installing \u001b[1;32mpathspec\u001b[0m \u001b[33m0.11.1\u001b[0m...      \n",
      "\u001b[2K\u001b[1A\u001b[2K\u001b[1A\u001b[2K\u001b[1A\u001b[2K\u001b[1A\u001b[2K\u001b[1A\u001b[2K\n",
      "🎉 All complete!talling \u001b[1;32mplatformdirs\u001b[0m \u001b[33m3.4.0\u001b[0m...   \n",
      "\u001b[2K\u001b[1A\u001b[2K\u001b[1A\u001b[2K\u001b[1A\u001b[2K\u001b[1A\u001b[2K\u001b[1A\u001b[2K\n",
      "  \u001b[36m⠙\u001b[0m Installing \u001b[1;32mblack\u001b[0m \u001b[33m23.3.0\u001b[0m...         \n",
      "🎉 All complete!\n",
      "  \u001b[36m⠙\u001b[0m Installing \u001b[1;32mclick\u001b[0m \u001b[33m8.1.3\u001b[0m...          \n",
      "  \u001b[36m⠙\u001b[0m Installing \u001b[1;32mblack\u001b[0m \u001b[33m23.3.0\u001b[0m...         \n",
      "  \u001b[36m⠙\u001b[0m Installing \u001b[1;32mmypy-extensions\u001b[0m \u001b[33m1.0.0\u001b[0m...\n",
      "  \u001b[36m⠙\u001b[0m Installing \u001b[1;32mclick\u001b[0m \u001b[33m8.1.3\u001b[0m...          \n",
      "  \u001b[36m⠙\u001b[0m Installing \u001b[1;32mpackaging\u001b[0m \u001b[33m23.1\u001b[0m...       \n",
      "  \u001b[36m⠙\u001b[0m Installing \u001b[1;32mmypy-extensions\u001b[0m \u001b[33m1.0.0\u001b[0m...\n",
      "  \u001b[36m⠙\u001b[0m Installing \u001b[1;32mpathspec\u001b[0m \u001b[33m0.11.1\u001b[0m...      \n",
      "  \u001b[36m⠙\u001b[0m Installing \u001b[1;32mpackaging\u001b[0m \u001b[33m23.1\u001b[0m...       \n",
      "  \u001b[36m⠙\u001b[0m Installing \u001b[1;32mpathspec\u001b[0m \u001b[33m0.11.1\u001b[0m...      \n",
      "\u001b[2K\u001b[1A\u001b[2K\u001b[1A\u001b[2K\u001b[1A\u001b[2K\u001b[1A\u001b[2K\u001b[1A\u001b[2K\n",
      "\u001b[2K\u001b[1A\u001b[2K\u001b[1A\u001b[2K\u001b[1A\u001b[2K\u001b[1A\u001b[2K\u001b[1A\u001b[2K[0m \u001b[33m3.4.0\u001b[0m...   \n",
      "\u001b[?25h\n",
      "\u001b[?25h\n"
     ]
    }
   ],
   "source": [
    "pdm add -d black"
   ]
  },
  {
   "cell_type": "code",
   "execution_count": 32,
   "id": "2a8eae53",
   "metadata": {
    "slideshow": {
     "slide_type": "skip"
    },
    "tags": [
     "remove-cell"
    ]
   },
   "outputs": [
    {
     "name": "stdout",
     "output_type": "stream",
     "text": [
      "Previous HEAD position was f9000d5 Add sarcastic_cowsay to utils\n",
      "Previous HEAD position was f9000d5 Add sarcastic_cowsay to utils\n",
      "HEAD is now at 69a4552 Add black to dev dependencies\n",
      "HEAD is now at 69a4552 Add black to dev dependencies\n"
     ]
    }
   ],
   "source": [
    "# checkpoint\n",
    "git-checkpoint"
   ]
  },
  {
   "cell_type": "markdown",
   "id": "cea4e73b",
   "metadata": {
    "slideshow": {
     "slide_type": "subslide"
    }
   },
   "source": [
    "### What did `pdm add -d` do?"
   ]
  },
  {
   "cell_type": "code",
   "execution_count": 33,
   "id": "a0dbbeca",
   "metadata": {
    "slideshow": {
     "slide_type": "fragment"
    },
    "tags": [
     "remove-input"
    ]
   },
   "outputs": [
    {
     "data": {
      "text/markdown": [
       "We've added a new `[dev-dependencies]` sub-table to the `[tool.pdm]` table of [`pyproject.toml`](https://github.com/edsq/eeskew-pwg-test-000/tree/69a4552574e7a407d1097c91d9bb3129d9db4e88/pyproject.toml), which contains `black`:\n"
      ]
     },
     "metadata": {},
     "output_type": "display_data"
    },
    {
     "data": {
      "text/markdown": [
       "We've added a new `[dev-dependencies]` sub-table to the `[tool.pdm]` table of [`pyproject.toml`](https://github.com/edsq/eeskew-pwg-test-000/tree/69a4552574e7a407d1097c91d9bb3129d9db4e88/pyproject.toml), which contains `black`:\n"
      ]
     },
     "metadata": {},
     "output_type": "display_data"
    }
   ],
   "source": [
    "embed-repo-link \"We've added a new \\`[dev-dependencies]\\` sub-table to the \\`[tool.pdm]\\` table of {pyproject.toml}, which contains \\`black\\`:\""
   ]
  },
  {
   "cell_type": "code",
   "execution_count": 34,
   "id": "45273291",
   "metadata": {
    "slideshow": {
     "slide_type": "fragment"
    },
    "tags": [
     "remove-input"
    ]
   },
   "outputs": [
    {
     "data": {
      "text/markdown": [
       "```toml\n",
       "# pyproject.toml\n",
       "[tool.pdm]\n",
       "[tool.pdm.dev-dependencies]\n",
       "dev = [\n",
       "    \"black>=23.3.0\",\n",
       "]\n",
       "\n",
       "[project]\n",
       "\n",
       "...\n",
       "```\n"
      ]
     },
     "metadata": {},
     "output_type": "display_data"
    },
    {
     "data": {
      "text/markdown": [
       "```toml\n",
       "# pyproject.toml\n",
       "[tool.pdm]\n",
       "[tool.pdm.dev-dependencies]\n",
       "dev = [\n",
       "    \"black>=23.3.0\",\n",
       "]\n",
       "\n",
       "[project]\n",
       "\n",
       "...\n",
       "```\n"
      ]
     },
     "metadata": {},
     "output_type": "display_data"
    }
   ],
   "source": [
    "simple-diff --context 2 HEAD~ pyproject.toml | show-code toml"
   ]
  },
  {
   "cell_type": "markdown",
   "id": "bbd533e1",
   "metadata": {
    "slideshow": {
     "slide_type": "notes"
    }
   },
   "source": [
    "When we run `pdm install`, by default, PDM will install dependencies from here in addition to the dependencies listed in `[project.dependencies]`.  A different tool like `pip`, however, will not."
   ]
  },
  {
   "cell_type": "markdown",
   "id": "a9d9012e",
   "metadata": {
    "slideshow": {
     "slide_type": "skip"
    }
   },
   "source": [
    ":::{seealso}\n",
    "See the [PDM docs on adding development dependencies](https://pdm.fming.dev/latest/usage/dependency/#add-development-only-dependencies) for more information on development dependencies.\n",
    ":::"
   ]
  },
  {
   "cell_type": "markdown",
   "id": "17074069",
   "metadata": {
    "slideshow": {
     "slide_type": "subslide"
    }
   },
   "source": [
    "The lockfile has also been updated:"
   ]
  },
  {
   "cell_type": "code",
   "execution_count": 35,
   "id": "dacab5a0",
   "metadata": {
    "slideshow": {
     "slide_type": "fragment"
    },
    "tags": [
     "output_scroll"
    ]
   },
   "outputs": [
    {
     "name": "stdout",
     "output_type": "stream",
     "text": [
      "# This file is @generated by PDM.\n",
      "# It is not intended for manual editing.\n",
      "# This file is @generated by PDM.\n",
      "\n",
      "# It is not intended for manual editing.\n",
      "[[package]]\n",
      "\n",
      "name = \"black\"\n",
      "[[package]]\n",
      "version = \"23.3.0\"\n",
      "name = \"black\"\n",
      "requires_python = \">=3.7\"\n",
      "version = \"23.3.0\"\n",
      "summary = \"The uncompromising code formatter.\"\n",
      "requires_python = \">=3.7\"\n",
      "dependencies = [\n",
      "summary = \"The uncompromising code formatter.\"\n",
      "    \"click>=8.0.0\",\n",
      "dependencies = [\n",
      "    \"mypy-extensions>=0.4.3\",\n",
      "    \"click>=8.0.0\",\n",
      "    \"packaging>=22.0\",\n",
      "    \"mypy-extensions>=0.4.3\",\n",
      "    \"pathspec>=0.9.0\",\n",
      "    \"packaging>=22.0\",\n",
      "    \"platformdirs>=2\",\n",
      "    \"pathspec>=0.9.0\",\n",
      "]\n",
      "    \"platformdirs>=2\",\n",
      "\n",
      "]\n",
      "[[package]]\n",
      "\n",
      "name = \"click\"\n",
      "[[package]]\n",
      "version = \"8.1.3\"\n",
      "name = \"click\"\n",
      "requires_python = \">=3.7\"\n",
      "version = \"8.1.3\"\n",
      "summary = \"Composable command line interface toolkit\"\n",
      "requires_python = \">=3.7\"\n",
      "dependencies = [\n",
      "summary = \"Composable command line interface toolkit\"\n",
      "    \"colorama; platform_system == \\\"Windows\\\"\",\n",
      "dependencies = [\n",
      "]\n",
      "    \"colorama; platform_system == \\\"Windows\\\"\",\n",
      "\n",
      "]\n",
      "[[package]]\n",
      "\n",
      "name = \"colorama\"\n",
      "[[package]]\n",
      "version = \"0.4.6\"\n",
      "name = \"colorama\"\n",
      "requires_python = \"!=3.0.*,!=3.1.*,!=3.2.*,!=3.3.*,!=3.4.*,!=3.5.*,!=3.6.*,>=2.7\"\n",
      "version = \"0.4.6\"\n",
      "summary = \"Cross-platform colored terminal text.\"\n",
      "requires_python = \"!=3.0.*,!=3.1.*,!=3.2.*,!=3.3.*,!=3.4.*,!=3.5.*,!=3.6.*,>=2.7\"\n",
      "\n",
      "summary = \"Cross-platform colored terminal text.\"\n",
      "[[package]]\n",
      "\n",
      "name = \"cowsay\"\n",
      "[[package]]\n",
      "version = \"5.0\"\n",
      "name = \"cowsay\"\n",
      "summary = \"The famous cowsay for GNU/Linux is now available for python\"\n",
      "version = \"5.0\"\n",
      "\n",
      "summary = \"The famous cowsay for GNU/Linux is now available for python\"\n",
      "[[package]]\n",
      "\n",
      "name = \"mypy-extensions\"\n",
      "[[package]]\n",
      "version = \"1.0.0\"\n",
      "name = \"mypy-extensions\"\n",
      "requires_python = \">=3.5\"\n",
      "version = \"1.0.0\"\n",
      "summary = \"Type system extensions for programs checked with the mypy type checker.\"\n",
      "requires_python = \">=3.5\"\n",
      "\n",
      "summary = \"Type system extensions for programs checked with the mypy type checker.\"\n",
      "[[package]]\n",
      "\n",
      "name = \"packaging\"\n",
      "[[package]]\n",
      "version = \"23.1\"\n",
      "name = \"packaging\"\n",
      "requires_python = \">=3.7\"\n",
      "version = \"23.1\"\n",
      "summary = \"Core utilities for Python packages\"\n",
      "requires_python = \">=3.7\"\n",
      "\n",
      "summary = \"Core utilities for Python packages\"\n",
      "[[package]]\n",
      "\n",
      "name = \"pathspec\"\n",
      "[[package]]\n",
      "version = \"0.11.1\"\n",
      "name = \"pathspec\"\n",
      "requires_python = \">=3.7\"\n",
      "version = \"0.11.1\"\n",
      "summary = \"Utility library for gitignore style pattern matching of file paths.\"\n",
      "requires_python = \">=3.7\"\n",
      "\n",
      "summary = \"Utility library for gitignore style pattern matching of file paths.\"\n",
      "[[package]]\n",
      "\n",
      "name = \"platformdirs\"\n",
      "[[package]]\n",
      "version = \"3.4.0\"\n",
      "name = \"platformdirs\"\n",
      "requires_python = \">=3.7\"\n",
      "version = \"3.4.0\"\n",
      "summary = \"A small Python package for determining appropriate platform-specific dirs, e.g. a \\\"user data dir\\\".\"\n",
      "requires_python = \">=3.7\"\n",
      "\n",
      "summary = \"A small Python package for determining appropriate platform-specific dirs, e.g. a \\\"user data dir\\\".\"\n",
      "[metadata]\n",
      "\n",
      "lock_version = \"4.2\"\n",
      "[metadata]\n",
      "groups = [\"default\", \"dev\"]\n",
      "lock_version = \"4.2\"\n",
      "content_hash = \"sha256:715ad39cb3ddf659e0afedfb18dcade3de83c16696c31ed976bbf46bb61aaa3a\"\n",
      "groups = [\"default\", \"dev\"]\n",
      "\n",
      "content_hash = \"sha256:715ad39cb3ddf659e0afedfb18dcade3de83c16696c31ed976bbf46bb61aaa3a\"\n",
      "[metadata.files]\n",
      "\n",
      "\"black 23.3.0\" = [\n",
      "[metadata.files]\n",
      "    {url = \"https://files.pythonhosted.org/packages/06/1e/273d610249f0335afb1ddb03664a03223f4826e3d1a95170a0142cb19fb4/black-23.3.0-cp39-cp39-win_amd64.whl\", hash = \"sha256:6b39abdfb402002b8a7d030ccc85cf5afff64ee90fa4c5aebc531e3ad0175ddb\"},\n",
      "\"black 23.3.0\" = [\n",
      "    {url = \"https://files.pythonhosted.org/packages/12/4b/99c71d1cf1353edd5aff2700b8960f92e9b805c9dab72639b67dbb449d3a/black-23.3.0-cp38-cp38-manylinux_2_17_x86_64.manylinux2014_x86_64.whl\", hash = \"sha256:562bd3a70495facf56814293149e51aa1be9931567474993c7942ff7d3533961\"},\n",
      "    {url = \"https://files.pythonhosted.org/packages/06/1e/273d610249f0335afb1ddb03664a03223f4826e3d1a95170a0142cb19fb4/black-23.3.0-cp39-cp39-win_amd64.whl\", hash = \"sha256:6b39abdfb402002b8a7d030ccc85cf5afff64ee90fa4c5aebc531e3ad0175ddb\"},\n",
      "    {url = \"https://files.pythonhosted.org/packages/13/0a/ed8b66c299e896780e4528eed4018f5b084da3b9ba4ee48328550567d866/black-23.3.0-cp38-cp38-macosx_10_16_x86_64.whl\", hash = \"sha256:064101748afa12ad2291c2b91c960be28b817c0c7eaa35bec09cc63aa56493c5\"},\n",
      "    {url = \"https://files.pythonhosted.org/packages/12/4b/99c71d1cf1353edd5aff2700b8960f92e9b805c9dab72639b67dbb449d3a/black-23.3.0-cp38-cp38-manylinux_2_17_x86_64.manylinux2014_x86_64.whl\", hash = \"sha256:562bd3a70495facf56814293149e51aa1be9931567474993c7942ff7d3533961\"},\n",
      "    {url = \"https://files.pythonhosted.org/packages/13/25/cfa06788d0a936f2445af88f13604b5bcd5c9d050db618c718e6ebe66f74/black-23.3.0-cp39-cp39-macosx_10_16_arm64.whl\", hash = \"sha256:3238f2aacf827d18d26db07524e44741233ae09a584273aa059066d644ca7b30\"},\n",
      "    {url = \"https://files.pythonhosted.org/packages/13/0a/ed8b66c299e896780e4528eed4018f5b084da3b9ba4ee48328550567d866/black-23.3.0-cp38-cp38-macosx_10_16_x86_64.whl\", hash = \"sha256:064101748afa12ad2291c2b91c960be28b817c0c7eaa35bec09cc63aa56493c5\"},\n",
      "    {url = \"https://files.pythonhosted.org/packages/21/14/d5a2bec5fb15f9118baab7123d344646fac0b1c6939d51c2b05259cd2d9c/black-23.3.0-cp38-cp38-macosx_10_16_universal2.whl\", hash = \"sha256:714290490c18fb0126baa0fca0a54ee795f7502b44177e1ce7624ba1c00f2331\"},\n",
      "    {url = \"https://files.pythonhosted.org/packages/13/25/cfa06788d0a936f2445af88f13604b5bcd5c9d050db618c718e6ebe66f74/black-23.3.0-cp39-cp39-macosx_10_16_arm64.whl\", hash = \"sha256:3238f2aacf827d18d26db07524e44741233ae09a584273aa059066d644ca7b30\"},\n",
      "    {url = \"https://files.pythonhosted.org/packages/24/eb/2d2d2c27cb64cfd073896f62a952a802cd83cf943a692a2f278525b57ca9/black-23.3.0-cp37-cp37m-macosx_10_16_x86_64.whl\", hash = \"sha256:1d06691f1eb8de91cd1b322f21e3bfc9efe0c7ca1f0e1eb1db44ea367dff656b\"},\n",
      "    {url = \"https://files.pythonhosted.org/packages/21/14/d5a2bec5fb15f9118baab7123d344646fac0b1c6939d51c2b05259cd2d9c/black-23.3.0-cp38-cp38-macosx_10_16_universal2.whl\", hash = \"sha256:714290490c18fb0126baa0fca0a54ee795f7502b44177e1ce7624ba1c00f2331\"},\n",
      "    {url = \"https://files.pythonhosted.org/packages/27/70/07aab2623cfd3789786f17e051487a41d5657258c7b1ef8f780512ffea9c/black-23.3.0-cp310-cp310-macosx_10_16_universal2.whl\", hash = \"sha256:67de8d0c209eb5b330cce2469503de11bca4085880d62f1628bd9972cc3366b9\"},\n",
      "    {url = \"https://files.pythonhosted.org/packages/24/eb/2d2d2c27cb64cfd073896f62a952a802cd83cf943a692a2f278525b57ca9/black-23.3.0-cp37-cp37m-macosx_10_16_x86_64.whl\", hash = \"sha256:1d06691f1eb8de91cd1b322f21e3bfc9efe0c7ca1f0e1eb1db44ea367dff656b\"},\n",
      "    {url = \"https://files.pythonhosted.org/packages/29/b1/b584fc863c155653963039664a592b3327b002405043b7e761b9b0212337/black-23.3.0-cp310-cp310-macosx_10_16_x86_64.whl\", hash = \"sha256:7c3eb7cea23904399866c55826b31c1f55bbcd3890ce22ff70466b907b6775c2\"},\n",
      "    {url = \"https://files.pythonhosted.org/packages/27/70/07aab2623cfd3789786f17e051487a41d5657258c7b1ef8f780512ffea9c/black-23.3.0-cp310-cp310-macosx_10_16_universal2.whl\", hash = \"sha256:67de8d0c209eb5b330cce2469503de11bca4085880d62f1628bd9972cc3366b9\"},\n",
      "    {url = \"https://files.pythonhosted.org/packages/3c/d7/85f3d79f9e543402de2244c4d117793f262149e404ea0168841613c33e07/black-23.3.0-cp39-cp39-manylinux_2_17_x86_64.manylinux2014_x86_64.whl\", hash = \"sha256:3a150542a204124ed00683f0db1f5cf1c2aaaa9cc3495b7a3b5976fb136090ab\"},\n",
      "    {url = \"https://files.pythonhosted.org/packages/29/b1/b584fc863c155653963039664a592b3327b002405043b7e761b9b0212337/black-23.3.0-cp310-cp310-macosx_10_16_x86_64.whl\", hash = \"sha256:7c3eb7cea23904399866c55826b31c1f55bbcd3890ce22ff70466b907b6775c2\"},\n",
      "    {url = \"https://files.pythonhosted.org/packages/3f/0d/81dd4194ce7057c199d4f28e4c2a885082d9d929e7a55c514b23784f7787/black-23.3.0-cp311-cp311-win_amd64.whl\", hash = \"sha256:11c410f71b876f961d1de77b9699ad19f939094c3a677323f43d7a29855fe326\"},\n",
      "    {url = \"https://files.pythonhosted.org/packages/3c/d7/85f3d79f9e543402de2244c4d117793f262149e404ea0168841613c33e07/black-23.3.0-cp39-cp39-manylinux_2_17_x86_64.manylinux2014_x86_64.whl\", hash = \"sha256:3a150542a204124ed00683f0db1f5cf1c2aaaa9cc3495b7a3b5976fb136090ab\"},\n",
      "    {url = \"https://files.pythonhosted.org/packages/49/36/15d2122f90ff1cd70f06892ebda777b650218cf84b56b5916a993dc1359a/black-23.3.0-cp37-cp37m-manylinux_2_17_x86_64.manylinux2014_x86_64.whl\", hash = \"sha256:50cb33cac881766a5cd9913e10ff75b1e8eb71babf4c7104f2e9c52da1fb7de2\"},\n"
     ]
    },
    {
     "name": "stdout",
     "output_type": "stream",
     "text": [
      "    {url = \"https://files.pythonhosted.org/packages/3f/0d/81dd4194ce7057c199d4f28e4c2a885082d9d929e7a55c514b23784f7787/black-23.3.0-cp311-cp311-win_amd64.whl\", hash = \"sha256:11c410f71b876f961d1de77b9699ad19f939094c3a677323f43d7a29855fe326\"},\n",
      "    {url = \"https://files.pythonhosted.org/packages/49/d7/f3b7da6c772800f5375aeb050a3dcf682f0bbeb41d313c9c2820d0156e4e/black-23.3.0-cp39-cp39-macosx_10_16_x86_64.whl\", hash = \"sha256:92c543f6854c28a3c7f39f4d9b7694f9a6eb9d3c5e2ece488c327b6e7ea9b266\"},\n",
      "    {url = \"https://files.pythonhosted.org/packages/49/36/15d2122f90ff1cd70f06892ebda777b650218cf84b56b5916a993dc1359a/black-23.3.0-cp37-cp37m-manylinux_2_17_x86_64.manylinux2014_x86_64.whl\", hash = \"sha256:50cb33cac881766a5cd9913e10ff75b1e8eb71babf4c7104f2e9c52da1fb7de2\"},\n",
      "    {url = \"https://files.pythonhosted.org/packages/69/49/7e1f0cf585b0d607aad3f971f95982cc4208fc77f92363d632d23021ee57/black-23.3.0-cp311-cp311-macosx_10_16_x86_64.whl\", hash = \"sha256:a6f6886c9869d4daae2d1715ce34a19bbc4b95006d20ed785ca00fa03cba312d\"},\n",
      "    {url = \"https://files.pythonhosted.org/packages/49/d7/f3b7da6c772800f5375aeb050a3dcf682f0bbeb41d313c9c2820d0156e4e/black-23.3.0-cp39-cp39-macosx_10_16_x86_64.whl\", hash = \"sha256:92c543f6854c28a3c7f39f4d9b7694f9a6eb9d3c5e2ece488c327b6e7ea9b266\"},\n",
      "    {url = \"https://files.pythonhosted.org/packages/6d/b4/0f13ab7f5e364795ff82b76b0f9a4c9c50afda6f1e2feeb8b03fdd7ec57d/black-23.3.0-cp310-cp310-manylinux_2_17_x86_64.manylinux2014_x86_64.whl\", hash = \"sha256:32daa9783106c28815d05b724238e30718f34155653d4d6e125dc7daec8e260c\"},\n",
      "    {url = \"https://files.pythonhosted.org/packages/69/49/7e1f0cf585b0d607aad3f971f95982cc4208fc77f92363d632d23021ee57/black-23.3.0-cp311-cp311-macosx_10_16_x86_64.whl\", hash = \"sha256:a6f6886c9869d4daae2d1715ce34a19bbc4b95006d20ed785ca00fa03cba312d\"},\n",
      "    {url = \"https://files.pythonhosted.org/packages/ad/e7/4642b7f462381799393fbad894ba4b32db00870a797f0616c197b07129a9/black-23.3.0-py3-none-any.whl\", hash = \"sha256:ec751418022185b0c1bb7d7736e6933d40bbb14c14a0abcf9123d1b159f98dd4\"},\n",
      "    {url = \"https://files.pythonhosted.org/packages/6d/b4/0f13ab7f5e364795ff82b76b0f9a4c9c50afda6f1e2feeb8b03fdd7ec57d/black-23.3.0-cp310-cp310-manylinux_2_17_x86_64.manylinux2014_x86_64.whl\", hash = \"sha256:32daa9783106c28815d05b724238e30718f34155653d4d6e125dc7daec8e260c\"},\n",
      "    {url = \"https://files.pythonhosted.org/packages/c0/53/42e312c17cfda5c8fc4b6b396a508218807a3fcbb963b318e49d3ddd11d5/black-23.3.0-cp311-cp311-manylinux_2_17_x86_64.manylinux2014_x86_64.whl\", hash = \"sha256:6f3c333ea1dd6771b2d3777482429864f8e258899f6ff05826c3a4fcc5ce3f70\"},\n",
      "    {url = \"https://files.pythonhosted.org/packages/ad/e7/4642b7f462381799393fbad894ba4b32db00870a797f0616c197b07129a9/black-23.3.0-py3-none-any.whl\", hash = \"sha256:ec751418022185b0c1bb7d7736e6933d40bbb14c14a0abcf9123d1b159f98dd4\"},\n",
      "    {url = \"https://files.pythonhosted.org/packages/ca/44/eb41edd3f558a6139f09eee052dead4a7a464e563b822ddf236f5a8ee286/black-23.3.0-cp37-cp37m-win_amd64.whl\", hash = \"sha256:e114420bf26b90d4b9daa597351337762b63039752bdf72bf361364c1aa05925\"},\n",
      "    {url = \"https://files.pythonhosted.org/packages/c0/53/42e312c17cfda5c8fc4b6b396a508218807a3fcbb963b318e49d3ddd11d5/black-23.3.0-cp311-cp311-manylinux_2_17_x86_64.manylinux2014_x86_64.whl\", hash = \"sha256:6f3c333ea1dd6771b2d3777482429864f8e258899f6ff05826c3a4fcc5ce3f70\"},\n",
      "    {url = \"https://files.pythonhosted.org/packages/ce/f4/2b0c6ac9e1f8584296747f66dd511898b4ebd51d6510dba118279bff53b6/black-23.3.0-cp38-cp38-macosx_10_16_arm64.whl\", hash = \"sha256:48f9d345675bb7fbc3dd85821b12487e1b9a75242028adad0333ce36ed2a6d27\"},\n",
      "    {url = \"https://files.pythonhosted.org/packages/ca/44/eb41edd3f558a6139f09eee052dead4a7a464e563b822ddf236f5a8ee286/black-23.3.0-cp37-cp37m-win_amd64.whl\", hash = \"sha256:e114420bf26b90d4b9daa597351337762b63039752bdf72bf361364c1aa05925\"},\n",
      "    {url = \"https://files.pythonhosted.org/packages/d1/6e/5810b6992ed70403124c67e8b3f62858a32b35405177553f1a78ed6b6e31/black-23.3.0-cp38-cp38-win_amd64.whl\", hash = \"sha256:e198cf27888ad6f4ff331ca1c48ffc038848ea9f031a3b40ba36aced7e22f2c8\"},\n",
      "    {url = \"https://files.pythonhosted.org/packages/ce/f4/2b0c6ac9e1f8584296747f66dd511898b4ebd51d6510dba118279bff53b6/black-23.3.0-cp38-cp38-macosx_10_16_arm64.whl\", hash = \"sha256:48f9d345675bb7fbc3dd85821b12487e1b9a75242028adad0333ce36ed2a6d27\"},\n",
      "    {url = \"https://files.pythonhosted.org/packages/d6/36/66370f5017b100225ec4950a60caeef60201a10080da57ddb24124453fba/black-23.3.0.tar.gz\", hash = \"sha256:1c7b8d606e728a41ea1ccbd7264677e494e87cf630e399262ced92d4a8dac940\"},\n",
      "    {url = \"https://files.pythonhosted.org/packages/d1/6e/5810b6992ed70403124c67e8b3f62858a32b35405177553f1a78ed6b6e31/black-23.3.0-cp38-cp38-win_amd64.whl\", hash = \"sha256:e198cf27888ad6f4ff331ca1c48ffc038848ea9f031a3b40ba36aced7e22f2c8\"},\n",
      "    {url = \"https://files.pythonhosted.org/packages/d7/6f/d3832960a3b646b333b7f0d80d336a3c123012e9d9d5dba4a622b2b6181d/black-23.3.0-cp311-cp311-macosx_10_16_arm64.whl\", hash = \"sha256:a8a968125d0a6a404842fa1bf0b349a568634f856aa08ffaff40ae0dfa52e7c6\"},\n",
      "    {url = \"https://files.pythonhosted.org/packages/d6/36/66370f5017b100225ec4950a60caeef60201a10080da57ddb24124453fba/black-23.3.0.tar.gz\", hash = \"sha256:1c7b8d606e728a41ea1ccbd7264677e494e87cf630e399262ced92d4a8dac940\"},\n",
      "    {url = \"https://files.pythonhosted.org/packages/db/f4/7908f71cc71da08df1317a3619f002cbf91927fb5d3ffc7723905a2113f7/black-23.3.0-cp310-cp310-macosx_10_16_arm64.whl\", hash = \"sha256:0945e13506be58bf7db93ee5853243eb368ace1c08a24c65ce108986eac65915\"},\n",
      "    {url = \"https://files.pythonhosted.org/packages/d7/6f/d3832960a3b646b333b7f0d80d336a3c123012e9d9d5dba4a622b2b6181d/black-23.3.0-cp311-cp311-macosx_10_16_arm64.whl\", hash = \"sha256:a8a968125d0a6a404842fa1bf0b349a568634f856aa08ffaff40ae0dfa52e7c6\"},\n",
      "    {url = \"https://files.pythonhosted.org/packages/de/b4/76f152c5eb0be5471c22cd18380d31d188930377a1a57969073b89d6615d/black-23.3.0-cp310-cp310-win_amd64.whl\", hash = \"sha256:35d1381d7a22cc5b2be2f72c7dfdae4072a3336060635718cc7e1ede24221d6c\"},\n",
      "    {url = \"https://files.pythonhosted.org/packages/db/f4/7908f71cc71da08df1317a3619f002cbf91927fb5d3ffc7723905a2113f7/black-23.3.0-cp310-cp310-macosx_10_16_arm64.whl\", hash = \"sha256:0945e13506be58bf7db93ee5853243eb368ace1c08a24c65ce108986eac65915\"},\n",
      "    {url = \"https://files.pythonhosted.org/packages/eb/a5/17b40bfd9b607b69fa726b0b3a473d14b093dcd5191ea1a1dd664eccfee3/black-23.3.0-cp311-cp311-macosx_10_16_universal2.whl\", hash = \"sha256:c7ab5790333c448903c4b721b59c0d80b11fe5e9803d8703e84dcb8da56fec1b\"},\n",
      "    {url = \"https://files.pythonhosted.org/packages/de/b4/76f152c5eb0be5471c22cd18380d31d188930377a1a57969073b89d6615d/black-23.3.0-cp310-cp310-win_amd64.whl\", hash = \"sha256:35d1381d7a22cc5b2be2f72c7dfdae4072a3336060635718cc7e1ede24221d6c\"},\n",
      "    {url = \"https://files.pythonhosted.org/packages/fd/5b/fc2d7922c1a6bb49458d424b5be71d251f2d0dc97be9534e35d171bdc653/black-23.3.0-cp39-cp39-macosx_10_16_universal2.whl\", hash = \"sha256:f0bd2f4a58d6666500542b26354978218a9babcdc972722f4bf90779524515f3\"},\n",
      "    {url = \"https://files.pythonhosted.org/packages/eb/a5/17b40bfd9b607b69fa726b0b3a473d14b093dcd5191ea1a1dd664eccfee3/black-23.3.0-cp311-cp311-macosx_10_16_universal2.whl\", hash = \"sha256:c7ab5790333c448903c4b721b59c0d80b11fe5e9803d8703e84dcb8da56fec1b\"},\n",
      "]\n",
      "    {url = \"https://files.pythonhosted.org/packages/fd/5b/fc2d7922c1a6bb49458d424b5be71d251f2d0dc97be9534e35d171bdc653/black-23.3.0-cp39-cp39-macosx_10_16_universal2.whl\", hash = \"sha256:f0bd2f4a58d6666500542b26354978218a9babcdc972722f4bf90779524515f3\"},\n",
      "\"click 8.1.3\" = [\n",
      "]\n",
      "    {url = \"https://files.pythonhosted.org/packages/59/87/84326af34517fca8c58418d148f2403df25303e02736832403587318e9e8/click-8.1.3.tar.gz\", hash = \"sha256:7682dc8afb30297001674575ea00d1814d808d6a36af415a82bd481d37ba7b8e\"},\n",
      "\"click 8.1.3\" = [\n",
      "    {url = \"https://files.pythonhosted.org/packages/c2/f1/df59e28c642d583f7dacffb1e0965d0e00b218e0186d7858ac5233dce840/click-8.1.3-py3-none-any.whl\", hash = \"sha256:bb4d8133cb15a609f44e8213d9b391b0809795062913b383c62be0ee95b1db48\"},\n",
      "    {url = \"https://files.pythonhosted.org/packages/59/87/84326af34517fca8c58418d148f2403df25303e02736832403587318e9e8/click-8.1.3.tar.gz\", hash = \"sha256:7682dc8afb30297001674575ea00d1814d808d6a36af415a82bd481d37ba7b8e\"},\n"
     ]
    },
    {
     "name": "stdout",
     "output_type": "stream",
     "text": [
      "]\n",
      "    {url = \"https://files.pythonhosted.org/packages/c2/f1/df59e28c642d583f7dacffb1e0965d0e00b218e0186d7858ac5233dce840/click-8.1.3-py3-none-any.whl\", hash = \"sha256:bb4d8133cb15a609f44e8213d9b391b0809795062913b383c62be0ee95b1db48\"},\n",
      "\"colorama 0.4.6\" = [\n",
      "]\n",
      "    {url = \"https://files.pythonhosted.org/packages/d1/d6/3965ed04c63042e047cb6a3e6ed1a63a35087b6a609aa3a15ed8ac56c221/colorama-0.4.6-py2.py3-none-any.whl\", hash = \"sha256:4f1d9991f5acc0ca119f9d443620b77f9d6b33703e51011c16baf57afb285fc6\"},\n",
      "\"colorama 0.4.6\" = [\n",
      "    {url = \"https://files.pythonhosted.org/packages/d8/53/6f443c9a4a8358a93a6792e2acffb9d9d5cb0a5cfd8802644b7b1c9a02e4/colorama-0.4.6.tar.gz\", hash = \"sha256:08695f5cb7ed6e0531a20572697297273c47b8cae5a63ffc6d6ed5c201be6e44\"},\n",
      "    {url = \"https://files.pythonhosted.org/packages/d1/d6/3965ed04c63042e047cb6a3e6ed1a63a35087b6a609aa3a15ed8ac56c221/colorama-0.4.6-py2.py3-none-any.whl\", hash = \"sha256:4f1d9991f5acc0ca119f9d443620b77f9d6b33703e51011c16baf57afb285fc6\"},\n",
      "]\n",
      "    {url = \"https://files.pythonhosted.org/packages/d8/53/6f443c9a4a8358a93a6792e2acffb9d9d5cb0a5cfd8802644b7b1c9a02e4/colorama-0.4.6.tar.gz\", hash = \"sha256:08695f5cb7ed6e0531a20572697297273c47b8cae5a63ffc6d6ed5c201be6e44\"},\n",
      "\"cowsay 5.0\" = [\n",
      "]\n",
      "    {url = \"https://files.pythonhosted.org/packages/6b/b8/9f497fd045d74fe21d91cbe8debae0b451229989e35b539d218547d79fc6/cowsay-5.0.tar.gz\", hash = \"sha256:c00e02444f5bc7332826686bd44d963caabbaba9a804a63153822edce62bbbf3\"},\n",
      "\"cowsay 5.0\" = [\n",
      "]\n",
      "    {url = \"https://files.pythonhosted.org/packages/6b/b8/9f497fd045d74fe21d91cbe8debae0b451229989e35b539d218547d79fc6/cowsay-5.0.tar.gz\", hash = \"sha256:c00e02444f5bc7332826686bd44d963caabbaba9a804a63153822edce62bbbf3\"},\n",
      "\"mypy-extensions 1.0.0\" = [\n",
      "]\n",
      "    {url = \"https://files.pythonhosted.org/packages/2a/e2/5d3f6ada4297caebe1a2add3b126fe800c96f56dbe5d1988a2cbe0b267aa/mypy_extensions-1.0.0-py3-none-any.whl\", hash = \"sha256:4392f6c0eb8a5668a69e23d168ffa70f0be9ccfd32b5cc2d26a34ae5b844552d\"},\n",
      "\"mypy-extensions 1.0.0\" = [\n",
      "    {url = \"https://files.pythonhosted.org/packages/98/a4/1ab47638b92648243faf97a5aeb6ea83059cc3624972ab6b8d2316078d3f/mypy_extensions-1.0.0.tar.gz\", hash = \"sha256:75dbf8955dc00442a438fc4d0666508a9a97b6bd41aa2f0ffe9d2f2725af0782\"},\n",
      "    {url = \"https://files.pythonhosted.org/packages/2a/e2/5d3f6ada4297caebe1a2add3b126fe800c96f56dbe5d1988a2cbe0b267aa/mypy_extensions-1.0.0-py3-none-any.whl\", hash = \"sha256:4392f6c0eb8a5668a69e23d168ffa70f0be9ccfd32b5cc2d26a34ae5b844552d\"},\n",
      "]\n",
      "    {url = \"https://files.pythonhosted.org/packages/98/a4/1ab47638b92648243faf97a5aeb6ea83059cc3624972ab6b8d2316078d3f/mypy_extensions-1.0.0.tar.gz\", hash = \"sha256:75dbf8955dc00442a438fc4d0666508a9a97b6bd41aa2f0ffe9d2f2725af0782\"},\n",
      "\"packaging 23.1\" = [\n",
      "]\n",
      "    {url = \"https://files.pythonhosted.org/packages/ab/c3/57f0601a2d4fe15de7a553c00adbc901425661bf048f2a22dfc500caf121/packaging-23.1-py3-none-any.whl\", hash = \"sha256:994793af429502c4ea2ebf6bf664629d07c1a9fe974af92966e4b8d2df7edc61\"},\n",
      "\"packaging 23.1\" = [\n",
      "    {url = \"https://files.pythonhosted.org/packages/b9/6c/7c6658d258d7971c5eb0d9b69fa9265879ec9a9158031206d47800ae2213/packaging-23.1.tar.gz\", hash = \"sha256:a392980d2b6cffa644431898be54b0045151319d1e7ec34f0cfed48767dd334f\"},\n",
      "    {url = \"https://files.pythonhosted.org/packages/ab/c3/57f0601a2d4fe15de7a553c00adbc901425661bf048f2a22dfc500caf121/packaging-23.1-py3-none-any.whl\", hash = \"sha256:994793af429502c4ea2ebf6bf664629d07c1a9fe974af92966e4b8d2df7edc61\"},\n",
      "]\n",
      "    {url = \"https://files.pythonhosted.org/packages/b9/6c/7c6658d258d7971c5eb0d9b69fa9265879ec9a9158031206d47800ae2213/packaging-23.1.tar.gz\", hash = \"sha256:a392980d2b6cffa644431898be54b0045151319d1e7ec34f0cfed48767dd334f\"},\n",
      "\"pathspec 0.11.1\" = [\n",
      "]\n",
      "    {url = \"https://files.pythonhosted.org/packages/95/60/d93628975242cc515ab2b8f5b2fc831d8be2eff32f5a1be4776d49305d13/pathspec-0.11.1.tar.gz\", hash = \"sha256:2798de800fa92780e33acca925945e9a19a133b715067cf165b8866c15a31687\"},\n",
      "\"pathspec 0.11.1\" = [\n",
      "    {url = \"https://files.pythonhosted.org/packages/be/c8/551a803a6ebb174ec1c124e68b449b98a0961f0b737def601e3c1fbb4cfd/pathspec-0.11.1-py3-none-any.whl\", hash = \"sha256:d8af70af76652554bd134c22b3e8a1cc46ed7d91edcdd721ef1a0c51a84a5293\"},\n",
      "    {url = \"https://files.pythonhosted.org/packages/95/60/d93628975242cc515ab2b8f5b2fc831d8be2eff32f5a1be4776d49305d13/pathspec-0.11.1.tar.gz\", hash = \"sha256:2798de800fa92780e33acca925945e9a19a133b715067cf165b8866c15a31687\"},\n",
      "]\n",
      "    {url = \"https://files.pythonhosted.org/packages/be/c8/551a803a6ebb174ec1c124e68b449b98a0961f0b737def601e3c1fbb4cfd/pathspec-0.11.1-py3-none-any.whl\", hash = \"sha256:d8af70af76652554bd134c22b3e8a1cc46ed7d91edcdd721ef1a0c51a84a5293\"},\n",
      "\"platformdirs 3.4.0\" = [\n",
      "]\n",
      "    {url = \"https://files.pythonhosted.org/packages/5e/ac/26d3d2a99b5fc84852229fc8470ae612595900f7f52c78468fd3f3a15a27/platformdirs-3.4.0.tar.gz\", hash = \"sha256:a5e1536e5ea4b1c238a1364da17ff2993d5bd28e15600c2c8224008aff6bbcad\"},\n",
      "\"platformdirs 3.4.0\" = [\n",
      "    {url = \"https://files.pythonhosted.org/packages/6c/fe/f6001fac1337528c14b353298d38748ee2387db0c262587ff4e7c68b5769/platformdirs-3.4.0-py3-none-any.whl\", hash = \"sha256:01437886022decaf285d8972f9526397bfae2ac55480ed372ed6d9eca048870a\"},\n",
      "    {url = \"https://files.pythonhosted.org/packages/5e/ac/26d3d2a99b5fc84852229fc8470ae612595900f7f52c78468fd3f3a15a27/platformdirs-3.4.0.tar.gz\", hash = \"sha256:a5e1536e5ea4b1c238a1364da17ff2993d5bd28e15600c2c8224008aff6bbcad\"},\n",
      "]\n",
      "    {url = \"https://files.pythonhosted.org/packages/6c/fe/f6001fac1337528c14b353298d38748ee2387db0c262587ff4e7c68b5769/platformdirs-3.4.0-py3-none-any.whl\", hash = \"sha256:01437886022decaf285d8972f9526397bfae2ac55480ed372ed6d9eca048870a\"},\n",
      "]\n"
     ]
    }
   ],
   "source": [
    "cat pdm.lock"
   ]
  },
  {
   "cell_type": "markdown",
   "id": "ee456e9d",
   "metadata": {
    "slideshow": {
     "slide_type": "notes"
    }
   },
   "source": [
    "Many new packages now exist in the lockfile, not just `cowsay` and `black`.  This is because (unlike `cowsay`), `black` itself has dependencies that we needed to install to get it to work.  This lock file records exactly the versions of those sub-dependencies that we've now installed into our project virtual environment.\n",
    "\n",
    "When we run `pdm install`, if the lock file exists (and `pyproject.toml` hasn't been changed since the lockfile was last updated), PDM will install precisely the packages listed in the lockfile, so we'll always be working in the same virtual environment.  This is useful for developing and testing the code, so you should always include the lockfile in your project version control.\n",
    "\n",
    "However, we don't want to impose these restrictions on users of our library, or our project would rapidly become impossible to install due to other packages requiring different versions of the packages in the lockfile.  The only thing that we care about is that users have the right versions of the dependencies we directly use, which are listed in the `project.dependencies` array in `pyproject.toml`.  This is why `pip install` does not care about the existence of the lockfile."
   ]
  },
  {
   "cell_type": "markdown",
   "id": "76cea769",
   "metadata": {
    "slideshow": {
     "slide_type": "skip"
    }
   },
   "source": [
    ":::{seealso}\n",
    "See the [PDM docs on version control](https://pdm.fming.dev/latest/usage/project/#working-with-version-control) for more on best practices for version-controlling a PDM project.\n",
    ":::"
   ]
  },
  {
   "cell_type": "markdown",
   "id": "a606016d",
   "metadata": {
    "slideshow": {
     "slide_type": "subslide"
    }
   },
   "source": [
    "### Using black\n",
    "\n",
    "We can now run `black` within our environment."
   ]
  },
  {
   "cell_type": "code",
   "execution_count": 36,
   "id": "234b0f41",
   "metadata": {
    "slideshow": {
     "slide_type": "skip"
    },
    "tags": [
     "remove-cell"
    ]
   },
   "outputs": [],
   "source": [
    "# This cell hidden in presentation and docs\n",
    "cat << \"EOF\" > src/eeskew_pwg_test_000/sarcasm.py\n",
    "import cowsay\n",
    "def sarcasm(\n",
    "            s\n",
    "          ):\n",
    "    \"\"\"Convert string `s` to sArCaSm TeXt.\"\"\"\n",
    "    out = ''\n",
    "    for i,c in \\\n",
    "        enumerate( s ):\n",
    "\n",
    "        if i% 2 ==0: out +=c.lower()\n",
    "\n",
    "        else:\n",
    "\n",
    "\n",
    "\n",
    "            out+= c.upper()\n",
    "\n",
    "    return out\n",
    "\n",
    "def sarcastic_cowsay(s):\n",
    "    \"\"\"Cowsay `s`, sArCaStIcAlLy.\"\"\"\n",
    "    sarcastic_s = sarcasm(s); cowsay.cow(sarcastic_s)\n",
    "EOF"
   ]
  },
  {
   "cell_type": "code",
   "execution_count": 37,
   "id": "0be50419",
   "metadata": {
    "slideshow": {
     "slide_type": "skip"
    },
    "tags": [
     "remove-cell"
    ]
   },
   "outputs": [
    {
     "name": "stdout",
     "output_type": "stream",
     "text": [
      "Previous HEAD position was 69a4552 Add black to dev dependencies\n",
      "Previous HEAD position was 69a4552 Add black to dev dependencies\n",
      "HEAD is now at 5c8fbf3 Use bad formatting in utils for black to fix\n",
      "HEAD is now at 5c8fbf3 Use bad formatting in utils for black to fix\n"
     ]
    }
   ],
   "source": [
    "# checkpoint\n",
    "git-checkpoint"
   ]
  },
  {
   "cell_type": "code",
   "execution_count": 38,
   "id": "80cc27f5",
   "metadata": {
    "slideshow": {
     "slide_type": "fragment"
    },
    "tags": [
     "remove-input"
    ]
   },
   "outputs": [
    {
     "data": {
      "text/markdown": [
       "Let's re-write [`src/eeskew_pwg_test_000/sarcasm.py`](https://github.com/edsq/eeskew-pwg-test-000/tree/5c8fbf3be8330a7da646bb07a975276bbf5f969c/src/eeskew_pwg_test_000/sarcasm.py) with deliberately poor formatting:\n"
      ]
     },
     "metadata": {},
     "output_type": "display_data"
    },
    {
     "data": {
      "text/markdown": [
       "Let's re-write [`src/eeskew_pwg_test_000/sarcasm.py`](https://github.com/edsq/eeskew-pwg-test-000/tree/5c8fbf3be8330a7da646bb07a975276bbf5f969c/src/eeskew_pwg_test_000/sarcasm.py) with deliberately poor formatting:\n"
      ]
     },
     "metadata": {},
     "output_type": "display_data"
    }
   ],
   "source": [
    "embed-repo-link \"Let's re-write {src/eeskew_pwg_test_000/sarcasm.py} with deliberately poor formatting:\""
   ]
  },
  {
   "cell_type": "code",
   "execution_count": 39,
   "id": "09b36a04",
   "metadata": {
    "slideshow": {
     "slide_type": "fragment"
    },
    "tags": [
     "remove-input"
    ]
   },
   "outputs": [
    {
     "data": {
      "text/markdown": [
       "```python\n",
       "# src/eeskew_pwg_test_000/sarcasm.py\n",
       "import cowsay\n",
       "def sarcasm(\n",
       "            s\n",
       "          ):\n",
       "    \"\"\"Convert string `s` to sArCaSm TeXt.\"\"\"\n",
       "    out = ''\n",
       "    for i,c in \\\n",
       "        enumerate( s ):\n",
       "\n",
       "        if i% 2 ==0: out +=c.lower()\n",
       "\n",
       "        else:\n",
       "\n",
       "\n",
       "\n",
       "            out+= c.upper()\n",
       "\n",
       "    return out\n",
       "\n",
       "def sarcastic_cowsay(s):\n",
       "    \"\"\"Cowsay `s`, sArCaStIcAlLy.\"\"\"\n",
       "    sarcastic_s = sarcasm(s); cowsay.cow(sarcastic_s)\n",
       "```\n"
      ]
     },
     "metadata": {},
     "output_type": "display_data"
    },
    {
     "data": {
      "text/markdown": [
       "```python\n",
       "# src/eeskew_pwg_test_000/sarcasm.py\n",
       "import cowsay\n",
       "def sarcasm(\n",
       "            s\n",
       "          ):\n",
       "    \"\"\"Convert string `s` to sArCaSm TeXt.\"\"\"\n",
       "    out = ''\n",
       "    for i,c in \\\n",
       "        enumerate( s ):\n",
       "\n",
       "        if i% 2 ==0: out +=c.lower()\n",
       "\n",
       "        else:\n",
       "\n",
       "\n",
       "\n",
       "            out+= c.upper()\n",
       "\n",
       "    return out\n",
       "\n",
       "def sarcastic_cowsay(s):\n",
       "    \"\"\"Cowsay `s`, sArCaStIcAlLy.\"\"\"\n",
       "    sarcastic_s = sarcasm(s); cowsay.cow(sarcastic_s)\n",
       "```\n"
      ]
     },
     "metadata": {},
     "output_type": "display_data"
    }
   ],
   "source": [
    "simple-diff HEAD~ src/eeskew_pwg_test_000/sarcasm.py | show-code python"
   ]
  },
  {
   "cell_type": "markdown",
   "id": "1b23a344",
   "metadata": {
    "slideshow": {
     "slide_type": "subslide"
    }
   },
   "source": [
    "This is bad formatting!  Rather than fix it manually, we can run `black` on our code, which will auto-impose a reasonable style."
   ]
  },
  {
   "cell_type": "code",
   "execution_count": 40,
   "id": "ceb9670b",
   "metadata": {
    "slideshow": {
     "slide_type": "fragment"
    }
   },
   "outputs": [
    {
     "name": "stdout",
     "output_type": "stream",
     "text": [
      "\u001b[1mreformatted /Users/Ed/python/eds-notes/repos/_tmp_pwg_presentation_02-08-2023_part1/eeskew-pwg-test-000/src/eeskew_pwg_test_000/sarcasm.py\u001b[0m\n",
      "\u001b[1mreformatted /Users/Ed/python/eds-notes/repos/_tmp_pwg_presentation_02-08-2023_part1/eeskew-pwg-test-000/src/eeskew_pwg_test_000/sarcasm.py\u001b[0m\n",
      "\n",
      "\u001b[1mAll done! ✨ 🍰 ✨\u001b[0m\n",
      "\n",
      "\u001b[34m\u001b[1m1 file \u001b[0m\u001b[1mreformatted\u001b[0m, \u001b[34m1 file \u001b[0mleft unchanged.\n",
      "\u001b[1mAll done! ✨ 🍰 ✨\u001b[0m\n",
      "\u001b[34m\u001b[1m1 file \u001b[0m\u001b[1mreformatted\u001b[0m, \u001b[34m1 file \u001b[0mleft unchanged.\n"
     ]
    }
   ],
   "source": [
    "pdm run black src/"
   ]
  },
  {
   "cell_type": "code",
   "execution_count": 41,
   "id": "c1477539",
   "metadata": {
    "slideshow": {
     "slide_type": "skip"
    },
    "tags": [
     "remove-cell"
    ]
   },
   "outputs": [
    {
     "name": "stdout",
     "output_type": "stream",
     "text": [
      "Previous HEAD position was 5c8fbf3 Use bad formatting in utils for black to fix\n",
      "Previous HEAD position was 5c8fbf3 Use bad formatting in utils for black to fix\n",
      "HEAD is now at 7ff4bbc Fix formatting with black\n",
      "HEAD is now at 7ff4bbc Fix formatting with black\n"
     ]
    }
   ],
   "source": [
    "# checkpoint\n",
    "git-checkpoint"
   ]
  },
  {
   "cell_type": "markdown",
   "id": "c7acc1f6",
   "metadata": {
    "slideshow": {
     "slide_type": "subslide"
    }
   },
   "source": [
    "### What did `black` do?"
   ]
  },
  {
   "cell_type": "code",
   "execution_count": 42,
   "id": "99c45b39",
   "metadata": {
    "slideshow": {
     "slide_type": "notes"
    },
    "tags": [
     "remove-input"
    ]
   },
   "outputs": [
    {
     "data": {
      "text/markdown": [
       "`black` has automatically re-formatted [`src/eeskew_pwg_test_000/sarcasm.py`](https://github.com/edsq/eeskew-pwg-test-000/tree/7ff4bbc4d1775441227ff0c34f1e6de3a4b58f61/src/eeskew_pwg_test_000/sarcasm.py), fixing the poor formatting we introduced earlier:\n"
      ]
     },
     "metadata": {},
     "output_type": "display_data"
    },
    {
     "data": {
      "text/markdown": [
       "`black` has automatically re-formatted [`src/eeskew_pwg_test_000/sarcasm.py`](https://github.com/edsq/eeskew-pwg-test-000/tree/7ff4bbc4d1775441227ff0c34f1e6de3a4b58f61/src/eeskew_pwg_test_000/sarcasm.py), fixing the poor formatting we introduced earlier:\n"
      ]
     },
     "metadata": {},
     "output_type": "display_data"
    }
   ],
   "source": [
    "embed-repo-link \"\\`black\\` has automatically re-formatted {src/eeskew_pwg_test_000/sarcasm.py}, fixing the poor formatting we introduced earlier:\""
   ]
  },
  {
   "cell_type": "code",
   "execution_count": 43,
   "id": "20e28423",
   "metadata": {
    "slideshow": {
     "slide_type": "fragment"
    },
    "tags": [
     "remove-input"
    ]
   },
   "outputs": [
    {
     "data": {
      "text/markdown": [
       "```python\n",
       "# src/eeskew_pwg_test_000/sarcasm.py\n",
       "import cowsay\n",
       "\n",
       "\n",
       "def sarcasm(s):\n",
       "    \"\"\"Convert string `s` to sArCaSm TeXt.\"\"\"\n",
       "    out = \"\"\n",
       "    for i, c in enumerate(s):\n",
       "        if i % 2 == 0:\n",
       "            out += c.lower()\n",
       "\n",
       "        else:\n",
       "            out += c.upper()\n",
       "\n",
       "    return out\n",
       "\n",
       "\n",
       "def sarcastic_cowsay(s):\n",
       "    \"\"\"Cowsay `s`, sArCaStIcAlLy.\"\"\"\n",
       "    sarcastic_s = sarcasm(s)\n",
       "    cowsay.cow(sarcastic_s)\n",
       "```\n"
      ]
     },
     "metadata": {},
     "output_type": "display_data"
    },
    {
     "data": {
      "text/markdown": [
       "```python\n",
       "# src/eeskew_pwg_test_000/sarcasm.py\n",
       "import cowsay\n",
       "\n",
       "\n",
       "def sarcasm(s):\n",
       "    \"\"\"Convert string `s` to sArCaSm TeXt.\"\"\"\n",
       "    out = \"\"\n",
       "    for i, c in enumerate(s):\n",
       "        if i % 2 == 0:\n",
       "            out += c.lower()\n",
       "\n",
       "        else:\n",
       "            out += c.upper()\n",
       "\n",
       "    return out\n",
       "\n",
       "\n",
       "def sarcastic_cowsay(s):\n",
       "    \"\"\"Cowsay `s`, sArCaStIcAlLy.\"\"\"\n",
       "    sarcastic_s = sarcasm(s)\n",
       "    cowsay.cow(sarcastic_s)\n",
       "```\n"
      ]
     },
     "metadata": {},
     "output_type": "display_data"
    }
   ],
   "source": [
    "simple-diff HEAD~ src/eeskew_pwg_test_000/sarcasm.py | show-code python"
   ]
  },
  {
   "cell_type": "markdown",
   "id": "a94f2248",
   "metadata": {
    "slideshow": {
     "slide_type": "skip"
    }
   },
   "source": [
    ":::{seealso}\n",
    "See the [black documentation](https://black.readthedocs.io/en/stable/) for more information.\n",
    ":::"
   ]
  },
  {
   "cell_type": "markdown",
   "id": "d720b07c",
   "metadata": {
    "slideshow": {
     "slide_type": "slide"
    }
   },
   "source": [
    "## Conclusion\n",
    "\n",
    "That's all for Part 1!  The examples here should be enough to get you started using PDM to manage your own python projects.  For more advanced usage, check out the PDM documentation on:\n",
    "\n",
    "- [General project management](https://pdm.fming.dev/latest/usage/project/)\n",
    "- [Working with virtualenv](https://pdm.fming.dev/latest/usage/venv/)\n",
    "- [Managing dependencies](https://pdm.fming.dev/latest/usage/dependency/)\n",
    "\n",
    "In [Part 2](part2.ipynb), we'll cover how to publish a PDM project on PyPI, so that it can be installed with a simple `pip install`."
   ]
  }
 ],
 "metadata": {
  "celltoolbar": "Tags",
  "jupytext": {
   "cell_metadata_filter": "all",
   "notebook_metadata_filter": "all"
  },
  "kernelspec": {
   "display_name": "Bash",
   "language": "bash",
   "name": "bash"
  },
  "language_info": {
   "codemirror_mode": "shell",
   "file_extension": ".sh",
   "mimetype": "text/x-sh",
   "name": "bash"
  },
  "rise": {
   "autolaunch": false,
   "scroll": true
  }
 },
 "nbformat": 4,
 "nbformat_minor": 5
}
